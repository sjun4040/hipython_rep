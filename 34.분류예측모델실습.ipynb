{
 "cells": [
  {
   "cell_type": "markdown",
   "id": "9f8aae1f",
   "metadata": {},
   "source": [
    "# 🚀 머신러닝 실습 : 고객 구매 데이터로 성별 예측 모델링 (분류 문제)\n",
    "- 주어진 데이터는 백화점 고객의 1년 간 구매 데이터입니다.\n",
    "- 고객 3,500명에 대한 학습용 데이터(y.csv, X.csv)를 이용하여 성별예측 모형을 만들어보세요.\n",
    "- 모델의 성능은 자유롭게 측정해봅니다!\n",
    "\n",
    "### [실습 프로세스]\n",
    "- 데이터 불러오기\n",
    "- 데이터 탐색\n",
    "- 데이터 전처리\n",
    "- 학습/테스트 데이터 분리\n",
    "- 모델 선택 및 학습\n",
    "- 예측 및 평가"
   ]
  },
  {
   "cell_type": "markdown",
   "id": "2aa094a5",
   "metadata": {
    "vscode": {
     "languageId": "plaintext"
    }
   },
   "source": [
    "# 라이브러리 불러오기"
   ]
  },
  {
   "cell_type": "code",
   "execution_count": 1,
   "id": "48a410a4",
   "metadata": {},
   "outputs": [],
   "source": [
    "import numpy as np\n",
    "import pandas as pd\n",
    "import matplotlib.pyplot as plt\n",
    "\n",
    "import warnings\n",
    "warnings.filterwarnings(action='ignore')"
   ]
  },
  {
   "cell_type": "markdown",
   "id": "0f5a2520",
   "metadata": {},
   "source": [
    "## 1. 데이터 불러오기\n",
    "데이터를 가져와서 과정을 준비합시다.\n",
    "인코딩 방식은 'euc-kr' 을 활용하세요.\n",
    "\n",
    "데이터 출처 : 한국데이터산업진흥원 빅데이터분석기사 실기 공개 예시 문항\n",
    "\n",
    "독립 변수 데이터셋 : ./data/X.csv\n",
    "\n",
    "종속 변수 데이터셋 : ./data/y.csv\n",
    "\n",
    "데이터 파일을 불러옵니다. 보통 CSV 파일을 pandas로 읽어옵니다."
   ]
  },
  {
   "cell_type": "code",
   "execution_count": 2,
   "id": "b74b4569",
   "metadata": {},
   "outputs": [
    {
     "name": "stdout",
     "output_type": "stream",
     "text": [
      "변경 후: c:\\githome\\hipython_rep\n"
     ]
    }
   ],
   "source": [
    "import os\n",
    "# 노트북 파일이 있는 폴더로 이동 (예시)\n",
    "os.chdir(r'C:\\githome\\hipython_rep')\n",
    "\n",
    "# 변경 후 확인\n",
    "print(\"변경 후:\", os.getcwd())"
   ]
  },
  {
   "cell_type": "code",
   "execution_count": 3,
   "id": "bd918193",
   "metadata": {},
   "outputs": [],
   "source": [
    "X = pd.read_csv('./data1/X.csv', encoding='euc-kr')\n",
    "y = pd.read_csv('./data1/y.csv', encoding='euc-kr')"
   ]
  },
  {
   "cell_type": "markdown",
   "id": "b9bccea4",
   "metadata": {},
   "source": [
    "## 2. 데이터 탐색하기\n",
    "데이터를 이해할 수 있도록 탐색과정을 수행해봅시다.\n",
    "데이터의 상위 몇 개 행을 출력하여 전체 구조를 미리 확인합니다.\n",
    "\n",
    "데이터의 요약 정보나 통계 정보를 출력해 변수들의 유형과 분포를 확인합니다.\n",
    "\n",
    "데이터의 요약 정보나 통계 정보를 출력해 변수들의 유형과 분포를 확인합니다."
   ]
  },
  {
   "cell_type": "code",
   "execution_count": 4,
   "id": "2c260134",
   "metadata": {},
   "outputs": [
    {
     "data": {
      "text/html": [
       "<div>\n",
       "<style scoped>\n",
       "    .dataframe tbody tr th:only-of-type {\n",
       "        vertical-align: middle;\n",
       "    }\n",
       "\n",
       "    .dataframe tbody tr th {\n",
       "        vertical-align: top;\n",
       "    }\n",
       "\n",
       "    .dataframe thead th {\n",
       "        text-align: right;\n",
       "    }\n",
       "</style>\n",
       "<table border=\"1\" class=\"dataframe\">\n",
       "  <thead>\n",
       "    <tr style=\"text-align: right;\">\n",
       "      <th></th>\n",
       "      <th>cust_id</th>\n",
       "      <th>총구매액</th>\n",
       "      <th>최대구매액</th>\n",
       "      <th>환불금액</th>\n",
       "      <th>주구매상품</th>\n",
       "      <th>주구매지점</th>\n",
       "      <th>내점일수</th>\n",
       "      <th>내점당구매건수</th>\n",
       "      <th>주말방문비율</th>\n",
       "      <th>구매주기</th>\n",
       "    </tr>\n",
       "  </thead>\n",
       "  <tbody>\n",
       "    <tr>\n",
       "      <th>0</th>\n",
       "      <td>0</td>\n",
       "      <td>68282840</td>\n",
       "      <td>11264000</td>\n",
       "      <td>6860000.0</td>\n",
       "      <td>기타</td>\n",
       "      <td>강남점</td>\n",
       "      <td>19</td>\n",
       "      <td>3.894737</td>\n",
       "      <td>0.527027</td>\n",
       "      <td>17</td>\n",
       "    </tr>\n",
       "    <tr>\n",
       "      <th>1</th>\n",
       "      <td>1</td>\n",
       "      <td>2136000</td>\n",
       "      <td>2136000</td>\n",
       "      <td>300000.0</td>\n",
       "      <td>스포츠</td>\n",
       "      <td>잠실점</td>\n",
       "      <td>2</td>\n",
       "      <td>1.500000</td>\n",
       "      <td>0.000000</td>\n",
       "      <td>1</td>\n",
       "    </tr>\n",
       "    <tr>\n",
       "      <th>2</th>\n",
       "      <td>2</td>\n",
       "      <td>3197000</td>\n",
       "      <td>1639000</td>\n",
       "      <td>NaN</td>\n",
       "      <td>남성 캐주얼</td>\n",
       "      <td>관악점</td>\n",
       "      <td>2</td>\n",
       "      <td>2.000000</td>\n",
       "      <td>0.000000</td>\n",
       "      <td>1</td>\n",
       "    </tr>\n",
       "    <tr>\n",
       "      <th>3</th>\n",
       "      <td>3</td>\n",
       "      <td>16077620</td>\n",
       "      <td>4935000</td>\n",
       "      <td>NaN</td>\n",
       "      <td>기타</td>\n",
       "      <td>광주점</td>\n",
       "      <td>18</td>\n",
       "      <td>2.444444</td>\n",
       "      <td>0.318182</td>\n",
       "      <td>16</td>\n",
       "    </tr>\n",
       "    <tr>\n",
       "      <th>4</th>\n",
       "      <td>4</td>\n",
       "      <td>29050000</td>\n",
       "      <td>24000000</td>\n",
       "      <td>NaN</td>\n",
       "      <td>보석</td>\n",
       "      <td>본  점</td>\n",
       "      <td>2</td>\n",
       "      <td>1.500000</td>\n",
       "      <td>0.000000</td>\n",
       "      <td>85</td>\n",
       "    </tr>\n",
       "  </tbody>\n",
       "</table>\n",
       "</div>"
      ],
      "text/plain": [
       "   cust_id      총구매액     최대구매액       환불금액   주구매상품 주구매지점  내점일수   내점당구매건수  \\\n",
       "0        0  68282840  11264000  6860000.0      기타   강남점    19  3.894737   \n",
       "1        1   2136000   2136000   300000.0     스포츠   잠실점     2  1.500000   \n",
       "2        2   3197000   1639000        NaN  남성 캐주얼   관악점     2  2.000000   \n",
       "3        3  16077620   4935000        NaN      기타   광주점    18  2.444444   \n",
       "4        4  29050000  24000000        NaN      보석  본  점     2  1.500000   \n",
       "\n",
       "     주말방문비율  구매주기  \n",
       "0  0.527027    17  \n",
       "1  0.000000     1  \n",
       "2  0.000000     1  \n",
       "3  0.318182    16  \n",
       "4  0.000000    85  "
      ]
     },
     "execution_count": 4,
     "metadata": {},
     "output_type": "execute_result"
    }
   ],
   "source": [
    "X.head(5)"
   ]
  },
  {
   "cell_type": "code",
   "execution_count": 5,
   "id": "2c2f7fd3",
   "metadata": {},
   "outputs": [
    {
     "data": {
      "text/html": [
       "<div>\n",
       "<style scoped>\n",
       "    .dataframe tbody tr th:only-of-type {\n",
       "        vertical-align: middle;\n",
       "    }\n",
       "\n",
       "    .dataframe tbody tr th {\n",
       "        vertical-align: top;\n",
       "    }\n",
       "\n",
       "    .dataframe thead th {\n",
       "        text-align: right;\n",
       "    }\n",
       "</style>\n",
       "<table border=\"1\" class=\"dataframe\">\n",
       "  <thead>\n",
       "    <tr style=\"text-align: right;\">\n",
       "      <th></th>\n",
       "      <th>cust_id</th>\n",
       "      <th>gender</th>\n",
       "    </tr>\n",
       "  </thead>\n",
       "  <tbody>\n",
       "    <tr>\n",
       "      <th>0</th>\n",
       "      <td>0</td>\n",
       "      <td>0</td>\n",
       "    </tr>\n",
       "    <tr>\n",
       "      <th>1</th>\n",
       "      <td>1</td>\n",
       "      <td>0</td>\n",
       "    </tr>\n",
       "    <tr>\n",
       "      <th>2</th>\n",
       "      <td>2</td>\n",
       "      <td>1</td>\n",
       "    </tr>\n",
       "    <tr>\n",
       "      <th>3</th>\n",
       "      <td>3</td>\n",
       "      <td>1</td>\n",
       "    </tr>\n",
       "    <tr>\n",
       "      <th>4</th>\n",
       "      <td>4</td>\n",
       "      <td>0</td>\n",
       "    </tr>\n",
       "  </tbody>\n",
       "</table>\n",
       "</div>"
      ],
      "text/plain": [
       "   cust_id  gender\n",
       "0        0       0\n",
       "1        1       0\n",
       "2        2       1\n",
       "3        3       1\n",
       "4        4       0"
      ]
     },
     "execution_count": 5,
     "metadata": {},
     "output_type": "execute_result"
    }
   ],
   "source": [
    "y.head(5)"
   ]
  },
  {
   "cell_type": "code",
   "execution_count": 6,
   "id": "a78c1398",
   "metadata": {},
   "outputs": [
    {
     "data": {
      "text/html": [
       "<div>\n",
       "<style scoped>\n",
       "    .dataframe tbody tr th:only-of-type {\n",
       "        vertical-align: middle;\n",
       "    }\n",
       "\n",
       "    .dataframe tbody tr th {\n",
       "        vertical-align: top;\n",
       "    }\n",
       "\n",
       "    .dataframe thead th {\n",
       "        text-align: right;\n",
       "    }\n",
       "</style>\n",
       "<table border=\"1\" class=\"dataframe\">\n",
       "  <thead>\n",
       "    <tr style=\"text-align: right;\">\n",
       "      <th></th>\n",
       "      <th>cust_id</th>\n",
       "      <th>총구매액</th>\n",
       "      <th>최대구매액</th>\n",
       "      <th>환불금액</th>\n",
       "      <th>내점일수</th>\n",
       "      <th>내점당구매건수</th>\n",
       "      <th>주말방문비율</th>\n",
       "      <th>구매주기</th>\n",
       "    </tr>\n",
       "  </thead>\n",
       "  <tbody>\n",
       "    <tr>\n",
       "      <th>count</th>\n",
       "      <td>3500.000000</td>\n",
       "      <td>3.500000e+03</td>\n",
       "      <td>3.500000e+03</td>\n",
       "      <td>1.205000e+03</td>\n",
       "      <td>3500.000000</td>\n",
       "      <td>3500.000000</td>\n",
       "      <td>3500.000000</td>\n",
       "      <td>3500.000000</td>\n",
       "    </tr>\n",
       "    <tr>\n",
       "      <th>mean</th>\n",
       "      <td>1749.500000</td>\n",
       "      <td>9.191925e+07</td>\n",
       "      <td>1.966424e+07</td>\n",
       "      <td>2.407822e+07</td>\n",
       "      <td>19.253714</td>\n",
       "      <td>2.834963</td>\n",
       "      <td>0.307246</td>\n",
       "      <td>20.958286</td>\n",
       "    </tr>\n",
       "    <tr>\n",
       "      <th>std</th>\n",
       "      <td>1010.507298</td>\n",
       "      <td>1.635065e+08</td>\n",
       "      <td>3.199235e+07</td>\n",
       "      <td>4.746453e+07</td>\n",
       "      <td>27.174942</td>\n",
       "      <td>1.912368</td>\n",
       "      <td>0.289752</td>\n",
       "      <td>24.748682</td>\n",
       "    </tr>\n",
       "    <tr>\n",
       "      <th>min</th>\n",
       "      <td>0.000000</td>\n",
       "      <td>-5.242152e+07</td>\n",
       "      <td>-2.992000e+06</td>\n",
       "      <td>5.600000e+03</td>\n",
       "      <td>1.000000</td>\n",
       "      <td>1.000000</td>\n",
       "      <td>0.000000</td>\n",
       "      <td>0.000000</td>\n",
       "    </tr>\n",
       "    <tr>\n",
       "      <th>25%</th>\n",
       "      <td>874.750000</td>\n",
       "      <td>4.747050e+06</td>\n",
       "      <td>2.875000e+06</td>\n",
       "      <td>2.259000e+06</td>\n",
       "      <td>2.000000</td>\n",
       "      <td>1.666667</td>\n",
       "      <td>0.027291</td>\n",
       "      <td>4.000000</td>\n",
       "    </tr>\n",
       "    <tr>\n",
       "      <th>50%</th>\n",
       "      <td>1749.500000</td>\n",
       "      <td>2.822270e+07</td>\n",
       "      <td>9.837000e+06</td>\n",
       "      <td>7.392000e+06</td>\n",
       "      <td>8.000000</td>\n",
       "      <td>2.333333</td>\n",
       "      <td>0.256410</td>\n",
       "      <td>13.000000</td>\n",
       "    </tr>\n",
       "    <tr>\n",
       "      <th>75%</th>\n",
       "      <td>2624.250000</td>\n",
       "      <td>1.065079e+08</td>\n",
       "      <td>2.296250e+07</td>\n",
       "      <td>2.412000e+07</td>\n",
       "      <td>25.000000</td>\n",
       "      <td>3.375000</td>\n",
       "      <td>0.448980</td>\n",
       "      <td>28.000000</td>\n",
       "    </tr>\n",
       "    <tr>\n",
       "      <th>max</th>\n",
       "      <td>3499.000000</td>\n",
       "      <td>2.323180e+09</td>\n",
       "      <td>7.066290e+08</td>\n",
       "      <td>5.637530e+08</td>\n",
       "      <td>285.000000</td>\n",
       "      <td>22.083333</td>\n",
       "      <td>1.000000</td>\n",
       "      <td>166.000000</td>\n",
       "    </tr>\n",
       "  </tbody>\n",
       "</table>\n",
       "</div>"
      ],
      "text/plain": [
       "           cust_id          총구매액         최대구매액          환불금액         내점일수  \\\n",
       "count  3500.000000  3.500000e+03  3.500000e+03  1.205000e+03  3500.000000   \n",
       "mean   1749.500000  9.191925e+07  1.966424e+07  2.407822e+07    19.253714   \n",
       "std    1010.507298  1.635065e+08  3.199235e+07  4.746453e+07    27.174942   \n",
       "min       0.000000 -5.242152e+07 -2.992000e+06  5.600000e+03     1.000000   \n",
       "25%     874.750000  4.747050e+06  2.875000e+06  2.259000e+06     2.000000   \n",
       "50%    1749.500000  2.822270e+07  9.837000e+06  7.392000e+06     8.000000   \n",
       "75%    2624.250000  1.065079e+08  2.296250e+07  2.412000e+07    25.000000   \n",
       "max    3499.000000  2.323180e+09  7.066290e+08  5.637530e+08   285.000000   \n",
       "\n",
       "           내점당구매건수       주말방문비율         구매주기  \n",
       "count  3500.000000  3500.000000  3500.000000  \n",
       "mean      2.834963     0.307246    20.958286  \n",
       "std       1.912368     0.289752    24.748682  \n",
       "min       1.000000     0.000000     0.000000  \n",
       "25%       1.666667     0.027291     4.000000  \n",
       "50%       2.333333     0.256410    13.000000  \n",
       "75%       3.375000     0.448980    28.000000  \n",
       "max      22.083333     1.000000   166.000000  "
      ]
     },
     "execution_count": 6,
     "metadata": {},
     "output_type": "execute_result"
    }
   ],
   "source": [
    "X.describe()"
   ]
  },
  {
   "cell_type": "code",
   "execution_count": 7,
   "id": "d3b152ca",
   "metadata": {},
   "outputs": [
    {
     "data": {
      "text/html": [
       "<div>\n",
       "<style scoped>\n",
       "    .dataframe tbody tr th:only-of-type {\n",
       "        vertical-align: middle;\n",
       "    }\n",
       "\n",
       "    .dataframe tbody tr th {\n",
       "        vertical-align: top;\n",
       "    }\n",
       "\n",
       "    .dataframe thead th {\n",
       "        text-align: right;\n",
       "    }\n",
       "</style>\n",
       "<table border=\"1\" class=\"dataframe\">\n",
       "  <thead>\n",
       "    <tr style=\"text-align: right;\">\n",
       "      <th></th>\n",
       "      <th>cust_id</th>\n",
       "      <th>gender</th>\n",
       "    </tr>\n",
       "  </thead>\n",
       "  <tbody>\n",
       "    <tr>\n",
       "      <th>count</th>\n",
       "      <td>3500.000000</td>\n",
       "      <td>3500.000000</td>\n",
       "    </tr>\n",
       "    <tr>\n",
       "      <th>mean</th>\n",
       "      <td>1749.500000</td>\n",
       "      <td>0.376000</td>\n",
       "    </tr>\n",
       "    <tr>\n",
       "      <th>std</th>\n",
       "      <td>1010.507298</td>\n",
       "      <td>0.484449</td>\n",
       "    </tr>\n",
       "    <tr>\n",
       "      <th>min</th>\n",
       "      <td>0.000000</td>\n",
       "      <td>0.000000</td>\n",
       "    </tr>\n",
       "    <tr>\n",
       "      <th>25%</th>\n",
       "      <td>874.750000</td>\n",
       "      <td>0.000000</td>\n",
       "    </tr>\n",
       "    <tr>\n",
       "      <th>50%</th>\n",
       "      <td>1749.500000</td>\n",
       "      <td>0.000000</td>\n",
       "    </tr>\n",
       "    <tr>\n",
       "      <th>75%</th>\n",
       "      <td>2624.250000</td>\n",
       "      <td>1.000000</td>\n",
       "    </tr>\n",
       "    <tr>\n",
       "      <th>max</th>\n",
       "      <td>3499.000000</td>\n",
       "      <td>1.000000</td>\n",
       "    </tr>\n",
       "  </tbody>\n",
       "</table>\n",
       "</div>"
      ],
      "text/plain": [
       "           cust_id       gender\n",
       "count  3500.000000  3500.000000\n",
       "mean   1749.500000     0.376000\n",
       "std    1010.507298     0.484449\n",
       "min       0.000000     0.000000\n",
       "25%     874.750000     0.000000\n",
       "50%    1749.500000     0.000000\n",
       "75%    2624.250000     1.000000\n",
       "max    3499.000000     1.000000"
      ]
     },
     "execution_count": 7,
     "metadata": {},
     "output_type": "execute_result"
    }
   ],
   "source": [
    "y.describe()"
   ]
  },
  {
   "cell_type": "code",
   "execution_count": 8,
   "id": "d32c87d3",
   "metadata": {},
   "outputs": [
    {
     "name": "stdout",
     "output_type": "stream",
     "text": [
      "<class 'pandas.core.frame.DataFrame'>\n",
      "RangeIndex: 3500 entries, 0 to 3499\n",
      "Data columns (total 10 columns):\n",
      " #   Column   Non-Null Count  Dtype  \n",
      "---  ------   --------------  -----  \n",
      " 0   cust_id  3500 non-null   int64  \n",
      " 1   총구매액     3500 non-null   int64  \n",
      " 2   최대구매액    3500 non-null   int64  \n",
      " 3   환불금액     1205 non-null   float64\n",
      " 4   주구매상품    3500 non-null   object \n",
      " 5   주구매지점    3500 non-null   object \n",
      " 6   내점일수     3500 non-null   int64  \n",
      " 7   내점당구매건수  3500 non-null   float64\n",
      " 8   주말방문비율   3500 non-null   float64\n",
      " 9   구매주기     3500 non-null   int64  \n",
      "dtypes: float64(3), int64(5), object(2)\n",
      "memory usage: 273.6+ KB\n"
     ]
    }
   ],
   "source": [
    "X.info()"
   ]
  },
  {
   "cell_type": "code",
   "execution_count": 9,
   "id": "511f5161",
   "metadata": {},
   "outputs": [
    {
     "name": "stdout",
     "output_type": "stream",
     "text": [
      "<class 'pandas.core.frame.DataFrame'>\n",
      "RangeIndex: 3500 entries, 0 to 3499\n",
      "Data columns (total 2 columns):\n",
      " #   Column   Non-Null Count  Dtype\n",
      "---  ------   --------------  -----\n",
      " 0   cust_id  3500 non-null   int64\n",
      " 1   gender   3500 non-null   int64\n",
      "dtypes: int64(2)\n",
      "memory usage: 54.8 KB\n"
     ]
    }
   ],
   "source": [
    "y.info()"
   ]
  },
  {
   "cell_type": "markdown",
   "id": "12b4039c",
   "metadata": {},
   "source": [
    "## 3. 데이터 전처리\n",
    "- 전처리 과정을 통해서 머신러닝에 사용할 수 있는 형태의 데이터 준비\n",
    "필요한 라이브러리를 불러옵니다.\n",
    "\n",
    "- 인코딩 : LabelEncoder\n",
    "- 데이터 표준화 : StandardScaler\n",
    "- 단순히 1부터의 숫자를 부여한 'cust_id'를 수치형 변수로 받아들이면, 결과가 왜곡될 수 있으니 컬럼을 제거합니다.\n",
    "- 데이터에 결측치가 있는지 확인해보세요\n",
    "- 결측치에 0으로 채워 넣어 모델 학습에 지장이 없도록 합니다.\n",
    "문자형 범주 데이터를 숫자로 바꾸기 위한 인코딩을 수행합니다.\n",
    "\n",
    "각 데이터에 표준화를 적용하여 데이터의 스케일(크기 차이)을 맞춰줍니다.\n",
    "\n",
    "- 평균을 0, 표준편차를 1로 맞춰서 → 데이터가 정규 분포 형태로 변환되도록 하세요"
   ]
  },
  {
   "cell_type": "code",
   "execution_count": 42,
   "id": "3a60d890",
   "metadata": {},
   "outputs": [],
   "source": [
    "import pandas as pd\n",
    "\n",
    "from sklearn.ensemble import VotingClassifier\n",
    "from sklearn.linear_model import LogisticRegression\n",
    "from sklearn.neighbors import KNeighborsClassifier\n",
    "from sklearn.datasets import load_breast_cancer\n",
    "from sklearn.model_selection import train_test_split\n",
    "from sklearn.metrics import accuracy_score\n",
    "from sklearn.metrics import accuracy_score, classification_report, confusion_matrix\n",
    "from sklearn.base import BaseEstimator"
   ]
  },
  {
   "cell_type": "code",
   "execution_count": 10,
   "id": "a0b77071",
   "metadata": {},
   "outputs": [],
   "source": [
    "from sklearn.preprocessing import LabelEncoder, StandardScaler\n",
    "from sklearn.model_selection import train_test_split"
   ]
  },
  {
   "cell_type": "code",
   "execution_count": 50,
   "id": "71a7d049",
   "metadata": {},
   "outputs": [],
   "source": [
    "# 삭제할 열들의 이름을 리스트로 묶어 한 번에 전달\n",
    "X_df = X.drop(['cust_id'], axis=1)\n",
    "y_df = y.drop(['cust_id'], axis=1)"
   ]
  },
  {
   "cell_type": "code",
   "execution_count": 16,
   "id": "6bec86b1",
   "metadata": {},
   "outputs": [],
   "source": [
    "X_df['환불금액'].fillna(0,inplace=True)"
   ]
  },
  {
   "cell_type": "code",
   "execution_count": 17,
   "id": "fc54d529",
   "metadata": {},
   "outputs": [
    {
     "name": "stdout",
     "output_type": "stream",
     "text": [
      "--- 최종 전처리 완료된 데이터 (LabelEncoder + StandardScaler) ---\n",
      "       총구매액     최대구매액      환불금액  주구매상품  주구매지점      내점일수   내점당구매건수    주말방문비율  \\\n",
      "0 -0.144580 -0.262608 -0.047505      5      0 -0.009338  0.554247  0.758623   \n",
      "1 -0.549190 -0.547967 -0.265461     21     19 -0.635003 -0.698168 -1.060530   \n",
      "2 -0.542700 -0.563504 -0.275429      6      1 -0.635003 -0.436675 -1.060530   \n",
      "3 -0.463911 -0.460465 -0.275429      5      2 -0.046142 -0.204236  0.037746   \n",
      "4 -0.384561  0.135544 -0.275429     15      8 -0.635003 -0.698168 -1.060530   \n",
      "\n",
      "       구매주기  \n",
      "0 -0.159962  \n",
      "1 -0.806554  \n",
      "2 -0.806554  \n",
      "3 -0.200374  \n",
      "4  2.588052  \n",
      "\n",
      "--- 전처리 후 데이터 통계 ---\n",
      "               총구매액         최대구매액          환불금액        주구매상품        주구매지점  \\\n",
      "count  3.500000e+03  3.500000e+03  3.500000e+03  3500.000000  3500.000000   \n",
      "mean  -3.349701e-17 -4.263256e-17  3.248195e-17    14.612000    10.734286   \n",
      "std    1.000143e+00  1.000143e+00  1.000143e+00    13.019947     5.636480   \n",
      "min   -8.829091e-01 -7.082781e-01 -2.754289e-01     0.000000     0.000000   \n",
      "25%   -5.332182e-01 -5.248643e-01 -2.754289e-01     5.000000     8.000000   \n",
      "50%   -3.896215e-01 -3.072187e-01 -2.754289e-01     9.000000     9.000000   \n",
      "75%    8.923657e-02  1.031100e-01 -1.876399e-01    22.000000    15.000000   \n",
      "max    1.364826e+01  2.147585e+01  1.845531e+01    41.000000    23.000000   \n",
      "\n",
      "               내점일수       내점당구매건수        주말방문비율          구매주기  \n",
      "count  3.500000e+03  3.500000e+03  3.500000e+03  3.500000e+03  \n",
      "mean   4.669281e-17 -2.618858e-16  7.917476e-17 -4.263256e-17  \n",
      "std    1.000143e+00  1.000143e+00  1.000143e+00  1.000143e+00  \n",
      "min   -6.718072e-01 -9.596611e-01 -1.060530e+00 -8.469655e-01  \n",
      "25%   -6.350034e-01 -6.110034e-01 -9.663293e-01 -6.853177e-01  \n",
      "50%   -4.141802e-01 -2.623457e-01 -1.754721e-01 -3.216100e-01  \n",
      "75%    2.114855e-01  2.824320e-01  4.892244e-01  2.845695e-01  \n",
      "max    9.780490e+00  1.006664e+01  2.391196e+00  5.861421e+00  \n"
     ]
    }
   ],
   "source": [
    "# 1. 데이터 타입에 따라 열 이름 분리\n",
    "numeric_cols = X_df.select_dtypes(include=['int64', 'float64']).columns\n",
    "categorical_cols = X_df.select_dtypes(include=['object']).columns\n",
    "\n",
    "# 2. 범주형 데이터에 LabelEncoder 적용\n",
    "# 원본 데이터에 바로 적용하면 경고가 발생할 수 있으므로, 복사본을 만들어 사용합니다.\n",
    "X_encoded = X_df.copy()\n",
    "for col in categorical_cols:\n",
    "    le = LabelEncoder()\n",
    "    X_encoded[col] = le.fit_transform(X_encoded[col])\n",
    "\n",
    "\n",
    "# 3. 숫자형 데이터에 StandardScaler 적용\n",
    "scaler = StandardScaler()\n",
    "# 스케일링을 적용할 숫자형 열만 선택하여 fit_transform을 수행합니다.\n",
    "# 결과는 numpy 배열이므로 다시 DataFrame으로 만들어줍니다.\n",
    "scaled_features = scaler.fit_transform(X_encoded[numeric_cols])\n",
    "X_encoded[numeric_cols] = scaled_features\n",
    "\n",
    "\n",
    "# 4. 최종 결과 확인\n",
    "print(\"--- 최종 전처리 완료된 데이터 (LabelEncoder + StandardScaler) ---\")\n",
    "print(X_encoded.head())\n",
    "\n",
    "print(\"\\n--- 전처리 후 데이터 통계 ---\")\n",
    "# 숫자형 열의 평균이 0, 표준편차가 1에 가까워졌는지 확인합니다.\n",
    "print(X_encoded.describe())"
   ]
  },
  {
   "cell_type": "markdown",
   "id": "73238dec",
   "metadata": {},
   "source": [
    "## 5-1. 모델링 - LogisticRegression\n",
    "- 본격적으로 모델을 선언하고 학습시킵니다.\n",
    "필요한 라이브러리를 불러옵니다.\n",
    "\n",
    "모델을 선언하여 객체화시킵니다.\n",
    "\n",
    "모델을 학습 데이터에 맞춰 학습시킵니다."
   ]
  },
  {
   "cell_type": "code",
   "execution_count": 51,
   "id": "d6b3396d",
   "metadata": {},
   "outputs": [],
   "source": [
    "from sklearn.linear_model import LogisticRegression\n",
    "from sklearn.metrics import accuracy_score\n",
    "x_train, x_test, y_train, y_test = train_test_split(X_encoded,y_df, test_size=0.2, random_state=11)"
   ]
  },
  {
   "cell_type": "code",
   "execution_count": 52,
   "id": "daa00bc6",
   "metadata": {},
   "outputs": [
    {
     "data": {
      "text/plain": [
       "0.6242857142857143"
      ]
     },
     "execution_count": 52,
     "metadata": {},
     "output_type": "execute_result"
    }
   ],
   "source": [
    "LR_m = LogisticRegression(random_state=11)\n",
    "LR_m.fit(x_train, y_train)\n",
    "pred = LR_m.predict(x_test)\n",
    "acc =accuracy_score(y_test, pred)\n",
    "acc"
   ]
  },
  {
   "cell_type": "markdown",
   "id": "455405ed",
   "metadata": {},
   "source": [
    "## 6-1. 예측 성능 확인해보기 - LogisticRegression\n",
    "- 학습된 모델로 테스트 데이터에 대한 예측을 수행합니다.\n",
    "- 학습시킨 모델의 성능을 알아봅니다\n",
    "- 각 평가지표로 모델의 성능을 수치화하여 확인합니다.\n",
    "- 필요한 라이브러리를 import 하고 성능을 확인해보세요 (정확도, 정밀도, 재현율, f1, confusion_matrix)"
   ]
  },
  {
   "cell_type": "code",
   "execution_count": 53,
   "id": "e0714d4e",
   "metadata": {},
   "outputs": [
    {
     "name": "stdout",
     "output_type": "stream",
     "text": [
      "              precision    recall  f1-score   support\n",
      "\n",
      "           0       0.64      0.93      0.76       439\n",
      "           1       0.48      0.10      0.17       261\n",
      "\n",
      "    accuracy                           0.62       700\n",
      "   macro avg       0.56      0.52      0.46       700\n",
      "weighted avg       0.58      0.62      0.54       700\n",
      "\n"
     ]
    },
    {
     "data": {
      "text/plain": [
       "array([[410,  29],\n",
       "       [234,  27]])"
      ]
     },
     "execution_count": 53,
     "metadata": {},
     "output_type": "execute_result"
    }
   ],
   "source": [
    "print(classification_report(y_test,pred))\n",
    "confusion_matrix(y_test,pred)"
   ]
  },
  {
   "cell_type": "markdown",
   "id": "df0ad8a9",
   "metadata": {},
   "source": [
    "## 5-2. 모델링 - DecisionTreeClassifier\n",
    "- 본격적으로 모델을 선언하고 학습시킵니다.\n",
    "필요한 라이브러리를 불러옵니다.\n",
    "\n",
    "모델을 선언하여 객체화시킵니다.\n",
    "\n",
    "모델을 학습 데이터에 맞춰 학습시킵니다."
   ]
  },
  {
   "cell_type": "code",
   "execution_count": 76,
   "id": "7d869385",
   "metadata": {},
   "outputs": [
    {
     "data": {
      "text/plain": [
       "0.6485714285714286"
      ]
     },
     "execution_count": 76,
     "metadata": {},
     "output_type": "execute_result"
    }
   ],
   "source": [
    "from sklearn.model_selection import GridSearchCV\n",
    "from sklearn.tree import DecisionTreeClassifier\n",
    "dt_clf2 = DecisionTreeClassifier(random_state=121)\n",
    "params = {'max_depth':[1,2,3], 'min_samples_split':[2,3]}\n",
    "grid_dtree = GridSearchCV(dt_clf2, param_grid=params, cv=3, refit=True)\n",
    "gd = grid_dtree.fit(x_train,y_train)\n",
    "pred_dt = gd.predict(x_test)\n",
    "dt_acc = accuracy_score(y_test, pred_dt)\n",
    "dt_acc"
   ]
  },
  {
   "cell_type": "markdown",
   "id": "64080128",
   "metadata": {},
   "source": [
    "## 6-2. 예측 성능 확인해보기 - DecisionTreeClassifier\n",
    "- 학습된 모델로 테스트 데이터에 대한 예측을 수행합니다.\n",
    "- 학습시킨 모델의 성능을 알아봅니다\n",
    "- 각 평가지표로 모델의 성능을 수치화하여 확인합니다.\n",
    "- 필요한 라이브러리를 import 하고 성능을 확인해보세요 (정확도, 정밀도, 재현율, f1, confusion_matrix)"
   ]
  },
  {
   "cell_type": "code",
   "execution_count": 77,
   "id": "8be5b536",
   "metadata": {},
   "outputs": [
    {
     "name": "stdout",
     "output_type": "stream",
     "text": [
      "              precision    recall  f1-score   support\n",
      "\n",
      "           0       0.67      0.86      0.75       439\n",
      "           1       0.56      0.29      0.38       261\n",
      "\n",
      "    accuracy                           0.65       700\n",
      "   macro avg       0.61      0.58      0.57       700\n",
      "weighted avg       0.63      0.65      0.61       700\n",
      "\n"
     ]
    },
    {
     "data": {
      "text/plain": [
       "array([[379,  60],\n",
       "       [186,  75]])"
      ]
     },
     "execution_count": 77,
     "metadata": {},
     "output_type": "execute_result"
    }
   ],
   "source": [
    "print(classification_report(y_test,pred_dt))\n",
    "confusion_matrix(y_test,pred_dt)"
   ]
  },
  {
   "cell_type": "markdown",
   "id": "dcdf9028",
   "metadata": {},
   "source": [
    "## 5-3. 모델링 - RandomForestClassifier\n",
    "- 본격적으로 모델을 선언하고 학습시킵니다.\n",
    "필요한 라이브러리를 불러옵니다.\n",
    "\n",
    "모델을 선언하여 객체화시킵니다.\n",
    "\n",
    "모델을 학습 데이터에 맞춰 학습시킵니다."
   ]
  },
  {
   "cell_type": "code",
   "execution_count": 66,
   "id": "5cf695d0",
   "metadata": {},
   "outputs": [
    {
     "data": {
      "text/plain": [
       "0.6471428571428571"
      ]
     },
     "execution_count": 66,
     "metadata": {},
     "output_type": "execute_result"
    }
   ],
   "source": [
    "from sklearn.ensemble import RandomForestClassifier\n",
    "rf_clf = RandomForestClassifier(random_state=0, max_depth=8)\n",
    "rf_clf.fit(x_train, y_train)\n",
    "rf_pred = rf_clf.predict(x_test)\n",
    "accuracy_score(y_test, rf_pred)"
   ]
  },
  {
   "cell_type": "markdown",
   "id": "9e301261",
   "metadata": {},
   "source": [
    "## 6-3. 예측 성능 확인해보기 - RandomForestClassifier\n",
    "- 학습된 모델로 테스트 데이터에 대한 예측을 수행합니다.\n",
    "- 학습시킨 모델의 성능을 알아봅니다\n",
    "- 각 평가지표로 모델의 성능을 수치화하여 확인합니다.\n",
    "- 필요한 라이브러리를 import 하고 성능을 확인해보세요 (정확도, 정밀도, 재현율, f1, confusion_matrix)"
   ]
  },
  {
   "cell_type": "code",
   "execution_count": 67,
   "id": "c1bf07fe",
   "metadata": {},
   "outputs": [
    {
     "name": "stdout",
     "output_type": "stream",
     "text": [
      "              precision    recall  f1-score   support\n",
      "\n",
      "           0       0.67      0.85      0.75       439\n",
      "           1       0.55      0.31      0.39       261\n",
      "\n",
      "    accuracy                           0.65       700\n",
      "   macro avg       0.61      0.58      0.57       700\n",
      "weighted avg       0.63      0.65      0.62       700\n",
      "\n"
     ]
    },
    {
     "data": {
      "text/plain": [
       "array([[373,  66],\n",
       "       [181,  80]])"
      ]
     },
     "execution_count": 67,
     "metadata": {},
     "output_type": "execute_result"
    }
   ],
   "source": [
    "print(classification_report(y_test,rf_pred))\n",
    "confusion_matrix(y_test,rf_pred)"
   ]
  },
  {
   "cell_type": "markdown",
   "id": "cd77a20d",
   "metadata": {},
   "source": [
    "## 5-4. 모델링 - XGBoost\n",
    "- 본격적으로 모델을 선언하고 학습시킵니다.\n",
    "필요한 라이브러리를 불러옵니다.\n",
    "\n",
    "모델을 선언하여 객체화시킵니다.\n",
    "\n",
    "모델을 학습 데이터에 맞춰 학습시킵니다."
   ]
  },
  {
   "cell_type": "code",
   "execution_count": 74,
   "id": "3e4dbe82",
   "metadata": {},
   "outputs": [
    {
     "data": {
      "text/plain": [
       "0.6628571428571428"
      ]
     },
     "execution_count": 74,
     "metadata": {},
     "output_type": "execute_result"
    }
   ],
   "source": [
    "from xgboost import XGBClassifier\n",
    "\n",
    "# 1. 모델 선언 및 객체화\n",
    "# 주요 하이퍼파라미터를 설정하여 모델을 선언합니다.\n",
    "xgb_clf = XGBClassifier(n_estimators=100,      # 부스팅 라운드(트리의 개수)\n",
    "                        learning_rate=0.1,    # 학습률\n",
    "                        max_depth=3,          # 트리의 최대 깊이\n",
    "                        random_state=11,      # 재현성을 위한 시드\n",
    "                        eval_metric='logloss' # 평가 지표\n",
    "                       )\n",
    "\n",
    "\n",
    "# 2. 모델 학습\n",
    "# 훈련 데이터에 맞춰 모델을 학습시킵니다.\n",
    "xgb_clf.fit(x_train, y_train)\n",
    "pred_xgb = xgb_clf.predict(x_test)\n",
    "xgb_acc = accuracy_score(y_test, pred_xgb)\n",
    "xgb_acc"
   ]
  },
  {
   "cell_type": "markdown",
   "id": "957fc675",
   "metadata": {},
   "source": [
    "## 6-4. 예측 성능 확인해보기 - XGBoost\n",
    "- 학습된 모델로 테스트 데이터에 대한 예측을 수행합니다.\n",
    "- 학습시킨 모델의 성능을 알아봅니다\n",
    "- 각 평가지표로 모델의 성능을 수치화하여 확인합니다.\n",
    "- 필요한 라이브러리를 import 하고 성능을 확인해보세요 (정확도, 정밀도, 재현율, f1, confusion_matrix)"
   ]
  },
  {
   "cell_type": "code",
   "execution_count": 73,
   "id": "eb127380",
   "metadata": {},
   "outputs": [
    {
     "name": "stdout",
     "output_type": "stream",
     "text": [
      "[[381  58]\n",
      " [178  83]]\n",
      "              precision    recall  f1-score   support\n",
      "\n",
      "           0       0.68      0.87      0.76       439\n",
      "           1       0.59      0.32      0.41       261\n",
      "\n",
      "    accuracy                           0.66       700\n",
      "   macro avg       0.64      0.59      0.59       700\n",
      "weighted avg       0.65      0.66      0.63       700\n",
      "\n"
     ]
    }
   ],
   "source": [
    "print(confusion_matrix(y_test, pred_xgb))\n",
    "print(classification_report(y_test, pred_xgb))"
   ]
  },
  {
   "cell_type": "markdown",
   "id": "99a35f1c",
   "metadata": {},
   "source": [
    "## 7. 위 4가지 모델의 학습 & 예측 & 평가 결과를 확인하고 최고 성능을 내는 모델을 찾아봅시다!\n",
    "- 어떤 모델이 가장 성능이 좋은가요 ?"
   ]
  },
  {
   "cell_type": "code",
   "execution_count": 80,
   "id": "1798397b",
   "metadata": {},
   "outputs": [
    {
     "name": "stdout",
     "output_type": "stream",
     "text": [
      "Rogistic Regression 모델의 결과\n",
      "              precision    recall  f1-score   support\n",
      "\n",
      "           0       0.67      0.86      0.75       439\n",
      "           1       0.56      0.29      0.38       261\n",
      "\n",
      "    accuracy                           0.65       700\n",
      "   macro avg       0.61      0.58      0.57       700\n",
      "weighted avg       0.63      0.65      0.61       700\n",
      "\n",
      "[[379  60]\n",
      " [186  75]]\n",
      "DecisionTreeClassifier 모델의 결과\n",
      "              precision    recall  f1-score   support\n",
      "\n",
      "           0       0.67      0.86      0.75       439\n",
      "           1       0.56      0.29      0.38       261\n",
      "\n",
      "    accuracy                           0.65       700\n",
      "   macro avg       0.61      0.58      0.57       700\n",
      "weighted avg       0.63      0.65      0.61       700\n",
      "\n",
      "[[379  60]\n",
      " [186  75]]\n",
      "RandomForestClassifier 모델의 결과\n",
      "              precision    recall  f1-score   support\n",
      "\n",
      "           0       0.67      0.85      0.75       439\n",
      "           1       0.55      0.31      0.39       261\n",
      "\n",
      "    accuracy                           0.65       700\n",
      "   macro avg       0.61      0.58      0.57       700\n",
      "weighted avg       0.63      0.65      0.62       700\n",
      "\n",
      "[[373  66]\n",
      " [181  80]]\n",
      "XGBoost의 모델의 결과\n",
      "[[381  58]\n",
      " [178  83]]\n",
      "              precision    recall  f1-score   support\n",
      "\n",
      "           0       0.68      0.87      0.76       439\n",
      "           1       0.59      0.32      0.41       261\n",
      "\n",
      "    accuracy                           0.66       700\n",
      "   macro avg       0.64      0.59      0.59       700\n",
      "weighted avg       0.65      0.66      0.63       700\n",
      "\n"
     ]
    }
   ],
   "source": [
    "print('Rogistic Regression 모델의 결과')\n",
    "print(classification_report(y_test,pred))\n",
    "print(confusion_matrix(y_test,pred))\n",
    "\n",
    "print('DecisionTreeClassifier 모델의 결과')\n",
    "print(classification_report(y_test,pred_dt))\n",
    "print(confusion_matrix(y_test,pred_dt))\n",
    "\n",
    "print('RandomForestClassifier 모델의 결과')\n",
    "print(classification_report(y_test,rf_pred))\n",
    "print(confusion_matrix(y_test,rf_pred))\n",
    "\n",
    "print('XGBoost의 모델의 결과')\n",
    "print(confusion_matrix(y_test, pred_xgb))\n",
    "print(classification_report(y_test, pred_xgb)) "
   ]
  },
  {
   "cell_type": "markdown",
   "id": "6c06abf5",
   "metadata": {},
   "source": [
    "### 4가지 모델의 정확도가 전부 65%~66%대로 도출됨 \n"
   ]
  },
  {
   "cell_type": "code",
   "execution_count": 83,
   "id": "81159f83",
   "metadata": {},
   "outputs": [
    {
     "name": "stdout",
     "output_type": "stream",
     "text": [
      "====== LogisticRegression 하이퍼파라미터 튜닝 시작 ======\n",
      "Fitting 5 folds for each of 4 candidates, totalling 20 fits\n",
      "\n",
      "최적 하이퍼파라미터: {'penalty': 'l2', 'C': 0.1}\n",
      "최고 교차 검증 정확도: 0.6346\n",
      "--------------------------------------------------\n",
      "====== DecisionTree 하이퍼파라미터 튜닝 시작 ======\n",
      "Fitting 5 folds for each of 20 candidates, totalling 100 fits\n",
      "\n",
      "최적 하이퍼파라미터: {'max_depth': 3, 'min_samples_leaf': 16, 'min_samples_split': 2}\n",
      "최고 교차 검증 정확도: 0.6443\n",
      "--------------------------------------------------\n",
      "====== RandomForest 하이퍼파라미터 튜닝 시작 ======\n",
      "Fitting 5 folds for each of 20 candidates, totalling 100 fits\n",
      "\n",
      "최적 하이퍼파라미터: {'max_depth': 8, 'min_samples_leaf': 2, 'min_samples_split': 18, 'n_estimators': 231}\n",
      "최고 교차 검증 정확도: 0.6514\n",
      "--------------------------------------------------\n",
      "====== XGBoost 하이퍼파라미터 튜닝 시작 ======\n",
      "Fitting 5 folds for each of 20 candidates, totalling 100 fits\n",
      "\n",
      "최적 하이퍼파라미터: {'learning_rate': 0.01, 'max_depth': 6, 'n_estimators': 348}\n",
      "최고 교차 검증 정확도: 0.6461\n",
      "--------------------------------------------------\n",
      "\n",
      "\n",
      "모든 모델의 최적 파라미터 탐색(Randomized)이 완료되었습니다.\n",
      "최적 모델 확인: {'LogisticRegression': LogisticRegression(C=0.1, random_state=11, solver='liblinear'), 'DecisionTree': DecisionTreeClassifier(max_depth=3, min_samples_leaf=16, random_state=11), 'RandomForest': RandomForestClassifier(max_depth=8, min_samples_leaf=2, min_samples_split=18,\n",
      "                       n_estimators=231, n_jobs=-1, random_state=11), 'XGBoost': XGBClassifier(base_score=0.5, booster='gbtree', callbacks=None,\n",
      "              colsample_bylevel=1, colsample_bynode=1, colsample_bytree=1,\n",
      "              early_stopping_rounds=None, enable_categorical=False,\n",
      "              eval_metric='logloss', gamma=0, gpu_id=-1,\n",
      "              grow_policy='depthwise', importance_type=None,\n",
      "              interaction_constraints='', learning_rate=0.01, max_bin=256,\n",
      "              max_cat_to_onehot=4, max_delta_step=0, max_depth=6, max_leaves=0,\n",
      "              min_child_weight=1, missing=nan, monotone_constraints='()',\n",
      "              n_estimators=348, n_jobs=0, num_parallel_tree=1, predictor='auto',\n",
      "              random_state=11, reg_alpha=0, reg_lambda=1, ...)}\n"
     ]
    }
   ],
   "source": [
    "from sklearn.model_selection import RandomizedSearchCV\n",
    "from scipy.stats import randint # 파라미터 범위 지정을 위한 라이브러리\n",
    "\n",
    "# 각 모델별로 탐색할 하이퍼파라미터 '범위' 정의\n",
    "# --------------------------------------------------------------------------\n",
    "\n",
    "# Logistic Regression 파라미터 (값의 후보가 적어 그대로 사용)\n",
    "lr_params = {\n",
    "    'penalty': ['l2'],\n",
    "    'C': [0.1, 1, 10, 100]\n",
    "}\n",
    "\n",
    "# Decision Tree 파라미터 범위\n",
    "dt_dist = {\n",
    "    'max_depth': randint(3, 20),\n",
    "    'min_samples_split': randint(2, 20),\n",
    "    'min_samples_leaf': randint(1, 20)\n",
    "}\n",
    "\n",
    "# Random Forest 파라미터 범위\n",
    "rf_dist = {\n",
    "    'n_estimators': randint(100, 500),\n",
    "    'max_depth': randint(5, 30),\n",
    "    'min_samples_split': randint(2, 20),\n",
    "    'min_samples_leaf': randint(1, 20)\n",
    "}\n",
    "\n",
    "# XGBoost 파라미터 범위\n",
    "xgb_dist = {\n",
    "    'n_estimators': randint(100, 500),\n",
    "    'learning_rate': [0.01, 0.05, 0.1, 0.2],\n",
    "    'max_depth': randint(3, 10)\n",
    "}\n",
    "\n",
    "\n",
    "# 3. 모델과 파라미터 묶기\n",
    "# --------------------------------------------------------------------------\n",
    "models = [\n",
    "    # Logistic Regression은 후보가 적어 GridSearchCV를 사용해도 무방합니다.\n",
    "    ('LogisticRegression', LogisticRegression(solver='liblinear', random_state=11), lr_params), \n",
    "    ('DecisionTree', DecisionTreeClassifier(random_state=11), dt_dist),\n",
    "    ('RandomForest', RandomForestClassifier(random_state=11, n_jobs=-1), rf_dist),\n",
    "    ('XGBoost', XGBClassifier(random_state=11, use_label_encoder=False, eval_metric='logloss'), xgb_dist)\n",
    "]\n",
    "\n",
    "\n",
    "# 4. 반복문을 통해 각 모델의 RandomizedSearchCV 실행\n",
    "# --------------------------------------------------------------------------\n",
    "best_models_random = {}\n",
    "\n",
    "for name, model, params in models:\n",
    "    print(f\"====== {name} 하이퍼파라미터 튜닝 시작 ======\")\n",
    "    \n",
    "    # RandomizedSearchCV 객체 생성.\n",
    "    random_search = RandomizedSearchCV(estimator=model,\n",
    "                                     param_distributions=params,\n",
    "                                     n_iter=20, # 20개의 조합을 테스트합니다.\n",
    "                                     cv=5,\n",
    "                                     n_jobs=-1,\n",
    "                                     verbose=1,\n",
    "                                     random_state=11)\n",
    "    \n",
    "    # 랜덤 서치 학습\n",
    "    random_search.fit(x_train, y_train)\n",
    "    \n",
    "    # 결과 저장 및 출력\n",
    "    best_models_random[name] = random_search.best_estimator_\n",
    "    print(f\"\\n최적 하이퍼파라미터: {random_search.best_params_}\")\n",
    "    print(f\"최고 교차 검증 정확도: {random_search.best_score_:.4f}\")\n",
    "    print(\"-\" * 50)\n",
    "\n",
    "print(\"\\n\\n모든 모델의 최적 파라미터 탐색(Randomized)이 완료되었습니다.\")\n",
    "print(\"최적 모델 확인:\", best_models_random)"
   ]
  },
  {
   "cell_type": "markdown",
   "id": "ff5583e2",
   "metadata": {},
   "source": [
    "# 결과\n",
    "고객 데이터를 이용해 성별을 예측하는 머신러닝 모델 구축을 목적으로 본 프로젝트를 하게 되었습니다.\n",
    "로지스틱 회귀, 의사결정나무, 랜덤 포레스트, XGBoost 모델을 적용했으나, 4가지의 모델의 성능이 비슷하여 \n",
    "RandomizedSearchCV를 통해 모델별 최적의 하이퍼파라미터를 탐색을 추가로 적용하였고,\n",
    "RandomForestClassfire 모델이 Cross Validation에서 약 65%의 정확도로 가장 높은 정확도로 최종 모델로 선정되었습니다.\n",
    "제가 분석한 최적의 파라미터는 max_depth = 8, n_estimators = 231로 확인되었습니다. "
   ]
  },
  {
   "cell_type": "markdown",
   "id": "14a29a1b",
   "metadata": {},
   "source": [
    "### 최종적으로 Random Forest 모델이 고객 성별 예측에 가장 적합한 모델임을 확인하였습니다 "
   ]
  }
 ],
 "metadata": {
  "kernelspec": {
   "display_name": "hi_ml_env",
   "language": "python",
   "name": "python3"
  },
  "language_info": {
   "codemirror_mode": {
    "name": "ipython",
    "version": 3
   },
   "file_extension": ".py",
   "mimetype": "text/x-python",
   "name": "python",
   "nbconvert_exporter": "python",
   "pygments_lexer": "ipython3",
   "version": "3.10.16"
  }
 },
 "nbformat": 4,
 "nbformat_minor": 5
}
