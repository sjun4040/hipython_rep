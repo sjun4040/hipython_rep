{
 "cells": [
  {
   "cell_type": "code",
   "execution_count": 2,
   "id": "aff3b641",
   "metadata": {},
   "outputs": [
    {
     "name": "stdout",
     "output_type": "stream",
     "text": [
      "30.0\n"
     ]
    }
   ],
   "source": [
    "import numpy as np\n",
    "# 산술평균\n",
    "data = [10, 20, 30, 40, 50]\n",
    "mean_value = np.mean(data)\n",
    "print(mean_value)"
   ]
  },
  {
   "cell_type": "code",
   "execution_count": 3,
   "id": "c56ff7ae",
   "metadata": {},
   "outputs": [
    {
     "data": {
      "text/plain": [
       "np.float64(26.051710846973528)"
      ]
     },
     "execution_count": 3,
     "metadata": {},
     "output_type": "execute_result"
    }
   ],
   "source": [
    "# 기하평균\n",
    "from scipy.stats import hmean, gmean\n",
    "gmean(data)"
   ]
  },
  {
   "cell_type": "code",
   "execution_count": 4,
   "id": "80a5b632",
   "metadata": {},
   "outputs": [
    {
     "data": {
      "text/plain": [
       "np.float64(21.8978102189781)"
      ]
     },
     "execution_count": 4,
     "metadata": {},
     "output_type": "execute_result"
    }
   ],
   "source": [
    "# 조화평균\n",
    "hmean(data)"
   ]
  },
  {
   "cell_type": "code",
   "execution_count": 5,
   "id": "34551314",
   "metadata": {},
   "outputs": [
    {
     "data": {
      "text/plain": [
       "np.float64(5800.0)"
      ]
     },
     "execution_count": 5,
     "metadata": {},
     "output_type": "execute_result"
    }
   ],
   "source": [
    "# 가중평균\n",
    "prices = [5000,9000]    # 가격\n",
    "counts = [8,2]          # 개수\n",
    "\n",
    "np.average(prices, weights=counts)"
   ]
  },
  {
   "cell_type": "code",
   "execution_count": 6,
   "id": "e1751888",
   "metadata": {},
   "outputs": [
    {
     "name": "stdout",
     "output_type": "stream",
     "text": [
      "30.0\n"
     ]
    }
   ],
   "source": [
    "# 대표값 - 중앙값\n",
    "median_value = np.median(data)\n",
    "print(median_value)"
   ]
  },
  {
   "cell_type": "code",
   "execution_count": 7,
   "id": "5103e4c0",
   "metadata": {},
   "outputs": [
    {
     "name": "stdout",
     "output_type": "stream",
     "text": [
      "75.0 80.0 85.0\n"
     ]
    }
   ],
   "source": [
    "# 백분위수\n",
    "scores = [65, 75, 80, 85, 95]\n",
    "p25 = np.percentile(scores, 25)   #Q1\n",
    "p50 = np.percentile(scores, 50)   #Q2\n",
    "p75 = np.percentile(scores, 75)   #Q3\n",
    "print(p25,p50,p75)"
   ]
  },
  {
   "cell_type": "code",
   "execution_count": 8,
   "id": "a5bb91a6",
   "metadata": {},
   "outputs": [
    {
     "data": {
      "text/plain": [
       "np.float64(10.0)"
      ]
     },
     "execution_count": 8,
     "metadata": {},
     "output_type": "execute_result"
    }
   ],
   "source": [
    "# IQR : 사분위범위 Q3-Q1 = 85-75 = 10\n",
    "p75 - p25"
   ]
  },
  {
   "cell_type": "markdown",
   "id": "8e56677a",
   "metadata": {},
   "source": [
    "중앙값, 분위수는 개수(위치)를 중요시하는 통계량 \n",
    "이상값 / 극단적인 값이 중요하지 않다."
   ]
  },
  {
   "cell_type": "code",
   "execution_count": 9,
   "id": "35a80a90",
   "metadata": {},
   "outputs": [
    {
     "name": "stdout",
     "output_type": "stream",
     "text": [
      "0    3\n",
      "dtype: int64\n"
     ]
    }
   ],
   "source": [
    "# 대표값 - 최빈값\n",
    "import pandas as pd\n",
    "\n",
    "data = pd.Series([1, 2, 2, 3, 3, 3, 4, 4])\n",
    "mode_value = data.mode()\n",
    "print(mode_value)  # 3 (가장 많이 등장한 값)"
   ]
  },
  {
   "cell_type": "markdown",
   "id": "696ecf2b",
   "metadata": {},
   "source": [
    "범위의 계산 > 변동성을 측정하는 지표<br> \n",
    "지표 > 극단적인 값에 민감\n",
    "\n",
    "- 최대/최소 2개의 값만 사용\n",
    "- 개별점수들이 다른 점수들과 얼마나 차이가 있나 x\n",
    "- 실제 데이터가 어떤 값들로 구성되어 있는지를 설명할 수 없다."
   ]
  },
  {
   "cell_type": "code",
   "execution_count": 10,
   "id": "6a02cbec",
   "metadata": {},
   "outputs": [
    {
     "name": "stdout",
     "output_type": "stream",
     "text": [
      "40\n"
     ]
    }
   ],
   "source": [
    "data = [10, 20, 30, 40, 50]\n",
    "range_value = max(data) - min(data)\n",
    "print(range_value)  # 40"
   ]
  },
  {
   "cell_type": "code",
   "execution_count": 11,
   "id": "c394d4e5",
   "metadata": {},
   "outputs": [
    {
     "data": {
      "text/plain": [
       "<matplotlib.collections.PathCollection at 0x15cfa5a0cb0>"
      ]
     },
     "execution_count": 11,
     "metadata": {},
     "output_type": "execute_result"
    },
    {
     "data": {
      "image/png": "[encoded data removed]",
      "text/plain": [
       "<Figure size 640x480 with 1 Axes>"
      ]
     },
     "metadata": {},
     "output_type": "display_data"
    }
   ],
   "source": [
    "import matplotlib.pyplot as plt\n",
    "plt.scatter(data, np.zeros_like(data))\n"
   ]
  },
  {
   "cell_type": "code",
   "execution_count": 12,
   "id": "79f99be6",
   "metadata": {},
   "outputs": [
    {
     "data": {
      "text/html": [
       "<div>\n",
       "<style scoped>\n",
       "    .dataframe tbody tr th:only-of-type {\n",
       "        vertical-align: middle;\n",
       "    }\n",
       "\n",
       "    .dataframe tbody tr th {\n",
       "        vertical-align: top;\n",
       "    }\n",
       "\n",
       "    .dataframe thead th {\n",
       "        text-align: right;\n",
       "    }\n",
       "</style>\n",
       "<table border=\"1\" class=\"dataframe\">\n",
       "  <thead>\n",
       "    <tr style=\"text-align: right;\">\n",
       "      <th></th>\n",
       "      <th>sepal_length</th>\n",
       "      <th>sepal_width</th>\n",
       "      <th>petal_length</th>\n",
       "      <th>petal_width</th>\n",
       "      <th>species</th>\n",
       "    </tr>\n",
       "  </thead>\n",
       "  <tbody>\n",
       "    <tr>\n",
       "      <th>0</th>\n",
       "      <td>5.1</td>\n",
       "      <td>3.5</td>\n",
       "      <td>1.4</td>\n",
       "      <td>0.2</td>\n",
       "      <td>setosa</td>\n",
       "    </tr>\n",
       "    <tr>\n",
       "      <th>1</th>\n",
       "      <td>4.9</td>\n",
       "      <td>3.0</td>\n",
       "      <td>1.4</td>\n",
       "      <td>0.2</td>\n",
       "      <td>setosa</td>\n",
       "    </tr>\n",
       "    <tr>\n",
       "      <th>2</th>\n",
       "      <td>4.7</td>\n",
       "      <td>3.2</td>\n",
       "      <td>1.3</td>\n",
       "      <td>0.2</td>\n",
       "      <td>setosa</td>\n",
       "    </tr>\n",
       "    <tr>\n",
       "      <th>3</th>\n",
       "      <td>4.6</td>\n",
       "      <td>3.1</td>\n",
       "      <td>1.5</td>\n",
       "      <td>0.2</td>\n",
       "      <td>setosa</td>\n",
       "    </tr>\n",
       "    <tr>\n",
       "      <th>4</th>\n",
       "      <td>5.0</td>\n",
       "      <td>3.6</td>\n",
       "      <td>1.4</td>\n",
       "      <td>0.2</td>\n",
       "      <td>setosa</td>\n",
       "    </tr>\n",
       "  </tbody>\n",
       "</table>\n",
       "</div>"
      ],
      "text/plain": [
       "   sepal_length  sepal_width  petal_length  petal_width species\n",
       "0           5.1          3.5           1.4          0.2  setosa\n",
       "1           4.9          3.0           1.4          0.2  setosa\n",
       "2           4.7          3.2           1.3          0.2  setosa\n",
       "3           4.6          3.1           1.5          0.2  setosa\n",
       "4           5.0          3.6           1.4          0.2  setosa"
      ]
     },
     "execution_count": 12,
     "metadata": {},
     "output_type": "execute_result"
    }
   ],
   "source": [
    "import seaborn as sns\n",
    "vp_df = sns.load_dataset('iris')\n",
    "\n",
    "vp_df.head()"
   ]
  },
  {
   "cell_type": "code",
   "execution_count": 13,
   "id": "8caee2c3",
   "metadata": {},
   "outputs": [
    {
     "data": {
      "text/plain": [
       "np.float64(3.6000000000000005)"
      ]
     },
     "execution_count": 13,
     "metadata": {},
     "output_type": "execute_result"
    }
   ],
   "source": [
    "#sepal_length의 범위\n",
    "vp_df['sepal_length'].max() - vp_df['sepal_length'].min()"
   ]
  },
  {
   "cell_type": "code",
   "execution_count": 14,
   "id": "d602d9ae",
   "metadata": {},
   "outputs": [
    {
     "name": "stdout",
     "output_type": "stream",
     "text": [
      "sepal_length의 범위 : 3.6000000000000005\n",
      "sepal_width의 범위 : 2.4000000000000004\n",
      "petal_length의 범위 : 5.9\n",
      "petal_width의 범위 : 2.4\n"
     ]
    }
   ],
   "source": [
    "# 모든 속성의 범위를 확인\n",
    "# 반복문\n",
    "\n",
    "for col in vp_df.columns:\n",
    "    if pd.api.types.is_numeric_dtype(vp_df[col]):\n",
    "        print(f\"{col}의 범위 : {vp_df[col].max() - vp_df[col].min()}\")\n",
    "    else:\n",
    "        pass"
   ]
  },
  {
   "cell_type": "markdown",
   "id": "c7b2de35",
   "metadata": {},
   "source": [
    "변동성이 가장 큰 속성은 petal_length입니다.<br>\n",
    "petal_length와 petal_width가 <br>\n",
    "sepal_length와 sepal_width보다 상대적으로 변동성이 큽니다.<br>\n",
    "\n",
    "모델 생성시에 다루어야 하는 속성으로 볼 수 있습니다."
   ]
  },
  {
   "cell_type": "code",
   "execution_count": 15,
   "id": "65d24f52",
   "metadata": {},
   "outputs": [
    {
     "data": {
      "text/plain": [
       "Text(0.5, 1.0, 'setal_length, setal_width compare')"
      ]
     },
     "execution_count": 15,
     "metadata": {},
     "output_type": "execute_result"
    },
    {
     "data": {
      "image/png": "[encoded data removed]",
      "text/plain": [
       "<Figure size 640x480 with 1 Axes>"
      ]
     },
     "metadata": {},
     "output_type": "display_data"
    }
   ],
   "source": [
    "# 산포도로 변동성 확인하기\n",
    "# petal_length와 petal_width 그리기\n",
    "plt.scatter(vp_df['sepal_length'], vp_df['sepal_width'])\n",
    "plt.xlabel('sepal_length')\n",
    "plt.ylabel('setal_width')\n",
    "plt.title('setal_length, setal_width compare')"
   ]
  },
  {
   "cell_type": "code",
   "execution_count": 16,
   "id": "7a0ebe91",
   "metadata": {},
   "outputs": [
    {
     "data": {
      "text/plain": [
       "Text(0.5, 1.0, 'petal_length, petal_width compare')"
      ]
     },
     "execution_count": 16,
     "metadata": {},
     "output_type": "execute_result"
    },
    {
     "data": {
      "image/png": "[encoded data removed]",
      "text/plain": [
       "<Figure size 640x480 with 1 Axes>"
      ]
     },
     "metadata": {},
     "output_type": "display_data"
    }
   ],
   "source": [
    "plt.scatter(vp_df['petal_length'], vp_df['petal_width'])\n",
    "plt.xlabel('petal_length')\n",
    "plt.ylabel('petal_width')\n",
    "plt.title('petal_length, petal_width compare')"
   ]
  },
  {
   "cell_type": "code",
   "execution_count": 17,
   "id": "cdf698c3",
   "metadata": {},
   "outputs": [],
   "source": [
    "# 산포도를 이용해 극단적인 다른 데이터(이상치)가 있는 지를 확인해야한다"
   ]
  },
  {
   "cell_type": "code",
   "execution_count": 18,
   "id": "ee6f0d35",
   "metadata": {},
   "outputs": [],
   "source": [
    "# 분산"
   ]
  },
  {
   "cell_type": "code",
   "execution_count": 19,
   "id": "b2b22963",
   "metadata": {},
   "outputs": [
    {
     "name": "stdout",
     "output_type": "stream",
     "text": [
      "200.0\n"
     ]
    }
   ],
   "source": [
    "variance_value = np.var(data)\n",
    "print(variance_value)"
   ]
  },
  {
   "cell_type": "code",
   "execution_count": 20,
   "id": "05f16520",
   "metadata": {},
   "outputs": [
    {
     "name": "stdout",
     "output_type": "stream",
     "text": [
      "14.142135623730951\n"
     ]
    }
   ],
   "source": [
    "# 표준편차\n",
    "std_dev = np.std(data)\n",
    "print(std_dev)"
   ]
  },
  {
   "cell_type": "code",
   "execution_count": 21,
   "id": "42c4f52d",
   "metadata": {},
   "outputs": [],
   "source": [
    "# sd의 비교\n",
    "import numpy as np\n",
    "import matplotlib.pyplot as plt\n",
    "\n",
    "# 평균과 표준편차 설정\n",
    "mu = 100\n",
    "sd1 = 10\n",
    "sd2 = 50\n",
    "\n",
    "# 정규분포 데이터 생성\n",
    "data1 = np.random.normal(mu, sd1, 10000)\n",
    "data2 = np.random.normal(mu, sd2, 10000)\n",
    "\n",
    "bins = np.arange(0,240,10)"
   ]
  },
  {
   "cell_type": "code",
   "execution_count": 22,
   "id": "ecc0376b",
   "metadata": {},
   "outputs": [
    {
     "data": {
      "text/plain": [
       "<matplotlib.lines.Line2D at 0x15cfc937a10>"
      ]
     },
     "execution_count": 22,
     "metadata": {},
     "output_type": "execute_result"
    },
    {
     "data": {
      "image/png": "[encoded data removed]",
      "text/plain": [
       "<Figure size 640x480 with 1 Axes>"
      ]
     },
     "metadata": {},
     "output_type": "display_data"
    }
   ],
   "source": [
    "plt.hist(data1, bins, color='red', alpha=0.5)\n",
    "plt.hist(data2, bins, color='blue', alpha=0.5)\n",
    "\n",
    "# 평균선 표시\n",
    "plt.axvline(mu, color='black', linestyle='--')"
   ]
  },
  {
   "cell_type": "code",
   "execution_count": 23,
   "id": "8a40e5ef",
   "metadata": {},
   "outputs": [
    {
     "data": {
      "image/png": "[encoded data removed]",
      "text/plain": [
       "<Figure size 1500x600 with 2 Axes>"
      ]
     },
     "metadata": {},
     "output_type": "display_data"
    }
   ],
   "source": [
    "# iris data 속성들의 표준편차 비교분석 \n",
    "import seaborn as sns\n",
    "import matplotlib.pyplot as plt\n",
    "\n",
    "# Iris 데이터셋 로드\n",
    "iris = sns.load_dataset('iris')\n",
    "\n",
    "fig, axes = plt.subplots(1, 2, figsize=(15, 6))\n",
    "\n",
    "# (1) 히스토그램 개선\n",
    "# 투명도(alpha)와 라벨을 지정하여 겹쳐도 구분이 가능하게 합니다.\n",
    "axes[0].hist(iris['sepal_length'], bins=10, alpha=0.5, label='sepal_length', color='red')\n",
    "axes[0].hist(iris['sepal_width'], bins=10, alpha=0.5, label='sepal_width', color='green')\n",
    "axes[0].hist(iris['petal_length'], bins=10, alpha=0.5, label='petal_length', color='blue')\n",
    "axes[0].hist(iris['petal_width'], bins=10, alpha=0.5, label='petal_width', color='purple')\n",
    "axes[0].set_title('Histograms of Iris Features')\n",
    "axes[0].set_xlabel('Value')\n",
    "axes[0].set_ylabel('Frequency')\n",
    "axes[0].legend()\n",
    "\n",
    "# (2) KDE 플롯 (전문가적인 시각화)\n",
    "# 각 변수의 분포 곡선을 부드럽게 시각화하여 비교하기 용이합니다.\n",
    "sns.kdeplot(data=iris, ax=axes[1])\n",
    "axes[1].set_title('KDE Plot of Iris Features')\n",
    "axes[1].set_xlabel('Value')\n",
    "axes[1].set_ylabel('Density')\n",
    "\n",
    "plt.tight_layout()\n",
    "plt.show()"
   ]
  },
  {
   "cell_type": "markdown",
   "id": "3e4a7959",
   "metadata": {},
   "source": [
    "# 사분위 범위"
   ]
  },
  {
   "cell_type": "code",
   "execution_count": 24,
   "id": "c7102d2f",
   "metadata": {},
   "outputs": [
    {
     "data": {
      "text/html": [
       "<div>\n",
       "<style scoped>\n",
       "    .dataframe tbody tr th:only-of-type {\n",
       "        vertical-align: middle;\n",
       "    }\n",
       "\n",
       "    .dataframe tbody tr th {\n",
       "        vertical-align: top;\n",
       "    }\n",
       "\n",
       "    .dataframe thead th {\n",
       "        text-align: right;\n",
       "    }\n",
       "</style>\n",
       "<table border=\"1\" class=\"dataframe\">\n",
       "  <thead>\n",
       "    <tr style=\"text-align: right;\">\n",
       "      <th></th>\n",
       "      <th>Q1</th>\n",
       "      <th>Q3</th>\n",
       "      <th>IQR</th>\n",
       "    </tr>\n",
       "  </thead>\n",
       "  <tbody>\n",
       "    <tr>\n",
       "      <th>sepal_length</th>\n",
       "      <td>5.1</td>\n",
       "      <td>6.4</td>\n",
       "      <td>1.3</td>\n",
       "    </tr>\n",
       "    <tr>\n",
       "      <th>sepal_width</th>\n",
       "      <td>2.8</td>\n",
       "      <td>3.3</td>\n",
       "      <td>0.5</td>\n",
       "    </tr>\n",
       "    <tr>\n",
       "      <th>petal_length</th>\n",
       "      <td>1.6</td>\n",
       "      <td>5.1</td>\n",
       "      <td>3.5</td>\n",
       "    </tr>\n",
       "    <tr>\n",
       "      <th>petal_width</th>\n",
       "      <td>0.3</td>\n",
       "      <td>1.8</td>\n",
       "      <td>1.5</td>\n",
       "    </tr>\n",
       "  </tbody>\n",
       "</table>\n",
       "</div>"
      ],
      "text/plain": [
       "               Q1   Q3  IQR\n",
       "sepal_length  5.1  6.4  1.3\n",
       "sepal_width   2.8  3.3  0.5\n",
       "petal_length  1.6  5.1  3.5\n",
       "petal_width   0.3  1.8  1.5"
      ]
     },
     "execution_count": 24,
     "metadata": {},
     "output_type": "execute_result"
    }
   ],
   "source": [
    "numeric_df = vp_df.select_dtypes(include=['Float64', 'int'])\n",
    "\n",
    "Q1 = numeric_df.quantile(0.25)\n",
    "Q3 = numeric_df.quantile(0.75)\n",
    "IQR = Q3 - Q1\n",
    "\n",
    "summ = pd.DataFrame({'Q1':Q1,\n",
    "                     'Q3':Q3,\n",
    "                     'IQR': IQR})\n",
    "\n",
    "summ"
   ]
  },
  {
   "cell_type": "markdown",
   "id": "c3603876",
   "metadata": {},
   "source": [
    "가장 분산이 큰 변수 : petal_length<br>\n",
    "가장 분산이 작은 변수 : sepal_width<br>\n",
    "품종을 분류할 때, petal_length가 민감하게 작용될 것이다.<br>\n",
    "식별력이 크다.<br>\n",
    "** IQR > 이상치의 허용범위가 크다"
   ]
  },
  {
   "cell_type": "markdown",
   "id": "8b55f9c7",
   "metadata": {},
   "source": [
    "# 분포의 모양, 형태\n",
    "\n",
    "- 모양이 정규분포인지\n",
    "- 치우쳐져 있는가 / 좌/우, 위/아래\n",
    "- 특이한 패턴이 있는가 / 쌍봉"
   ]
  },
  {
   "cell_type": "code",
   "execution_count": 25,
   "id": "ec7c37dd",
   "metadata": {},
   "outputs": [
    {
     "data": {
      "text/html": [
       "<div>\n",
       "<style scoped>\n",
       "    .dataframe tbody tr th:only-of-type {\n",
       "        vertical-align: middle;\n",
       "    }\n",
       "\n",
       "    .dataframe tbody tr th {\n",
       "        vertical-align: top;\n",
       "    }\n",
       "\n",
       "    .dataframe thead th {\n",
       "        text-align: right;\n",
       "    }\n",
       "</style>\n",
       "<table border=\"1\" class=\"dataframe\">\n",
       "  <thead>\n",
       "    <tr style=\"text-align: right;\">\n",
       "      <th></th>\n",
       "      <th>A</th>\n",
       "      <th>B</th>\n",
       "      <th>C</th>\n",
       "      <th>D</th>\n",
       "      <th>E</th>\n",
       "    </tr>\n",
       "  </thead>\n",
       "  <tbody>\n",
       "    <tr>\n",
       "      <th>0</th>\n",
       "      <td>47</td>\n",
       "      <td>10</td>\n",
       "      <td>31</td>\n",
       "      <td>25</td>\n",
       "      <td>20</td>\n",
       "    </tr>\n",
       "    <tr>\n",
       "      <th>1</th>\n",
       "      <td>2</td>\n",
       "      <td>11</td>\n",
       "      <td>31</td>\n",
       "      <td>25</td>\n",
       "      <td>21</td>\n",
       "    </tr>\n",
       "    <tr>\n",
       "      <th>2</th>\n",
       "      <td>44</td>\n",
       "      <td>14</td>\n",
       "      <td>15</td>\n",
       "      <td>26</td>\n",
       "      <td>21</td>\n",
       "    </tr>\n",
       "    <tr>\n",
       "      <th>3</th>\n",
       "      <td>41</td>\n",
       "      <td>14</td>\n",
       "      <td>16</td>\n",
       "      <td>26</td>\n",
       "      <td>21</td>\n",
       "    </tr>\n",
       "    <tr>\n",
       "      <th>4</th>\n",
       "      <td>7</td>\n",
       "      <td>30</td>\n",
       "      <td>17</td>\n",
       "      <td>27</td>\n",
       "      <td>24</td>\n",
       "    </tr>\n",
       "    <tr>\n",
       "      <th>5</th>\n",
       "      <td>6</td>\n",
       "      <td>30</td>\n",
       "      <td>16</td>\n",
       "      <td>29</td>\n",
       "      <td>24</td>\n",
       "    </tr>\n",
       "    <tr>\n",
       "      <th>6</th>\n",
       "      <td>35</td>\n",
       "      <td>32</td>\n",
       "      <td>15</td>\n",
       "      <td>29</td>\n",
       "      <td>23</td>\n",
       "    </tr>\n",
       "    <tr>\n",
       "      <th>7</th>\n",
       "      <td>38</td>\n",
       "      <td>33</td>\n",
       "      <td>19</td>\n",
       "      <td>28</td>\n",
       "      <td>20</td>\n",
       "    </tr>\n",
       "    <tr>\n",
       "      <th>8</th>\n",
       "      <td>35</td>\n",
       "      <td>34</td>\n",
       "      <td>18</td>\n",
       "      <td>29</td>\n",
       "      <td>21</td>\n",
       "    </tr>\n",
       "    <tr>\n",
       "      <th>9</th>\n",
       "      <td>36</td>\n",
       "      <td>32</td>\n",
       "      <td>16</td>\n",
       "      <td>27</td>\n",
       "      <td>20</td>\n",
       "    </tr>\n",
       "  </tbody>\n",
       "</table>\n",
       "</div>"
      ],
      "text/plain": [
       "    A   B   C   D   E\n",
       "0  47  10  31  25  20\n",
       "1   2  11  31  25  21\n",
       "2  44  14  15  26  21\n",
       "3  41  14  16  26  21\n",
       "4   7  30  17  27  24\n",
       "5   6  30  16  29  24\n",
       "6  35  32  15  29  23\n",
       "7  38  33  19  28  20\n",
       "8  35  34  18  29  21\n",
       "9  36  32  16  27  20"
      ]
     },
     "execution_count": 25,
     "metadata": {},
     "output_type": "execute_result"
    }
   ],
   "source": [
    "import pandas as pd\n",
    "import numpy as np\n",
    "\n",
    "#데이터 입력\n",
    "data = [\n",
    "    [47, 10, 31, 25, 20],\n",
    "    [2, 11, 31, 25, 21],\n",
    "    [44, 14, 15, 26, 21],\n",
    "    [41, 14, 16, 26, 21],\n",
    "    [7, 30, 17, 27, 24],\n",
    "    [6, 30, 16, 29, 24],\n",
    "    [35, 32, 15, 29, 23],\n",
    "    [38, 33, 19, 28, 20],\n",
    "    [35, 34, 18, 29, 21],\n",
    "    [36, 32, 16, 27, 20],\n",
    "]\n",
    "\n",
    "#DataFrame으로 변환\n",
    "df = pd.DataFrame(data, columns=['A', 'B', 'C', 'D', 'E'])\n",
    "df"
   ]
  },
  {
   "cell_type": "markdown",
   "id": "3f88ca6b",
   "metadata": {},
   "source": [
    "- 각 변수의 분포 형태 : 5개의 변수\n",
    "- 값의 범위, 도수가 많은 구간 (count) 빈도"
   ]
  },
  {
   "cell_type": "code",
   "execution_count": null,
   "id": "d60fafb5",
   "metadata": {},
   "outputs": [
    {
     "data": {
      "image/png": "[encoded data removed]",
      "text/plain": [
       "<Figure size 640x480 with 1 Axes>"
      ]
     },
     "metadata": {},
     "output_type": "display_data"
    },
    {
     "data": {
      "image/png": "[encoded data removed]",
      "text/plain": [
       "<Figure size 640x480 with 1 Axes>"
      ]
     },
     "metadata": {},
     "output_type": "display_data"
    },
    {
     "data": {
      "image/png": "[encoded data removed]",
      "text/plain": [
       "<Figure size 640x480 with 1 Axes>"
      ]
     },
     "metadata": {},
     "output_type": "display_data"
    },
    {
     "data": {
      "image/png": "[encoded data removed]",
      "text/plain": [
       "<Figure size 640x480 with 1 Axes>"
      ]
     },
     "metadata": {},
     "output_type": "display_data"
    },
    {
     "data": {
      "image/png": "[encoded data removed]",
      "text/plain": [
       "<Figure size 640x480 with 1 Axes>"
      ]
     },
     "metadata": {},
     "output_type": "display_data"
    }
   ],
   "source": [
    "# 각 속성별로 히스토그램\n",
    "for col in df.columns:\n",
    " plt.hist(df[col], bins='sturges')\n",
    " plt.tight_layout()\n",
    " plt.show()"
   ]
  },
  {
   "cell_type": "code",
   "execution_count": null,
   "id": "af6bcb89",
   "metadata": {},
   "outputs": [
    {
     "name": "stdout",
     "output_type": "stream",
     "text": [
      "[-1.20858977 -1.72253932  0.04612341 -1.44440419 -1.05185185]\n"
     ]
    }
   ],
   "source": [
    "from scipy.stats import kurtosis\n",
    "\n",
    "kurtosis_value = kurtosis(data)\n",
    "print(kurtosis_value)"
   ]
  },
  {
   "cell_type": "markdown",
   "id": "f621d701",
   "metadata": {},
   "source": [
    "0 : 정규 분포 <br>\n",
    "양수 첨도 : 정규분포보다 그만큼 뾰족하다 > 꼬리가 두껍다<br>\n",
    "(길다)<br>\n",
    "음수 첨도 : 정규분포보다 그만큼 눌려있다 > 꼬리가 얇다<br>\n",
    "(짧다): 데이터가 평균 주변에 고르다"
   ]
  },
  {
   "cell_type": "markdown",
   "id": "6e8217f0",
   "metadata": {},
   "source": [
    "양의 첨도 > 3 , 정규분포보다 뾰족하고, 꼬리가 두꺼워서 이상치가 극단적인 값이 더 많다.\n",
    "음의 첨도 < 3 , 정규분포보다 평평하고, 꼬리가 얇아서, 극단적인 값이 더 발생한다."
   ]
  },
  {
   "cell_type": "code",
   "execution_count": 30,
   "id": "dadfb08d",
   "metadata": {},
   "outputs": [
    {
     "name": "stdout",
     "output_type": "stream",
     "text": [
      "1.1384199576606167\n"
     ]
    }
   ],
   "source": [
    "from scipy.stats import skew\n",
    "\n",
    "data = [10, 20, 30, 40, 100]  # 오른쪽으로 치우친 데이터\n",
    "skew_value = skew(data)\n",
    "print(skew_value)  # 양수 (오른쪽 꼬리)"
   ]
  },
  {
   "cell_type": "markdown",
   "id": "bc7a0339",
   "metadata": {},
   "source": [
    "# 가설검정 단계"
   ]
  },
  {
   "cell_type": "code",
   "execution_count": null,
   "id": "6d148f97",
   "metadata": {},
   "outputs": [],
   "source": [
    "대한민국 남성의 평균 몸무게는 70kg이다."
   ]
  },
  {
   "cell_type": "code",
   "execution_count": 31,
   "id": "d4d2ca3b",
   "metadata": {},
   "outputs": [],
   "source": [
    "import numpy as np\n",
    "import pandas as pd\n",
    "import matplotlib.pyplot as plt\n",
    "import scipy.stats as stats\n",
    "\n",
    "%matplotlib inline\n",
    "plt.rc('figure', figsize=(10, 6))\n",
    "from matplotlib import rcParams\n",
    "rcParams['font.family'] = 'New Gulim'\n",
    "rcParams['font.size'] = 10\n",
    "rcParams['axes.unicode_minus'] = False"
   ]
  },
  {
   "cell_type": "code",
   "execution_count": 32,
   "id": "c1289cbb",
   "metadata": {},
   "outputs": [
    {
     "name": "stdout",
     "output_type": "stream",
     "text": [
      "평균 : 70.08573280308887\n",
      " p-value : 0.953913826658112\n",
      "검정결과 : 귀무가설 채택\n",
      "대한민국 남성의 평균 몸무게는 70kg이다\n"
     ]
    }
   ],
   "source": [
    "# 1. 가설수립\n",
    "#H0 : 대한민국 남성의 평균 몸무게는 70kg이다(차이가 없다)\n",
    "#H1 : 대한민국 남성의 평균 몸무게는 70kg이 아니다\n",
    "\n",
    "# 2. 통계량 산출 - 데이터 수집\n",
    "np.random.seed(123)\n",
    "weight = np.random.uniform(40,100,100)\n",
    "# weight\n",
    "test_result = stats.ttest_1samp(weight, 70)\n",
    "print(f\"평균 : {np.mean(weight)}\")\n",
    "print(f' p-value : {test_result.pvalue}')\n",
    "\n",
    "# 3. 기각/채택 여부 판단\n",
    "print(f'검정결과 : {'귀무가설 기각' if test_result.pvalue<0.05 else '귀무가설 채택'}')\n",
    "\n",
    "# 4. 결정\n",
    "if test_result.pvalue < 0.05:\n",
    "    print('대한민국 남성의 평균 몸무게는 70kg아니다')\n",
    "else: \n",
    "    print('대한민국 남성의 평균 몸무게는 70kg이다')"
   ]
  },
  {
   "cell_type": "code",
   "execution_count": 33,
   "id": "2c1a16ff",
   "metadata": {},
   "outputs": [
    {
     "name": "stdout",
     "output_type": "stream",
     "text": [
      "t값 = 7.031, p값 = 0.000\n"
     ]
    }
   ],
   "source": [
    "# 표본 데이터 (30명)\n",
    "coffee_data = [2.9, 2.4, 2.7, 3.0, 2.6, 2.8, 2.9, 3.1, 2.7, 2.6,\n",
    "               2.8, 2.5, 3.2, 3.0, 2.4, 2.6, 2.7, 3.1, 2.8, 2.7,\n",
    "               2.5, 2.9, 2.6, 2.8, 2.9, 2.5, 2.7, 2.8, 3.0, 2.9]\n",
    "\n",
    "# 단일표본 t-검정\n",
    "t_stat, p_value = stats.ttest_1samp(coffee_data, popmean=2.5)\n",
    "\n",
    "print(f\"t값 = {t_stat:.3f}, p값 = {p_value:.3f}\")"
   ]
  },
  {
   "cell_type": "code",
   "execution_count": null,
   "id": "2cf66edf",
   "metadata": {},
   "outputs": [
    {
     "name": "stdout",
     "output_type": "stream",
     "text": [
      "t값 = 7.031, p값 = 0.000\n",
      "9.859678467617788e-08값이 0.05보다 작으므로 귀무가설 기각 통계적으로 유의하다\n"
     ]
    }
   ],
   "source": [
    "# 표본 데이터 (30명)\n",
    "coffee_data = [2.9, 2.4, 2.7, 3.0, 2.6, 2.8, 2.9, 3.1, 2.7, 2.6,\n",
    "               2.8, 2.5, 3.2, 3.0, 2.4, 2.6, 2.7, 3.1, 2.8, 2.7,\n",
    "               2.5, 2.9, 2.6, 2.8, 2.9, 2.5, 2.7, 2.8, 3.0, 2.9]\n",
    "\n",
    "# 단일표본 t-검정\n",
    "t_stat, p_value = stats.ttest_1samp(coffee_data, popmean=2.5)\n",
    "\n",
    "print(f\"t값 = {t_stat:.3f}, p값 = {p_value:.3f}\")\n",
    "print(f\"{p_value}값이 0.05보다 작으므로 귀무가설 기각 통계적으로 유의하다\")"
   ]
  },
  {
   "cell_type": "code",
   "execution_count": 36,
   "id": "6ad3996e",
   "metadata": {},
   "outputs": [
    {
     "name": "stdout",
     "output_type": "stream",
     "text": [
      "t값 = 5.331, p값 = 0.000\n",
      "0.000이 0.05보다 작으므로 귀무가설 기각 통계적으로 유의하다\n"
     ]
    }
   ],
   "source": [
    "# A와 B 수업의 시험 평균 점수가 차이가 있는가?\n",
    "group_A = [78, 85, 82, 88, 76, 81, 79, 84, 82, 80]\n",
    "group_B = [72, 75, 78, 74, 71, 77, 70, 76, 75, 73]\n",
    "\n",
    "t_stat, p_value = stats.ttest_ind(group_A, group_B, equal_var=False)\n",
    "print(f\"t값 = {t_stat:.3f}, p값 = {p_value:.3f}\")\n",
    "print(f\"{p_value:.3f}이 0.05보다 작으므로 귀무가설 기각 통계적으로 유의하다\")"
   ]
  },
  {
   "cell_type": "markdown",
   "id": "12b0c6c0",
   "metadata": {},
   "source": [
    "H0 : 두 그룹의 평균은 차이가 없다\n",
    "H1 : 두 그룹의 평균은 차이가 있다\n",
    "\n",
    "통계량 : 5.33 , 표준오차의 5배 정도 차이가 난다<br>\n",
    "유의확률 : 0.000 < 0.05\n",
    "\n",
    "귀무가설을 기각/채택 : 귀무가설을 기각한다\n",
    "결론 : 두 그룹의 평균은 유의무하게 차이가 있다 "
   ]
  },
  {
   "cell_type": "code",
   "execution_count": 37,
   "id": "67725199",
   "metadata": {},
   "outputs": [
    {
     "name": "stdout",
     "output_type": "stream",
     "text": [
      "t값 = 25.327, p값 = 0.000\n",
      "0.000값이 0.05보다 작으므로 통계적으로 유의하다\n"
     ]
    }
   ],
   "source": [
    "# 대응 표본 t-검정 예제: 약물 투여 전후 혈압 비교\n",
    "before = [120, 122, 143, 130, 135, 118, 127, 140, 132, 125]\n",
    "after = [115, 117, 138, 125, 129, 112, 120, 135, 126, 119]\n",
    "\n",
    "t_stat, p_value = stats.ttest_rel(before, after)\n",
    "print(f\"t값 = {t_stat:.3f}, p값 = {p_value:.3f}\")\n",
    "print(f\"{p_value:.3f}값이 0.05보다 작으므로 통계적으로 유의하다\")"
   ]
  },
  {
   "cell_type": "markdown",
   "id": "690f55f1",
   "metadata": {},
   "source": [
    "H0 : 약물 투여 전후 혈압이 차이가 없다<br>\n",
    "H1 : 약물 투여 전후 혈압이 차이가 있다\n",
    "\n",
    "통계량 : 25.327<br>\n",
    "유의확률 : 0.000<br>\n",
    "\n",
    "귀무가설을 기각/채택 : 귀무가설을 기각한다<br>\n",
    "결론 : 약물 투여 전후 혈압이 차이가 있다 "
   ]
  },
  {
   "cell_type": "code",
   "execution_count": 38,
   "id": "d7695d9f",
   "metadata": {},
   "outputs": [
    {
     "name": "stdout",
     "output_type": "stream",
     "text": [
      "chi2 = 3.857, p값 = 0.050\n",
      "0.050값이 0.05보다 작거나 같으므로 통계적으로 유의하다\n"
     ]
    }
   ],
   "source": [
    "# 성별에 따라 커피를 더 선호하는지? \n",
    "import numpy as np\n",
    "obs = np.array([[40, 10],  # 남자 (좋아함, 안좋아함) 교차표\n",
    "                [30, 20]]) # 여자\n",
    "\n",
    "chi2, p, dof, expected = stats.chi2_contingency(obs)\n",
    "print(f\"chi2 = {chi2:.3f}, p값 = {p:.3f}\")\n",
    "print(f\"{p:.3f}값이 0.05보다 작거나 같으므로 통계적으로 유의하다\")"
   ]
  },
  {
   "cell_type": "markdown",
   "id": "75693b83",
   "metadata": {},
   "source": [
    "H0 : 성별과 커피 선호가 독립적이다<br>\n",
    "H1 : 성별과 커피 선호가 독립적이지 않다\n",
    "\n",
    "chi2 : 3.857<br>\n",
    "p-value : 0.05\n",
    "\n",
    "귀무가설 : p-value 값이 유의수준 0.05와 같으므로 귀무가설 기각, 통계적으로 유의하다 \n",
    "결론 : 성별과 커피 선호가 독립적이지 않다."
   ]
  },
  {
   "cell_type": "code",
   "execution_count": 44,
   "id": "531c5c57",
   "metadata": {},
   "outputs": [
    {
     "name": "stdout",
     "output_type": "stream",
     "text": [
      "F값: 24.28, p값: 0.0013\n"
     ]
    }
   ],
   "source": [
    "from scipy.stats import f_oneway\n",
    "\n",
    "# 세 그룹의 점수\n",
    "group1 = [80, 85, 90]\n",
    "group2 = [70, 75, 78]\n",
    "group3 = [60, 65, 62]\n",
    "\n",
    "f_stat, p_value = f_oneway(group1, group2, group3)\n",
    "print(f\"F값: {f_stat:.2f}, p값: {p_value:.4f}\")"
   ]
  },
  {
   "cell_type": "markdown",
   "id": "a002ffa3",
   "metadata": {},
   "source": [
    "H0 : 세 개 그룹의 평균은 차이가 없다. 같다<br>\n",
    "H1 : 적어도 1개 그룹은 다르다\n",
    "\n",
    "결과 : f값 24 - 그룹 간 분산의 차이가 그룹내 분산보다 크다<br>\n",
    "p-value = 0.013 -> 유의수준보다 작다\n",
    "\n",
    "귀무가설을 기각하고, 그룹간 평균은 유의미한 차이가 있다."
   ]
  }
 ],
 "metadata": {
  "kernelspec": {
   "display_name": "hipython",
   "language": "python",
   "name": "python3"
  },
  "language_info": {
   "codemirror_mode": {
    "name": "ipython",
    "version": 3
   },
   "file_extension": ".py",
   "mimetype": "text/x-python",
   "name": "python",
   "nbconvert_exporter": "python",
   "pygments_lexer": "ipython3",
   "version": "3.12.9"
  }
 },
 "nbformat": 4,
 "nbformat_minor": 5
}
