{
 "cells": [
  {
   "cell_type": "code",
   "execution_count": 1,
   "id": "f4c11b47-bae5-45ac-a57f-4123f2962f3b",
   "metadata": {},
   "outputs": [
    {
     "name": "stdout",
     "output_type": "stream",
     "text": [
      "hello\n"
     ]
    }
   ],
   "source": [
    "print('hello')"
   ]
  },
  {
   "cell_type": "code",
   "execution_count": 24,
   "id": "ae984fb7-97e3-42ad-bf0d-7ddd5a7e6cbc",
   "metadata": {},
   "outputs": [
    {
     "name": "stdout",
     "output_type": "stream",
     "text": [
      "이름 : snagjun, 나이:25\n"
     ]
    }
   ],
   "source": [
    "#이름과 나이를 프린트 하는 코드입니다\n",
    "print(f\"이름 : {name}, 나이:{age}\")"
   ]
  },
  {
   "cell_type": "code",
   "execution_count": 55,
   "id": "7a97f0ff-d3df-4877-a0e9-734e5cda1aa6",
   "metadata": {},
   "outputs": [
    {
     "name": "stdout",
     "output_type": "stream",
     "text": [
      "7은 양수입니다.\n"
     ]
    }
   ],
   "source": [
    "def calculate_sum(a, b):\n",
    "    sum_result = a+b\n",
    "    return sum_result\n",
    "final_result = calculate_sum(3, 4)\n",
    "if final_result > 0:\n",
    "    print(f'{final_result}은 양수입니다.')\n",
    "else:\n",
    "    print(f'{final_result}은 양수가 아닙니다.')\n"
   ]
  },
  {
   "cell_type": "code",
   "execution_count": 56,
   "id": "740b8571-7735-4548-999a-cb1d21627b9c",
   "metadata": {},
   "outputs": [
    {
     "name": "stdout",
     "output_type": "stream",
     "text": [
      "Hello, World!\n",
      "42\n",
      "숫자는: 42\n"
     ]
    }
   ],
   "source": [
    "print(\"Hello, World!\") #문자열 출력\n",
    "number = 42\n",
    "print(number)\n",
    "print('숫자는:', number)"
   ]
  }
 ],
 "metadata": {
  "kernelspec": {
   "display_name": "Python 3 (ipykernel)",
   "language": "python",
   "name": "python3"
  },
  "language_info": {
   "codemirror_mode": {
    "name": "ipython",
    "version": 3
   },
   "file_extension": ".py",
   "mimetype": "text/x-python",
   "name": "python",
   "nbconvert_exporter": "python",
   "pygments_lexer": "ipython3",
   "version": "3.12.9"
  }
 },
 "nbformat": 4,
 "nbformat_minor": 5
}
