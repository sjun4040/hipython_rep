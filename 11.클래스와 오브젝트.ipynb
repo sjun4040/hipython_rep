{
 "cells": [
  {
   "cell_type": "markdown",
   "id": "c1059941-4db8-4c6b-bcb8-6f1a04dd74c4",
   "metadata": {},
   "source": [
    "# 파이썬으로 객체지향 프로그래밍 OOP\n",
    "\n",
    "Object Oriented Programming\n",
    "\n",
    "파이썬으로 만드는 응용프로그램\n",
    "- 변수 : 전역, 지역\n",
    "- 함수 : 기능을 구현하는 도구\n",
    "- 모듈 : 함수의 모듬, 변수의 모음 -> .py\n",
    "- CRUD 의 구현 : Create, Read, Update, Delete\n",
    "\n",
    "클래스 : 변수 + 함수를 하나로 묶어 주는 구조 개념 <br>\n",
    "객체 : 클래스를 이용해서 다수의 객체를 생성<br>\n",
    "객체지향 프로그램 : 객체를 이용하는 프로그램<br>"
   ]
  },
  {
   "cell_type": "markdown",
   "id": "4e49185d-8d34-4c85-8734-4c38f7d83d46",
   "metadata": {},
   "source": [
    "## 객체지향 프로그램을 만드는 법\n",
    "1. 클래스를 만들기\n",
    "2. 클래스를 이용해 객체를 생성\n",
    "3. 객체의 함수 : 메소드를 호출"
   ]
  },
  {
   "cell_type": "code",
   "execution_count": 20,
   "id": "f6830b54-ca48-4a2a-8622-f6c906514530",
   "metadata": {},
   "outputs": [],
   "source": [
    "class Bicycle():\n",
    "    #속성추가 : 생성자\n",
    "    def __init__(self,color,wheelsize):\n",
    "        self.color = color\n",
    "        self.wheelsize = wheelsize\n",
    "        \n",
    "   # def __init__(self,color):\n",
    "     #   self.color = color\n",
    "        \n",
    "    def move(self):\n",
    "        print(f'{self.color}{self.wheelsize}자전거가 움직입니다.')\n"
   ]
  },
  {
   "cell_type": "code",
   "execution_count": 21,
   "id": "2633bb92-25df-40ac-a2cd-99d095d77d97",
   "metadata": {},
   "outputs": [
    {
     "name": "stdout",
     "output_type": "stream",
     "text": [
      "white20자전거가 움직입니다.\n",
      "red10자전거가 움직입니다.\n",
      "blue30자전거가 움직입니다.\n"
     ]
    }
   ],
   "source": [
    "bi = Bicycle('white',20)\n",
    "bi1 = Bicycle('red',10)\n",
    "bi2 = Bicycle('blue',30)\n",
    "bi.move() #객체 메소드를 호출\n",
    "bi1.move()\n",
    "bi2.move()"
   ]
  },
  {
   "cell_type": "code",
   "execution_count": 22,
   "id": "0f26f379-f9c6-4f4e-9262-79968719cb49",
   "metadata": {},
   "outputs": [
    {
     "data": {
      "text/plain": [
       "(__main__.Bicycle, __main__.Bicycle, __main__.Bicycle)"
      ]
     },
     "execution_count": 22,
     "metadata": {},
     "output_type": "execute_result"
    }
   ],
   "source": [
    "type(bi), type(bi1), type(bi2)"
   ]
  },
  {
   "cell_type": "code",
   "execution_count": 24,
   "id": "791782db-2d8a-49fb-b0e5-0b873111bd99",
   "metadata": {},
   "outputs": [
    {
     "data": {
      "text/plain": [
       "['__class__',\n",
       " '__delattr__',\n",
       " '__dict__',\n",
       " '__dir__',\n",
       " '__doc__',\n",
       " '__eq__',\n",
       " '__format__',\n",
       " '__ge__',\n",
       " '__getattribute__',\n",
       " '__getstate__',\n",
       " '__gt__',\n",
       " '__hash__',\n",
       " '__init__',\n",
       " '__init_subclass__',\n",
       " '__le__',\n",
       " '__lt__',\n",
       " '__module__',\n",
       " '__ne__',\n",
       " '__new__',\n",
       " '__reduce__',\n",
       " '__reduce_ex__',\n",
       " '__repr__',\n",
       " '__setattr__',\n",
       " '__sizeof__',\n",
       " '__str__',\n",
       " '__subclasshook__',\n",
       " '__weakref__',\n",
       " 'move']"
      ]
     },
     "execution_count": 24,
     "metadata": {},
     "output_type": "execute_result"
    }
   ],
   "source": [
    "dir(Bicycle)"
   ]
  },
  {
   "cell_type": "code",
   "execution_count": 25,
   "id": "e6c6f4cd-e13d-48a5-b62c-e079b6ad8cb2",
   "metadata": {},
   "outputs": [],
   "source": [
    "class studens:\n",
    "    def __init__(self, name, age):\n",
    "        self.name = name\n",
    "        self.age = age\n",
    "\n",
    "    def introduce(self):\n",
    "        print(f\"안녕하세요. 제 이름은 {self.name}이고, 나이는 {self.age}살입니다.\")"
   ]
  },
  {
   "cell_type": "code",
   "execution_count": 26,
   "id": "553898d6-5059-41cc-acc5-5341806ceb3b",
   "metadata": {},
   "outputs": [
    {
     "name": "stdout",
     "output_type": "stream",
     "text": [
      "안녕하세요. 제 이름은 지민이고, 나이는 20살입니다.\n",
      "안녕하세요. 제 이름은 유진이고, 나이는 22살입니다.\n"
     ]
    }
   ],
   "source": [
    "s1 = studens(\"지민\",20)\n",
    "s2 = studens(\"유진\",22)\n",
    "\n",
    "s1.introduce()\n",
    "s2.introduce()"
   ]
  },
  {
   "cell_type": "code",
   "execution_count": 27,
   "id": "028bf092-8c20-4576-8acc-d51e60c9efc1",
   "metadata": {},
   "outputs": [
    {
     "name": "stdout",
     "output_type": "stream",
     "text": [
      "영희\n",
      "철수\n",
      "파이썬 스쿨\n"
     ]
    }
   ],
   "source": [
    "class Student:\n",
    "    school = \"파이썬 스쿨\"  # 클래스 변수\n",
    "    \n",
    "    def __init__(self, name):\n",
    "        self.name = name  # 인스턴스 변수\n",
    "\n",
    "s1 = Student(\"영희\")\n",
    "s2 = Student(\"철수\")\n",
    "\n",
    "print(s1.name)  # 영희 (인스턴스 변수)\n",
    "print(s2.name)  # 철수 (인스턴스 변수)\n",
    "print(Student.school)  # 파이썬 고등학교 (클래스 변수)"
   ]
  },
  {
   "cell_type": "markdown",
   "id": "f9301b11-94ae-49e0-b077-5889096f9139",
   "metadata": {},
   "source": [
    "# 클래스의 속성 - 변수 \n",
    "1. 인스턴스 변수\n",
    "2. 클래스 변수"
   ]
  },
  {
   "cell_type": "code",
   "execution_count": 35,
   "id": "ae7da821-b709-42e6-8544-d531452ce307",
   "metadata": {},
   "outputs": [],
   "source": [
    "class Car():\n",
    "    #클래스 변수 \n",
    "    instance_cnt = 0\n",
    "\n",
    "    def __init__(self, size):\n",
    "        self.size = size\n",
    "        Car.instance_cnt +=1\n",
    "        print(f'자동차가 {Car.instance_cnt}대 생성되었습니다.')\n",
    "\n",
    "    def move(self):\n",
    "        print(f'{self.size}의 자옫차가 움직입니다.')"
   ]
  },
  {
   "cell_type": "code",
   "execution_count": 36,
   "id": "8be67b68-62d7-480f-80af-865e9c32bc36",
   "metadata": {},
   "outputs": [
    {
     "name": "stdout",
     "output_type": "stream",
     "text": [
      "자동차가 1대 생성되었습니다.\n",
      "자동차가 2대 생성되었습니다.\n",
      "자동차가 3대 생성되었습니다.\n"
     ]
    }
   ],
   "source": [
    "c1= Car(2000)\n",
    "c2= Car(1500)\n",
    "c3= Car(3000)"
   ]
  },
  {
   "cell_type": "code",
   "execution_count": 37,
   "id": "79bbe119-8cd5-4375-b874-cd9cab0bb5d9",
   "metadata": {},
   "outputs": [
    {
     "name": "stdout",
     "output_type": "stream",
     "text": [
      "2000의 자옫차가 움직입니다.\n",
      "1500의 자옫차가 움직입니다.\n",
      "3000의 자옫차가 움직입니다.\n"
     ]
    }
   ],
   "source": [
    "c1.move()\n",
    "c2.move()\n",
    "c3.move()"
   ]
  },
  {
   "cell_type": "markdown",
   "id": "cc140073-de02-4a92-8975-882c8e14f80a",
   "metadata": {},
   "source": [
    "# method\n",
    "1. 인스턴스 메소드 : self\n",
    "2. 정적(스태틱) 메소드 : @staticmethod\n",
    "3. 클래스 메소드 : @classmethod"
   ]
  },
  {
   "cell_type": "code",
   "execution_count": 39,
   "id": "2ce31e1c-b7c4-4855-b46d-607cfdf87193",
   "metadata": {},
   "outputs": [],
   "source": [
    "class Calculator:\n",
    "    def __init__(self, x, y):   #instance method\n",
    "        self.x = x\n",
    "        self.y = y\n",
    "\n",
    "    def add(self):   #instance method\n",
    "        return self.x + self.y\n",
    "\n",
    "    def multiply(self):   #instance method\n",
    "        return self.x * self.y\n"
   ]
  },
  {
   "cell_type": "code",
   "execution_count": 43,
   "id": "6039b1e1-00e8-42fb-a807-59617eef880e",
   "metadata": {},
   "outputs": [
    {
     "data": {
      "text/plain": [
       "12"
      ]
     },
     "execution_count": 43,
     "metadata": {},
     "output_type": "execute_result"
    }
   ],
   "source": [
    "calc = Calculator(3,4)   #__init__() 생성자 함수를 자동으로 호출\n",
    "calc.add()  #instance method의 호출 > 객체의 참조.메소드()\n",
    "calc.multiply()  "
   ]
  },
  {
   "cell_type": "code",
   "execution_count": 56,
   "id": "3e4d479e-ef48-4b35-8023-e401ef217eae",
   "metadata": {},
   "outputs": [],
   "source": [
    "class Car():\n",
    "    instance_cnt = 0 #클래스 속성\n",
    "    \n",
    "    def __init__(self, size):\n",
    "        self.size = size\n",
    "        Car.instance_cnt +=1\n",
    "        print(f'자동차가 {Car.instance_cnt}대 생성되었습니다.')\n",
    "\n",
    "    def auto_cruise(self): #instance\n",
    "        print('자율주행중')\n",
    "\n",
    "    @staticmethod\n",
    "    def check_type(code):  #static method\n",
    "        if code > 20 :\n",
    "            print('전기자동차')\n",
    "        elif 10 < code < 20 :\n",
    "            print('가솔린자동차')\n",
    "        else:\n",
    "            print('디젤차')\n",
    "            \n",
    "    @classmethod\n",
    "    def count_instance():       #class method\n",
    "        print(f'자동차 대수 : {Car.instance_cnt}')"
   ]
  },
  {
   "cell_type": "code",
   "execution_count": 57,
   "id": "1b02f7e5-a0fd-4061-9b85-2e6d35175098",
   "metadata": {},
   "outputs": [
    {
     "name": "stdout",
     "output_type": "stream",
     "text": [
      "자동차가 1대 생성되었습니다.\n",
      "전기자동차\n"
     ]
    }
   ],
   "source": [
    "c1 = Car(20)\n",
    "Car.check_type(25)"
   ]
  },
  {
   "cell_type": "code",
   "execution_count": 58,
   "id": "31c44f4a-e65f-463b-a908-b8a3c52c8a1c",
   "metadata": {},
   "outputs": [
    {
     "name": "stdout",
     "output_type": "stream",
     "text": [
      "자동차 대수 : 1\n"
     ]
    }
   ],
   "source": [
    "Car.count_instance()"
   ]
  },
  {
   "cell_type": "code",
   "execution_count": 59,
   "id": "60a3462c-3990-4dfa-9325-beee9712770b",
   "metadata": {},
   "outputs": [],
   "source": [
    "students = [\n",
    "               {'num':'1','name':'김철수','kor':90,'eng':80,'math':85,'total':0,'avg':0.0,'order':0 },\n",
    "               {'num':'2','name':'박제동','kor':90,'eng':85,'math':90,'total':0,'avg':0.0,'order':0 },\n",
    "               {'num':'3','name':'홍길동','kor':80,'eng':80,'math':80,'total':0,'avg':0.0,'order':0 }\n",
    "           ]"
   ]
  },
  {
   "cell_type": "code",
   "execution_count": 113,
   "id": "673c4e30-1302-44ae-a4f8-676714a0847e",
   "metadata": {},
   "outputs": [],
   "source": [
    "class Student():\n",
    "    def __init__(self, num, name, kor, eng, math):\n",
    "        self.num = num\n",
    "        self.name = name\n",
    "        self.kor = kor\n",
    "        self.eng = eng\n",
    "        self.math = math\n",
    "        self.total = 0\n",
    "        self.avg = 0\n",
    "        self.order = 0\n",
    "\n",
    "    #학생 객체의 총점\n",
    "    def calc_total(self):\n",
    "        self.total = self.kor + self.eng + self.math\n",
    "    \n",
    "    #학생 객체의 정보 출력, instance method\n",
    "    def s_info(self):\n",
    "        print(f'{self.num},{self.name},{self.kor},{self.eng},{self.math},{self.total}')\n",
    "\n",
    "    #학생 객체의 순위\n",
    "    def set_order(self):\n",
    "        self.order = order"
   ]
  },
  {
   "cell_type": "code",
   "execution_count": 122,
   "id": "2fc97cf9-1165-45b8-982f-a87eb244f4c5",
   "metadata": {},
   "outputs": [],
   "source": [
    "import random\n",
    "class Classroom():\n",
    "    def __init__(self, student_list):\n",
    "        self.students = self.gen_student_data(student_list)\n",
    "\n",
    "    #클래스의 학생 목록의 생성하는 인스턴스 메소드\n",
    "    def gen_student_data(self, stu_list):\n",
    "        students =[]\n",
    "        for i, s_name in enumerate(stu_list,start=1):\n",
    "            #print(i, s_name)\n",
    "            s = Student(i, s_name,\n",
    "                        random.randint(50,100),\n",
    "                        random.randint(50,100),\n",
    "                        random.randint(50,100)\n",
    "                       )\n",
    "            \n",
    "            s.calc_total()\n",
    "            s.s_info()\n",
    "            students.append(s)\n",
    "\n",
    "        return students\n",
    "\n",
    "    def calc_order(self):\n",
    "        score =1 \n",
    "        for s in self:\n",
    "            for s in self :  #students[0] 자료를 꺼낸 것이 student\n",
    "                rank = 1\n",
    "                for other in self :\n",
    "                    if other['total'] > s['total'] :\n",
    "                        rank += 1\n",
    "                        s['order'] = rank\n",
    "                    print(s['name'], s['order'])\n",
    "            \n",
    "        "
   ]
  },
  {
   "cell_type": "code",
   "execution_count": 123,
   "id": "b24e1251-9b06-4398-8176-8f30983a4642",
   "metadata": {},
   "outputs": [
    {
     "name": "stdout",
     "output_type": "stream",
     "text": [
      "1,홍길동,79,53,80,212\n",
      "2,박제동,86,66,100,252\n",
      "3,김영희,94,94,83,271\n",
      "4,한사랑,61,59,77,197\n",
      "1,김철수,56,58,77,191\n",
      "2,박길동,60,60,61,181\n",
      "3,이영희,53,80,70,203\n",
      "4,최사랑,60,69,74,203\n"
     ]
    },
    {
     "ename": "TypeError",
     "evalue": "'Classroom' object is not iterable",
     "output_type": "error",
     "traceback": [
      "\u001b[31m---------------------------------------------------------------------------\u001b[39m",
      "\u001b[31mTypeError\u001b[39m                                 Traceback (most recent call last)",
      "\u001b[36mCell\u001b[39m\u001b[36m \u001b[39m\u001b[32mIn[123]\u001b[39m\u001b[32m, line 8\u001b[39m\n\u001b[32m      5\u001b[39m a_class = Classroom(a_class_stu)\n\u001b[32m      6\u001b[39m b_class = Classroom(b_class_stu)\n\u001b[32m----> \u001b[39m\u001b[32m8\u001b[39m a_class.calc_order()\n",
      "\u001b[36mCell\u001b[39m\u001b[36m \u001b[39m\u001b[32mIn[122]\u001b[39m\u001b[32m, line 25\u001b[39m, in \u001b[36mClassroom.calc_order\u001b[39m\u001b[34m(self)\u001b[39m\n\u001b[32m     23\u001b[39m \u001b[38;5;28;01mdef\u001b[39;00m\u001b[38;5;250m \u001b[39m\u001b[34mcalc_order\u001b[39m(\u001b[38;5;28mself\u001b[39m):\n\u001b[32m     24\u001b[39m     score =\u001b[32m1\u001b[39m \n\u001b[32m---> \u001b[39m\u001b[32m25\u001b[39m     \u001b[38;5;28;01mfor\u001b[39;00m s \u001b[38;5;129;01min\u001b[39;00m \u001b[38;5;28mself\u001b[39m:\n\u001b[32m     26\u001b[39m         \u001b[38;5;28;01mfor\u001b[39;00m s \u001b[38;5;129;01min\u001b[39;00m \u001b[38;5;28mself\u001b[39m :  \u001b[38;5;66;03m#students[0] 자료를 꺼낸 것이 student\u001b[39;00m\n\u001b[32m     27\u001b[39m             rank = \u001b[32m1\u001b[39m\n",
      "\u001b[31mTypeError\u001b[39m: 'Classroom' object is not iterable"
     ]
    }
   ],
   "source": [
    "#main process\n",
    "a_class_stu = ['홍길동', '박제동', '김영희', '한사랑']\n",
    "b_class_stu = ['김철수', '박길동', '이영희', '최사랑']\n",
    "\n",
    "a_class = Classroom(a_class_stu)\n",
    "b_class = Classroom(b_class_stu)\n",
    "\n",
    "a_class.calc_order()"
   ]
  },
  {
   "cell_type": "code",
   "execution_count": null,
   "id": "76c98c3f-e673-4e6b-a850-c97500ada55a",
   "metadata": {},
   "outputs": [],
   "source": []
  }
 ],
 "metadata": {
  "kernelspec": {
   "display_name": "Python 3 (ipykernel)",
   "language": "python",
   "name": "python3"
  },
  "language_info": {
   "codemirror_mode": {
    "name": "ipython",
    "version": 3
   },
   "file_extension": ".py",
   "mimetype": "text/x-python",
   "name": "python",
   "nbconvert_exporter": "python",
   "pygments_lexer": "ipython3",
   "version": "3.12.9"
  }
 },
 "nbformat": 4,
 "nbformat_minor": 5
}
