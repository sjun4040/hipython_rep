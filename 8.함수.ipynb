{
 "cells": [
  {
   "cell_type": "markdown",
   "id": "decf5cb3-e9da-497d-9649-be127fb90e79",
   "metadata": {},
   "source": [
    "# 함수 \n",
    "- 인자 = 매개변수, 입력, 피라미터\n",
    "- 반환값 = 리턴값, 결과값\n",
    "- 함수이름\n",
    "\n",
    "- 함수 정의 > 호출"
   ]
  },
  {
   "cell_type": "code",
   "execution_count": 4,
   "id": "7a736706-0e34-48c0-8e63-70cc4245aa15",
   "metadata": {},
   "outputs": [],
   "source": [
    "#define\n",
    "def my_func():\n",
    "    print('my first function')\n",
    "    print('hello')\n",
    "    print('good job')"
   ]
  },
  {
   "cell_type": "code",
   "execution_count": 5,
   "id": "66f32350-d37f-4a75-bf8b-ee0d8136c719",
   "metadata": {},
   "outputs": [
    {
     "name": "stdout",
     "output_type": "stream",
     "text": [
      "my first function\n",
      "hello\n",
      "good job\n"
     ]
    }
   ],
   "source": [
    "#call\n",
    "my_func()"
   ]
  },
  {
   "cell_type": "code",
   "execution_count": 6,
   "id": "2dcf2e92-db96-4eab-b4da-7b03cbcdda41",
   "metadata": {},
   "outputs": [
    {
     "data": {
      "text/plain": [
       "function"
      ]
     },
     "execution_count": 6,
     "metadata": {},
     "output_type": "execute_result"
    }
   ],
   "source": [
    "type(my_func)"
   ]
  },
  {
   "cell_type": "code",
   "execution_count": 9,
   "id": "2dbcc555-d86e-45ed-bddd-e43b80b19fcc",
   "metadata": {},
   "outputs": [
    {
     "name": "stdout",
     "output_type": "stream",
     "text": [
      "my first function\n",
      "hello\n",
      "good job\n"
     ]
    }
   ],
   "source": [
    "my_func_var = my_func()"
   ]
  },
  {
   "cell_type": "code",
   "execution_count": 15,
   "id": "8b082dcb-485d-4c43-953f-cc8be33b890d",
   "metadata": {},
   "outputs": [],
   "source": [
    "# 리턴이 있는 경우\n",
    "def my_func1():\n",
    "    print('my first function')\n",
    "    print('hello')\n",
    "    print('good job')\n",
    "    return 'hello'"
   ]
  },
  {
   "cell_type": "code",
   "execution_count": 14,
   "id": "4a889a7e-b37f-4712-91c3-9cb1c5bb8f3a",
   "metadata": {},
   "outputs": [
    {
     "name": "stdout",
     "output_type": "stream",
     "text": [
      "my first function\n",
      "hello\n",
      "good job\n"
     ]
    },
    {
     "data": {
      "text/plain": [
       "'hello'"
      ]
     },
     "execution_count": 14,
     "metadata": {},
     "output_type": "execute_result"
    }
   ],
   "source": [
    "my_func1()"
   ]
  },
  {
   "cell_type": "code",
   "execution_count": 16,
   "id": "3f81d42b-3d8f-4f55-8bad-647eb5816e51",
   "metadata": {},
   "outputs": [
    {
     "name": "stdout",
     "output_type": "stream",
     "text": [
      "my first function\n",
      "hello\n",
      "good job\n"
     ]
    }
   ],
   "source": [
    "my_func_var2 = my_func1()"
   ]
  },
  {
   "cell_type": "code",
   "execution_count": 17,
   "id": "3e4900c6-ce48-4689-b3f7-d3e23056625e",
   "metadata": {},
   "outputs": [
    {
     "data": {
      "text/plain": [
       "'hello'"
      ]
     },
     "execution_count": 17,
     "metadata": {},
     "output_type": "execute_result"
    }
   ],
   "source": [
    "my_func_var2"
   ]
  },
  {
   "cell_type": "markdown",
   "id": "d1451e1b-0927-405d-903f-7006653290eb",
   "metadata": {},
   "source": [
    "# 입력값이 있는 함수"
   ]
  },
  {
   "cell_type": "code",
   "execution_count": 19,
   "id": "80928c29-a3ae-4d90-9bb5-12f651697a80",
   "metadata": {},
   "outputs": [],
   "source": [
    "def my_calc(x):\n",
    "    print(f'{x}를 계산합니다.')"
   ]
  },
  {
   "cell_type": "code",
   "execution_count": 20,
   "id": "3093a375-7fba-4d7a-b98a-acb6a07c5b39",
   "metadata": {},
   "outputs": [
    {
     "name": "stdout",
     "output_type": "stream",
     "text": [
      "10를 계산합니다.\n"
     ]
    }
   ],
   "source": [
    "my_calc(10)"
   ]
  },
  {
   "cell_type": "code",
   "execution_count": 24,
   "id": "683c0fd1-39d0-453b-b333-223d170e4dc8",
   "metadata": {},
   "outputs": [],
   "source": [
    "def my_calc1(x):\n",
    "    print(f'{x}를 계산합니다.')\n",
    "    z = x*20\n",
    "    return z"
   ]
  },
  {
   "cell_type": "code",
   "execution_count": 23,
   "id": "d4d0fb8c-5c01-4e6e-aa02-7a5d7448aa2a",
   "metadata": {},
   "outputs": [
    {
     "name": "stdout",
     "output_type": "stream",
     "text": [
      "20를 계산합니다.\n",
      "400\n"
     ]
    }
   ],
   "source": [
    "result = my_calc1(20)\n",
    "print(result)"
   ]
  },
  {
   "cell_type": "code",
   "execution_count": 25,
   "id": "385eac55-9bc2-4aca-a064-f37a8ecaca35",
   "metadata": {},
   "outputs": [],
   "source": [
    "def my_calc2(x,y):\n",
    "    print(f'{x}와 {y}를 계산합니다.')\n",
    "    add_result = x+y\n",
    "    mul_result = x*y\n",
    "    return add_result, mul_result\n"
   ]
  },
  {
   "cell_type": "code",
   "execution_count": 26,
   "id": "885769e5-f9eb-45fc-b52d-d1d5ab617595",
   "metadata": {},
   "outputs": [
    {
     "name": "stdout",
     "output_type": "stream",
     "text": [
      "10와 20를 계산합니다.\n"
     ]
    },
    {
     "data": {
      "text/plain": [
       "(30, 200)"
      ]
     },
     "execution_count": 26,
     "metadata": {},
     "output_type": "execute_result"
    }
   ],
   "source": [
    "my_calc2(10,20)"
   ]
  },
  {
   "cell_type": "code",
   "execution_count": 33,
   "id": "33dcf67e-32c2-44a4-8960-c53e7602b05a",
   "metadata": {},
   "outputs": [],
   "source": [
    "#func_result = my_calc2(10,20)\n",
    "#func_result[0] = 100"
   ]
  },
  {
   "cell_type": "code",
   "execution_count": 31,
   "id": "c0394338-e8b8-4d9e-abeb-8b11d22e2037",
   "metadata": {},
   "outputs": [
    {
     "name": "stdout",
     "output_type": "stream",
     "text": [
      "10와 20를 계산합니다.\n"
     ]
    },
    {
     "data": {
      "text/plain": [
       "30"
      ]
     },
     "execution_count": 31,
     "metadata": {},
     "output_type": "execute_result"
    }
   ],
   "source": [
    "func_result1, f2 = my_calc2(10,20) #unpacking\n",
    "func_result1"
   ]
  },
  {
   "cell_type": "code",
   "execution_count": 30,
   "id": "5b483629-550a-4803-ad11-6a2e79f728bb",
   "metadata": {},
   "outputs": [
    {
     "data": {
      "text/plain": [
       "200"
      ]
     },
     "execution_count": 30,
     "metadata": {},
     "output_type": "execute_result"
    }
   ],
   "source": [
    "f2"
   ]
  },
  {
   "cell_type": "markdown",
   "id": "bf362acc-68f9-481a-9ad3-011681ed1684",
   "metadata": {},
   "source": [
    "## 입력값의 타입: 수치형 vs. (리스트) 객체형\n",
    "\n",
    "- 수치형 : 값에 의한 전달 call by value\n",
    "- 객체형 : 값(참조)의 전달 call by reference"
   ]
  },
  {
   "cell_type": "code",
   "execution_count": 34,
   "id": "689a3435-f264-4b55-aa6e-2bc48b877cc8",
   "metadata": {},
   "outputs": [],
   "source": [
    "#리스트 매개변수의 실행\n",
    "def my_calc3(a, lst1):\n",
    "    a += 1\n",
    "    lst1.append(a)\n",
    "    return a"
   ]
  },
  {
   "cell_type": "code",
   "execution_count": 36,
   "id": "86233198-ae7b-4166-ae84-3736cc586d9d",
   "metadata": {},
   "outputs": [
    {
     "name": "stdout",
     "output_type": "stream",
     "text": [
      "before : 10, [1, 2, '12']\n",
      "after : 10, [1, 2, '12', 11]\n"
     ]
    }
   ],
   "source": [
    "num =10 \n",
    "lst_num = [1,2,'12']\n",
    "\n",
    "print(f'before : {num}, {lst_num}')\n",
    "my_calc3(num,lst_num )\n",
    "print(f'after : {num}, {lst_num}')"
   ]
  },
  {
   "cell_type": "code",
   "execution_count": 38,
   "id": "f372044f-8bfb-4dac-aa0a-1c6720490774",
   "metadata": {},
   "outputs": [
    {
     "data": {
      "text/plain": [
       "11"
      ]
     },
     "execution_count": 38,
     "metadata": {},
     "output_type": "execute_result"
    }
   ],
   "source": [
    "my_calc3(num,lst_num )"
   ]
  },
  {
   "cell_type": "markdown",
   "id": "1aec1ee5-031e-45a7-b9ab-bcfc40240e9b",
   "metadata": {},
   "source": [
    "키워드 매개 변수 : 함수의 매개변수 목록은 변수명이 매개변수 명이다..\n",
    "매개변수명을 이용한 호출은 매개변수의 순서와 무관하다."
   ]
  },
  {
   "cell_type": "code",
   "execution_count": 41,
   "id": "3ad8c110-b229-4ea2-afca-1569cf4378d5",
   "metadata": {},
   "outputs": [
    {
     "data": {
      "text/plain": [
       "11"
      ]
     },
     "execution_count": 41,
     "metadata": {},
     "output_type": "execute_result"
    }
   ],
   "source": [
    "my_calc3(lst1=lst_num, a=num, )"
   ]
  },
  {
   "cell_type": "code",
   "execution_count": 43,
   "id": "6cc91f4e-fd84-4fce-bbdf-727ea6e96774",
   "metadata": {},
   "outputs": [
    {
     "name": "stdout",
     "output_type": "stream",
     "text": [
      "hello, minsu님!\n"
     ]
    }
   ],
   "source": [
    "def greeting(name, greeting='hello'):\n",
    "    print(f'{greeting}, {name}님!')\n",
    "\n",
    "greeting('minsu', 'hello')"
   ]
  },
  {
   "cell_type": "code",
   "execution_count": 45,
   "id": "3519bd20-5382-48ef-8e4e-b6d6d9f7cda6",
   "metadata": {},
   "outputs": [
    {
     "name": "stdout",
     "output_type": "stream",
     "text": [
      "hi, alice님!\n"
     ]
    }
   ],
   "source": [
    "greeting('alice', 'hi')"
   ]
  },
  {
   "cell_type": "code",
   "execution_count": 46,
   "id": "9efd22ce-75d4-44ea-9926-37f85156a881",
   "metadata": {},
   "outputs": [
    {
     "name": "stdout",
     "output_type": "stream",
     "text": [
      "hello, bob님!\n"
     ]
    }
   ],
   "source": [
    "greeting('bob')"
   ]
  },
  {
   "cell_type": "code",
   "execution_count": 49,
   "id": "f143e06b-1264-4630-b185-9b1a70a1b248",
   "metadata": {},
   "outputs": [],
   "source": [
    "#가변인자\n",
    "def sum_all( *args ):\n",
    "    return sum(args)"
   ]
  },
  {
   "cell_type": "code",
   "execution_count": 48,
   "id": "5a2be8e9-e197-4e5b-b660-e30a51b3666f",
   "metadata": {},
   "outputs": [
    {
     "data": {
      "text/plain": [
       "15"
      ]
     },
     "execution_count": 48,
     "metadata": {},
     "output_type": "execute_result"
    }
   ],
   "source": [
    "sum_all(1,2,3,4,5)"
   ]
  },
  {
   "cell_type": "code",
   "execution_count": 58,
   "id": "4fe29404-68a1-45ec-bc1c-f8cb3e941520",
   "metadata": {},
   "outputs": [],
   "source": [
    "def sum_all( arg1, arg2, *args ):\n",
    "    print(args)\n",
    "    result = arg1+ arg2 +sum(args)\n",
    "    return result"
   ]
  },
  {
   "cell_type": "code",
   "execution_count": 59,
   "id": "0da3efa0-e076-47af-bfac-28e24e13b9d5",
   "metadata": {},
   "outputs": [
    {
     "name": "stdout",
     "output_type": "stream",
     "text": [
      "(3, 4, 5)\n"
     ]
    },
    {
     "data": {
      "text/plain": [
       "15"
      ]
     },
     "execution_count": 59,
     "metadata": {},
     "output_type": "execute_result"
    }
   ],
   "source": [
    "sum_all(1,2,3,4,5)"
   ]
  },
  {
   "cell_type": "code",
   "execution_count": null,
   "id": "2f4b0af3-2f36-4387-b79a-f064913a17e6",
   "metadata": {},
   "outputs": [],
   "source": [
    "#매개변수의 순서가 중요"
   ]
  },
  {
   "cell_type": "code",
   "execution_count": 63,
   "id": "beb264bc-7bd9-4eb9-a094-51bc9de36336",
   "metadata": {},
   "outputs": [],
   "source": [
    "## **kargs\n",
    "def print_info(**kwargs):\n",
    "    for k,v in kwargs.items():\n",
    "        print(f'{k},{v}')"
   ]
  },
  {
   "cell_type": "code",
   "execution_count": 62,
   "id": "9535b437-2e97-4869-9882-2fdde3c8ae27",
   "metadata": {},
   "outputs": [
    {
     "name": "stdout",
     "output_type": "stream",
     "text": [
      "name,hong\n",
      "age,20\n",
      "city,seoul\n",
      "nick_name,bob\n"
     ]
    }
   ],
   "source": [
    "print_info( name='hong', age=20, city = 'seoul', nick_name='bob')"
   ]
  },
  {
   "cell_type": "markdown",
   "id": "c9e727a2-6cba-4753-ad4e-c82fed505a54",
   "metadata": {},
   "source": [
    "# 요일 구하는 함수\n",
    "- 입력 :year, month, day\n",
    "- 출력 : '월요일'\n",
    "- 함수명 : 요일찾기()"
   ]
  },
  {
   "cell_type": "code",
   "execution_count": 82,
   "id": "0deb02c8-42cb-4e95-bde7-cd05d987e27c",
   "metadata": {},
   "outputs": [
    {
     "name": "stdin",
     "output_type": "stream",
     "text": [
      "연도를 입력해주세요 2004\n",
      "월을 입력해주세요(1~12) 06\n",
      "일을 입력해주세요(1~31) 01\n"
     ]
    },
    {
     "name": "stdout",
     "output_type": "stream",
     "text": [
      "731580\n",
      "731732\n",
      "731733\n",
      "화요일\n"
     ]
    }
   ],
   "source": [
    "#날짜 - 연,월,일 year = 2025, month = 06, day =05\n",
    "year=int(input('연도를 입력해주세요'))\n",
    "month=int(input('월을 입력해주세요(1~12)'))\n",
    "day=int(input('일을 입력해주세요(1~31)'))\n",
    "total_days = 0\n",
    "#년도일수 입력한 연도의 -1 *365\n",
    "#윤년인지 체크  : 29일 있는 것 ex)2월29일 \n",
    "\n",
    "for i in range(1,year):\n",
    "    #윤년 400으로 나누어 나머지가 0, 4로 나누어 나머지가 0\n",
    "    #평년 100으로 나누어 나머지가 0\n",
    "    if i%400 == 0:\n",
    "        total_days += 366\n",
    "    elif i%100 == 0:\n",
    "        total_days += 365\n",
    "    elif i%4 == 0:\n",
    "        total_days += 366\n",
    "    else:\n",
    "        total_days +=365\n",
    "print(total_days)\n",
    "#월일수 입력한 월-1 * 30\n",
    "#월별 일수 \n",
    "month_days = [0,31,28,31,30,31,30,31,31,30,31,30,31]\n",
    "for m in range(1,month):\n",
    "    total_days += month_days[m]\n",
    "#올해 윤년 체크\n",
    "if month>=3:\n",
    "    if year%400 == 0:\n",
    "        total_days += 1\n",
    "    elif year%100 == 0:\n",
    "        total_days += 0\n",
    "    elif year%4 == 0:\n",
    "        total_days += 1\n",
    "    else:\n",
    "        total_days += 0\n",
    "print(total_days)\n",
    "#월수 입력한 일\n",
    "total_days += day\n",
    "\n",
    "print(total_days)\n",
    "#요일 정하기\n",
    "remain_days = total_days % 7\n",
    "\n",
    "if remain_days == 1:\n",
    "    print('월요일')\n",
    "elif remain_days == 2:\n",
    "    print('화요일')\n",
    "elif remain_days == 3:\n",
    "    print('수요일')\n",
    "elif remain_days == 4:\n",
    "    print('목요일')\n",
    "elif remain_days == 5:\n",
    "    print('금요일')\n",
    "elif remain_days == 6:\n",
    "    print('토요일')\n",
    "elif remain_days == 7:\n",
    "    print('일요일')"
   ]
  },
  {
   "cell_type": "code",
   "execution_count": 101,
   "id": "c2ce64c9-ed4e-4e76-833b-e4f093aa3d49",
   "metadata": {},
   "outputs": [],
   "source": [
    "def 윤년체크(year):\n",
    "    윤년여부 = False\n",
    "    if year%400 == 0:\n",
    "        return  True\n",
    "    elif year%100 == 0:\n",
    "        return  False\n",
    "    elif year%4 == 0:\n",
    "        return  True\n",
    "    else:\n",
    "        return  False"
   ]
  },
  {
   "cell_type": "code",
   "execution_count": 103,
   "id": "143918bb-5a07-494e-bd61-2c3446c4df5a",
   "metadata": {},
   "outputs": [
    {
     "data": {
      "text/plain": [
       "False"
      ]
     },
     "execution_count": 103,
     "metadata": {},
     "output_type": "execute_result"
    }
   ],
   "source": [
    "윤년체크(2025)"
   ]
  },
  {
   "cell_type": "code",
   "execution_count": 104,
   "id": "a022433f-451b-4fd3-aa58-338e7f80264f",
   "metadata": {},
   "outputs": [],
   "source": [
    "def 요일찾기(year, month, day):\n",
    "    week_day_name = '일요일'\n",
    "    total_days = 0\n",
    "\n",
    "    for i in range(1,year):\n",
    "\n",
    "        if 윤년체크(i):\n",
    "            total_days += 366\n",
    "        else :\n",
    "            total_days += 365\n",
    "\n",
    "    #print(total_days)\n",
    "\n",
    "    #월일수 입력한 월 -1 * 30\n",
    "    #월별 일수\n",
    "    month_days = [0,31,28,31,30,31,30,31,31,30,31,30,31]\n",
    "    for m in range(1,month):\n",
    "        total_days += month_days[m]\n",
    "\n",
    "    #올해가 윤년인지\n",
    "    if month>=3 :\n",
    "        if 윤년체크(year):\n",
    "            total_days += 1\n",
    "\n",
    "    #print(total_days)\n",
    "\n",
    "    #일수 입력한 일\n",
    "    total_days += day\n",
    "\n",
    "    #print(total_days)\n",
    "\n",
    "    #요일정하기\n",
    "    remain_days = total_days % 7\n",
    "\n",
    "    day_names = ['일요일','월요일','화요일','수요일','목요일','금요일','토요일']\n",
    "    week_day_name = day_names[remain_days]\n",
    "\n",
    "\n",
    "    return week_day_name"
   ]
  },
  {
   "cell_type": "code",
   "execution_count": null,
   "id": "c107e955-03f7-4791-9439-ca892cce7df4",
   "metadata": {},
   "outputs": [],
   "source": [
    "# 성적처리 시스템\n",
    "- calc_total()\n",
    "- calc_average()\n",
    "- calc_order()\n",
    "\n",
    "- print_student(students) : 전학생의 성적을 출력\n",
    "- print_class() : 반평균, 각과목별 평균 출력"
   ]
  },
  {
   "cell_type": "code",
   "execution_count": 108,
   "id": "26ba04b5-77d6-48c4-80d6-257a32047328",
   "metadata": {},
   "outputs": [],
   "source": [
    "students = [\n",
    "               {'num':'1','name':'김철수','kor':90,'eng':80,'math':85,'total':0,'avg':0.0,'order':0 },\n",
    "               {'num':'2','name':'박제동','kor':90,'eng':85,'math':90,'total':0,'avg':0.0,'order':0 },\n",
    "               {'num':'3','name':'홍길동','kor':80,'eng':80,'math':80,'total':0,'avg':0.0,'order':0 }\n",
    "           ]"
   ]
  },
  {
   "cell_type": "code",
   "execution_count": 109,
   "id": "c72e1025-6288-4153-942f-190d5f091cd7",
   "metadata": {},
   "outputs": [],
   "source": [
    "def calc_total(stus):\n",
    "    for s in stus:\n",
    "        s['total'] = s['kor'] + s['eng'] + s['math']"
   ]
  },
  {
   "cell_type": "code",
   "execution_count": 114,
   "id": "0cdc7175-efcc-48d1-b832-9127786b32d4",
   "metadata": {},
   "outputs": [],
   "source": [
    "def calc_average(stus):\n",
    "    for s in stus:\n",
    "        s['avg'] = s['total']/3"
   ]
  },
  {
   "cell_type": "code",
   "execution_count": 127,
   "id": "4cbc6aef-685e-4170-a5fc-f593774d8b6f",
   "metadata": {},
   "outputs": [],
   "source": [
    "def calc_order(stus):\n",
    "    for s in stus :  #students[0] 자료를 꺼낸 것이 student\n",
    "        rank = 1\n",
    "        for other in stus :\n",
    "            if other['total'] > s['total'] :\n",
    "                rank += 1\n",
    "        s['order'] = rank\n",
    "    print(s['name'], s['order'])"
   ]
  },
  {
   "cell_type": "code",
   "execution_count": 133,
   "id": "64cd54f0-0626-4af4-a53e-63aace5d134b",
   "metadata": {},
   "outputs": [],
   "source": [
    "def print_student(stus):\n",
    "    for s in stus:\n",
    "        print(f'{s['name']},kor {s['kor']}, eng {s['eng']},math {s['math']}')"
   ]
  },
  {
   "cell_type": "code",
   "execution_count": 157,
   "id": "44d6ea0a-c667-4ded-94a6-ec1acbd51843",
   "metadata": {},
   "outputs": [],
   "source": [
    "def print_class(stus):\n",
    "    class_total =0\n",
    "    kor_avg=0\n",
    "    math_avg=0\n",
    "    eng_avg=0\n",
    "    for s in stus:\n",
    "        class_total += s['total']\n",
    "        kor_avg +=s['kor']\n",
    "        eng_avg +=s['eng']\n",
    "        math_avg +=s['math']\n",
    "\n",
    "    return print(f'반 평균{(class_total/3)/3 :.1f}, 과목별 평균, 국어{kor_avg/3 :.1f}, 영어{eng_avg/3 :.1f} ,수학 {math_avg/3 :.1f}') "
   ]
  },
  {
   "cell_type": "code",
   "execution_count": 158,
   "id": "e2c03423-75a1-4ee7-a997-5d7c778e4efb",
   "metadata": {},
   "outputs": [
    {
     "name": "stdout",
     "output_type": "stream",
     "text": [
      "반 평균84.4, 과목별 평균, 국어86.7, 영어81.7 ,수학 85.0\n"
     ]
    }
   ],
   "source": [
    "print_class(students)"
   ]
  },
  {
   "cell_type": "markdown",
   "id": "d5712f42-5f18-4f7b-9b31-5c0e2116b409",
   "metadata": {},
   "source": [
    "# 연습"
   ]
  },
  {
   "cell_type": "markdown",
   "id": "4bb367d0-d99a-4e88-b8e8-2b23a8238402",
   "metadata": {},
   "source": [
    "#관리프로그램 crud 처리\n",
    "#1. 간식박스 생성 create\n",
    "#2. 간식세트 포장 *2 update\n",
    "#3. 간식박스 미리보기(3개만) read\n",
    "#4. 간식삭제 delete\n",
    "#5. 간식찾기 search\n",
    "#6. 간식박스 전체보기 read\n",
    "#7. 간식박스 요약 summary"
   ]
  },
  {
   "cell_type": "markdown",
   "id": "81998aee-1ebe-418e-b0b1-76a3525cebb1",
   "metadata": {},
   "source": [
    "-함수 도출 : 기능의 세분화, 함수를 정의\n",
    "-함수 구현\n",
    "-문제점"
   ]
  },
  {
   "cell_type": "code",
   "execution_count": null,
   "id": "39a51c12-b9b4-4d98-a42c-a6ac785aa54e",
   "metadata": {},
   "outputs": [],
   "source": [
    "#1. 간식박스 생성 create\n",
    "def make_snack_box():\n",
    "    snack_box = ['초코파이']\n",
    "    new_snack = input('먹고싶은 간식을 추가하세요. 단, 쉼표로 연결하세요').split(',')\n",
    "    snack_box += new_snack\n",
    "\n",
    "    return snack_box"
   ]
  },
  {
   "cell_type": "code",
   "execution_count": 2,
   "id": "dc900c86-c557-46fa-935b-5283fea3b09a",
   "metadata": {},
   "outputs": [],
   "source": [
    "#2 간식세트 포장 *2 update\n",
    "def multipy_snack_box(snack_box) :\n",
    "    qty = int(input('간식박스 몇 세트를 포장할까요 숫자만 입력하세요'))\n",
    "    return snack_box * qty"
   ]
  },
  {
   "cell_type": "code",
   "execution_count": null,
   "id": "5e2aaa36-76a0-410f-8a25-971a7c681560",
   "metadata": {},
   "outputs": [],
   "source": [
    "# 6. 간식박스 전체 보기 read\n",
    "def display_snack_box(snack_box):\n",
    "    print(f'{snack_box}, 총 {len(snack_box)}개 입니다.')"
   ]
  },
  {
   "cell_type": "code",
   "execution_count": null,
   "id": "3d8a4cc9-39b6-4639-940d-0d75bab83ee3",
   "metadata": {},
   "outputs": [],
   "source": [
    "#3. 간식박스 미리보기(3개만) read\n",
    "def preview_snack_box():\n",
    "    preview = ','.join(snack_box[:3])\n",
    "    print(f'선택하신 간식은 {preview}등입니다')"
   ]
  },
  {
   "cell_type": "code",
   "execution_count": null,
   "id": "7832a66b-e8d7-48e2-8666-99364418c055",
   "metadata": {},
   "outputs": [],
   "source": [
    "#4. 간식삭제 delete\n",
    "def remove_snack_box(snack_box):\n",
    "    if not snack_box:\n",
    "        print('간식박스가 존재하지 않습니다')\n",
    "        return\n",
    "    display_snack_box(snack_box)\n",
    "    \n",
    "    msg = f'혹시빼고싶은 간식이 있으면 번호를 입력하세요 (0~{len(snack_box)-1})'\n",
    "    snack_no = int(input(msg))\n",
    "\n",
    "    del snack_box[snack_no]\n",
    "    return snack_box"
   ]
  },
  {
   "cell_type": "code",
   "execution_count": null,
   "id": "090d49f6-3ce1-4fff-8075-4a23a52f7071",
   "metadata": {},
   "outputs": [],
   "source": [
    "#5. 간식찾기 search\n",
    "def search_snack_box(snack_box):\n",
    "    search_snack = input('찾고싶은 간식을 입력하세요')\n",
    "    print('존재합니다' if search_snack in snack_box else '존재하지 않습니다')"
   ]
  },
  {
   "cell_type": "code",
   "execution_count": null,
   "id": "d206c807-1417-490d-bd4d-0fee17a6b804",
   "metadata": {},
   "outputs": [],
   "source": [
    "#7. 간식박스 요약\n",
    "def sumamarize_snacks(snack_box):\n",
    "    summary = {}\n",
    "    for snack in snack_box:\n",
    "        summary[snack] = summary.get(snack,0)+1\n",
    "\n",
    "    print('간식박스정리')\n",
    "    for snack, qty in summary.items():\n",
    "        print(f' - {snack} : {qty}개')\n"
   ]
  },
  {
   "cell_type": "code",
   "execution_count": null,
   "id": "c7c8c9e6-02aa-4919-87b3-7fd1970dc209",
   "metadata": {},
   "outputs": [],
   "source": [
    "box = make_snack_box()\n",
    "print('간식박스가 만들어졌어요')\n",
    "display_snack_box(box)\n",
    "box = multipy_snack_box(box)\n",
    "display_snack_box(box)\n",
    "#검색후 삭제기능\n",
    "search_snack_box(box)\n",
    "remove_snack_box(box)\n",
    "sumamarize_snacks(box)"
   ]
  },
  {
   "cell_type": "markdown",
   "id": "557d48fa-141b-4eef-bab3-dd7110d30ceb",
   "metadata": {},
   "source": [
    "## 메뉴 형식으로 구조를 개편"
   ]
  },
  {
   "cell_type": "markdown",
   "id": "1e8649e4-a951-47d3-9713-ed03619df993",
   "metadata": {},
   "source": [
    "### \n",
    "선택, 반복\n",
    "-- 기본 함수 정의 \n"
   ]
  },
  {
   "cell_type": "code",
   "execution_count": 2,
   "id": "8e2f00ad-8c5e-4e37-a59e-b5182b7a17f1",
   "metadata": {},
   "outputs": [],
   "source": [
    "# -- 공통 유틸리티 함수\n",
    "def get_valid_text_input(msg):\n",
    "    user_input = input(msg).strip()\n",
    "    if not user_input :\n",
    "        print('입력값을 확인하세요')\n",
    "        return None\n",
    "    return user_input\n",
    "\n",
    "#숫자검증\n",
    "def get_valid_number_input(msg, min_no=1, max_no=5):\n",
    "    #숫자체크\n",
    "    try : \n",
    "        number = int(input(msg))\n",
    "        if number < min_no :\n",
    "            print(f'{min_no}이상 숫자를 입력하세요')\n",
    "            return None\n",
    "        elif number > max_no:\n",
    "            print(f'{max_no}이하 숫자를 입력하세요')\n",
    "            return None\n",
    "        else:\n",
    "            return number\n",
    "    except ValueError:\n",
    "        print('숫자로 입력하세요.')\n",
    "        return None"
   ]
  },
  {
   "cell_type": "code",
   "execution_count": 3,
   "id": "aa59ae45-288b-40b4-8d7a-9b47e37752a9",
   "metadata": {},
   "outputs": [],
   "source": [
    "#1. 간식박스 생성 create\n",
    "def make_snack_box():\n",
    "    snack_box = ['초코파이']\n",
    "    make_msg = '먹고 싶은 간식을 추가하세요.  단, 쉼표(,)로 연결하세요'\n",
    "    new_snack = get_valid_text_input(make_msg).split(',')\n",
    "    snack_box += new_snack\n",
    "    return snack_box\n",
    "\n",
    "#2 간식세트 포장 *2 update\n",
    "def multipy_snack_box(snack_box) :\n",
    "    msg = '추가하시고 싶은 세트 수량을 입력하세요'\n",
    "    qty = get_valid_number_input(msg, 1, 5)\n",
    "    return snack_box * qty\n",
    "\n",
    "#3. 간식박스 미리보기(3개만) read\n",
    "def preview_snack_box(snack_box):\n",
    "    preview = ','.join(snack_box[:3])\n",
    "    print(f'선택하신 간식은 {preview}등입니다')\n",
    "\n",
    "#4. 간식삭제 delete\n",
    "def remove_snack_box(snack_box):\n",
    "    if not snack_box:\n",
    "        print('간식박스가 존재하지 않습니다')\n",
    "        return\n",
    "    display_snack_box(snack_box)\n",
    "    \n",
    "    msg = f'혹시빼고싶은 간식이 있으면 번호를 입력하세요 (0~{len(snack_box)-1})'\n",
    "    snack_no = int(input(msg))\n",
    "\n",
    "    del snack_box[snack_no]\n",
    "    return snack_box\n",
    "\n",
    "#5. 간식찾기 search\n",
    "def search_snack_box(snack_box):\n",
    "    search_snack = input('찾고싶은 간식을 입력하세요')\n",
    "    print('존재합니다' if search_snack in snack_box else '존재하지 않습니다')\n",
    "\n",
    "#6. 간식박스 전체 보기 read\n",
    "def display_snack_box(snack_box):\n",
    "    print(f'{snack_box}, 총 {len(snack_box)}개 입니다.')\n",
    "\n",
    "#7. 간식박스 요약\n",
    "def sumamarize_snacks(snack_box):\n",
    "    summary = {}\n",
    "    for snack in snack_box:\n",
    "        summary[snack] = summary.get(snack,0)+1\n",
    "\n",
    "    print('간식박스정리')\n",
    "    for snack, qty in summary.items():\n",
    "        print(f' - {snack} : {qty}개')\n"
   ]
  },
  {
   "cell_type": "code",
   "execution_count": 6,
   "id": "6d439a48-4719-4a78-9cbb-b1a4a8001a06",
   "metadata": {},
   "outputs": [],
   "source": [
    "# 서비스의 흐름 - 선택과 반복\n",
    "def run_menu_program():\n",
    "    snack_box = []\n",
    "    while True:\n",
    "        print('간식박스 관리 프로그램 메뉴')\n",
    "        print('1. 간식 박스 생성')\n",
    "        print('2. 세트생성')\n",
    "        print('3. 세트 미리보기')\n",
    "        print('4. 간식 삭제')\n",
    "        print('5. 간식 검색')\n",
    "        print('6. 간식박스 전체보기')\n",
    "        print('7. 간식박스 요약')\n",
    "\n",
    "        choice = input('원하는 메뉴 번호를 입력하세요 : ')\n",
    "\n",
    "        if choice == '1':\n",
    "            snack_box = make_snack_box()\n",
    "        elif choice == '2':\n",
    "            snack_box = multipy_snack_box(snack_box)\n",
    "        elif choice == '3':         \n",
    "            preview_snack_box(snack_box)\n",
    "        elif choice == '4':\n",
    "            remove_snack_box(snack_box)\n",
    "        elif choice == '5':\n",
    "            search_snack_box(snack_box)\n",
    "        elif choice == '6':\n",
    "            display_snack_box(snack_box)\n",
    "        elif choice == '7':\n",
    "            sumamarize_snacks(snack_box)\n"
   ]
  },
  {
   "cell_type": "code",
   "execution_count": null,
   "id": "7be5ca46-2614-46bd-adac-564ad24a821c",
   "metadata": {},
   "outputs": [],
   "source": [
    "run_menu_program()"
   ]
  },
  {
   "cell_type": "markdown",
   "id": "0c23271d-2a0f-4ddc-8d07-1ffe2e23e909",
   "metadata": {},
   "source": [
    "# 람다함수\n",
    "선언 >> lambda <매개변수> : 코드<br>\n",
    "호출 >> (lambda <매개변수> : 코드) (매개변수값)"
   ]
  },
  {
   "cell_type": "code",
   "execution_count": 8,
   "id": "f9dd4f5e-9580-4b0f-b89e-bc48bbce75c8",
   "metadata": {},
   "outputs": [],
   "source": [
    "def aaa(a):\n",
    "    result = a+1\n",
    "    return result"
   ]
  },
  {
   "cell_type": "code",
   "execution_count": 9,
   "id": "18a49890-56f1-47ff-a5f7-64b4dca98eb8",
   "metadata": {},
   "outputs": [
    {
     "data": {
      "text/plain": [
       "<function __main__.<lambda>(a)>"
      ]
     },
     "execution_count": 9,
     "metadata": {},
     "output_type": "execute_result"
    }
   ],
   "source": [
    "lambda a : a+1"
   ]
  },
  {
   "cell_type": "code",
   "execution_count": 11,
   "id": "f1d0bd94-b909-444b-9b4f-102e47766e35",
   "metadata": {},
   "outputs": [
    {
     "data": {
      "text/plain": [
       "3"
      ]
     },
     "execution_count": 11,
     "metadata": {},
     "output_type": "execute_result"
    }
   ],
   "source": [
    "(lambda a : a+1)(2) # 람다 호출"
   ]
  },
  {
   "cell_type": "code",
   "execution_count": 14,
   "id": "db6a151c-0629-4e7c-aa04-1d7b26f7169a",
   "metadata": {},
   "outputs": [
    {
     "data": {
      "text/plain": [
       "(4, 5, 51)"
      ]
     },
     "execution_count": 14,
     "metadata": {},
     "output_type": "execute_result"
    }
   ],
   "source": [
    "my_lambda = lambda a: a+1       #람다의 재정의\n",
    "my_lambda(3),my_lambda(4),my_lambda(50)"
   ]
  },
  {
   "cell_type": "code",
   "execution_count": 15,
   "id": "8a7a0ddf-27d0-4f47-9f01-41258be30f3f",
   "metadata": {},
   "outputs": [
    {
     "data": {
      "text/plain": [
       "5"
      ]
     },
     "execution_count": 15,
     "metadata": {},
     "output_type": "execute_result"
    }
   ],
   "source": [
    "def sum1(a,b):\n",
    "    return a+b\n",
    "sum1(2,3)"
   ]
  },
  {
   "cell_type": "code",
   "execution_count": 17,
   "id": "731a115e-b7b1-4309-b1b2-22d2054cedd9",
   "metadata": {},
   "outputs": [
    {
     "data": {
      "text/plain": [
       "7"
      ]
     },
     "execution_count": 17,
     "metadata": {},
     "output_type": "execute_result"
    }
   ],
   "source": [
    "(lambda a,b : a+b) (3,4)"
   ]
  },
  {
   "cell_type": "code",
   "execution_count": 18,
   "id": "1b1ff988-9a33-42fc-bef6-08a9392bf008",
   "metadata": {},
   "outputs": [],
   "source": [
    "def calc_func(a,b, opr_func):\n",
    "    result = opr_func(a,b)\n",
    "    return result"
   ]
  },
  {
   "cell_type": "code",
   "execution_count": 24,
   "id": "1d9d5c2a-6495-438d-92ce-2732599414d8",
   "metadata": {},
   "outputs": [
    {
     "data": {
      "text/plain": [
       "128"
      ]
     },
     "execution_count": 24,
     "metadata": {},
     "output_type": "execute_result"
    }
   ],
   "source": [
    "calc_func(2,7, lambda x,y : x**y)"
   ]
  },
  {
   "cell_type": "code",
   "execution_count": 31,
   "id": "a876bbbd-d326-4e82-b6de-6c6fa19b29cc",
   "metadata": {},
   "outputs": [
    {
     "data": {
      "text/plain": [
       "['APPLE', 'BANANA', 'CHERRY']"
      ]
     },
     "execution_count": 31,
     "metadata": {},
     "output_type": "execute_result"
    }
   ],
   "source": [
    "#map 함수\n",
    "fruits = ['apple','banana','cherry']\n",
    "#str.upper\n",
    "#fruits[0].upper()\n",
    "list(map(str.upper, fruits))"
   ]
  },
  {
   "cell_type": "code",
   "execution_count": 33,
   "id": "01629565-ea10-401a-8922-b2cd5dc1fda2",
   "metadata": {},
   "outputs": [
    {
     "data": {
      "text/plain": [
       "['1', '2', '3', '4', '5']"
      ]
     },
     "execution_count": 33,
     "metadata": {},
     "output_type": "execute_result"
    }
   ],
   "source": [
    "str_number = '12345'\n",
    "list(str_number) #문자열 리스크"
   ]
  },
  {
   "cell_type": "code",
   "execution_count": 38,
   "id": "476049d5-6b70-4fde-9c83-85ca88cd9c45",
   "metadata": {},
   "outputs": [
    {
     "data": {
      "text/plain": [
       "[1, 2, 3, 4, 5]"
      ]
     },
     "execution_count": 38,
     "metadata": {},
     "output_type": "execute_result"
    }
   ],
   "source": [
    "numbers = list(map(int, str_number))\n",
    "numbers"
   ]
  },
  {
   "cell_type": "code",
   "execution_count": 39,
   "id": "b1bf5ba0-b375-480e-b48d-1baa6b3c4051",
   "metadata": {},
   "outputs": [
    {
     "data": {
      "text/plain": [
       "[1, 4, 9, 16, 25]"
      ]
     },
     "execution_count": 39,
     "metadata": {},
     "output_type": "execute_result"
    }
   ],
   "source": [
    "list(map(lambda x: x**2, numbers))"
   ]
  },
  {
   "cell_type": "code",
   "execution_count": 50,
   "id": "e4750165-59d5-408a-b963-140e257cfafc",
   "metadata": {},
   "outputs": [
    {
     "name": "stdin",
     "output_type": "stream",
     "text": [
      "(1, 4, 7) 4\n",
      "(2, 5, 8) 5\n",
      "(3, 6, 9) 3\n"
     ]
    },
    {
     "data": {
      "text/plain": [
       "[4, 5, 3]"
      ]
     },
     "execution_count": 50,
     "metadata": {},
     "output_type": "execute_result"
    }
   ],
   "source": [
    "kor_score = [1,2,3]\n",
    "eng_score = [4,5,6]\n",
    "math_score = [7,8,9]\n",
    "\n",
    "list(map(lambda s :get_valid_number_input(s) , zip(kor_score, eng_score, math_score)))"
   ]
  },
  {
   "cell_type": "code",
   "execution_count": null,
   "id": "d3435490-7d06-4efb-a8fa-7b34bb0b6842",
   "metadata": {},
   "outputs": [],
   "source": []
  }
 ],
 "metadata": {
  "kernelspec": {
   "display_name": "Python 3 (ipykernel)",
   "language": "python",
   "name": "python3"
  },
  "language_info": {
   "codemirror_mode": {
    "name": "ipython",
    "version": 3
   },
   "file_extension": ".py",
   "mimetype": "text/x-python",
   "name": "python",
   "nbconvert_exporter": "python",
   "pygments_lexer": "ipython3",
   "version": "3.12.9"
  }
 },
 "nbformat": 4,
 "nbformat_minor": 5
}
