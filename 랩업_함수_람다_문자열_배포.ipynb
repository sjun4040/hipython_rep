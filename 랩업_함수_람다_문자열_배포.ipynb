{
 "cells": [
  {
   "cell_type": "code",
   "execution_count": 2,
   "id": "178750e1-35a0-47d4-b3e9-e5182879a67b",
   "metadata": {},
   "outputs": [
    {
     "name": "stdout",
     "output_type": "stream",
     "text": [
      "15\n"
     ]
    }
   ],
   "source": [
    "## 1.두 수를 입력 받아 그 곱을 반환하는 함수를 작성하세요.\n",
    "#답을 작성하세요.\n",
    "def multiply_numbers(a, b):\n",
    "    return a*b\n",
    "#테스트\n",
    "print(multiply_numbers(3, 5))  #15"
   ]
  },
  {
   "cell_type": "code",
   "execution_count": 23,
   "id": "c901cf6b-c951-47f0-bc57-c432544cf83e",
   "metadata": {},
   "outputs": [
    {
     "name": "stdout",
     "output_type": "stream",
     "text": [
      "30.0\n"
     ]
    }
   ],
   "source": [
    "## 2. 숫자 리스트를 입력 받아 평균을 반환하는 함수를 작성하세요.\n",
    "def calc_average(numbers):\n",
    "    return (lambda nums: sum(nums) / 5 )(numbers)\n",
    "\n",
    "# 테스트\n",
    "print(calc_average([10, 20, 30, 40, 50]))  # 30.0\n"
   ]
  },
  {
   "cell_type": "code",
   "execution_count": 22,
   "id": "00049374-a090-4190-a57e-2f4e561ab09f",
   "metadata": {},
   "outputs": [
    {
     "name": "stdout",
     "output_type": "stream",
     "text": [
      "True\n",
      "False\n"
     ]
    }
   ],
   "source": [
    "## 3. 주어진 숫자가 짝수이면 True, 홀수이면 False를 반환하는 함수를 작성하세요.\n",
    "#답을 작성하세요.\n",
    "def is_even(n):\n",
    "    return(lambda num: num % 2 == 0)(n)\n",
    "#람다버전\n",
    "\n",
    "# 테스트\n",
    "print(is_even(14))  # True\n",
    "print(is_even(21))  # False"
   ]
  },
  {
   "cell_type": "code",
   "execution_count": 26,
   "id": "0ebc21c9-0ac1-466a-bd62-2a5fe95f167a",
   "metadata": {},
   "outputs": [
    {
     "name": "stdout",
     "output_type": "stream",
     "text": [
      "['1', '2', '3', '4', '5']\n"
     ]
    }
   ],
   "source": [
    "## 4. 주어진 리스트의 모든 요소를 문자열로 변환하여 반환하는 함수와, 람다 함수를 작성하세요.\n",
    "#함수\n",
    "def to_string_list(lst):\n",
    "  return list(map(str, lst))\n",
    "#답을 작성하세요.\n",
    "to_string_list = lambda lst: list(map(str, lst))\n",
    "# 테스트\n",
    "print(to_string_list([1, 2, 3, 4, 5]))  # ['1', '2', '3', '4', '5']"
   ]
  },
  {
   "cell_type": "code",
   "execution_count": 33,
   "id": "7b097fcd-f236-4e07-896e-59e0515a7ba0",
   "metadata": {},
   "outputs": [
    {
     "name": "stdout",
     "output_type": "stream",
     "text": [
      "['Hello, ', 'World!']\n"
     ]
    }
   ],
   "source": [
    "## 5. 두 문자열을 입력받아 합친 문자열을 반환하는 함수와 람다 함수를 작성하세요.\n",
    "def concat_strings(s1, s2):   \n",
    "    return list(map(str, (s1,s2)))\n",
    "#답을 작성하세요.\n",
    "concat_strings = lambda s1,s2 : list(map(str,(s1,s2)))\n",
    "# 테스트\n",
    "print(concat_strings(\"Hello, \", \"World!\"))  # \"Hello, World!\""
   ]
  },
  {
   "cell_type": "code",
   "execution_count": 39,
   "id": "9036115f-93d6-4864-9b19-37daf558b77a",
   "metadata": {},
   "outputs": [
    {
     "name": "stdout",
     "output_type": "stream",
     "text": [
      "bcdfghjklmnpqrstvwxyz\n"
     ]
    }
   ],
   "source": [
    "## 6. 주어진 문자열에서 모든 모음(a,e,i,o,u)을 제거한 문자열을 반환하는 함수를 작성하세요.\n",
    "#답을 작성하세요.\n",
    "def remove_vowels(s):\n",
    "  return (lambda text: ''.join([ch for ch in text if ch.lower() not in 'aeiou']))(s)\n",
    "\n",
    "# 테스트\n",
    "print(remove_vowels(\"abcdefghijklmnopqrstuvwxyz\"))  # \"bcdfghjklmnpqrstvwxyz\""
   ]
  },
  {
   "cell_type": "code",
   "execution_count": null,
   "id": "721d16c8-6136-4d33-bbda-b2af4d3eaca6",
   "metadata": {},
   "outputs": [],
   "source": [
    "## 7. 문자열을 입력 받아, 해당 문자열에서 가장 긴 단어와 길이를 반환하는 함수를 작성하세요.\n",
    "#답을 작성하세요.\n",
    "def find_longest_word(s):\n",
    "  return(\n",
    "find_longest_word = None\n",
    "# 테스트\n",
    "print(find_longest_word(\"Life is for one generation a good name is forever.\"))  # \"generation\", 10"
   ]
  }
 ],
 "metadata": {
  "kernelspec": {
   "display_name": "Python 3 (ipykernel)",
   "language": "python",
   "name": "python3"
  },
  "language_info": {
   "codemirror_mode": {
    "name": "ipython",
    "version": 3
   },
   "file_extension": ".py",
   "mimetype": "text/x-python",
   "name": "python",
   "nbconvert_exporter": "python",
   "pygments_lexer": "ipython3",
   "version": "3.12.9"
  }
 },
 "nbformat": 4,
 "nbformat_minor": 5
}
