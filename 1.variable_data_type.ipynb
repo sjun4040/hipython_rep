{
 "cells": [
  {
   "cell_type": "markdown",
   "id": "137b82ef-8bdc-4cf2-acee-223a9db9819b",
   "metadata": {},
   "source": [
    "# 들어가기 : 주석 "
   ]
  },
  {
   "cell_type": "code",
   "execution_count": null,
   "id": "cda90390-a5b8-413f-81ab-0575aefdc525",
   "metadata": {},
   "outputs": [],
   "source": []
  },
  {
   "cell_type": "markdown",
   "id": "3f263a5d-9e31-4ca3-9afa-86a7e1da1bb6",
   "metadata": {},
   "source": [
    "# 표준 입력과 표준 출력"
   ]
  },
  {
   "cell_type": "code",
   "execution_count": 4,
   "id": "a24f1a0d-f79f-40c9-aad1-256d0074f424",
   "metadata": {},
   "outputs": [
    {
     "data": {
      "text/plain": [
       "10"
      ]
     },
     "execution_count": 4,
     "metadata": {},
     "output_type": "execute_result"
    }
   ],
   "source": [
    "12345\n",
    "10\n",
    "#ipython 라이브러리의 기본 기능\n",
    "# =print(12345) 표준 출력 기능을 내장하고 있다."
   ]
  },
  {
   "cell_type": "code",
   "execution_count": 5,
   "id": "bb87b2b2-9ebb-474e-93d4-3e075c068ca9",
   "metadata": {},
   "outputs": [
    {
     "name": "stdout",
     "output_type": "stream",
     "text": [
      "12345\n"
     ]
    },
    {
     "data": {
      "text/plain": [
       "10"
      ]
     },
     "execution_count": 5,
     "metadata": {},
     "output_type": "execute_result"
    }
   ],
   "source": [
    "print(12345)\n",
    "10"
   ]
  },
  {
   "cell_type": "code",
   "execution_count": 6,
   "id": "f3c6ed95-3dbd-4296-bedf-cc6e74e1b67c",
   "metadata": {},
   "outputs": [
    {
     "data": {
      "text/plain": [
       "'12345'"
      ]
     },
     "execution_count": 6,
     "metadata": {},
     "output_type": "execute_result"
    }
   ],
   "source": [
    "'12345'"
   ]
  },
  {
   "cell_type": "code",
   "execution_count": 7,
   "id": "53f35f0c-7185-4efb-bab3-76ff9ee9d130",
   "metadata": {},
   "outputs": [
    {
     "data": {
      "text/plain": [
       "str"
      ]
     },
     "execution_count": 7,
     "metadata": {},
     "output_type": "execute_result"
    }
   ],
   "source": [
    "type('12345')"
   ]
  },
  {
   "cell_type": "code",
   "execution_count": 8,
   "id": "fd80d2b2-1825-4d77-bed8-8e906baaca08",
   "metadata": {},
   "outputs": [
    {
     "data": {
      "text/plain": [
       "int"
      ]
     },
     "execution_count": 8,
     "metadata": {},
     "output_type": "execute_result"
    }
   ],
   "source": [
    "type(12345)"
   ]
  },
  {
   "cell_type": "code",
   "execution_count": 9,
   "id": "e695b67d-0e30-42ad-a352-378d29697184",
   "metadata": {},
   "outputs": [
    {
     "data": {
      "text/plain": [
       "123466"
      ]
     },
     "execution_count": 9,
     "metadata": {},
     "output_type": "execute_result"
    }
   ],
   "source": [
    "123456+10"
   ]
  },
  {
   "cell_type": "code",
   "execution_count": 12,
   "id": "b4f1253a-f694-4a05-89de-f5fe237bec19",
   "metadata": {},
   "outputs": [],
   "source": [
    "#'12345'+10 #type error"
   ]
  },
  {
   "cell_type": "code",
   "execution_count": 13,
   "id": "8103c728-d5a8-4e95-89c0-682cf0d8d976",
   "metadata": {},
   "outputs": [
    {
     "data": {
      "text/plain": [
       "str"
      ]
     },
     "execution_count": 13,
     "metadata": {},
     "output_type": "execute_result"
    }
   ],
   "source": [
    "type(\"12345\")"
   ]
  },
  {
   "cell_type": "code",
   "execution_count": 14,
   "id": "f66945f5-2c54-4b64-a1cd-4b577c2b66a5",
   "metadata": {},
   "outputs": [
    {
     "data": {
      "text/plain": [
       "'12345'"
      ]
     },
     "execution_count": 14,
     "metadata": {},
     "output_type": "execute_result"
    }
   ],
   "source": [
    "\"12345\""
   ]
  },
  {
   "cell_type": "code",
   "execution_count": 15,
   "id": "277d0ecf-d164-41fa-9bd5-74de900ad0d6",
   "metadata": {},
   "outputs": [
    {
     "data": {
      "text/plain": [
       "'123451234512345'"
      ]
     },
     "execution_count": 15,
     "metadata": {},
     "output_type": "execute_result"
    }
   ],
   "source": [
    "\"12345\"*3"
   ]
  },
  {
   "cell_type": "code",
   "execution_count": 19,
   "id": "83222063-4185-4b8e-a119-5b3afaf4718c",
   "metadata": {},
   "outputs": [
    {
     "name": "stdin",
     "output_type": "stream",
     "text": [
      "당신의 나이을 입력하세요 25\n"
     ]
    },
    {
     "name": "stdout",
     "output_type": "stream",
     "text": [
      "25\n"
     ]
    }
   ],
   "source": [
    "age = input('당신의 나이을 입력하세요')\n",
    "print (age)"
   ]
  },
  {
   "cell_type": "code",
   "execution_count": 20,
   "id": "4ba08c51-0789-403b-8b49-14e801898d25",
   "metadata": {},
   "outputs": [
    {
     "data": {
      "text/plain": [
       "'25'"
      ]
     },
     "execution_count": 20,
     "metadata": {},
     "output_type": "execute_result"
    }
   ],
   "source": [
    "age"
   ]
  },
  {
   "cell_type": "code",
   "execution_count": 22,
   "id": "8ed209ee-93fa-4379-997a-4f4d8ee757ac",
   "metadata": {},
   "outputs": [
    {
     "name": "stdin",
     "output_type": "stream",
     "text": [
      "당신의 이름을 입력하세요. 상준\n"
     ]
    },
    {
     "name": "stdout",
     "output_type": "stream",
     "text": [
      "상준\n"
     ]
    }
   ],
   "source": [
    "name = input('당신의 이름을 입력하세요.') #입력 받은 이름\n",
    "print (name)                             #이름 출력"
   ]
  },
  {
   "cell_type": "code",
   "execution_count": 23,
   "id": "48191d69-9aa0-4a26-a852-62700933190a",
   "metadata": {},
   "outputs": [
    {
     "data": {
      "text/plain": [
       "'상준'"
      ]
     },
     "execution_count": 23,
     "metadata": {},
     "output_type": "execute_result"
    }
   ],
   "source": [
    "name"
   ]
  },
  {
   "cell_type": "code",
   "execution_count": 25,
   "id": "b0b230e4-69b2-40e6-98db-118bc9b8d387",
   "metadata": {},
   "outputs": [
    {
     "name": "stdout",
     "output_type": "stream",
     "text": [
      "25 상준\n"
     ]
    }
   ],
   "source": [
    "print(age, name)"
   ]
  },
  {
   "cell_type": "code",
   "execution_count": 31,
   "id": "7ed1574f-c583-4683-abe5-4c5fc9a88371",
   "metadata": {},
   "outputs": [
    {
     "name": "stdout",
     "output_type": "stream",
     "text": [
      "나는 상준이고 나이는 25입니다\n"
     ]
    }
   ],
   "source": [
    "print( '나는 '+name+'이고 나이는 '+age+'입니다')"
   ]
  },
  {
   "cell_type": "code",
   "execution_count": 36,
   "id": "ca09beec-cd27-4e39-82eb-c647dfe5971b",
   "metadata": {},
   "outputs": [
    {
     "data": {
      "text/plain": [
       "35"
      ]
     },
     "execution_count": 36,
     "metadata": {},
     "output_type": "execute_result"
    }
   ],
   "source": [
    "int(age)+10"
   ]
  },
  {
   "cell_type": "code",
   "execution_count": 38,
   "id": "d7249403-7960-4bde-9941-741b6788c9e3",
   "metadata": {},
   "outputs": [],
   "source": [
    "age = int(age)"
   ]
  },
  {
   "cell_type": "code",
   "execution_count": 39,
   "id": "a9866685-ab9f-4dad-a0a7-c28941d3d57a",
   "metadata": {},
   "outputs": [
    {
     "data": {
      "text/plain": [
       "35"
      ]
     },
     "execution_count": 39,
     "metadata": {},
     "output_type": "execute_result"
    }
   ],
   "source": [
    "age + 10"
   ]
  },
  {
   "cell_type": "code",
   "execution_count": 41,
   "id": "052c84fa-bb15-4120-8f36-9c375577a706",
   "metadata": {},
   "outputs": [
    {
     "name": "stdin",
     "output_type": "stream",
     "text": [
      "input your age 25\n"
     ]
    },
    {
     "data": {
      "text/plain": [
       "25"
      ]
     },
     "execution_count": 41,
     "metadata": {},
     "output_type": "execute_result"
    }
   ],
   "source": [
    "age = int(input('input your age'))\n",
    "age"
   ]
  },
  {
   "cell_type": "markdown",
   "id": "43dda8a9-8a38-4420-8e46-e6ec0a39454a",
   "metadata": {},
   "source": [
    "# 연습"
   ]
  },
  {
   "cell_type": "code",
   "execution_count": 45,
   "id": "4c5733fc-d755-4c68-aa45-096a04dd2ebb",
   "metadata": {},
   "outputs": [
    {
     "name": "stdout",
     "output_type": "stream",
     "text": [
      "박: 박수칠때 떠나는\n",
      "상: 상상을 하는\n",
      "준: 준비된 사람\n"
     ]
    }
   ],
   "source": [
    "# 자기 이름을 삼행시 짓기\n",
    "\n",
    "print('박: 박수칠때 떠나는')\n",
    "print('상: 상상을 하는')\n",
    "print('준: 준비된 사람')"
   ]
  },
  {
   "cell_type": "code",
   "execution_count": 53,
   "id": "bd87bd77-c68a-4623-9a35-2bd00276c2c1",
   "metadata": {},
   "outputs": [
    {
     "name": "stdin",
     "output_type": "stream",
     "text": [
      "박 박수칠 때 떠나는 멋진 남자가 되는\n",
      "상 상상을 하는 \n",
      "준 준비된 남자\n"
     ]
    },
    {
     "name": "stdout",
     "output_type": "stream",
     "text": [
      "박수칠 때 떠나는 멋진 남자가 되는 상상을 하는  준비된 남자\n"
     ]
    }
   ],
   "source": [
    "# 자기이름으로 삼행시 짓기 \n",
    "a = input('박')\n",
    "b = input('상')\n",
    "c = input('준')\n",
    "print(a, b, c)"
   ]
  },
  {
   "cell_type": "code",
   "execution_count": 54,
   "id": "14116c9a-8aba-408c-ac92-0134f76e7c87",
   "metadata": {},
   "outputs": [
    {
     "name": "stdout",
     "output_type": "stream",
     "text": [
      "박수칠 때 떠나는 멋진 남자가 되는\n",
      "상상을 하는 \n",
      "준비된 남자\n"
     ]
    }
   ],
   "source": [
    "print(a, b, c, sep='\\n')"
   ]
  },
  {
   "cell_type": "markdown",
   "id": "9354e6f9-64bd-4254-a894-24917bc8678b",
   "metadata": {},
   "source": [
    "문자열의 시작이 \\ 역슬래시 -> 이스케이프 문자, 특수 문자\n",
    "\\n\n",
    "\\t\n",
    "\\\\"
   ]
  },
  {
   "cell_type": "code",
   "execution_count": 64,
   "id": "773d8080-6278-407a-b436-42d02d13b75a",
   "metadata": {},
   "outputs": [
    {
     "name": "stdout",
     "output_type": "stream",
     "text": [
      "박수칠 때 떠나는 멋진 남자가 되는\n",
      "상상을 하는 \n",
      "준비된 남자\n",
      "\n"
     ]
    }
   ],
   "source": [
    "삼행시 = a +'\\n' + b +'\\n' + c +'\\n'\n",
    "print(삼행시)"
   ]
  },
  {
   "cell_type": "markdown",
   "id": "fb1f1862-b3da-4f11-8e5f-6a6b514b5b39",
   "metadata": {},
   "source": [
    "# 변수"
   ]
  },
  {
   "cell_type": "markdown",
   "id": "894a4960-7e0d-4d5c-9101-6ce257c2a077",
   "metadata": {},
   "source": [
    "변수 type safe\n",
    "변수를 선언할 때 타입(유형)을 지정하지 않아도 되는 특성\n",
    "변수명 = 값\n",
    "\n",
    "[변수의 명명 규칙]\n",
    "1. 문자, 숫자, 밑줄을 가지고 만든다\n",
    "2. 숫자로 시작하면 x\n",
    "3. 대소문자를 구분\n",
    "4. 예약어, 특수기호, 공백 x"
   ]
  },
  {
   "cell_type": "code",
   "execution_count": 69,
   "id": "62255401-a605-436e-9038-b539bd1bd1c8",
   "metadata": {},
   "outputs": [],
   "source": [
    "false = 10"
   ]
  },
  {
   "cell_type": "code",
   "execution_count": 70,
   "id": "1a0996f6-e5e0-4ac8-a20e-8223f47e6429",
   "metadata": {},
   "outputs": [
    {
     "data": {
      "text/plain": [
       "(10, 'hello', 3.141592)"
      ]
     },
     "execution_count": 70,
     "metadata": {},
     "output_type": "execute_result"
    }
   ],
   "source": [
    "x = 10\n",
    "y = 'hello'\n",
    "z = 3.141592\n",
    "x,y,z"
   ]
  },
  {
   "cell_type": "code",
   "execution_count": 72,
   "id": "b56ed87c-3697-4054-8ee4-30889f0919b5",
   "metadata": {},
   "outputs": [
    {
     "name": "stdout",
     "output_type": "stream",
     "text": [
      "<class 'int'> <class 'str'> <class 'float'>\n"
     ]
    }
   ],
   "source": [
    "print(type(x), type(y), type(z))"
   ]
  },
  {
   "cell_type": "code",
   "execution_count": 75,
   "id": "127babf0-dcef-45d0-a003-46687f17c8b1",
   "metadata": {},
   "outputs": [
    {
     "data": {
      "text/plain": [
       "(10, 20, 30)"
      ]
     },
     "execution_count": 75,
     "metadata": {},
     "output_type": "execute_result"
    }
   ],
   "source": [
    "a,b,c =10,20,30 #unfacking #a=10; b=20; c=30\n",
    "a,b,c "
   ]
  },
  {
   "cell_type": "code",
   "execution_count": 76,
   "id": "b87be89a-74c9-44e8-9f5e-2e52efa0a68a",
   "metadata": {},
   "outputs": [
    {
     "data": {
      "text/plain": [
       "(40, 40, 40)"
      ]
     },
     "execution_count": 76,
     "metadata": {},
     "output_type": "execute_result"
    }
   ],
   "source": [
    "a = b = c = 40\n",
    "a,b,c"
   ]
  },
  {
   "cell_type": "code",
   "execution_count": 77,
   "id": "673a6034-3eee-487d-bfce-5ff0351fd614",
   "metadata": {},
   "outputs": [
    {
     "data": {
      "text/plain": [
       "(True, None)"
      ]
     },
     "execution_count": 77,
     "metadata": {},
     "output_type": "execute_result"
    }
   ],
   "source": [
    "d = True #bool형\n",
    "e = None #type이 없음 Nonetype\n",
    "d,e"
   ]
  },
  {
   "cell_type": "code",
   "execution_count": 1,
   "id": "557fb4f1-8b2f-49c6-a903-c5f619c8b8ce",
   "metadata": {},
   "outputs": [
    {
     "name": "stdout",
     "output_type": "stream",
     "text": [
      "10 10\n"
     ]
    },
    {
     "data": {
      "text/plain": [
       "(140714362940120, 140714362940120)"
      ]
     },
     "execution_count": 1,
     "metadata": {},
     "output_type": "execute_result"
    }
   ],
   "source": [
    "a = 10; b = a\n",
    "print(a,b)\n",
    "id(a), id(b)"
   ]
  },
  {
   "cell_type": "code",
   "execution_count": 83,
   "id": "89eb0722-2173-4f21-a30b-5b77f75da7d6",
   "metadata": {},
   "outputs": [
    {
     "name": "stdout",
     "output_type": "stream",
     "text": [
      "20 10\n"
     ]
    }
   ],
   "source": [
    "a = 20 \n",
    "print(a,b)"
   ]
  },
  {
   "cell_type": "code",
   "execution_count": 84,
   "id": "aacd50a6-6b8f-46f2-a02d-c3cf0f54cc34",
   "metadata": {},
   "outputs": [
    {
     "data": {
      "text/plain": [
       "(140714362940440, 140714362940120)"
      ]
     },
     "execution_count": 84,
     "metadata": {},
     "output_type": "execute_result"
    }
   ],
   "source": [
    "id(a), id(b)"
   ]
  },
  {
   "cell_type": "code",
   "execution_count": 2,
   "id": "f8ce1c60-4f31-4bb2-a81e-6b0766b8cd36",
   "metadata": {},
   "outputs": [
    {
     "name": "stdout",
     "output_type": "stream",
     "text": [
      "10 10\n"
     ]
    },
    {
     "data": {
      "text/plain": [
       "(140714362940120, 140714362940120)"
      ]
     },
     "execution_count": 2,
     "metadata": {},
     "output_type": "execute_result"
    }
   ],
   "source": [
    "aa = 10; bb = 10;\n",
    "print(aa,bb)\n",
    "id(aa), id(bb)"
   ]
  },
  {
   "cell_type": "code",
   "execution_count": 3,
   "id": "77983fc1-6ab1-4852-9d45-8e0a788ea40e",
   "metadata": {},
   "outputs": [],
   "source": [
    "#의미 부여 하기 어려운 변수명 > 수식이 아닌 경우는 사용하지 않음\n",
    "x = 100\n",
    "y = 100\n",
    "\n",
    "# 의미 있는 변수명 \n",
    "age = 20\n",
    "name = '김영리'\n",
    "user_name = 'Alic'\n",
    "admin_name = 'Bob'\n",
    "\n",
    "#대문자 Upper-case 상수에 사용\n",
    "PI = 3.141592\n",
    "MAX_CONNECTIONS = 10 #최대 연결 수\n",
    "MAX_VALUE = 0 #최솟값\n"
   ]
  },
  {
   "cell_type": "markdown",
   "id": "91658119-dc39-411b-875b-71f7f8be072e",
   "metadata": {},
   "source": [
    "[NAME_SPACE] \n",
    "\n",
    "변수가 최초로 정의된 영역에 따라 유효범위가 결정됩니다.\n",
    "\n",
    "- 지역변수 : 함수 영역 내에서 선언한 변수\n",
    "- 전역변수 : 함수 영역 밖에서 선언한 변수, global 키워드\n",
    "- 정적변수 : 클래스에서 사용하는 변수"
   ]
  },
  {
   "cell_type": "code",
   "execution_count": 12,
   "id": "111b6dcb-965e-4bd6-9e42-0d8d44c30346",
   "metadata": {},
   "outputs": [],
   "source": [
    "#지역변수\n",
    "def local_example():\n",
    "    local_var = 100\n",
    "    print('여기는 함수의 영역입니다. '+ local_var)\n",
    "\n",
    "#local_var #NameError: name 'Local_var' is not defined"
   ]
  },
  {
   "cell_type": "code",
   "execution_count": 26,
   "id": "e7f69cee-c811-4c14-8010-fe6c34a91177",
   "metadata": {},
   "outputs": [
    {
     "name": "stdout",
     "output_type": "stream",
     "text": [
      "나는 전역이다\n",
      "여기는 함수의 영역입니다.  100\n",
      "나는 전역이다\n"
     ]
    }
   ],
   "source": [
    "#전역 변수\n",
    "var_test = '나는 전역이다'\n",
    "print(var_test)\n",
    "\n",
    "def global_example():\n",
    "    var_test = 100\n",
    "    print('여기는 함수의 영역입니다. ', var_test)\n",
    "\n",
    "global_example()\n",
    "print(var_test)"
   ]
  },
  {
   "cell_type": "markdown",
   "id": "9484a2c2-aa35-4499-af05-63a6cfbaa836",
   "metadata": {},
   "source": [
    "# 연습2"
   ]
  },
  {
   "cell_type": "code",
   "execution_count": 31,
   "id": "726e190d-25b4-4485-bc9c-4d92d82892a2",
   "metadata": {},
   "outputs": [
    {
     "name": "stdout",
     "output_type": "stream",
     "text": [
      "카운터: 1\n",
      "카운터: 2\n",
      "카운터: 3\n"
     ]
    }
   ],
   "source": [
    "#변수 영역 연습\n",
    "\n",
    "counter = 0 #global\n",
    "\n",
    "def increment_counter():\n",
    "    global counter\n",
    "    counter += 1\n",
    "    print(f\"카운터: {counter}\")\n",
    "\n",
    "increment_counter() #출력: 카운터 1\n",
    "increment_counter() #출력: 카운터 2\n",
    "increment_counter() #출력: 카운터 3"
   ]
  },
  {
   "cell_type": "code",
   "execution_count": 41,
   "id": "6845e5d4-e816-46dc-8971-0647d1d1cbe1",
   "metadata": {},
   "outputs": [
    {
     "data": {
      "text/plain": [
       "True"
      ]
     },
     "execution_count": 41,
     "metadata": {},
     "output_type": "execute_result"
    }
   ],
   "source": [
    "a= (2,3,4) ; a=b\n",
    "a is b"
   ]
  },
  {
   "cell_type": "code",
   "execution_count": 45,
   "id": "6cca0b57-20e7-4b36-925e-2f8886b1773c",
   "metadata": {},
   "outputs": [
    {
     "data": {
      "text/plain": [
       "1968665166080"
      ]
     },
     "execution_count": 45,
     "metadata": {},
     "output_type": "execute_result"
    }
   ],
   "source": [
    "a=[1,2,3]\n",
    "id(a)"
   ]
  },
  {
   "cell_type": "code",
   "execution_count": 46,
   "id": "d82bb811-e4e9-4c90-b2d1-e0ef47d633ac",
   "metadata": {},
   "outputs": [],
   "source": [
    "a=[1,2,3]\n",
    "b = a"
   ]
  },
  {
   "cell_type": "code",
   "execution_count": 47,
   "id": "5817cd01-0543-4b31-b705-a73b693f52e0",
   "metadata": {},
   "outputs": [
    {
     "data": {
      "text/plain": [
       "True"
      ]
     },
     "execution_count": 47,
     "metadata": {},
     "output_type": "execute_result"
    }
   ],
   "source": [
    "a is b"
   ]
  },
  {
   "cell_type": "code",
   "execution_count": 48,
   "id": "07d0b639-e7a7-49dc-b0b2-684798ae003b",
   "metadata": {},
   "outputs": [
    {
     "data": {
      "text/plain": [
       "[1, 4, 3]"
      ]
     },
     "execution_count": 48,
     "metadata": {},
     "output_type": "execute_result"
    }
   ],
   "source": [
    "a[1]=4\n",
    "a"
   ]
  },
  {
   "cell_type": "code",
   "execution_count": 49,
   "id": "b02faa9e-e5ce-4bd6-a366-2e6b1d859f4f",
   "metadata": {},
   "outputs": [
    {
     "data": {
      "text/plain": [
       "[1, 4, 3]"
      ]
     },
     "execution_count": 49,
     "metadata": {},
     "output_type": "execute_result"
    }
   ],
   "source": [
    "b"
   ]
  },
  {
   "cell_type": "code",
   "execution_count": 52,
   "id": "c0522b4e-fa56-4f80-9bf4-1b9956a38641",
   "metadata": {},
   "outputs": [
    {
     "name": "stdout",
     "output_type": "stream",
     "text": [
      "[1, 4, 3] [1, 2, 3]\n"
     ]
    }
   ],
   "source": [
    "a = [1,2,3]\n",
    "b = a[:]\n",
    "a[1] = 4\n",
    "a\n",
    "print(a,b)"
   ]
  },
  {
   "cell_type": "code",
   "execution_count": 53,
   "id": "c83befd1-a21d-468c-aeed-6bc3871c68bc",
   "metadata": {},
   "outputs": [],
   "source": [
    "from copy import copy\n",
    "a = [1,2,3]\n",
    "b = copy(a)"
   ]
  },
  {
   "cell_type": "code",
   "execution_count": 56,
   "id": "974c175a-308c-4bfd-b6dd-c2bd1e2eb0de",
   "metadata": {},
   "outputs": [
    {
     "data": {
      "text/plain": [
       "False"
      ]
     },
     "execution_count": 56,
     "metadata": {},
     "output_type": "execute_result"
    }
   ],
   "source": [
    "b is a"
   ]
  },
  {
   "cell_type": "code",
   "execution_count": 57,
   "id": "c6eaae53-9a25-4592-ba86-006a116c390b",
   "metadata": {},
   "outputs": [],
   "source": [
    "a, b=('python','life')"
   ]
  },
  {
   "cell_type": "code",
   "execution_count": 58,
   "id": "a0bb18e9-2211-46b1-8e99-0483807efd76",
   "metadata": {},
   "outputs": [
    {
     "name": "stdout",
     "output_type": "stream",
     "text": [
      "5 3\n"
     ]
    }
   ],
   "source": [
    "a =3 \n",
    "b = 5\n",
    "a,b = b,a\n",
    "print(a,b)"
   ]
  },
  {
   "cell_type": "markdown",
   "id": "14a09811-f976-4f0a-86bf-93c0c6611883",
   "metadata": {},
   "source": [
    "# 초보자를 위한 파이썬 300제"
   ]
  },
  {
   "cell_type": "code",
   "execution_count": 60,
   "id": "d7dd6230-f0e1-4c43-bcf1-d9860de02e84",
   "metadata": {},
   "outputs": [
    {
     "name": "stdout",
     "output_type": "stream",
     "text": [
      "Hello World\n"
     ]
    }
   ],
   "source": [
    "print(\"Hello World\")"
   ]
  },
  {
   "cell_type": "code",
   "execution_count": 61,
   "id": "3805d80b-c1c8-4e04-a3f2-c5f38e45a2a1",
   "metadata": {},
   "outputs": [
    {
     "name": "stdout",
     "output_type": "stream",
     "text": [
      "Mary's cosmetics\n"
     ]
    }
   ],
   "source": [
    "print(\"Mary's cosmetics\")"
   ]
  },
  {
   "cell_type": "code",
   "execution_count": 62,
   "id": "23f7843a-edaf-4efc-b1dd-0a6eaa040b74",
   "metadata": {},
   "outputs": [
    {
     "name": "stdout",
     "output_type": "stream",
     "text": [
      "신씨가 소리질렀다. \"도둑이야\".\n"
     ]
    }
   ],
   "source": [
    "print('신씨가 소리질렀다. \"도둑이야\".')"
   ]
  },
  {
   "cell_type": "code",
   "execution_count": 66,
   "id": "3d7e9487-c26b-4002-8247-f4a85d2b268e",
   "metadata": {},
   "outputs": [],
   "source": [
    "#print(\"C:\\windows\")"
   ]
  },
  {
   "cell_type": "code",
   "execution_count": 67,
   "id": "c7bb827b-6102-4a84-ae2b-1370b9a7ef77",
   "metadata": {},
   "outputs": [
    {
     "name": "stdout",
     "output_type": "stream",
     "text": [
      "안녕하세요.\n",
      "만나서\t\t반갑습니다.\n"
     ]
    }
   ],
   "source": [
    "print(\"안녕하세요.\\n만나서\\t\\t반갑습니다.\") #\\n은 줄바꿈, \\t는 들여쓰기"
   ]
  },
  {
   "cell_type": "code",
   "execution_count": 68,
   "id": "27b4221c-af4f-45e7-a131-ea5eec0b41dd",
   "metadata": {},
   "outputs": [
    {
     "name": "stdout",
     "output_type": "stream",
     "text": [
      "오늘은 일요일\n"
     ]
    }
   ],
   "source": [
    "#오늘은 일요일\n",
    "print(\"오늘은\", \"일요일\")"
   ]
  },
  {
   "cell_type": "code",
   "execution_count": 72,
   "id": "1f4c48d8-7954-47c2-9ac9-a602c6278418",
   "metadata": {},
   "outputs": [
    {
     "name": "stdout",
     "output_type": "stream",
     "text": [
      "naver/kakao/sk/samsung\n"
     ]
    }
   ],
   "source": [
    "print(\"naver\", \"kakao\",\"sk\", \"samsung\", sep=\"/\")"
   ]
  },
  {
   "cell_type": "code",
   "execution_count": 74,
   "id": "10075b93-7548-4972-a24f-fe0f595527e1",
   "metadata": {},
   "outputs": [
    {
     "name": "stdout",
     "output_type": "stream",
     "text": [
      "firstsecond\n"
     ]
    }
   ],
   "source": [
    "print(\"first\", end=\"\"); print(\"second\")"
   ]
  },
  {
   "cell_type": "code",
   "execution_count": 76,
   "id": "54c14635-56f3-4045-9ae0-5625becbbb38",
   "metadata": {},
   "outputs": [
    {
     "name": "stdout",
     "output_type": "stream",
     "text": [
      "1.6666666666666667\n"
     ]
    }
   ],
   "source": [
    "print(5/3)"
   ]
  },
  {
   "cell_type": "code",
   "execution_count": 78,
   "id": "5bf43994-2e95-46ed-a5c8-55d1b4a2008e",
   "metadata": {},
   "outputs": [
    {
     "name": "stdout",
     "output_type": "stream",
     "text": [
      "500000\n"
     ]
    }
   ],
   "source": [
    "#삼성전자라는 변수로 50,000원을 바인딩해보세요. 삼성전자 주식 10주를 보유하고 있을 때 총 평가금액을 출력하세요.\n",
    "삼성전자 = 50000\n",
    "총평가금액 = 삼성전자 * 10\n",
    "print(총평가금액)"
   ]
  },
  {
   "cell_type": "code",
   "execution_count": 80,
   "id": "3a3a62ee-cbad-44d3-a132-2b1b270dff77",
   "metadata": {},
   "outputs": [
    {
     "name": "stdout",
     "output_type": "stream",
     "text": [
      "298000000000000 <class 'int'>\n",
      "50000 <class 'int'>\n",
      "15.79 <class 'float'>\n"
     ]
    }
   ],
   "source": [
    "시가총액 = 298000000000000\n",
    "현재가 = 50000\n",
    "PER = 15.79\n",
    "print(시가총액, type(시가총액))\n",
    "print(현재가, type(현재가))\n",
    "print(PER, type(PER))"
   ]
  },
  {
   "cell_type": "code",
   "execution_count": 81,
   "id": "744304da-69d7-409d-bb57-aff680a2fc8d",
   "metadata": {},
   "outputs": [
    {
     "name": "stdout",
     "output_type": "stream",
     "text": [
      "hello! python\n"
     ]
    }
   ],
   "source": [
    "s = 'hello'\n",
    "t = 'python'\n",
    "print(s + '!' ,t)"
   ]
  },
  {
   "cell_type": "code",
   "execution_count": 82,
   "id": "8edd130f-1d25-4d26-aa26-7b589487617a",
   "metadata": {},
   "outputs": [
    {
     "name": "stdout",
     "output_type": "stream",
     "text": [
      "8\n"
     ]
    }
   ],
   "source": [
    "print(2+2*3)"
   ]
  },
  {
   "cell_type": "code",
   "execution_count": 84,
   "id": "e0622344-476e-44fe-bde4-050116b64fc1",
   "metadata": {},
   "outputs": [
    {
     "name": "stdout",
     "output_type": "stream",
     "text": [
      "<class 'str'>\n"
     ]
    }
   ],
   "source": [
    "a=\"132\"\n",
    "print(type(a))"
   ]
  },
  {
   "cell_type": "code",
   "execution_count": 87,
   "id": "32c20c69-dc78-45d8-ad35-fd3108cfe44e",
   "metadata": {},
   "outputs": [
    {
     "name": "stdout",
     "output_type": "stream",
     "text": [
      "721 <class 'int'>\n"
     ]
    }
   ],
   "source": [
    "num_str=\"720\"\n",
    "num_int = int(num_str)\n",
    "print(num_int+1, type(num_int))"
   ]
  },
  {
   "cell_type": "code",
   "execution_count": 89,
   "id": "9b81a3d2-2e05-4a5d-adcd-4e0b083a3e24",
   "metadata": {},
   "outputs": [
    {
     "name": "stdout",
     "output_type": "stream",
     "text": [
      "15.79 <class 'float'>\n"
     ]
    }
   ],
   "source": [
    "data = \"15.79\"\n",
    "data = float(data)\n",
    "print(data, type(data))"
   ]
  },
  {
   "cell_type": "code",
   "execution_count": 91,
   "id": "7d658c52-1e41-43b6-8ee5-b76811eefd3f",
   "metadata": {},
   "outputs": [
    {
     "name": "stdout",
     "output_type": "stream",
     "text": [
      "2017\n",
      "2018\n",
      "2019\n"
     ]
    }
   ],
   "source": [
    "year = \"2020\"\n",
    "print(int(year)-3)\n",
    "print(int(year)-2)\n",
    "print(int(year)-1)"
   ]
  },
  {
   "cell_type": "code",
   "execution_count": 93,
   "id": "a72cdcf3-4d08-417b-b286-d3dd5bc4dab2",
   "metadata": {},
   "outputs": [
    {
     "name": "stdout",
     "output_type": "stream",
     "text": [
      "1749024\n"
     ]
    }
   ],
   "source": [
    "월 = 48584\n",
    "총금액 = 월 * 36\n",
    "print(총금액)"
   ]
  },
  {
   "cell_type": "markdown",
   "id": "628fa01f-7dda-4819-8954-3f42b2b21341",
   "metadata": {},
   "source": [
    "# 자료형"
   ]
  },
  {
   "cell_type": "markdown",
   "id": "28425ff6-bcab-40ac-af65-d016d1a4cd00",
   "metadata": {},
   "source": [
    "기본 자료형 : 숫자형, 문자열형 str, bool형\n",
    "복합 자료형 : 리스트, 셋, 튜플, 딕셔너리"
   ]
  },
  {
   "cell_type": "markdown",
   "id": "c105eb01-35da-4a15-b798-756051fde30a",
   "metadata": {},
   "source": [
    "|type|설명|예|\n",
    "|--------|--------|--------|\n",
    "|정수형(int)| 정수를 저장하는 자료형 | 1, -5, 100|\n",
    "|실수형(float)| 소수점이 있는 숫자를 저장하는 자료형 | 3.14, -0.001, 2.0|\n",
    "|문자열(str)| 텍스트를 저장하는 자료형 | \"Hello\", \"파이썬\"|\n",
    "|논리형(bool)| 참/거짓 값을 저장하는 자료형 | True, False|"
   ]
  },
  {
   "cell_type": "markdown",
   "id": "1c175146-4ab9-427a-9c6f-93be71954138",
   "metadata": {},
   "source": [
    "- 수정 가능한 데이터 타입 : 리스트, 딕녀너리, 셋\n",
    "- 수정 불가능한 데이터 타입 : 수치형, 부울형, 문자열, 튜플"
   ]
  },
  {
   "cell_type": "code",
   "execution_count": 95,
   "id": "d59087e3-c3d6-4fc0-94d4-3bb22fe9e874",
   "metadata": {},
   "outputs": [
    {
     "data": {
      "text/plain": [
       "(20, int)"
      ]
     },
     "execution_count": 95,
     "metadata": {},
     "output_type": "execute_result"
    }
   ],
   "source": [
    "#수치형 -int\n",
    "20, type(20)"
   ]
  },
  {
   "cell_type": "code",
   "execution_count": 96,
   "id": "a5c96b76-e72c-432b-bb29-c92dde3368bb",
   "metadata": {},
   "outputs": [
    {
     "data": {
      "text/plain": [
       "int"
      ]
     },
     "execution_count": 96,
     "metadata": {},
     "output_type": "execute_result"
    }
   ],
   "source": [
    "age = 20\n",
    "type(age)"
   ]
  },
  {
   "cell_type": "markdown",
   "id": "fcf45f58-24d5-4a16-907d-1e6d44324f4b",
   "metadata": {},
   "source": [
    "1. 진법 : 10진수, 2진수, 8진수, 16진수\n",
    "2. 입력하는 방법은 다르지만, print() 결과는 동일하다."
   ]
  },
  {
   "cell_type": "code",
   "execution_count": 97,
   "id": "940fbdb8-1458-4207-8625-6d6c04f7b3f5",
   "metadata": {},
   "outputs": [
    {
     "data": {
      "text/plain": [
       "(10, 5)"
      ]
     },
     "execution_count": 97,
     "metadata": {},
     "output_type": "execute_result"
    }
   ],
   "source": [
    "a = 10\n",
    "b = 0b0101 #2진수 - 0/1 로 표현하는 방법 -> 0101 = 2^2 + 2^0\n",
    "a,b"
   ]
  },
  {
   "cell_type": "code",
   "execution_count": 100,
   "id": "4eb71a05-2bfa-47e1-bae0-b174914f5190",
   "metadata": {},
   "outputs": [
    {
     "data": {
      "text/plain": [
       "1138"
      ]
     },
     "execution_count": 100,
     "metadata": {},
     "output_type": "execute_result"
    }
   ],
   "source": [
    "0b00010001110010"
   ]
  },
  {
   "cell_type": "code",
   "execution_count": 105,
   "id": "06b67c88-dbec-4d5f-b170-9e80af784490",
   "metadata": {},
   "outputs": [
    {
     "data": {
      "text/plain": [
       "8"
      ]
     },
     "execution_count": 105,
     "metadata": {},
     "output_type": "execute_result"
    }
   ],
   "source": [
    "c=0o10 #0o 8진수 10 -> 8^1 + 8^0 =8*1 + 0*0 = 8\n",
    "c"
   ]
  },
  {
   "cell_type": "code",
   "execution_count": 103,
   "id": "4cf21084-1fce-4258-b6b1-ec572517de98",
   "metadata": {},
   "outputs": [
    {
     "data": {
      "text/plain": [
       "8"
      ]
     },
     "execution_count": 103,
     "metadata": {},
     "output_type": "execute_result"
    }
   ],
   "source": [
    "d=0b1000\n",
    "d"
   ]
  },
  {
   "cell_type": "code",
   "execution_count": 109,
   "id": "c27f30ce-2a4c-4374-b98e-3b5f4d1d6572",
   "metadata": {},
   "outputs": [
    {
     "data": {
      "text/plain": [
       "365"
      ]
     },
     "execution_count": 109,
     "metadata": {},
     "output_type": "execute_result"
    }
   ],
   "source": [
    "e = 0x16d #1*16^2 + 6* 16^1 + 13*16*0 =256+96+1\n",
    "e"
   ]
  },
  {
   "cell_type": "raw",
   "id": "8bd2d7a2-27b6-4486-8f81-d92994f677de",
   "metadata": {},
   "source": [
    "#float"
   ]
  },
  {
   "cell_type": "code",
   "execution_count": null,
   "id": "3cc9d5d9-9366-48ae-9716-cdf172990041",
   "metadata": {},
   "outputs": [],
   "source": [
    "지수의 표기\n",
    "숫자e2 -> 10^2 -> 10**2\n",
    "숫자e-2 -> 10^-2 -> 10**-2"
   ]
  },
  {
   "cell_type": "code",
   "execution_count": 112,
   "id": "a453503b-b08b-4108-8c66-77139fab8de6",
   "metadata": {},
   "outputs": [
    {
     "data": {
      "text/plain": [
       "1000.0"
      ]
     },
     "execution_count": 112,
     "metadata": {},
     "output_type": "execute_result"
    }
   ],
   "source": [
    "fa = 10e2\n",
    "fa, 10**2"
   ]
  },
  {
   "cell_type": "code",
   "execution_count": 114,
   "id": "32701878-fe63-4dc5-9a13-473a33b3597f",
   "metadata": {},
   "outputs": [
    {
     "data": {
      "text/plain": [
       "0.1"
      ]
     },
     "execution_count": 114,
     "metadata": {},
     "output_type": "execute_result"
    }
   ],
   "source": [
    "fb =10e-2\n",
    "fb"
   ]
  },
  {
   "cell_type": "code",
   "execution_count": 115,
   "id": "d9fce39d-4bb2-4ff9-8e93-f32a43c50e64",
   "metadata": {},
   "outputs": [
    {
     "data": {
      "text/plain": [
       "3141500000.0"
      ]
     },
     "execution_count": 115,
     "metadata": {},
     "output_type": "execute_result"
    }
   ],
   "source": [
    "fc = 3.1415e9\n",
    "fc"
   ]
  },
  {
   "cell_type": "markdown",
   "id": "748a0474-11ef-4a03-8aa7-682dbb1efd5f",
   "metadata": {},
   "source": [
    "BOOLEAN값 - TRUE, FALSE\n",
    "논리연산, 비교연산"
   ]
  },
  {
   "cell_type": "markdown",
   "id": "0a40a410-9fa9-4262-957b-0657a17711a3",
   "metadata": {},
   "source": [
    "ba = True\n",
    "bb = true        #값이 없는 변수이기 떄문\n",
    "type(ba), type(bb)"
   ]
  },
  {
   "cell_type": "code",
   "execution_count": 120,
   "id": "33e9cba5-2cf8-4075-9852-eb16ecacfa9f",
   "metadata": {},
   "outputs": [
    {
     "data": {
      "text/plain": [
       "(bool, True, True, False)"
      ]
     },
     "execution_count": 120,
     "metadata": {},
     "output_type": "execute_result"
    }
   ],
   "source": [
    "type(ba), ba, ba == 1, ba==0"
   ]
  },
  {
   "cell_type": "code",
   "execution_count": 121,
   "id": "8d842e48-97d4-44e8-9997-9a4be1adcca4",
   "metadata": {},
   "outputs": [
    {
     "data": {
      "text/plain": [
       "False"
      ]
     },
     "execution_count": 121,
     "metadata": {},
     "output_type": "execute_result"
    }
   ],
   "source": [
    "ba == 'True'"
   ]
  },
  {
   "cell_type": "markdown",
   "id": "1267c0ac-59e3-45ec-a9f0-986eaf0c79c9",
   "metadata": {},
   "source": [
    "#논리 연산자 - and or not\n",
    "\n",
    "bc =1 \n",
    "ba and bc"
   ]
  },
  {
   "cell_type": "code",
   "execution_count": 127,
   "id": "6996cd5d-d8b6-4515-8b69-9ed5ec4192d9",
   "metadata": {},
   "outputs": [
    {
     "data": {
      "text/plain": [
       "(5, -1, 6, 0.6666666666666666, 2, 0)"
      ]
     },
     "execution_count": 127,
     "metadata": {},
     "output_type": "execute_result"
    }
   ],
   "source": [
    "# 사칙연산 + - * / // % \n",
    "a = 2\n",
    "b = 3\n",
    "a+b, a-b, a*b, a/b, a%b ,a//b #나머지, 몫"
   ]
  },
  {
   "cell_type": "code",
   "execution_count": 132,
   "id": "8ba95600-a6f6-4175-8c1a-efce1becefe4",
   "metadata": {},
   "outputs": [
    {
     "data": {
      "text/plain": [
       "(True, False, True, True)"
      ]
     },
     "execution_count": 132,
     "metadata": {},
     "output_type": "execute_result"
    }
   ],
   "source": [
    "#비교 연산자\n",
    "1+2 == 3, 1+2 != 3 , 1 + 3 > 3 , 1+3<=4"
   ]
  },
  {
   "cell_type": "code",
   "execution_count": 135,
   "id": "8fb11715-c07f-4764-bcfa-0bbc64950d2d",
   "metadata": {},
   "outputs": [
    {
     "data": {
      "text/plain": [
       "True"
      ]
     },
     "execution_count": 135,
     "metadata": {},
     "output_type": "execute_result"
    }
   ],
   "source": [
    "#비교 연산자와 논리 연산자의 결합\n",
    "10%2 == 0 and 12%3 == 0"
   ]
  },
  {
   "cell_type": "code",
   "execution_count": 136,
   "id": "0abc9652-c684-4753-a72f-361f4ad513cd",
   "metadata": {},
   "outputs": [
    {
     "data": {
      "text/plain": [
       "('1234', '5678', 1968627963616, 1968667225440)"
      ]
     },
     "execution_count": 136,
     "metadata": {},
     "output_type": "execute_result"
    }
   ],
   "source": [
    "a = '1234'\n",
    "b = '5678'\n",
    "a,b, id(a), id(b)"
   ]
  },
  {
   "cell_type": "code",
   "execution_count": 138,
   "id": "558616a5-d70a-4d4a-821e-98bad5fd8f63",
   "metadata": {},
   "outputs": [
    {
     "data": {
      "text/plain": [
       "(10, 12)"
      ]
     },
     "execution_count": 138,
     "metadata": {},
     "output_type": "execute_result"
    }
   ],
   "source": [
    "#대입연산자\n",
    "a = 10\n",
    "b = a + 2\n",
    "a,b"
   ]
  },
  {
   "cell_type": "code",
   "execution_count": 218,
   "id": "d05e5391-cd32-4abc-b626-8b97eb900b20",
   "metadata": {},
   "outputs": [
    {
     "data": {
      "text/plain": [
       "(21, 21, 21, 21, 21, 21, 21)"
      ]
     },
     "execution_count": 218,
     "metadata": {},
     "output_type": "execute_result"
    }
   ],
   "source": [
    "a= 20\n",
    "a+=1  #a = a + 1\n",
    "a,a,a,a,a,a,a"
   ]
  },
  {
   "cell_type": "code",
   "execution_count": 219,
   "id": "c4ae65ca-a677-4120-b419-ffa99cc638e3",
   "metadata": {},
   "outputs": [
    {
     "data": {
      "text/plain": [
       "20"
      ]
     },
     "execution_count": 219,
     "metadata": {},
     "output_type": "execute_result"
    }
   ],
   "source": [
    "a -=1     #a = a - 1, 21 -1 =20\n",
    "a"
   ]
  },
  {
   "cell_type": "code",
   "execution_count": 232,
   "id": "62cfacf6-76ea-4763-800a-93777d2703ea",
   "metadata": {},
   "outputs": [
    {
     "data": {
      "text/plain": [
       "7"
      ]
     },
     "execution_count": 232,
     "metadata": {},
     "output_type": "execute_result"
    }
   ],
   "source": [
    "#quiz \n",
    "a = 3\n",
    "b = 2\n",
    "a += 2 + b\n",
    "a"
   ]
  },
  {
   "cell_type": "code",
   "execution_count": null,
   "id": "1ca405b5-5f0e-470b-997f-e18e23426755",
   "metadata": {},
   "outputs": [],
   "source": [
    "#문자열 str \n",
    "' ', \" \", \"\"\"  \"\"\" , ''' ''' docstring"
   ]
  },
  {
   "cell_type": "code",
   "execution_count": 233,
   "id": "7046032a-bba7-410e-be25-84c477902e82",
   "metadata": {},
   "outputs": [
    {
     "data": {
      "text/plain": [
       "'hellopython'"
      ]
     },
     "execution_count": 233,
     "metadata": {},
     "output_type": "execute_result"
    }
   ],
   "source": [
    "a = 'hello'\n",
    "b = 'python'\n",
    "a+b"
   ]
  },
  {
   "cell_type": "code",
   "execution_count": 234,
   "id": "a3e28aca-bfa7-43e8-93c2-4da52f622895",
   "metadata": {},
   "outputs": [
    {
     "data": {
      "text/plain": [
       "'**********'"
      ]
     },
     "execution_count": 234,
     "metadata": {},
     "output_type": "execute_result"
    }
   ],
   "source": [
    "c = '*'\n",
    "c*10\n"
   ]
  },
  {
   "cell_type": "code",
   "execution_count": 236,
   "id": "1a051dda-7152-4261-99b8-64e2d88d3ee4",
   "metadata": {},
   "outputs": [
    {
     "data": {
      "text/plain": [
       "True"
      ]
     },
     "execution_count": 236,
     "metadata": {},
     "output_type": "execute_result"
    }
   ],
   "source": [
    "e = '1'\n",
    "e == '1'"
   ]
  },
  {
   "cell_type": "code",
   "execution_count": 237,
   "id": "09e41764-65c6-43b0-90d1-8a3aa1599a32",
   "metadata": {},
   "outputs": [
    {
     "data": {
      "text/plain": [
       "'2'"
      ]
     },
     "execution_count": 237,
     "metadata": {},
     "output_type": "execute_result"
    }
   ],
   "source": [
    "#문자열은 리스트, 열거형\n",
    "a = '20010331Rabcd'\n",
    "a[0] #숫자 자리수 > 인덱스"
   ]
  },
  {
   "cell_type": "code",
   "execution_count": 239,
   "id": "ab144380-3105-4eb3-86f0-e240a57b4c90",
   "metadata": {},
   "outputs": [
    {
     "data": {
      "text/plain": [
       "'1'"
      ]
     },
     "execution_count": 239,
     "metadata": {},
     "output_type": "execute_result"
    }
   ],
   "source": [
    "a[3] #인덱싱"
   ]
  },
  {
   "cell_type": "code",
   "execution_count": 244,
   "id": "5c54e6f5-d147-4b21-bc9d-c8affe5e623b",
   "metadata": {},
   "outputs": [
    {
     "data": {
      "text/plain": [
       "'2001'"
      ]
     },
     "execution_count": 244,
     "metadata": {},
     "output_type": "execute_result"
    }
   ],
   "source": [
    "a[:4] #영역을 지정할 떄 : (콜론), 슬라이싱 slice"
   ]
  },
  {
   "cell_type": "code",
   "execution_count": 246,
   "id": "2a3de746-5743-4201-a5d4-86be4f1ddddd",
   "metadata": {},
   "outputs": [
    {
     "data": {
      "text/plain": [
       "'Rabcd'"
      ]
     },
     "execution_count": 246,
     "metadata": {},
     "output_type": "execute_result"
    }
   ],
   "source": [
    "#index = 0에서 시작\n",
    "a[8:]"
   ]
  },
  {
   "cell_type": "code",
   "execution_count": 247,
   "id": "0edd12bf-4b37-4dcb-8747-3f287a708128",
   "metadata": {},
   "outputs": [
    {
     "data": {
      "text/plain": [
       "True"
      ]
     },
     "execution_count": 247,
     "metadata": {},
     "output_type": "execute_result"
    }
   ],
   "source": [
    "s = 'abc'\n",
    "a = s\n",
    "a is s"
   ]
  },
  {
   "cell_type": "code",
   "execution_count": 248,
   "id": "c19c60fb-773f-4793-9eca-b6c90e18a847",
   "metadata": {},
   "outputs": [
    {
     "data": {
      "text/plain": [
       "True"
      ]
     },
     "execution_count": 248,
     "metadata": {},
     "output_type": "execute_result"
    }
   ],
   "source": [
    "b =s[:]\n",
    "a is b"
   ]
  },
  {
   "cell_type": "code",
   "execution_count": 250,
   "id": "ea38dc02-1803-4a5b-afac-60d9416fa52e",
   "metadata": {},
   "outputs": [
    {
     "data": {
      "text/plain": [
       "'1111111111111111111111111111111111111111111111111111111111111111111111111111111111111111111111111111111111111111111111111111111111111111111111111111111111111111111111111111111111111111111111111111111111111111111111111111111111111111111111111111111111111111111111111111111111111111111111111111111111111111111111111111111111111111111111111111111111111111111111111111111111111111111111111111111111111111111111111111111111111111111111111111111111111111111111111111111111111111111111111111111111111111111111111111111111111111111111111111111111111111111111111111111111111111111111111111111111111111111111111111111111111111111111111111111111111111111111111111111111111111111111111111111111111111111111111111111111111111111111111111111111111111111111111111111111111111111111111111111111111111111111111111111111111111111111111111111111111111111111111111111111111111111111111111111111111111111111111111111111111111111111111111111111111111111111111111111111111111111111111111111111111111111111111111111111111111'"
      ]
     },
     "execution_count": 250,
     "metadata": {},
     "output_type": "execute_result"
    }
   ],
   "source": [
    "s1 = '1'*1000\n",
    "s1"
   ]
  },
  {
   "cell_type": "code",
   "execution_count": 251,
   "id": "1f57544d-c0a1-48b6-ad57-50769cf3d19a",
   "metadata": {},
   "outputs": [
    {
     "data": {
      "text/plain": [
       "True"
      ]
     },
     "execution_count": 251,
     "metadata": {},
     "output_type": "execute_result"
    }
   ],
   "source": [
    "b =s1[:]\n",
    "s1 == b"
   ]
  },
  {
   "cell_type": "markdown",
   "id": "e1bcc435-d4da-41fb-bf67-9ad46b23cf02",
   "metadata": {},
   "source": [
    "1. 유니코드 문자표준\n",
    "2. 영어는 ascii -> 유니코드\n",
    "3. 한국어도 유니코드\n",
    "4. 유니코드가 글자의 크기에 따라 utf-8, [utf-16,utf-32]\n",
    "5. 파이썬의 문자열 str -> unicode 기반이다.\n",
    "6. euc-kr 예전에 우리나라에서 쓰던 한글코드\n",
    "7. cp949 :예전에 MS 윈도우즈의 한글코드"
   ]
  },
  {
   "cell_type": "code",
   "execution_count": 5,
   "id": "573fbe10-19a9-4f4d-9de1-ff51d9eb2c47",
   "metadata": {},
   "outputs": [
    {
     "name": "stdout",
     "output_type": "stream",
     "text": [
      "파이썬\n",
      "54028\n"
     ]
    }
   ],
   "source": [
    "text = \"파이썬\"\n",
    "print(text)\n",
    "print( ord('파') )"
   ]
  },
  {
   "cell_type": "code",
   "execution_count": 18,
   "id": "fea28549-1298-4471-9c5c-dfe309549691",
   "metadata": {},
   "outputs": [
    {
     "data": {
      "text/plain": [
       "b'\\xed\\x8c\\x8c\\xec\\x9d\\xb4\\xec\\x8d\\xac'"
      ]
     },
     "execution_count": 18,
     "metadata": {},
     "output_type": "execute_result"
    }
   ],
   "source": [
    "#인코딩\n",
    "enc_text = text.encode('utf-8')\n",
    "enc_text"
   ]
  },
  {
   "cell_type": "code",
   "execution_count": 13,
   "id": "e497d099-63b6-46f4-989a-a883d1ba59a2",
   "metadata": {},
   "outputs": [
    {
     "data": {
      "text/plain": [
       "'파이썬'"
      ]
     },
     "execution_count": 13,
     "metadata": {},
     "output_type": "execute_result"
    }
   ],
   "source": [
    "#디코딩\n",
    "dec_text = enc_text.decode('utf-8')\n",
    "dec_text"
   ]
  },
  {
   "cell_type": "markdown",
   "id": "12cf5c1d-ade1-412f-9f26-7366da98da1c",
   "metadata": {},
   "source": [
    "1. 파이썬의 인덱스는 0부터 시작\n",
    "2. 음수 인덱스 : 뒤에서부터 -1"
   ]
  },
  {
   "cell_type": "code",
   "execution_count": 20,
   "id": "6bc64c21-1de7-4ea1-99e9-2b80a712bbd4",
   "metadata": {},
   "outputs": [
    {
     "data": {
      "text/plain": [
       "' docstring \\n\\nstart \\n\\nend \\n\\n'"
      ]
     },
     "execution_count": 20,
     "metadata": {},
     "output_type": "execute_result"
    }
   ],
   "source": [
    "''' docstring \\n\n",
    "start \\n\n",
    "end \\n\n",
    "'''"
   ]
  },
  {
   "cell_type": "code",
   "execution_count": 22,
   "id": "a45da8f9-18f2-4e7b-86ed-37e693e465bb",
   "metadata": {},
   "outputs": [
    {
     "name": "stdout",
     "output_type": "stream",
     "text": [
      "docstring \n",
      "\n",
      "start \n",
      "\n",
      "end \n",
      "\n",
      "\n"
     ]
    },
    {
     "data": {
      "text/plain": [
       "'docstring \\n\\nstart \\n\\nend \\n\\n'"
      ]
     },
     "execution_count": 22,
     "metadata": {},
     "output_type": "execute_result"
    }
   ],
   "source": [
    "doc_string = '''docstring \\n\n",
    "start \\n\n",
    "end \\n\n",
    "'''\n",
    "print(doc_string)\n",
    "doc_string"
   ]
  },
  {
   "cell_type": "code",
   "execution_count": 23,
   "id": "b4fcc04d-f7f9-420e-9e7f-67f840959291",
   "metadata": {},
   "outputs": [
    {
     "data": {
      "text/plain": [
       "str"
      ]
     },
     "execution_count": 23,
     "metadata": {},
     "output_type": "execute_result"
    }
   ],
   "source": [
    "type(text)"
   ]
  },
  {
   "cell_type": "code",
   "execution_count": 24,
   "id": "afb92225-573e-4a34-9552-004773dd2be7",
   "metadata": {
    "scrolled": true
   },
   "outputs": [
    {
     "data": {
      "text/plain": [
       "['In',\n",
       " 'Out',\n",
       " '_',\n",
       " '_13',\n",
       " '_14',\n",
       " '_15',\n",
       " '_16',\n",
       " '_17',\n",
       " '_18',\n",
       " '_19',\n",
       " '_20',\n",
       " '_22',\n",
       " '_23',\n",
       " '_6',\n",
       " '_7',\n",
       " '_8',\n",
       " '__',\n",
       " '___',\n",
       " '__builtin__',\n",
       " '__builtins__',\n",
       " '__doc__',\n",
       " '__loader__',\n",
       " '__name__',\n",
       " '__package__',\n",
       " '__session__',\n",
       " '__spec__',\n",
       " '_dh',\n",
       " '_i',\n",
       " '_i1',\n",
       " '_i10',\n",
       " '_i11',\n",
       " '_i12',\n",
       " '_i13',\n",
       " '_i14',\n",
       " '_i15',\n",
       " '_i16',\n",
       " '_i17',\n",
       " '_i18',\n",
       " '_i19',\n",
       " '_i2',\n",
       " '_i20',\n",
       " '_i21',\n",
       " '_i22',\n",
       " '_i23',\n",
       " '_i24',\n",
       " '_i3',\n",
       " '_i4',\n",
       " '_i5',\n",
       " '_i6',\n",
       " '_i7',\n",
       " '_i8',\n",
       " '_i9',\n",
       " '_ih',\n",
       " '_ii',\n",
       " '_iii',\n",
       " '_oh',\n",
       " 'dec_text',\n",
       " 'doc_string',\n",
       " 'enc_text',\n",
       " 'exit',\n",
       " 'get_ipython',\n",
       " 'open',\n",
       " 'quit',\n",
       " 'text']"
      ]
     },
     "execution_count": 24,
     "metadata": {},
     "output_type": "execute_result"
    }
   ],
   "source": [
    "#str의 함수 \n",
    "\n",
    "dir()"
   ]
  },
  {
   "cell_type": "code",
   "execution_count": 25,
   "id": "b9deed1e-5f0e-4d34-8a62-e902a151ead3",
   "metadata": {
    "scrolled": true
   },
   "outputs": [
    {
     "data": {
      "text/plain": [
       "['__add__',\n",
       " '__class__',\n",
       " '__contains__',\n",
       " '__delattr__',\n",
       " '__dir__',\n",
       " '__doc__',\n",
       " '__eq__',\n",
       " '__format__',\n",
       " '__ge__',\n",
       " '__getattribute__',\n",
       " '__getitem__',\n",
       " '__getnewargs__',\n",
       " '__getstate__',\n",
       " '__gt__',\n",
       " '__hash__',\n",
       " '__init__',\n",
       " '__init_subclass__',\n",
       " '__iter__',\n",
       " '__le__',\n",
       " '__len__',\n",
       " '__lt__',\n",
       " '__mod__',\n",
       " '__mul__',\n",
       " '__ne__',\n",
       " '__new__',\n",
       " '__reduce__',\n",
       " '__reduce_ex__',\n",
       " '__repr__',\n",
       " '__rmod__',\n",
       " '__rmul__',\n",
       " '__setattr__',\n",
       " '__sizeof__',\n",
       " '__str__',\n",
       " '__subclasshook__',\n",
       " 'capitalize',\n",
       " 'casefold',\n",
       " 'center',\n",
       " 'count',\n",
       " 'encode',\n",
       " 'endswith',\n",
       " 'expandtabs',\n",
       " 'find',\n",
       " 'format',\n",
       " 'format_map',\n",
       " 'index',\n",
       " 'isalnum',\n",
       " 'isalpha',\n",
       " 'isascii',\n",
       " 'isdecimal',\n",
       " 'isdigit',\n",
       " 'isidentifier',\n",
       " 'islower',\n",
       " 'isnumeric',\n",
       " 'isprintable',\n",
       " 'isspace',\n",
       " 'istitle',\n",
       " 'isupper',\n",
       " 'join',\n",
       " 'ljust',\n",
       " 'lower',\n",
       " 'lstrip',\n",
       " 'maketrans',\n",
       " 'partition',\n",
       " 'removeprefix',\n",
       " 'removesuffix',\n",
       " 'replace',\n",
       " 'rfind',\n",
       " 'rindex',\n",
       " 'rjust',\n",
       " 'rpartition',\n",
       " 'rsplit',\n",
       " 'rstrip',\n",
       " 'split',\n",
       " 'splitlines',\n",
       " 'startswith',\n",
       " 'strip',\n",
       " 'swapcase',\n",
       " 'title',\n",
       " 'translate',\n",
       " 'upper',\n",
       " 'zfill']"
      ]
     },
     "execution_count": 25,
     "metadata": {},
     "output_type": "execute_result"
    }
   ],
   "source": [
    "dir(text)"
   ]
  },
  {
   "cell_type": "code",
   "execution_count": 35,
   "id": "dcc4c146-9065-44e2-b8e8-e43e9a144c90",
   "metadata": {},
   "outputs": [
    {
     "data": {
      "text/plain": [
       "'파이썬4'"
      ]
     },
     "execution_count": 35,
     "metadata": {},
     "output_type": "execute_result"
    }
   ],
   "source": [
    "text.__add__(\"4\")"
   ]
  },
  {
   "cell_type": "code",
   "execution_count": 31,
   "id": "d1e3ad5e-cd49-4a85-be53-37a7415cecd8",
   "metadata": {},
   "outputs": [
    {
     "data": {
      "text/plain": [
       "0"
      ]
     },
     "execution_count": 31,
     "metadata": {},
     "output_type": "execute_result"
    }
   ],
   "source": [
    "text.count('t')"
   ]
  },
  {
   "cell_type": "code",
   "execution_count": 37,
   "id": "b06c455d-cc80-4eeb-9f5f-ff4ea15edf1c",
   "metadata": {},
   "outputs": [
    {
     "data": {
      "text/plain": [
       "'파이썬4'"
      ]
     },
     "execution_count": 37,
     "metadata": {},
     "output_type": "execute_result"
    }
   ],
   "source": [
    "text + \"4\""
   ]
  },
  {
   "cell_type": "code",
   "execution_count": 42,
   "id": "399ec20c-164f-45b6-8cc8-f8d18ba8dd94",
   "metadata": {},
   "outputs": [
    {
     "data": {
      "text/plain": [
       "8026764794004708901"
      ]
     },
     "execution_count": 42,
     "metadata": {},
     "output_type": "execute_result"
    }
   ],
   "source": [
    "text.__hash__()"
   ]
  },
  {
   "cell_type": "markdown",
   "id": "29ff296f-e760-4c60-8e58-8cb92645f909",
   "metadata": {},
   "source": [
    "excape 문자 \n",
    "\\ '역슬래시'"
   ]
  },
  {
   "cell_type": "code",
   "execution_count": 47,
   "id": "456a0e38-e2d7-46f8-9569-0254a75bdd60",
   "metadata": {},
   "outputs": [
    {
     "name": "stdout",
     "output_type": "stream",
     "text": [
      "hello \n",
      " py'\n"
     ]
    }
   ],
   "source": [
    "print('hello \\n py\\'') #excape 문자는 특수문자를 그냥 텍스트로 인식하게 한다."
   ]
  },
  {
   "cell_type": "code",
   "execution_count": 50,
   "id": "58de1a87-f586-43a5-930f-8bc6f3635c82",
   "metadata": {},
   "outputs": [
    {
     "data": {
      "text/plain": [
       "'파이썬파이썬파이썬파이썬'"
      ]
     },
     "execution_count": 50,
     "metadata": {},
     "output_type": "execute_result"
    }
   ],
   "source": [
    "text.__mul__(4)"
   ]
  },
  {
   "cell_type": "code",
   "execution_count": null,
   "id": "baed7f3d-5214-4990-8c4a-25f7b4d67cfe",
   "metadata": {},
   "outputs": [],
   "source": [
    "raw-string : 모두 다 문자열이다 r'str?\\'\n",
    "f-string : 형기 코드가 내폰된 문자열이다 f'str{text}'"
   ]
  },
  {
   "cell_type": "code",
   "execution_count": 52,
   "id": "f11ea50e-63f2-4b0d-a4cc-af1d57ee12d6",
   "metadata": {},
   "outputs": [
    {
     "data": {
      "text/plain": [
       "'12\\\\4'"
      ]
     },
     "execution_count": 52,
     "metadata": {},
     "output_type": "execute_result"
    }
   ],
   "source": [
    "str_1 = '12\\\\4' #'12\\x04' \\는 escape 문자 > 무시하는 방법은 r\n",
    "str_1"
   ]
  },
  {
   "cell_type": "code",
   "execution_count": 53,
   "id": "0b3a4c3e-b1f0-4ec6-8e94-d642d7903268",
   "metadata": {},
   "outputs": [
    {
     "data": {
      "text/plain": [
       "'12\\\\4'"
      ]
     },
     "execution_count": 53,
     "metadata": {},
     "output_type": "execute_result"
    }
   ],
   "source": [
    "raw_str = r'12\\4'\n",
    "raw_str"
   ]
  },
  {
   "cell_type": "code",
   "execution_count": 56,
   "id": "a388976a-15a5-49cf-838e-975d26426d32",
   "metadata": {},
   "outputs": [
    {
     "name": "stdout",
     "output_type": "stream",
     "text": [
      "Hello\\nWorld\n"
     ]
    },
    {
     "data": {
      "text/plain": [
       "'Hello\\\\nWorld'"
      ]
     },
     "execution_count": 56,
     "metadata": {},
     "output_type": "execute_result"
    }
   ],
   "source": [
    "raw_str_1 = r'Hello\\nWorld'\n",
    "print(raw_str_1)\n",
    "raw_str_1"
   ]
  },
  {
   "cell_type": "code",
   "execution_count": 64,
   "id": "004a62a2-fb80-4197-ab81-ae0a10fec0e9",
   "metadata": {},
   "outputs": [
    {
     "ename": "NameError",
     "evalue": "name '수식' is not defined",
     "output_type": "error",
     "traceback": [
      "\u001b[31m---------------------------------------------------------------------------\u001b[39m",
      "\u001b[31mNameError\u001b[39m                                 Traceback (most recent call last)",
      "\u001b[36mCell\u001b[39m\u001b[36m \u001b[39m\u001b[32mIn[64]\u001b[39m\u001b[32m, line 1\u001b[39m\n\u001b[32m----> \u001b[39m\u001b[32m1\u001b[39m \u001b[33mf\u001b[39m\u001b[33m'\u001b[39m\u001b[33m \u001b[39m\u001b[38;5;132;01m{\u001b[39;00m수식\u001b[38;5;132;01m}\u001b[39;00m\u001b[33m 문자열이에요 \u001b[39m\u001b[38;5;132;01m{\u001b[39;00m변수\u001b[38;5;132;01m}\u001b[39;00m\u001b[33m'\u001b[39m\n",
      "\u001b[31mNameError\u001b[39m: name '수식' is not defined"
     ]
    }
   ],
   "source": [
    "f' {수식} 문자열이에요 {변수}'"
   ]
  },
  {
   "cell_type": "code",
   "execution_count": 67,
   "id": "810d4339-ed02-427b-b297-94afc592557b",
   "metadata": {},
   "outputs": [
    {
     "data": {
      "text/plain": [
       "'제이름은 sj 내 나이는 25 입니다.'"
      ]
     },
     "execution_count": 67,
     "metadata": {},
     "output_type": "execute_result"
    }
   ],
   "source": [
    "name = 'sj'\n",
    "age =25\n",
    "f_str_1 = f'제이름은 {name} 내 나이는 {age} 입니다.'\n",
    "f_str_1"
   ]
  },
  {
   "cell_type": "code",
   "execution_count": 71,
   "id": "5676478f-0c5b-494e-b574-2fc53e000abc",
   "metadata": {},
   "outputs": [
    {
     "name": "stdin",
     "output_type": "stream",
     "text": [
      "이름 상준\n",
      "나이 25\n"
     ]
    },
    {
     "name": "stdout",
     "output_type": "stream",
     "text": [
      "제 이름은 상준 내 나이는 25 입니다.\n"
     ]
    }
   ],
   "source": [
    "# 이름과 자기소개를 입력받아서 출력하는 프로그램 작성\n",
    "name = input('이름')\n",
    "age = input('나이')\n",
    "f_str_1 = f'제 이름은 {name} 내 나이는 {age} 입니다.'\n",
    "print(f_str_1)"
   ]
  },
  {
   "cell_type": "code",
   "execution_count": 75,
   "id": "f91944f8-0121-417d-8f21-b1141158c49d",
   "metadata": {},
   "outputs": [
    {
     "data": {
      "text/plain": [
       "' 99.99 dollars are worth us$ 100 입니다'"
      ]
     },
     "execution_count": 75,
     "metadata": {},
     "output_type": "execute_result"
    }
   ],
   "source": [
    "#dir(f_str_1)\n",
    "format_str = ' {0:.2f} {1:s} are worth us$ {2:d} 입니다'  #template\n",
    "format_str.format(99.99, 'dollars',100)"
   ]
  },
  {
   "cell_type": "code",
   "execution_count": 92,
   "id": "2f5c6491-e753-415a-9640-1e7b60063ba2",
   "metadata": {},
   "outputs": [
    {
     "name": "stdin",
     "output_type": "stream",
     "text": [
      "주문할 메뉴를 입력하세요 불\n",
      "한 개의 가격이 얼마인가요? 2000\n",
      "몇 개나 주문하세요? 2\n"
     ]
    },
    {
     "data": {
      "text/plain": [
       "' 불 메뉴의 2.000000개 가격은 총 4000입니다.'"
      ]
     },
     "execution_count": 92,
     "metadata": {},
     "output_type": "execute_result"
    }
   ],
   "source": [
    "menu = input('주문할 메뉴를 입력하세요')\n",
    "price = input('한 개의 가격이 얼마인가요?')\n",
    "count = float( input('몇 개나 주문하세요?'))\n",
    "\n",
    "total = float(price)*float(count)\n",
    "format_str = ' {0:} 메뉴의 {1:2f}개 가격은 총 {2:.0f}입니다.'\n",
    "format_str.format(menu, count, total)"
   ]
  },
  {
   "cell_type": "code",
   "execution_count": 1,
   "id": "8e865b06-ff2f-4691-9ee9-29d1f92516ec",
   "metadata": {},
   "outputs": [
    {
     "name": "stdout",
     "output_type": "stream",
     "text": [
      "상품명       가격        수량        총액        \n",
      "--------------------------------------------------\n",
      "아메리카노           3000원         2개      6000원\n",
      "카페라떼            4000원         1개      4000원\n",
      "샌드위치            5500원         3개     16500원\n"
     ]
    }
   ],
   "source": [
    "items = [\n",
    "    {\"name\": \"아메리카노\", \"price\": 3000, \"qty\": 2},\n",
    "    {\"name\": \"카페라떼\", \"price\": 4000, \"qty\": 1},\n",
    "    {\"name\": \"샌드위치\", \"price\": 5500, \"qty\": 3}\n",
    "]\n",
    "header_str = '{0:10}{1:10}{2:10}{3:10}' #인덱스 : 데이터 길이\n",
    "print(header_str.format('상품명', '가격', '수량', '총액'))\n",
    "print('-'*50)\n",
    "\n",
    "data_str = '{0:10}{1:10}원{2:10}개{3:10}원'\n",
    "for item in items : \n",
    "    item_name = item['name']\n",
    "    item_price = item['price']\n",
    "    item_qty = item['qty']    \n",
    "    total_price = item_price * item_qty\n",
    "    print(data_str.format(item_name, item_price, item_qty, total_price))"
   ]
  },
  {
   "cell_type": "code",
   "execution_count": null,
   "id": "4f70ea6d-57c5-4ccc-91d0-650cafe1b394",
   "metadata": {},
   "outputs": [],
   "source": []
  },
  {
   "cell_type": "code",
   "execution_count": null,
   "id": "f3276ca8-7553-4d93-a43d-8f9ee8b5689e",
   "metadata": {},
   "outputs": [],
   "source": []
  },
  {
   "cell_type": "code",
   "execution_count": null,
   "id": "0194dc9a-7555-4c10-ba5e-b3ee985c591e",
   "metadata": {},
   "outputs": [],
   "source": []
  },
  {
   "cell_type": "code",
   "execution_count": null,
   "id": "d5950eb4-ae92-40f5-a89c-6e3ee5b06650",
   "metadata": {},
   "outputs": [],
   "source": []
  },
  {
   "cell_type": "markdown",
   "id": "87020fa4-6543-4656-b759-caab282a8cbd",
   "metadata": {},
   "source": [
    "## TypeError, ValueError"
   ]
  },
  {
   "cell_type": "code",
   "execution_count": 59,
   "id": "ab6655ca-d0fe-424b-bda8-21f006008dc7",
   "metadata": {},
   "outputs": [
    {
     "data": {
      "text/plain": [
       "5"
      ]
     },
     "execution_count": 59,
     "metadata": {},
     "output_type": "execute_result"
    }
   ],
   "source": [
    "b = 2\n",
    "c = '3'\n",
    "#b+c #typeerror\n",
    "b + int(c)"
   ]
  },
  {
   "cell_type": "code",
   "execution_count": 62,
   "id": "b2ec95ee-dfa0-4df3-83d9-930a4a73fb78",
   "metadata": {},
   "outputs": [
    {
     "data": {
      "text/plain": [
       "5"
      ]
     },
     "execution_count": 62,
     "metadata": {},
     "output_type": "execute_result"
    }
   ],
   "source": [
    "c = '3a'\n",
    "b + int(c[:1]) #ValueError"
   ]
  },
  {
   "cell_type": "markdown",
   "id": "e330bda6-ee89-4a96-89c4-c7a74428d6c1",
   "metadata": {},
   "source": [
    "# 복합자료 리스트(List)\n",
    "리스트는 여러 개의 값을 하나의 변수에 저장할 수 있는 자료형이다.\n",
    "Python에서는 대괄호 [ ] 를 사용하여 리스트를 생성한다.\n",
    "생성법\n",
    "1. []대괄호 사용\n",
    "2. 데이터는 , 쉼표로 구분\n",
    "3. [] 빈 대괄호는 초기화\n",
    "4. 숫자, 문자, 부울, 리스트 같은 객체 모두 담을 수 있다.\n",
    "5. 순서 index를 가진다. 0시작\n",
    "6. 음수 인덱스도 가진다"
   ]
  },
  {
   "cell_type": "code",
   "execution_count": 3,
   "id": "55f161d1-f1e8-4dc5-aeab-45419661484a",
   "metadata": {},
   "outputs": [],
   "source": [
    "fruits =[\"사과\", \"바나나\", \"포도\"]\n",
    "numbers = [1,2,3,4,5]\n",
    "mixed = [10, \"python\", 3.14, True]    "
   ]
  },
  {
   "cell_type": "code",
   "execution_count": null,
   "id": "21ea2416-aa8f-4086-b977-f0ead0c685b4",
   "metadata": {},
   "outputs": [],
   "source": [
    "print"
   ]
  },
  {
   "cell_type": "code",
   "execution_count": 4,
   "id": "c52626eb-faf9-40cf-93b5-dec4bd93baf1",
   "metadata": {},
   "outputs": [
    {
     "data": {
      "text/plain": [
       "30"
      ]
     },
     "execution_count": 4,
     "metadata": {},
     "output_type": "execute_result"
    }
   ],
   "source": [
    "score = [30,50,90,80,100]\n",
    "score[0] #첫번째 학생의 점수"
   ]
  },
  {
   "cell_type": "code",
   "execution_count": 6,
   "id": "272587e7-642c-4d8a-aa74-c9561f479fa8",
   "metadata": {},
   "outputs": [
    {
     "data": {
      "text/plain": [
       "(list, int)"
      ]
     },
     "execution_count": 6,
     "metadata": {},
     "output_type": "execute_result"
    }
   ],
   "source": [
    "type(score),type(score[0])"
   ]
  },
  {
   "cell_type": "code",
   "execution_count": 7,
   "id": "c1a96ed1-fea3-44c1-a798-f4331bb3caad",
   "metadata": {
    "collapsed": true,
    "jupyter": {
     "outputs_hidden": true
    }
   },
   "outputs": [
    {
     "data": {
      "text/plain": [
       "['__add__',\n",
       " '__class__',\n",
       " '__class_getitem__',\n",
       " '__contains__',\n",
       " '__delattr__',\n",
       " '__delitem__',\n",
       " '__dir__',\n",
       " '__doc__',\n",
       " '__eq__',\n",
       " '__format__',\n",
       " '__ge__',\n",
       " '__getattribute__',\n",
       " '__getitem__',\n",
       " '__getstate__',\n",
       " '__gt__',\n",
       " '__hash__',\n",
       " '__iadd__',\n",
       " '__imul__',\n",
       " '__init__',\n",
       " '__init_subclass__',\n",
       " '__iter__',\n",
       " '__le__',\n",
       " '__len__',\n",
       " '__lt__',\n",
       " '__mul__',\n",
       " '__ne__',\n",
       " '__new__',\n",
       " '__reduce__',\n",
       " '__reduce_ex__',\n",
       " '__repr__',\n",
       " '__reversed__',\n",
       " '__rmul__',\n",
       " '__setattr__',\n",
       " '__setitem__',\n",
       " '__sizeof__',\n",
       " '__str__',\n",
       " '__subclasshook__',\n",
       " 'append',\n",
       " 'clear',\n",
       " 'copy',\n",
       " 'count',\n",
       " 'extend',\n",
       " 'index',\n",
       " 'insert',\n",
       " 'pop',\n",
       " 'remove',\n",
       " 'reverse',\n",
       " 'sort']"
      ]
     },
     "execution_count": 7,
     "metadata": {},
     "output_type": "execute_result"
    }
   ],
   "source": [
    "dir(score)"
   ]
  },
  {
   "cell_type": "code",
   "execution_count": 22,
   "id": "9cc416d4-cbe7-430a-86c3-deca3a762904",
   "metadata": {},
   "outputs": [],
   "source": [
    "ra = range(2,20,2) # 함수"
   ]
  },
  {
   "cell_type": "code",
   "execution_count": 25,
   "id": "c48aaaa5-3b4e-4395-92ad-735e63495416",
   "metadata": {},
   "outputs": [
    {
     "data": {
      "text/plain": [
       "([2, 4, 6, 8, 10, 12, 14, 16, 18], 18, 9)"
      ]
     },
     "execution_count": 25,
     "metadata": {},
     "output_type": "execute_result"
    }
   ],
   "source": [
    "num_list = list(ra) #생성자\n",
    "num_list,num_list[-1],ra.__len__() #method"
   ]
  },
  {
   "cell_type": "code",
   "execution_count": 26,
   "id": "580abf7b-24eb-4ae4-8504-012066f1bc0d",
   "metadata": {},
   "outputs": [
    {
     "data": {
      "text/plain": [
       "18"
      ]
     },
     "execution_count": 26,
     "metadata": {},
     "output_type": "execute_result"
    }
   ],
   "source": [
    "num_list[-1]"
   ]
  },
  {
   "cell_type": "code",
   "execution_count": 24,
   "id": "c40c2e32-2b15-4e0c-a157-2bb1d447379e",
   "metadata": {},
   "outputs": [
    {
     "data": {
      "text/plain": [
       "9"
      ]
     },
     "execution_count": 24,
     "metadata": {},
     "output_type": "execute_result"
    }
   ],
   "source": [
    "ra.__len__() #method"
   ]
  },
  {
   "cell_type": "code",
   "execution_count": 28,
   "id": "17975521-2d4a-489d-acf7-d60d4c3279cc",
   "metadata": {},
   "outputs": [
    {
     "data": {
      "text/plain": [
       "1"
      ]
     },
     "execution_count": 28,
     "metadata": {},
     "output_type": "execute_result"
    }
   ],
   "source": [
    "num_list.count(18)"
   ]
  },
  {
   "cell_type": "markdown",
   "id": "a9857c5d-cb36-4fd7-8e3c-7c1aac194789",
   "metadata": {},
   "source": [
    "method와 function\n",
    "\n",
    "1.method : 객체의 한해서 동작하는 함수 > 객체명.함수()\n",
    "2.function : 함수( 매개변수 ) > 매개변수 필요\n",
    "\n",
    "dir() > fuction\n",
    "list_obj.__len__() > method"
   ]
  },
  {
   "cell_type": "code",
   "execution_count": 30,
   "id": "c12d2b45-47d6-44e6-bb65-47e254fd285c",
   "metadata": {},
   "outputs": [
    {
     "ename": "SyntaxError",
     "evalue": "unterminated string literal (detected at line 2) (1838857417.py, line 2)",
     "output_type": "error",
     "traceback": [
      "  \u001b[36mCell\u001b[39m\u001b[36m \u001b[39m\u001b[32mIn[30]\u001b[39m\u001b[32m, line 2\u001b[39m\n\u001b[31m    \u001b[39m\u001b[31mstr_1[0] = 'H\"\u001b[39m\n               ^\n\u001b[31mSyntaxError\u001b[39m\u001b[31m:\u001b[39m unterminated string literal (detected at line 2)\n"
     ]
    }
   ],
   "source": [
    "str_1 = 'hello'\n",
    "str_1[0] = 'H\" #TypeError > str Immutable"
   ]
  },
  {
   "cell_type": "code",
   "execution_count": 33,
   "id": "ee6cecfc-e808-4abf-89fb-278dedb58f64",
   "metadata": {},
   "outputs": [
    {
     "data": {
      "text/plain": [
       "['H', 'e', 'l', 'l', 'o']"
      ]
     },
     "execution_count": 33,
     "metadata": {},
     "output_type": "execute_result"
    }
   ],
   "source": [
    "str_2 = list(str_1) #문자열 > 문자열리스트\n",
    "str_2[0] = 'H'\n",
    "str_2               #mutable"
   ]
  },
  {
   "cell_type": "code",
   "execution_count": 35,
   "id": "ddf5651a-d5be-463e-821c-3aa604ed2fdc",
   "metadata": {},
   "outputs": [
    {
     "name": "stdout",
     "output_type": "stream",
     "text": [
      "['H', 'e', 'l', 'l', 'o']\n"
     ]
    }
   ],
   "source": [
    "str(str_2)"
   ]
  },
  {
   "cell_type": "code",
   "execution_count": 36,
   "id": "b0b7cbcf-f7fe-47ed-aef4-c328086ea1de",
   "metadata": {},
   "outputs": [
    {
     "data": {
      "text/plain": [
       "'Hello'"
      ]
     },
     "execution_count": 36,
     "metadata": {},
     "output_type": "execute_result"
    }
   ],
   "source": [
    "''.join(str_2)"
   ]
  },
  {
   "cell_type": "code",
   "execution_count": 38,
   "id": "23a55ab1-255f-4d70-ba7c-cec04ac954d4",
   "metadata": {},
   "outputs": [
    {
     "data": {
      "text/plain": [
       "[['aaa', 'bbb', 'ccc'], [1, 2, 'aaa', 'bbb']]"
      ]
     },
     "execution_count": 38,
     "metadata": {},
     "output_type": "execute_result"
    }
   ],
   "source": [
    "# 리스트의 생성\n",
    "a = list()\n",
    "a = []\n",
    "b = [1,2,3,4,5]\n",
    "c = ['aaa', 'bbb', 'ccc']\n",
    "d = [1,2,'aaa','bbb']\n",
    "e = [c,d]\n",
    "e"
   ]
  },
  {
   "cell_type": "code",
   "execution_count": 40,
   "id": "6fb438c3-0e9b-437f-bc7d-2ae094936590",
   "metadata": {},
   "outputs": [
    {
     "data": {
      "text/plain": [
       "(['aaa', 'bbb', 'ccc'], list)"
      ]
     },
     "execution_count": 40,
     "metadata": {},
     "output_type": "execute_result"
    }
   ],
   "source": [
    "e[0], type(e[0])"
   ]
  },
  {
   "cell_type": "code",
   "execution_count": 41,
   "id": "67685f80-5796-42dd-b4ea-370d3ce4e50d",
   "metadata": {},
   "outputs": [
    {
     "data": {
      "text/plain": [
       "([1, 2, 'aaa', 'bbb'], [1, 2, 'aaa', 'bbb'])"
      ]
     },
     "execution_count": 41,
     "metadata": {},
     "output_type": "execute_result"
    }
   ],
   "source": [
    "e[1], e[-1]"
   ]
  },
  {
   "cell_type": "code",
   "execution_count": 43,
   "id": "605ba1ef-8277-45c6-bcc6-57843e3ffc14",
   "metadata": {},
   "outputs": [
    {
     "data": {
      "text/plain": [
       "('aaa', [['aaa', 'bbb', 'ccc']])"
      ]
     },
     "execution_count": 43,
     "metadata": {},
     "output_type": "execute_result"
    }
   ],
   "source": [
    "e[1][2], e[0:1]"
   ]
  },
  {
   "cell_type": "code",
   "execution_count": 44,
   "id": "2a7f13fe-7d9f-4dd7-837f-5e84fa561bbc",
   "metadata": {},
   "outputs": [
    {
     "data": {
      "text/plain": [
       "[1, 2]"
      ]
     },
     "execution_count": 44,
     "metadata": {},
     "output_type": "execute_result"
    }
   ],
   "source": [
    "e[1][:2]"
   ]
  },
  {
   "cell_type": "code",
   "execution_count": 51,
   "id": "386cadb0-3e7f-4991-910a-0a75795dcc8e",
   "metadata": {},
   "outputs": [
    {
     "data": {
      "text/plain": [
       "['bbb']"
      ]
     },
     "execution_count": 51,
     "metadata": {},
     "output_type": "execute_result"
    }
   ],
   "source": [
    "e[1][3:4]"
   ]
  },
  {
   "cell_type": "code",
   "execution_count": 52,
   "id": "f43a0f18-a234-4014-b2cc-b284d87e00ee",
   "metadata": {},
   "outputs": [
    {
     "data": {
      "text/plain": [
       "[[1, 2], [3, 4]]"
      ]
     },
     "execution_count": 52,
     "metadata": {},
     "output_type": "execute_result"
    }
   ],
   "source": [
    "score = [[1,2],[3,4]]\n",
    "score"
   ]
  },
  {
   "cell_type": "markdown",
   "id": "f04dda2f-a48c-4d22-8642-458f6d132710",
   "metadata": {},
   "source": [
    "복사\n",
    "1. 얕은 복사 shallow copy\n",
    "2. 깊은 복사 deep copy"
   ]
  },
  {
   "cell_type": "code",
   "execution_count": 55,
   "id": "1c7ab61b-3884-402d-9be7-01e0003a3502",
   "metadata": {},
   "outputs": [
    {
     "data": {
      "text/plain": [
       "[[100, 2], [3, 4]]"
      ]
     },
     "execution_count": 55,
     "metadata": {},
     "output_type": "execute_result"
    }
   ],
   "source": [
    "new_score = score[:] #얕은카피\n",
    "new_score[0][0] = 100\n",
    "new_score"
   ]
  },
  {
   "cell_type": "code",
   "execution_count": 56,
   "id": "561672a8-384c-4179-b9e1-196595861402",
   "metadata": {},
   "outputs": [
    {
     "data": {
      "text/plain": [
       "[[100, 2], [3, 4]]"
      ]
     },
     "execution_count": 56,
     "metadata": {},
     "output_type": "execute_result"
    }
   ],
   "source": [
    "score"
   ]
  },
  {
   "cell_type": "code",
   "execution_count": 57,
   "id": "c3afe9c3-e069-4ef8-8619-cb15a93b7ced",
   "metadata": {},
   "outputs": [
    {
     "data": {
      "text/plain": [
       "[[100, 99], [3, 4]]"
      ]
     },
     "execution_count": 57,
     "metadata": {},
     "output_type": "execute_result"
    }
   ],
   "source": [
    "import copy\n",
    "copied = copy.copy(score)\n",
    "copied[0][1] = 99\n",
    "copied"
   ]
  },
  {
   "cell_type": "code",
   "execution_count": 59,
   "id": "011dede7-c9c4-4e18-b1ea-86a4af2e50ec",
   "metadata": {},
   "outputs": [
    {
     "data": {
      "text/plain": [
       "[[100, 99], [100, 4]]"
      ]
     },
     "execution_count": 59,
     "metadata": {},
     "output_type": "execute_result"
    }
   ],
   "source": [
    "deepcopied = copy.deepcopy(score)\n",
    "deepcopied[1][0] = 100\n",
    "deepcopied"
   ]
  },
  {
   "cell_type": "code",
   "execution_count": 60,
   "id": "5bac03c9-b97c-4105-b513-5b34988ef0b3",
   "metadata": {},
   "outputs": [
    {
     "data": {
      "text/plain": [
       "[[100, 99], [3, 4]]"
      ]
     },
     "execution_count": 60,
     "metadata": {},
     "output_type": "execute_result"
    }
   ],
   "source": [
    "score"
   ]
  },
  {
   "cell_type": "markdown",
   "id": "a9424c1b-7ed4-4eb7-bd22-8a021808a4d4",
   "metadata": {},
   "source": [
    "# 리스트의 연산\n",
    "- '+' __add__()\n",
    "- '*' __mul__()\n",
    "- del list[항목]\n",
    "- in list -> True/False"
   ]
  },
  {
   "cell_type": "code",
   "execution_count": 61,
   "id": "0c4f47ce-1ded-4ae9-ba3f-de71bc7ea121",
   "metadata": {},
   "outputs": [
    {
     "data": {
      "text/plain": [
       "['해물라면', '샐러드', '떡뽁이', '오무라이스', '볶음밥', '떡뽁이', '제육볶음', '주먹밥']"
      ]
     },
     "execution_count": 61,
     "metadata": {},
     "output_type": "execute_result"
    }
   ],
   "source": [
    "lunch1 = ['해물라면', '샐러드', '떡뽁이']\n",
    "lunch2 = ['오무라이스', '볶음밥', '떡뽁이', '제육볶음', '주먹밥']\n",
    "lunch1+lunch2"
   ]
  },
  {
   "cell_type": "code",
   "execution_count": 62,
   "id": "9e2a800b-d629-4e4d-89b7-ad780645256c",
   "metadata": {},
   "outputs": [
    {
     "data": {
      "text/plain": [
       "['해물라면', '샐러드', '떡뽁이', '해물라면', '샐러드', '떡뽁이']"
      ]
     },
     "execution_count": 62,
     "metadata": {},
     "output_type": "execute_result"
    }
   ],
   "source": [
    "lunch1*2"
   ]
  },
  {
   "cell_type": "code",
   "execution_count": 65,
   "id": "18766384-17a5-4d37-a6e5-86d566e99272",
   "metadata": {},
   "outputs": [
    {
     "data": {
      "text/plain": [
       "['떡뽁이']"
      ]
     },
     "execution_count": 65,
     "metadata": {},
     "output_type": "execute_result"
    }
   ],
   "source": [
    "del lunch1[0]\n",
    "lunch1"
   ]
  },
  {
   "cell_type": "code",
   "execution_count": 68,
   "id": "8267f199-e42d-4fa0-a6ca-8aca1f7a105f",
   "metadata": {},
   "outputs": [
    {
     "data": {
      "text/plain": [
       "['오무라이스', '볶음밥', '떡뽁이', '제육볶음', '주먹밥']"
      ]
     },
     "execution_count": 68,
     "metadata": {},
     "output_type": "execute_result"
    }
   ],
   "source": [
    "# lunch1과 lunch2를 합하고 '떡볶이' 1개를 제외해세요\n",
    "total_lunch = lunch1+lunch2\n",
    "del total_lunch[0]\n",
    "total_lunch"
   ]
  },
  {
   "cell_type": "code",
   "execution_count": 70,
   "id": "538eca38-3e80-41db-9e00-c98d0d5f9b7a",
   "metadata": {},
   "outputs": [
    {
     "data": {
      "text/plain": [
       "True"
      ]
     },
     "execution_count": 70,
     "metadata": {},
     "output_type": "execute_result"
    }
   ],
   "source": [
    "'떡뽁이' in total_lunch"
   ]
  },
  {
   "cell_type": "code",
   "execution_count": 79,
   "id": "5de704d0-3a96-4cdc-add0-5791436d0d25",
   "metadata": {},
   "outputs": [
    {
     "name": "stdin",
     "output_type": "stream",
     "text": [
      "먹고 싶은 간식을 추가하세요. 단, 쉼표(,)로 연결하세요 홈런볼, 사이다\n"
     ]
    }
   ],
   "source": [
    "# 간식박스 관리 프로그램 \n",
    "snack_box = ['초코파이']\n",
    "new_snack = input('먹고 싶은 간식을 추가하세요. 단, 쉼표(,)로 연결하세요').split(',')\n",
    "snack_box += new_snack"
   ]
  },
  {
   "cell_type": "code",
   "execution_count": 80,
   "id": "009d695f-696b-49f2-b9fc-c268e199ed57",
   "metadata": {},
   "outputs": [
    {
     "data": {
      "text/plain": [
       "['초코파이', '홈런볼', ' 사이다']"
      ]
     },
     "execution_count": 80,
     "metadata": {},
     "output_type": "execute_result"
    }
   ],
   "source": [
    "snack_box"
   ]
  },
  {
   "cell_type": "code",
   "execution_count": 81,
   "id": "514a2e18-b4c1-4896-8110-fd14758b172d",
   "metadata": {},
   "outputs": [
    {
     "name": "stdin",
     "output_type": "stream",
     "text": [
      "간식박스 몇 세트로 포장할까요? 예: 2 -> 2box  2\n"
     ]
    }
   ],
   "source": [
    "qty = int(input('간식박스 몇 세트로 포장할까요? 예: 2 -> 2box '))"
   ]
  },
  {
   "cell_type": "code",
   "execution_count": 82,
   "id": "63ce5149-e9a5-4f54-b28e-0b90c30beeb2",
   "metadata": {},
   "outputs": [
    {
     "data": {
      "text/plain": [
       "['초코파이', '홈런볼', ' 사이다', '초코파이', '홈런볼', ' 사이다']"
      ]
     },
     "execution_count": 82,
     "metadata": {},
     "output_type": "execute_result"
    }
   ],
   "source": [
    "snack_box *= qty\n",
    "snack_box"
   ]
  },
  {
   "cell_type": "code",
   "execution_count": 83,
   "id": "93bfc308-58aa-4277-b68f-9a6de918a48d",
   "metadata": {},
   "outputs": [
    {
     "name": "stdout",
     "output_type": "stream",
     "text": [
      "주문하신 간식 상자는 초코파이,홈런볼, 사이다 등입니다. 확인해주세요.\n"
     ]
    }
   ],
   "source": [
    "print(f'주문하신 간식 상자는 {snack_box[0]},{snack_box[1]},{snack_box[2]} 등입니다. 확인해주세요.')"
   ]
  },
  {
   "cell_type": "code",
   "execution_count": 86,
   "id": "aaceec6f-6395-41f5-833d-b16407db6dea",
   "metadata": {},
   "outputs": [
    {
     "name": "stdin",
     "output_type": "stream",
     "text": [
      "혹시 빼고싶은 간식이 있으면 번호를 입력하세요. (0~5) 0\n",
      "혹시 빼고싶은 간식이 있으면 번호를 입력하세요. (0~5) 0\n"
     ]
    }
   ],
   "source": [
    "msg = f'혹시 빼고싶은 간식이 있으면 번호를 입력하세요. (0~{len(snack_box)-1})'\n",
    "input(msg)\n",
    "snack_no = int(input(msg))"
   ]
  },
  {
   "cell_type": "code",
   "execution_count": 87,
   "id": "23fc0d54-a1d1-4bdc-b7bd-b7d80fc92855",
   "metadata": {},
   "outputs": [],
   "source": [
    "del snack_box[snack_no]"
   ]
  },
  {
   "cell_type": "code",
   "execution_count": 88,
   "id": "6658f7ff-7408-41ad-aeaa-c7fb81cdd165",
   "metadata": {},
   "outputs": [
    {
     "data": {
      "text/plain": [
       "['홈런볼', ' 사이다', '초코파이', '홈런볼', ' 사이다']"
      ]
     },
     "execution_count": 88,
     "metadata": {},
     "output_type": "execute_result"
    }
   ],
   "source": [
    "snack_box"
   ]
  },
  {
   "cell_type": "code",
   "execution_count": 93,
   "id": "52c1d8bf-ceb2-4215-aba2-906e048bd0ae",
   "metadata": {},
   "outputs": [
    {
     "name": "stdin",
     "output_type": "stream",
     "text": [
      "찾고 싶은 간식을 입력하세요 칙촉스\n"
     ]
    },
    {
     "name": "stdout",
     "output_type": "stream",
     "text": [
      "없어요\n"
     ]
    }
   ],
   "source": [
    "#간식박스 관리 프로그램4\n",
    "#찾고 싶은 간식 번호를 입력하세요\n",
    "#있어요 or 없어요 출력\n",
    "snack_name = input('찾고 싶은 간식을 입력하세요')\n",
    "if snack_name in snack_box :\n",
    "    print('있어요')\n",
    "else: \n",
    "    print('없어요')\n"
   ]
  },
  {
   "cell_type": "code",
   "execution_count": 95,
   "id": "985a84f1-47f2-4510-a5e1-51f41193aeb6",
   "metadata": {},
   "outputs": [
    {
     "name": "stdout",
     "output_type": "stream",
     "text": [
      "주문하신 간식박스는 뒤에서부터 다음과 같습니다.\n",
      "[' 사이다', '홈런볼', '초코파이', ' 사이다', '홈런볼'] , 총 5개입니다.\n"
     ]
    }
   ],
   "source": [
    "#간식박스 관리 프로그램5\n",
    "print('주문하신 간식박스는 뒤에서부터 다음과 같습니다.')\n",
    "print(f'{snack_box[::-1]} , 총 {len(snack_box)}개입니다.')"
   ]
  },
  {
   "cell_type": "markdown",
   "id": "ee0defef-0d62-49ea-aa8a-401ba4452163",
   "metadata": {},
   "source": [
    "# 연산자\n",
    "\n",
    "-비식별 연산자\n",
    "1. 수치 연산 : 사칙연산\n",
    "   add() -> 특별 메소드를 정의하고 객체에서 쓸 수 있다.\n",
    "   숫자일 때는 기본 연산\n",
    "   형변환이 자동으로 일어난다 int+float > float, int/int > float\n",
    "   \n",
    "2. 대입 연산 : assign, 할당 '='\n",
    "   변수 = 값\n",
    "   자기 자신에게 대입하는 연산 > +=, -=, *=, /= > () 가 자동으로 적용\n",
    "\n",
    "   \n",
    "3. 비교 연산\n",
    "   '=' 와 '=='\n",
    "   '!=', '>=', '<='\n",
    "   항상 = 가 오른쪽에 와야함\n",
    "   리스트의 비교 == > 내용이 같은가?\n",
    "   리스트의 비교 is > 주소가 같은가?\n",
    "   리스트의 주소 id() 값이 같은지를 비교> 메모리 영역이 같은가?\n",
    "\n",
    "   \n",
    "5. 논리 연산\n",
    "    and, or, not\n",
    "   \n",
    "   \n",
    "-식별 연산자\n",
    "1. is, is not"
   ]
  },
  {
   "cell_type": "code",
   "execution_count": 52,
   "id": "a574dfdf-d820-4a46-bd49-287de2797075",
   "metadata": {},
   "outputs": [
    {
     "data": {
      "text/plain": [
       "False"
      ]
     },
     "execution_count": 52,
     "metadata": {},
     "output_type": "execute_result"
    }
   ],
   "source": [
    "lunch1 = ['주먹밥', '치킨', '칼국수']\n",
    "lunch2 = ['주먹밥', '치킨', '칼국수']\n",
    "lunch1 == lunch2\n",
    "id(lunch1), id(lunch2) #값의 비교 \n",
    "lunch1 is lunch2"
   ]
  },
  {
   "cell_type": "code",
   "execution_count": 6,
   "id": "643a1aa2-1d44-4a51-8cf1-2c68e66cfbcb",
   "metadata": {},
   "outputs": [],
   "source": [
    "a = 5\n",
    "#a=a+5\n",
    "a +=5\n",
    "b = 2"
   ]
  },
  {
   "cell_type": "code",
   "execution_count": 12,
   "id": "d74b1ed8-6a70-4494-a28b-befd0419a6f9",
   "metadata": {},
   "outputs": [],
   "source": [
    "a=5\n",
    "b=2"
   ]
  },
  {
   "cell_type": "code",
   "execution_count": 13,
   "id": "8dada080-c521-4734-8fc5-748b8731e8aa",
   "metadata": {},
   "outputs": [
    {
     "data": {
      "text/plain": [
       "20"
      ]
     },
     "execution_count": 13,
     "metadata": {},
     "output_type": "execute_result"
    }
   ],
   "source": [
    "\n",
    "a *= 2 + b    # a = 5 * 2 + 2\n",
    "a"
   ]
  },
  {
   "cell_type": "code",
   "execution_count": 14,
   "id": "d457e4a2-0d84-44e1-a130-d680040b208f",
   "metadata": {},
   "outputs": [],
   "source": [
    "students = [\n",
    "               {'num':'1','name':'김철수','kor':90,'eng':80,'math':85,'total':0,'avg':0.0,'order':0 },\n",
    "               {'num':'2','name':'박제동','kor':90,'eng':85,'math':90,'total':0,'avg':0.0,'order':0 },\n",
    "               {'num':'3','name':'홍길동','kor':80,'eng':80,'math':80,'total':0,'avg':0.0,'order':0 }\n",
    "           ]"
   ]
  },
  {
   "cell_type": "code",
   "execution_count": 15,
   "id": "90e8d1aa-2653-424c-937c-29d7553543f9",
   "metadata": {},
   "outputs": [
    {
     "data": {
      "text/plain": [
       "[{'num': '1',\n",
       "  'name': '김철수',\n",
       "  'kor': 90,\n",
       "  'eng': 80,\n",
       "  'math': 85,\n",
       "  'total': 0,\n",
       "  'avg': 0.0,\n",
       "  'order': 0},\n",
       " {'num': '2',\n",
       "  'name': '박제동',\n",
       "  'kor': 90,\n",
       "  'eng': 85,\n",
       "  'math': 90,\n",
       "  'total': 0,\n",
       "  'avg': 0.0,\n",
       "  'order': 0},\n",
       " {'num': '3',\n",
       "  'name': '홍길동',\n",
       "  'kor': 80,\n",
       "  'eng': 80,\n",
       "  'math': 80,\n",
       "  'total': 0,\n",
       "  'avg': 0.0,\n",
       "  'order': 0}]"
      ]
     },
     "execution_count": 15,
     "metadata": {},
     "output_type": "execute_result"
    }
   ],
   "source": [
    "students"
   ]
  },
  {
   "cell_type": "code",
   "execution_count": 17,
   "id": "8b7a685d-bcf1-4e17-ad5d-d44e9dd3b37f",
   "metadata": {},
   "outputs": [
    {
     "name": "stdout",
     "output_type": "stream",
     "text": [
      "255\n",
      "265\n",
      "240\n"
     ]
    }
   ],
   "source": [
    "# total에다가 값 넣기\n",
    "students[0]['total'] = students[0]['kor'] + students[0]['eng'] + students[0]['math']\n",
    "print(students[0]['total'])\n",
    "students[1]['total'] = students[1]['kor'] + students[1]['eng'] + students[1]['math']\n",
    "print(students[1]['total'])\n",
    "students[2]['total'] = students[2]['kor'] + students[2]['eng'] + students[2]['math']\n",
    "print(students[2]['total'])"
   ]
  },
  {
   "cell_type": "code",
   "execution_count": 34,
   "id": "9454c602-d663-4921-bcbd-474f29dbbcbd",
   "metadata": {},
   "outputs": [
    {
     "name": "stdout",
     "output_type": "stream",
     "text": [
      "255\n",
      "265\n",
      "240\n"
     ]
    }
   ],
   "source": [
    "#for 문에서는 리스트의 요소를 하나씩 꺼낼 수 있다 : in 키워드\n",
    "for student in students : #0,1,2 > 0 > 1> 2 >iterator\n",
    "    student['total'] = student['kor'] + student['eng'] + student['math']\n",
    "    print(student['total'])\n"
   ]
  },
  {
   "cell_type": "code",
   "execution_count": 40,
   "id": "f8233fdc-03bb-4081-b20c-65f5399dfd7d",
   "metadata": {},
   "outputs": [
    {
     "name": "stdout",
     "output_type": "stream",
     "text": [
      "85.0 88.33333333333333 80.0\n"
     ]
    }
   ],
   "source": [
    "#avg 구하기\n",
    "students[0]['avg'] = students[0]['total'] / 3\n",
    "students[1]['avg'] = students[1]['total'] / 3\n",
    "students[2]['avg'] = students[2]['total'] / 3\n",
    "print (students[0]['avg'] , students[1]['avg'] , students[2]['avg'])"
   ]
  },
  {
   "cell_type": "code",
   "execution_count": 42,
   "id": "d601aa03-505e-4ea2-a18b-89d3b97f72a4",
   "metadata": {},
   "outputs": [
    {
     "name": "stdout",
     "output_type": "stream",
     "text": [
      "85.0\n",
      "88.33333333333333\n",
      "80.0\n"
     ]
    }
   ],
   "source": [
    "#for 문으로  avg 구하기\n",
    "for student in students :\n",
    "    student['avg'] = student['total'] / 3\n",
    "    print(student['avg'])"
   ]
  },
  {
   "cell_type": "code",
   "execution_count": 44,
   "id": "f0119724-40d2-4601-8ce1-d6bfab7a70a5",
   "metadata": {},
   "outputs": [
    {
     "name": "stdout",
     "output_type": "stream",
     "text": [
      "김철수 2\n",
      "박제동 1\n",
      "홍길동 3\n"
     ]
    }
   ],
   "source": [
    "# order 구하기\n",
    "for student in students :  # students[0] 자료를 꺼낸 것이 student\n",
    "    rank = 1\n",
    "    for other in students :\n",
    "        if other['total'] > student['total'] : \n",
    "            rank += 1\n",
    "    student['order'] = rank\n",
    "    print(student['name'], student['order'])"
   ]
  },
  {
   "cell_type": "code",
   "execution_count": 46,
   "id": "82810b61-45cf-415f-a013-3b392d042b02",
   "metadata": {},
   "outputs": [
    {
     "name": "stdout",
     "output_type": "stream",
     "text": [
      "김철수 2 255 85.0\n",
      "박제동 1 265 88.33333333333333\n",
      "홍길동 3 240 80.0\n"
     ]
    }
   ],
   "source": [
    "for student in students:\n",
    "    print(student['name'], student['order'], student['total'], student['avg'])"
   ]
  },
  {
   "cell_type": "markdown",
   "id": "ebdb065d-0ba6-4a52-b210-e545990f0048",
   "metadata": {},
   "source": [
    "# 리스트에 많이 쓰는 내장함수들\n",
    "type(),\n",
    "sorted(),\n",
    "dir(),\n",
    "id(),\n",
    "len(),\n",
    "sum(), max(), min()"
   ]
  },
  {
   "cell_type": "markdown",
   "id": "a5ba045a-e50d-42ad-9fb6-470f4279e9a8",
   "metadata": {},
   "source": [
    "리스트 퀴즈\n",
    "Q1. [1,3,5,4,2]라는 리스트를 [5,4,3,2,1]로 만들어보자\n",
    "\n",
    "Q2. ['Life','is','too','short']라는 리스트를 Life is too short라는 문자열로 만들어 출력해 보자\n",
    "\n",
    "Q3. 다음 리스트 L의 순서를 아래와 같이 변경하시오. (힌트: pop())\n",
    "\n",
    "변경 전\n",
    "\n",
    "[1, 3, 5, 7, 9]\n",
    "\n",
    "변경 후\n",
    "\n",
    "[3, 5, 7, 9, 1]"
   ]
  },
  {
   "cell_type": "code",
   "execution_count": 81,
   "id": "a6d2b19b-1950-4179-a030-9a085d9a47c0",
   "metadata": {},
   "outputs": [
    {
     "data": {
      "text/plain": [
       "[5, 4, 3, 2, 1]"
      ]
     },
     "execution_count": 81,
     "metadata": {},
     "output_type": "execute_result"
    }
   ],
   "source": [
    "#Q1 \n",
    "a=[1,3,5,4,2]\n",
    "sorted(a,reverse=True)"
   ]
  },
  {
   "cell_type": "code",
   "execution_count": 86,
   "id": "823f7f5d-4635-4e76-b7a4-c76b01ec01ef",
   "metadata": {},
   "outputs": [
    {
     "data": {
      "text/plain": [
       "'Lifeistooshort'"
      ]
     },
     "execution_count": 86,
     "metadata": {},
     "output_type": "execute_result"
    }
   ],
   "source": [
    "#Q2\n",
    "b = ['Life','is','too','short']\n",
    "''.join(b)"
   ]
  },
  {
   "cell_type": "code",
   "execution_count": 97,
   "id": "a78fa937-3aa0-4434-adf8-15e4f083a4c8",
   "metadata": {},
   "outputs": [
    {
     "data": {
      "text/plain": [
       "[3, 5, 7, 9, 1]"
      ]
     },
     "execution_count": 97,
     "metadata": {},
     "output_type": "execute_result"
    }
   ],
   "source": [
    "#Q3\n",
    "L = [1, 3, 5, 7, 9]\n",
    "L.pop(0)\n",
    "L.insert(4,1)\n",
    "L"
   ]
  },
  {
   "cell_type": "markdown",
   "id": "b11a3518-4620-43ef-bd8d-2bbdee57d820",
   "metadata": {},
   "source": [
    "# 딕셔너리 \n",
    "\n",
    "{ 키 : 값, 키:값, }"
   ]
  },
  {
   "cell_type": "code",
   "execution_count": 98,
   "id": "eff9e186-576a-4fb6-918b-80ed93a27ad8",
   "metadata": {},
   "outputs": [
    {
     "data": {
      "text/plain": [
       "{'이름': 'sang', '나이': 25, '도시': '서울'}"
      ]
     },
     "execution_count": 98,
     "metadata": {},
     "output_type": "execute_result"
    }
   ],
   "source": [
    "person = {\"이름\":\"sang\", \"나이\": 25, \"도시\":\"서울\"}\n",
    "person"
   ]
  },
  {
   "cell_type": "code",
   "execution_count": 103,
   "id": "42c24307-32e0-461b-9de8-2085f476b675",
   "metadata": {},
   "outputs": [
    {
     "data": {
      "text/plain": [
       "{'이름': '상준', '나이': 25, '도시': '서울'}"
      ]
     },
     "execution_count": 103,
     "metadata": {},
     "output_type": "execute_result"
    }
   ],
   "source": [
    "person2 = dict(이름= \"상준\", 나이=25, 도시=\"서울\")\n",
    "person2"
   ]
  },
  {
   "cell_type": "code",
   "execution_count": 104,
   "id": "0ef0f90a-8dde-4939-9738-0772b0d1e9c1",
   "metadata": {},
   "outputs": [
    {
     "data": {
      "text/plain": [
       "{'이름': '홍길동', '나이': 25, '도시': '서울'}"
      ]
     },
     "execution_count": 104,
     "metadata": {},
     "output_type": "execute_result"
    }
   ],
   "source": [
    "person['이름']='홍길동'\n",
    "person"
   ]
  },
  {
   "cell_type": "code",
   "execution_count": 110,
   "id": "4a4786e5-3554-47f0-ba12-20881487738f",
   "metadata": {},
   "outputs": [
    {
     "data": {
      "text/plain": [
       "{'이름': '홍길동', '나이': 25, '도시': '서울', 0: 'alice'}"
      ]
     },
     "execution_count": 110,
     "metadata": {},
     "output_type": "execute_result"
    }
   ],
   "source": [
    "person[0]=\"alice\" #keyadd\n",
    "person"
   ]
  },
  {
   "cell_type": "code",
   "execution_count": 111,
   "id": "348539a1-4566-44f3-b70b-9c54627c8fd0",
   "metadata": {},
   "outputs": [
    {
     "data": {
      "text/plain": [
       "dict"
      ]
     },
     "execution_count": 111,
     "metadata": {},
     "output_type": "execute_result"
    }
   ],
   "source": [
    "type(person)"
   ]
  },
  {
   "cell_type": "code",
   "execution_count": 112,
   "id": "6abee4f3-2955-4ad0-b199-79f476293ba0",
   "metadata": {},
   "outputs": [
    {
     "data": {
      "text/plain": [
       "['__class__',\n",
       " '__class_getitem__',\n",
       " '__contains__',\n",
       " '__delattr__',\n",
       " '__delitem__',\n",
       " '__dir__',\n",
       " '__doc__',\n",
       " '__eq__',\n",
       " '__format__',\n",
       " '__ge__',\n",
       " '__getattribute__',\n",
       " '__getitem__',\n",
       " '__getstate__',\n",
       " '__gt__',\n",
       " '__hash__',\n",
       " '__init__',\n",
       " '__init_subclass__',\n",
       " '__ior__',\n",
       " '__iter__',\n",
       " '__le__',\n",
       " '__len__',\n",
       " '__lt__',\n",
       " '__ne__',\n",
       " '__new__',\n",
       " '__or__',\n",
       " '__reduce__',\n",
       " '__reduce_ex__',\n",
       " '__repr__',\n",
       " '__reversed__',\n",
       " '__ror__',\n",
       " '__setattr__',\n",
       " '__setitem__',\n",
       " '__sizeof__',\n",
       " '__str__',\n",
       " '__subclasshook__',\n",
       " 'clear',\n",
       " 'copy',\n",
       " 'fromkeys',\n",
       " 'get',\n",
       " 'items',\n",
       " 'keys',\n",
       " 'pop',\n",
       " 'popitem',\n",
       " 'setdefault',\n",
       " 'update',\n",
       " 'values']"
      ]
     },
     "execution_count": 112,
     "metadata": {},
     "output_type": "execute_result"
    }
   ],
   "source": [
    "dir(person)"
   ]
  },
  {
   "cell_type": "code",
   "execution_count": 120,
   "id": "c4e4f827-b96e-4cb2-9334-322f5d63d548",
   "metadata": {},
   "outputs": [
    {
     "data": {
      "text/plain": [
       "dict"
      ]
     },
     "execution_count": 120,
     "metadata": {},
     "output_type": "execute_result"
    }
   ],
   "source": [
    "items = person.items()\n",
    "type(person)"
   ]
  },
  {
   "cell_type": "code",
   "execution_count": 122,
   "id": "808ad499-6bd6-4c24-a90c-f398012554a0",
   "metadata": {},
   "outputs": [
    {
     "name": "stdout",
     "output_type": "stream",
     "text": [
      "('이름', '홍길동')\n",
      "('나이', 25)\n",
      "('도시', '서울')\n",
      "(0, 'alice')\n"
     ]
    }
   ],
   "source": [
    "for i in items:\n",
    "    print(i)"
   ]
  },
  {
   "cell_type": "code",
   "execution_count": 118,
   "id": "a00e3856-e88e-40ea-bd29-5273e276d31f",
   "metadata": {},
   "outputs": [
    {
     "data": {
      "text/plain": [
       "dict_keys"
      ]
     },
     "execution_count": 118,
     "metadata": {},
     "output_type": "execute_result"
    }
   ],
   "source": [
    "keys = person.keys()\n",
    "type(keys)"
   ]
  },
  {
   "cell_type": "code",
   "execution_count": 119,
   "id": "6a4ce321-f11f-4f2f-a710-1e07696c3284",
   "metadata": {},
   "outputs": [
    {
     "name": "stdout",
     "output_type": "stream",
     "text": [
      "이름\n",
      "나이\n",
      "도시\n",
      "0\n"
     ]
    }
   ],
   "source": [
    "for k in keys :\n",
    "    print(k)"
   ]
  },
  {
   "cell_type": "code",
   "execution_count": 126,
   "id": "51306684-19d1-4873-b6db-531aa4a42356",
   "metadata": {},
   "outputs": [
    {
     "data": {
      "text/plain": [
       "dict_values"
      ]
     },
     "execution_count": 126,
     "metadata": {},
     "output_type": "execute_result"
    }
   ],
   "source": [
    "values = person.values()\n",
    "type(values)"
   ]
  },
  {
   "cell_type": "code",
   "execution_count": 127,
   "id": "8b91d1bf-e4dc-40d8-b4e5-29ffb733a8dd",
   "metadata": {},
   "outputs": [
    {
     "name": "stdout",
     "output_type": "stream",
     "text": [
      "홍길동\n",
      "25\n",
      "서울\n",
      "alice\n"
     ]
    }
   ],
   "source": [
    "for v in values:\n",
    "    print(v)"
   ]
  },
  {
   "cell_type": "code",
   "execution_count": 130,
   "id": "dfd51c7d-f71f-4746-ab72-f158709518d2",
   "metadata": {},
   "outputs": [
    {
     "data": {
      "text/plain": [
       "{'이름': '상준', '나이': 25, '도시': '서울', 0: 'alice'}"
      ]
     },
     "execution_count": 130,
     "metadata": {},
     "output_type": "execute_result"
    }
   ],
   "source": [
    "#update()는 딕셔너리에 딕셔너리를 추가합니다\n",
    "person.update(person2)\n",
    "person"
   ]
  },
  {
   "cell_type": "code",
   "execution_count": 131,
   "id": "8d032623-4320-4842-bbae-e1e6f5792fc0",
   "metadata": {},
   "outputs": [],
   "source": [
    "#person3를 추가한다면?\n",
    "#키가 같으므로 값이 업데이트\n",
    "#키가 다르면 추가"
   ]
  },
  {
   "cell_type": "code",
   "execution_count": 133,
   "id": "507e2867-0398-42c7-843c-c1af016123d7",
   "metadata": {},
   "outputs": [
    {
     "data": {
      "text/plain": [
       "{'성별': '남자', '취미': '소설'}"
      ]
     },
     "execution_count": 133,
     "metadata": {},
     "output_type": "execute_result"
    }
   ],
   "source": [
    "person3 = {'성별':'남자', '취미':'소설'}\n",
    "person3"
   ]
  },
  {
   "cell_type": "code",
   "execution_count": 134,
   "id": "065c6c23-85d9-4fba-8c57-2b2e38d6a85f",
   "metadata": {},
   "outputs": [
    {
     "data": {
      "text/plain": [
       "{'이름': '상준', '나이': 25, '도시': '서울', 0: 'alice', '성별': '남자', '취미': '소설'}"
      ]
     },
     "execution_count": 134,
     "metadata": {},
     "output_type": "execute_result"
    }
   ],
   "source": [
    "person.update(person3)\n",
    "person"
   ]
  },
  {
   "cell_type": "code",
   "execution_count": 155,
   "id": "9592ac89-8204-4f70-858c-bd97f900a2ad",
   "metadata": {},
   "outputs": [
    {
     "name": "stdout",
     "output_type": "stream",
     "text": [
      "1. 에스프레소 3000 \n",
      "2. 아이스아메리카노 4000 \n",
      "3. 따뜻한라떼 5000 \n",
      "4. 말차프라프치노 7000 \n",
      "****************************************\n",
      "안녕하세요 바리스타 엘리's 카페에 오신 것을 환영합니다\n"
     ]
    },
    {
     "name": "stdin",
     "output_type": "stream",
     "text": [
      "주문할 메뉴 번호를 입력하세요 :  2\n",
      "주문하실 메뉴의 수량을 입력하세요 :  3\n"
     ]
    },
    {
     "name": "stdout",
     "output_type": "stream",
     "text": [
      "주문할 메뉴는 아이스아메리카노 입니다. 가격은 12000 입니다\n"
     ]
    }
   ],
   "source": [
    "store_name = '바리스타 엘리\\'s 카페'\n",
    "menu_list = [\n",
    "     {'name':'에스프레소', 'price':3000}, \n",
    "    {'name':'아이스아메리카노', 'price':4000}, \n",
    "    {'name':'따뜻한라떼', 'price':5000},\n",
    "    {'name':'말차프라프치노', 'price':7000},\n",
    "]\n",
    "#['에스프레소', '아이스아메리카노', '따뜻한 라떼']\n",
    "#price_list = [3000, 4000, 5000]\n",
    "\n",
    "for i, menu in enumerate (menu_list)  :\n",
    "    print(f'{i+1}. {menu['name']} {menu['price']} ')\n",
    "print('*'*40)\n",
    "print(f'안녕하세요 {store_name}에 오신 것을 환영합니다')\n",
    "\n",
    "#for i in range(len(menu_list)) :\n",
    "   # print(f'{i+1},{menu_list[i]} {price_list[i]} ')\n",
    "\n",
    "order_num = int(input('주문할 메뉴 번호를 입력하세요 : '))-1\n",
    "qty = int(input('주문하실 메뉴의 수량을 입력하세요 : '))\n",
    "amt = qty*menu_list[order_num]['price']\n",
    "name = menu_list[order_num]['name']\n",
    "print(f'주문할 메뉴는 {name} 입니다. 가격은 {amt} 입니다')"
   ]
  },
  {
   "cell_type": "code",
   "execution_count": null,
   "id": "0d790d1f-a182-4f9e-8255-f45321fe3192",
   "metadata": {},
   "outputs": [],
   "source": [
    "\n",
    "!쫌녹아유! 아이스크림집 \n",
    "옵션 : 바닐라 초코 띨기 우유 \n",
    "컵 사이즈 : S, M, L\n",
    "콘 사이즈 : 기본\n",
    "숫가락 여부 : Y/N\n",
    "\n"
   ]
  },
  {
   "cell_type": "code",
   "execution_count": null,
   "id": "2ef10795-9d4f-409a-a759-cebe7412e598",
   "metadata": {},
   "outputs": [],
   "source": []
  },
  {
   "cell_type": "code",
   "execution_count": null,
   "id": "111d93db-37c5-4279-a229-316957ff1b51",
   "metadata": {},
   "outputs": [],
   "source": []
  },
  {
   "cell_type": "code",
   "execution_count": null,
   "id": "44f29db6-c0d9-403f-87b3-d00fb4e48423",
   "metadata": {},
   "outputs": [],
   "source": []
  },
  {
   "cell_type": "code",
   "execution_count": null,
   "id": "0c4cd35d-93b5-40bb-898f-d31be0958893",
   "metadata": {},
   "outputs": [],
   "source": []
  },
  {
   "cell_type": "code",
   "execution_count": null,
   "id": "0d11ed07-ace1-4a69-acc7-a4a7c0841a23",
   "metadata": {},
   "outputs": [],
   "source": []
  },
  {
   "cell_type": "code",
   "execution_count": null,
   "id": "ba8a32f6-201d-4c0a-a300-294f7126e636",
   "metadata": {},
   "outputs": [],
   "source": []
  }
 ],
 "metadata": {
  "kernelspec": {
   "display_name": "Python 3 (ipykernel)",
   "language": "python",
   "name": "python3"
  },
  "language_info": {
   "codemirror_mode": {
    "name": "ipython",
    "version": 3
   },
   "file_extension": ".py",
   "mimetype": "text/x-python",
   "name": "python",
   "nbconvert_exporter": "python",
   "pygments_lexer": "ipython3",
   "version": "3.12.9"
  }
 },
 "nbformat": 4,
 "nbformat_minor": 5
}
