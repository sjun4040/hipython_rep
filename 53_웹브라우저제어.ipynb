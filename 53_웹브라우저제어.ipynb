{
 "cells": [
  {
   "cell_type": "code",
   "execution_count": 5,
   "id": "ac57a800",
   "metadata": {},
   "outputs": [
    {
     "name": "stdout",
     "output_type": "stream",
     "text": [
      "c:\\githome\\hipython_rep\\html\\basic2.html\n",
      "c:\\githome\\hipython_rep/html/basic2.html\n"
     ]
    }
   ],
   "source": [
    "import os\n",
    "file_path = os.getcwd() + '/html/basic2.html'\n",
    "print(os.path.abspath('html/basic2.html')) #path\n",
    "print(file_path)"
   ]
  },
  {
   "cell_type": "code",
   "execution_count": 6,
   "id": "7e6d1267",
   "metadata": {},
   "outputs": [
    {
     "data": {
      "text/plain": [
       "'file:///c:\\\\githome\\\\hipython_rep/html/basic2.html'"
      ]
     },
     "execution_count": 6,
     "metadata": {},
     "output_type": "execute_result"
    }
   ],
   "source": [
    "url = 'file:///' + file_path\n",
    "url"
   ]
  },
  {
   "cell_type": "code",
   "execution_count": 7,
   "id": "0b0072fb",
   "metadata": {},
   "outputs": [],
   "source": [
    "from selenium import webdriver\n",
    "\n",
    "driver = webdriver.Chrome()\n",
    "driver.get(url)"
   ]
  },
  {
   "cell_type": "code",
   "execution_count": null,
   "id": "9eb2e001",
   "metadata": {},
   "outputs": [],
   "source": [
    "username_el = driver.find_element(by = 'name', value='username')\n",
    "username_el.send_keys('sangjunkun')"
   ]
  },
  {
   "cell_type": "code",
   "execution_count": 10,
   "id": "3d96481f",
   "metadata": {},
   "outputs": [],
   "source": [
    "password_el = driver.find_element(by = 'name', value='password')\n",
    "password_el.send_keys('ohmygod')"
   ]
  },
  {
   "cell_type": "code",
   "execution_count": 13,
   "id": "db6f4fc3",
   "metadata": {},
   "outputs": [],
   "source": [
    "# 파이썬 전문가 링크값 \n",
    "Link = driver.find_element(by='link text', value='파이썬전문가그룹')\n",
    "Link.click()"
   ]
  },
  {
   "cell_type": "code",
   "execution_count": 15,
   "id": "ab5e704c",
   "metadata": {},
   "outputs": [],
   "source": [
    "driver.back()"
   ]
  },
  {
   "cell_type": "markdown",
   "id": "a814b4a4",
   "metadata": {},
   "source": [
    "# 검색 결과 가져오기"
   ]
  },
  {
   "cell_type": "code",
   "execution_count": 17,
   "id": "387a5b06",
   "metadata": {},
   "outputs": [],
   "source": [
    "from selenium import webdriver\n",
    "\n",
    "driver = webdriver.Chrome()\n",
    "driver.get('https://www.python.org/')"
   ]
  },
  {
   "cell_type": "code",
   "execution_count": 19,
   "id": "87e66bf1",
   "metadata": {},
   "outputs": [],
   "source": [
    "from selenium.webdriver.common.by import By"
   ]
  },
  {
   "cell_type": "code",
   "execution_count": 21,
   "id": "21bd22bb",
   "metadata": {},
   "outputs": [],
   "source": [
    "input_el = driver.find_element(by=By.ID, value='id-search-field')\n",
    "input_el.send_keys('pycon')"
   ]
  },
  {
   "cell_type": "code",
   "execution_count": 22,
   "id": "236ba22a",
   "metadata": {},
   "outputs": [],
   "source": [
    "input_el2 = driver.find_element(by='css selector',value='#id-search-field')\n",
    "input_el2.send_keys(\"hahahahahah\")"
   ]
  },
  {
   "cell_type": "code",
   "execution_count": null,
   "id": "abf2d8cc",
   "metadata": {},
   "outputs": [
    {
     "name": "stdout",
     "output_type": "stream",
     "text": [
      "PSF PyCon Trademark Usage Policy\n",
      "PyCon Italia 2016 (PyCon Sette)\n",
      "PyCon Australia 2013\n",
      "PyCon AU 2019\n",
      "PyCon NL 2025\n",
      "PyCon Australia 2014\n",
      "PyCon Ireland 2012\n",
      "PyCon Ireland 2016\n",
      "PyCon Ireland 2022\n",
      "PyCon Australia 2014\n",
      "PyCon Ireland 2024\n",
      "PyCon APAC 2025\n",
      "PyCon AU 2018\n",
      "PyCon APAC 2022\n",
      "PyCon PH 2024\n",
      "PyCon Ireland 2023\n",
      "PyCon PL 2014\n",
      "PyCon MY 2015\n",
      "PyCon Ireland 2015\n",
      "PyCon AU 2015\n"
     ]
    }
   ],
   "source": [
    "from selenium import webdriver\n",
    "from selenium.webdriver.common.keys import Keys\n",
    "from selenium.webdriver.common.by import By\n",
    "\n",
    "driver = webdriver.Chrome()\n",
    "driver.get('https://www.python.org/')\n",
    "\n",
    "input_el = driver.find_element(by=By.ID, value='id-search-field')\n",
    "input_el.send_keys('pycon')\n",
    "input_el.send_keys(Keys.RETURN)\n",
    "\n",
    "driver.implicitly_wait(1) # 명시적 대기\n",
    "\n",
    "#content > div > section > form > ul > li:nth-child(2) > h3 > a\n",
    "result_list = driver.find_elements(by='css selector', value='form li h3 >a')\n",
    "for result in result_list:\n",
    "    print(result.text)"
   ]
  },
  {
   "cell_type": "code",
   "execution_count": 26,
   "id": "5c9cb0c4",
   "metadata": {},
   "outputs": [
    {
     "name": "stdout",
     "output_type": "stream",
     "text": [
      "PSF PyCon Trademark Usage Policy\n",
      "PyCon Italia 2016 (PyCon Sette)\n",
      "PyCon Australia 2013\n",
      "PyCon AU 2019\n",
      "PyCon NL 2025\n",
      "PyCon Australia 2014\n",
      "PyCon Ireland 2012\n",
      "PyCon Ireland 2016\n",
      "PyCon Ireland 2022\n",
      "PyCon Australia 2014\n",
      "PyCon Ireland 2024\n",
      "PyCon APAC 2025\n",
      "PyCon AU 2018\n",
      "PyCon APAC 2022\n",
      "PyCon PH 2024\n",
      "PyCon Ireland 2023\n",
      "PyCon PL 2014\n",
      "PyCon MY 2015\n",
      "PyCon Ireland 2015\n",
      "PyCon AU 2015\n"
     ]
    }
   ],
   "source": [
    "#content > div > section > form > ul > li:nth-child(2) > h3 > a\n",
    "result_list = driver.find_elements(by='css selector', value='form li h3 >a')\n",
    "for result in result_list:\n",
    "    print(result.text)"
   ]
  },
  {
   "cell_type": "markdown",
   "id": "e71930c6",
   "metadata": {},
   "source": [
    "# 날씨 정보를 일반적 조건으로 대기해서 가져오기"
   ]
  },
  {
   "cell_type": "code",
   "execution_count": 31,
   "id": "f72419df",
   "metadata": {},
   "outputs": [],
   "source": [
    "import requests"
   ]
  },
  {
   "cell_type": "code",
   "execution_count": 34,
   "id": "9188bc01",
   "metadata": {},
   "outputs": [
    {
     "data": {
      "text/plain": [
       "<Response [200]>"
      ]
     },
     "execution_count": 34,
     "metadata": {},
     "output_type": "execute_result"
    }
   ],
   "source": [
    "url = 'https://www.weather.go.kr/w/index.do'\n",
    "res = requests.get(url)\n",
    "res"
   ]
  },
  {
   "cell_type": "code",
   "execution_count": 35,
   "id": "761dd142",
   "metadata": {},
   "outputs": [
    {
     "data": {
      "text/plain": [
       "[]"
      ]
     },
     "execution_count": 35,
     "metadata": {},
     "output_type": "execute_result"
    }
   ],
   "source": [
    "from bs4 import BeautifulSoup\n",
    "soup = BeautifulSoup(res.text, 'html.parser')\n",
    "soup.select(\".tmp\")"
   ]
  },
  {
   "cell_type": "code",
   "execution_count": null,
   "id": "74921867",
   "metadata": {},
   "outputs": [
    {
     "data": {
      "text/plain": [
       "'34.8℃'"
      ]
     },
     "execution_count": 36,
     "metadata": {},
     "output_type": "execute_result"
    }
   ],
   "source": [
    "import time\n",
    "from selenium.webdriver import Chrome\n",
    "# res = requests.get(url)\n",
    "driver = Chrome()\n",
    "driver.get(url)\n",
    "time.sleep(3) # 명시적 대기\n",
    "element = driver.find_element(by='css selector', value='div#current-weather span.tmp')\n",
    "element.text"
   ]
  },
  {
   "cell_type": "code",
   "execution_count": 39,
   "id": "d7831353",
   "metadata": {},
   "outputs": [
    {
     "name": "stdout",
     "output_type": "stream",
     "text": [
      "34.7℃\n"
     ]
    }
   ],
   "source": [
    "from selenium.webdriver.support import expected_conditions as EC\n",
    "from selenium.webdriver.support.ui import WebDriverWait\n",
    "driver = Chrome()\n",
    "driver.get(url)\n",
    "\n",
    "wait = WebDriverWait(driver, 3)\n",
    "element_2 = wait.until(\n",
    "    EC.presence_of_element_located(('css selector', 'div#current-weather span.tmp'))\n",
    ")\n",
    "print(element_2.text)\n",
    "driver.close()"
   ]
  }
 ],
 "metadata": {
  "kernelspec": {
   "display_name": "webcrawl_env",
   "language": "python",
   "name": "python3"
  },
  "language_info": {
   "codemirror_mode": {
    "name": "ipython",
    "version": 3
   },
   "file_extension": ".py",
   "mimetype": "text/x-python",
   "name": "python",
   "nbconvert_exporter": "python",
   "pygments_lexer": "ipython3",
   "version": "3.10.18"
  }
 },
 "nbformat": 4,
 "nbformat_minor": 5
}
