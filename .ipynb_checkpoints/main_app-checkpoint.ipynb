{
 "cells": [
  {
   "cell_type": "code",
   "execution_count": 1,
   "id": "5e43e36b-f25d-4c67-bbdb-31a5ca12f07a",
   "metadata": {},
   "outputs": [
    {
     "name": "stdout",
     "output_type": "stream",
     "text": [
      "magic calc loaded\n",
      "15\n"
     ]
    }
   ],
   "source": [
    "#my_project\\main_app.py\n",
    "\n",
    "#방법1\n",
    "import magic_calc\n",
    "\n",
    "result_add = magic_calc.basic_ops.add(10,5)\n",
    "print(result_add)\n",
    "\n",
    "\n"
   ]
  },
  {
   "cell_type": "code",
   "execution_count": 3,
   "id": "e044b40c-9e2c-46c2-99e8-25ffbbc50d66",
   "metadata": {},
   "outputs": [
    {
     "data": {
      "text/plain": [
       "56"
      ]
     },
     "execution_count": 3,
     "metadata": {},
     "output_type": "execute_result"
    }
   ],
   "source": [
    "import magic_calc.advanced_ops as adops\n",
    "adops.magic_multiply(7,8)"
   ]
  },
  {
   "cell_type": "code",
   "execution_count": 4,
   "id": "4ea1948a-2646-42a1-af9d-072ea7baca96",
   "metadata": {},
   "outputs": [
    {
     "name": "stdout",
     "output_type": "stream",
     "text": [
      "70\n"
     ]
    }
   ],
   "source": [
    "# #방법2\n",
    "from magic_calc import basic_ops, advanced_ops\n",
    "result_sub = basic_ops.subtract(100, 30)\n",
    "print(result_sub)"
   ]
  },
  {
   "cell_type": "code",
   "execution_count": 5,
   "id": "b5a0b66c-e8cb-4537-bbd5-d3a0d27a7228",
   "metadata": {},
   "outputs": [
    {
     "name": "stdout",
     "output_type": "stream",
     "text": [
      "\n",
      "--- 방법 3: multiply, divide, power 직접 사용 ---\n",
      "7 * 8 = 56\n"
     ]
    }
   ],
   "source": [
    "# 방법 3: 패키지 내 모듈에서 특정 함수 직접 임포트\n",
    "from magic_calc.basic_ops import multiply, divide\n",
    "from magic_calc.advanced_ops import power\n",
    "\n",
    "print(\"\\n--- 방법 3: multiply, divide, power 직접 사용 ---\")\n",
    "result_mul = multiply(7, 8)\n",
    "print(f\"7 * 8 = {result_mul}\")"
   ]
  }
 ],
 "metadata": {
  "kernelspec": {
   "display_name": "Python 3 (ipykernel)",
   "language": "python",
   "name": "python3"
  },
  "language_info": {
   "codemirror_mode": {
    "name": "ipython",
    "version": 3
   },
   "file_extension": ".py",
   "mimetype": "text/x-python",
   "name": "python",
   "nbconvert_exporter": "python",
   "pygments_lexer": "ipython3",
   "version": "3.12.9"
  }
 },
 "nbformat": 4,
 "nbformat_minor": 5
}
