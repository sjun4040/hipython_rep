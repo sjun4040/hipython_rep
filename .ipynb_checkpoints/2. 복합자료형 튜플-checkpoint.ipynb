{
 "cells": [
  {
   "cell_type": "markdown",
   "id": "0be24c52-039d-469e-a197-18e2e92bc0f1",
   "metadata": {},
   "source": [
    "# 튜플 (Tuple)\n",
    "튜플은 여러 개의 값을 하나의 변수에 저장할 수 있는 자료형이다.\n",
    "리스트와 비슷하지만, 생성된 후 값을 변경할 수 없는 불변자료이다."
   ]
  },
  {
   "cell_type": "code",
   "execution_count": 1,
   "id": "0e0fce93-1e2c-49c8-bc0e-9eedb4fc490a",
   "metadata": {},
   "outputs": [
    {
     "data": {
      "text/plain": [
       "(('사과', '복숭아', '딸기'), tuple)"
      ]
     },
     "execution_count": 1,
     "metadata": {},
     "output_type": "execute_result"
    }
   ],
   "source": [
    "# tuple의 ()괄호는 생략해도 된다\n",
    "# 쉼표로 요소는 하나 이상이어야 한다\n",
    "fruits = '사과','복숭아','딸기'\n",
    "fruits , type(fruits)"
   ]
  },
  {
   "cell_type": "code",
   "execution_count": 6,
   "id": "2230c229-9318-468d-8755-f44496a716ff",
   "metadata": {},
   "outputs": [
    {
     "data": {
      "text/plain": [
       "(1, 2, 3)"
      ]
     },
     "execution_count": 6,
     "metadata": {},
     "output_type": "execute_result"
    }
   ],
   "source": [
    "# 패킹, 언패킹\n",
    "\n",
    "nums = [1,2,3] #unpacking\n",
    "a,b,c = nums\n",
    "a, b, c"
   ]
  },
  {
   "cell_type": "code",
   "execution_count": 7,
   "id": "2933a86e-35c7-4236-b3fd-58c32055bb11",
   "metadata": {},
   "outputs": [
    {
     "data": {
      "text/plain": [
       "1"
      ]
     },
     "execution_count": 7,
     "metadata": {},
     "output_type": "execute_result"
    }
   ],
   "source": [
    "a"
   ]
  },
  {
   "cell_type": "code",
   "execution_count": 10,
   "id": "031d3fe7-720b-4758-b9d3-8efaf6a03f63",
   "metadata": {},
   "outputs": [
    {
     "data": {
      "text/plain": [
       "'h'"
      ]
     },
     "execution_count": 10,
     "metadata": {},
     "output_type": "execute_result"
    }
   ],
   "source": [
    "#s = 'hello' unpacking error\n",
    "s='hi'\n",
    "a,b =s\n",
    "a"
   ]
  },
  {
   "cell_type": "code",
   "execution_count": 13,
   "id": "ff1d5865-8a19-460a-ac72-14cd20a68c7b",
   "metadata": {},
   "outputs": [
    {
     "data": {
      "text/plain": [
       "('h', ['e', 'l', 'l'], 'o')"
      ]
     },
     "execution_count": 13,
     "metadata": {},
     "output_type": "execute_result"
    }
   ],
   "source": [
    "s='hello'  #packing\n",
    "a,*b,c = s #unpacking *-rest      * is 나머지는 너가 다가져\n",
    "a, b, c "
   ]
  },
  {
   "cell_type": "code",
   "execution_count": 16,
   "id": "bbccfdce-27a7-428f-ad22-08e456d87ad4",
   "metadata": {},
   "outputs": [
    {
     "data": {
      "text/plain": [
       "('홍길동', 20, '1학년')"
      ]
     },
     "execution_count": 16,
     "metadata": {},
     "output_type": "execute_result"
    }
   ],
   "source": [
    "student = ('홍길동', 20, '1학년') #패킹\n",
    "student"
   ]
  },
  {
   "cell_type": "code",
   "execution_count": 18,
   "id": "7bdc785c-c911-478d-904b-8132515c887c",
   "metadata": {},
   "outputs": [
    {
     "data": {
      "text/plain": [
       "'이름은 홍길동이고요, 나이는 20 이고요, 1학년학년입니다.'"
      ]
     },
     "execution_count": 18,
     "metadata": {},
     "output_type": "execute_result"
    }
   ],
   "source": [
    "name, age, grade =student #언패킹\n",
    "f'이름은 {name}이고요, 나이는 {age} 이고요, {grade}학년입니다.'"
   ]
  },
  {
   "cell_type": "code",
   "execution_count": 31,
   "id": "c58373ea-3f8d-4e76-8c97-0de979ab593d",
   "metadata": {},
   "outputs": [
    {
     "data": {
      "text/plain": [
       "(2, 1)"
      ]
     },
     "execution_count": 31,
     "metadata": {},
     "output_type": "execute_result"
    }
   ],
   "source": [
    "# 미션 2개의 값을 바꿔보기\n",
    "x=1\n",
    "y=2\n",
    "tmp = (y,x)\n",
    "x,y = tmp\n",
    "x, y"
   ]
  },
  {
   "cell_type": "code",
   "execution_count": 45,
   "id": "3222616a-aa96-4736-b8c2-0e37e6989d97",
   "metadata": {},
   "outputs": [
    {
     "data": {
      "text/plain": [
       "(2, 1)"
      ]
     },
     "execution_count": 45,
     "metadata": {},
     "output_type": "execute_result"
    }
   ],
   "source": [
    "x, y = y, x #tuple 의 패킹, 언패킹\n",
    "x, y"
   ]
  },
  {
   "cell_type": "code",
   "execution_count": 54,
   "id": "fdd84743-0522-4646-af22-8ffcd8e93e66",
   "metadata": {},
   "outputs": [
    {
     "name": "stdout",
     "output_type": "stream",
     "text": [
      "5 4 3\n"
     ]
    },
    {
     "data": {
      "text/plain": [
       "(3, 4, 5)"
      ]
     },
     "execution_count": 54,
     "metadata": {},
     "output_type": "execute_result"
    }
   ],
   "source": [
    "#함수의 정의\n",
    "def func_a(a, b, c):\n",
    "    print( a, b, c)\n",
    "    return c, b, a\n",
    "    \n",
    "#함수의 호출\n",
    "result = func_a(5, 4, 3)\n",
    "#함수의 반환값\n",
    "result"
   ]
  },
  {
   "cell_type": "code",
   "execution_count": 56,
   "id": "aeaa0c46-6764-4473-afef-d960c4890cbb",
   "metadata": {},
   "outputs": [
    {
     "name": "stdout",
     "output_type": "stream",
     "text": [
      "1 2 3\n"
     ]
    },
    {
     "data": {
      "text/plain": [
       "(3, 2, 1)"
      ]
     },
     "execution_count": 56,
     "metadata": {},
     "output_type": "execute_result"
    }
   ],
   "source": [
    "a1, b1, c1 = func_a(1,2,3)\n",
    "a1, b1, c1"
   ]
  },
  {
   "cell_type": "code",
   "execution_count": 61,
   "id": "5cd99683-093c-4693-a4e2-247743d21493",
   "metadata": {},
   "outputs": [
    {
     "data": {
      "text/plain": [
       "('가연', '지훈', '지희', '유석')"
      ]
     },
     "execution_count": 61,
     "metadata": {},
     "output_type": "execute_result"
    }
   ],
   "source": [
    "# tuple 에 값을 추가하려면?\n",
    "# 형 변환 > 리스트\n",
    "name_tuple = ('가연', '지훈', '지희')\n",
    "name_tuple\n",
    "name_list = list(name_tuple) \n",
    "name_list\n",
    "name_list.append('유석')\n",
    "name_list\n",
    "name_tuple = tuple(name_list)\n",
    "name_tuple"
   ]
  },
  {
   "cell_type": "code",
   "execution_count": 74,
   "id": "f70f5037-25ad-44c7-afc3-b61878dad7f4",
   "metadata": {},
   "outputs": [
    {
     "name": "stdout",
     "output_type": "stream",
     "text": [
      "('가연', '지훈', '지희', '유석', '석훈')\n"
     ]
    }
   ],
   "source": [
    "dir(name_tuple)\n",
    "t1 = name_tuple\n",
    "t2 = ('석훈',)\n",
    "print(t1.__add__(t2))"
   ]
  },
  {
   "cell_type": "code",
   "execution_count": 75,
   "id": "718cb67c-29ab-4a1e-8775-a7896537c3ce",
   "metadata": {},
   "outputs": [
    {
     "data": {
      "text/plain": [
       "('가연', '지훈', '지희', '유석', '석훈')"
      ]
     },
     "execution_count": 75,
     "metadata": {},
     "output_type": "execute_result"
    }
   ],
   "source": [
    "t1+t2"
   ]
  },
  {
   "cell_type": "code",
   "execution_count": 78,
   "id": "cae82bca-62b0-4841-9bfb-aa008853e685",
   "metadata": {},
   "outputs": [
    {
     "data": {
      "text/plain": [
       "('가연', '지훈', '지희')"
      ]
     },
     "execution_count": 78,
     "metadata": {},
     "output_type": "execute_result"
    }
   ],
   "source": [
    "t3=t1*2\n",
    "t3[:3]"
   ]
  },
  {
   "cell_type": "markdown",
   "id": "e5385675-df61-4427-8b35-202713285386",
   "metadata": {},
   "source": [
    "# 집합 \n",
    "- set(),{}\n",
    "- 중복이 안된다. 순서도 없다. 키도 없다.\n",
    "- 속도가 빠르다. 해싱을 하는 자료형 (딕셔너리, 집합)"
   ]
  },
  {
   "cell_type": "code",
   "execution_count": 81,
   "id": "c04cac95-9deb-49ee-a1d1-705d8605dc86",
   "metadata": {},
   "outputs": [
    {
     "data": {
      "text/plain": [
       "{1, 2, 3}"
      ]
     },
     "execution_count": 81,
     "metadata": {},
     "output_type": "execute_result"
    }
   ],
   "source": [
    "s = set([1,2,3])\n",
    "s"
   ]
  },
  {
   "cell_type": "code",
   "execution_count": 82,
   "id": "ee0b678d-f1e3-45cf-8722-608f92b755b7",
   "metadata": {},
   "outputs": [
    {
     "data": {
      "text/plain": [
       "{1, 2, 3}"
      ]
     },
     "execution_count": 82,
     "metadata": {},
     "output_type": "execute_result"
    }
   ],
   "source": [
    "s1 = {1,2,3}\n",
    "s1"
   ]
  },
  {
   "cell_type": "code",
   "execution_count": 93,
   "id": "8131b08e-b4d7-493f-ad07-b60604d757aa",
   "metadata": {},
   "outputs": [
    {
     "data": {
      "text/plain": [
       "[1, 2, 3, 1, 2, 3]"
      ]
     },
     "execution_count": 93,
     "metadata": {},
     "output_type": "execute_result"
    }
   ],
   "source": [
    "l2 = [1,2,3]\n",
    "l2 =l2 * 2\n",
    "l2"
   ]
  },
  {
   "cell_type": "code",
   "execution_count": 95,
   "id": "5611968b-e3a4-42c0-8703-67721cb1f734",
   "metadata": {},
   "outputs": [
    {
     "data": {
      "text/plain": [
       "{1, 2, 3}"
      ]
     },
     "execution_count": 95,
     "metadata": {},
     "output_type": "execute_result"
    }
   ],
   "source": [
    "# set으로 중복 제거한다.\n",
    "s3 = set(l2)\n",
    "s3"
   ]
  },
  {
   "cell_type": "code",
   "execution_count": 103,
   "id": "93df9f22-3f94-4902-94c0-f73a02f88091",
   "metadata": {},
   "outputs": [
    {
     "data": {
      "text/plain": [
       "([1,\n",
       "  2,\n",
       "  3,\n",
       "  1,\n",
       "  2,\n",
       "  3,\n",
       "  [4, 5, 6],\n",
       "  [4, 5, 6],\n",
       "  [4, 5, 6],\n",
       "  [4, 5, 6],\n",
       "  [4, 5, 6],\n",
       "  [4, 5, 6]],\n",
       " list)"
      ]
     },
     "execution_count": 103,
     "metadata": {},
     "output_type": "execute_result"
    }
   ],
   "source": [
    "l3 = l2.append([4,5,6])\n",
    "l2, type(l2)"
   ]
  },
  {
   "cell_type": "code",
   "execution_count": 126,
   "id": "37a65db3-67f3-438e-8b8f-b0899a8eeb35",
   "metadata": {},
   "outputs": [
    {
     "data": {
      "text/plain": [
       "{123, 'hi'}"
      ]
     },
     "execution_count": 126,
     "metadata": {},
     "output_type": "execute_result"
    }
   ],
   "source": [
    "set(['hi',123]) #해시코드"
   ]
  },
  {
   "cell_type": "code",
   "execution_count": 106,
   "id": "910d5064-bab6-47ef-9ac3-2ecfd230b685",
   "metadata": {},
   "outputs": [
    {
     "data": {
      "text/plain": [
       "123"
      ]
     },
     "execution_count": 106,
     "metadata": {},
     "output_type": "execute_result"
    }
   ],
   "source": [
    "hash(123) "
   ]
  },
  {
   "cell_type": "code",
   "execution_count": 110,
   "id": "bfb92c13-5b5d-4a32-828d-3f8df846f5dc",
   "metadata": {},
   "outputs": [],
   "source": [
    "#l1 = [1,2,3]\n",
    "#hash(l1)"
   ]
  },
  {
   "cell_type": "code",
   "execution_count": 124,
   "id": "972ca526-0f4d-43e6-9a08-c8d96b6eaf81",
   "metadata": {},
   "outputs": [
    {
     "data": {
      "text/plain": [
       "529344067295497451"
      ]
     },
     "execution_count": 124,
     "metadata": {},
     "output_type": "execute_result"
    }
   ],
   "source": [
    "hash((1,2,3)) #set : 해싱불가능, 요소는 해싱가능해야한다."
   ]
  },
  {
   "cell_type": "markdown",
   "id": "72c761a4-1fd9-4605-ad25-853fb9b09d7b",
   "metadata": {},
   "source": [
    "# set 집합 연산\n",
    "\n",
    "- 교집합 &, intersection()\n",
    "- 합집합 |, union()\n",
    "- 차집합 -, difference()"
   ]
  },
  {
   "cell_type": "code",
   "execution_count": 117,
   "id": "eb439288-5ebe-48fc-8c82-ad24f2c24a92",
   "metadata": {},
   "outputs": [],
   "source": [
    "s = set([1,2,3,4])\n",
    "x = {2,3,4}\n",
    "y = {3,4,5}"
   ]
  },
  {
   "cell_type": "code",
   "execution_count": 118,
   "id": "16d19960-69b1-478c-9006-545850dc2af2",
   "metadata": {},
   "outputs": [
    {
     "data": {
      "text/plain": [
       "{3, 4}"
      ]
     },
     "execution_count": 118,
     "metadata": {},
     "output_type": "execute_result"
    }
   ],
   "source": [
    "#교집합\n",
    "x & y"
   ]
  },
  {
   "cell_type": "code",
   "execution_count": 119,
   "id": "0fa31242-e4c0-4797-8238-162b8b5c976c",
   "metadata": {},
   "outputs": [
    {
     "data": {
      "text/plain": [
       "{3, 4}"
      ]
     },
     "execution_count": 119,
     "metadata": {},
     "output_type": "execute_result"
    }
   ],
   "source": [
    "x.intersection(y)"
   ]
  },
  {
   "cell_type": "code",
   "execution_count": 120,
   "id": "313f68b9-e922-4c67-89d4-b969c6c3d380",
   "metadata": {},
   "outputs": [
    {
     "data": {
      "text/plain": [
       "{2, 3, 4, 5}"
      ]
     },
     "execution_count": 120,
     "metadata": {},
     "output_type": "execute_result"
    }
   ],
   "source": [
    "#합집합\n",
    "x | y"
   ]
  },
  {
   "cell_type": "code",
   "execution_count": 121,
   "id": "8f6e5277-747a-45c4-949c-b53b9b4e1b0f",
   "metadata": {},
   "outputs": [
    {
     "data": {
      "text/plain": [
       "{2, 3, 4, 5}"
      ]
     },
     "execution_count": 121,
     "metadata": {},
     "output_type": "execute_result"
    }
   ],
   "source": [
    "x.union(y)"
   ]
  },
  {
   "cell_type": "code",
   "execution_count": 122,
   "id": "43e654f1-fe20-40be-ba2f-08b622ec4f79",
   "metadata": {},
   "outputs": [
    {
     "data": {
      "text/plain": [
       "{2}"
      ]
     },
     "execution_count": 122,
     "metadata": {},
     "output_type": "execute_result"
    }
   ],
   "source": [
    "#차집합\n",
    "x - y"
   ]
  },
  {
   "cell_type": "code",
   "execution_count": 123,
   "id": "87ac88ee-c515-46fa-9793-dc7eabc80ccb",
   "metadata": {},
   "outputs": [
    {
     "data": {
      "text/plain": [
       "{2}"
      ]
     },
     "execution_count": 123,
     "metadata": {},
     "output_type": "execute_result"
    }
   ],
   "source": [
    "x.difference(y)"
   ]
  },
  {
   "cell_type": "code",
   "execution_count": null,
   "id": "40b55862-bec6-4a86-a104-30c1141d6acb",
   "metadata": {},
   "outputs": [],
   "source": []
  },
  {
   "cell_type": "markdown",
   "id": "e36961b2-db51-433d-a5c5-1d7569c5d499",
   "metadata": {},
   "source": [
    "# 복합자료형 연습문제"
   ]
  },
  {
   "cell_type": "code",
   "execution_count": 169,
   "id": "a0f8ca42-ea48-4a5d-83d3-92bc4fc16da7",
   "metadata": {},
   "outputs": [
    {
     "data": {
      "text/plain": [
       "110"
      ]
     },
     "execution_count": 169,
     "metadata": {},
     "output_type": "execute_result"
    }
   ],
   "source": [
    "#1. 리스트 numbers가 다음과 같은 때, 첫 번쨰 원소와 마지막 원소의 합을 구하는 코드를 작성하세요\n",
    "numbers = [10, 20,  30,  40,  50,  60, 70, 80, 90, 100]\n",
    "\n",
    "#답\n",
    "numbers_sum = numbers[0] + numbers[-1]\n",
    "numbers_sum"
   ]
  },
  {
   "cell_type": "code",
   "execution_count": 132,
   "id": "0961f308-0e7c-4115-bd5b-4f4132e2e901",
   "metadata": {},
   "outputs": [
    {
     "name": "stdout",
     "output_type": "stream",
     "text": [
      "['red', 'green', 'blue', 'orange', 'black']\n"
     ]
    }
   ],
   "source": [
    "#2. 리스트 colors가 다음과 같을 때, 첫 3개 원소와 마지막 2개 원소를 슬라이싱을 사용하여 출력하는 코드를 작성하세요.\n",
    "colors = [\"red\", \"green\", \"blue\", \"yellow\", \"purple\", \"orange\", \"black\"]\n",
    "\n",
    "#답\n",
    "colors_sum = colors[:3] + colors[-2:]\n",
    "print(colors_sum)"
   ]
  },
  {
   "cell_type": "code",
   "execution_count": 145,
   "id": "04abf5fd-706d-4cf3-987e-ad7b6307468b",
   "metadata": {},
   "outputs": [
    {
     "data": {
      "text/plain": [
       "'korean'"
      ]
     },
     "execution_count": 145,
     "metadata": {},
     "output_type": "execute_result"
    }
   ],
   "source": [
    "#3. 다음 리스트에서 \"korean\"이라는 문자열을 찾아 출력하는 코드를 작성하세요. - indexing\n",
    "list_a = [\n",
    "    [1, 2, 3],\n",
    "    [\"red\", \"green\", \"blue\"],\n",
    "    [False, \"korean\", True]\n",
    "]\n",
    "\n",
    "#답\n",
    "list_a[2][1]"
   ]
  },
  {
   "cell_type": "code",
   "execution_count": 147,
   "id": "db8de27a-97df-410e-a901-eb832029bfbf",
   "metadata": {},
   "outputs": [
    {
     "data": {
      "text/plain": [
       "[1, 2, 3, 4, 5, 6]"
      ]
     },
     "execution_count": 147,
     "metadata": {},
     "output_type": "execute_result"
    }
   ],
   "source": [
    "#4. 리스트 list_a과 list_b가 다음과 같을 때, 두 리스트를 합쳐서 새로운 리스트 list_c를 만드는 코드를 작성하세요.\n",
    "\n",
    "#답\n",
    "list_a = [1,2,3]\n",
    "list_b = [4,5,6]\n",
    "list_c = list_a + list_b\n",
    "list_c"
   ]
  },
  {
   "cell_type": "code",
   "execution_count": 158,
   "id": "84e4853c-8873-42ed-a9c2-4203f8113991",
   "metadata": {},
   "outputs": [
    {
     "data": {
      "text/plain": [
       "['apple', 'blueberry', 'cherry']"
      ]
     },
     "execution_count": 158,
     "metadata": {},
     "output_type": "execute_result"
    }
   ],
   "source": [
    "#5. 아래의 튜플 tuple_a에서 \"banana\"를 \"blueberry\"로 변경하는 코드를 작성하세요\n",
    "tuple_a = (\"apple\", \"banana\", \"cherry\")\n",
    "\n",
    "#답\n",
    "list_a = list(tuple_a)\n",
    "list_a.insert(1,'blueberry')\n",
    "list_a.remove('banana')\n",
    "list_a"
   ]
  },
  {
   "cell_type": "code",
   "execution_count": 163,
   "id": "632c50fb-047c-46f6-84bc-34f830d726a8",
   "metadata": {},
   "outputs": [
    {
     "data": {
      "text/plain": [
       "[5, 10, 15]"
      ]
     },
     "execution_count": 163,
     "metadata": {},
     "output_type": "execute_result"
    }
   ],
   "source": [
    "#6.변수 a, b, c의 값을 사용하여 튜플 tuple_a를 생성하고 출력하는 코드를 작성하세요.\n",
    "\n",
    "#답\n",
    "a=5\n",
    "b=10\n",
    "c=15\n",
    "tuple_a = ([a,b,c])\n",
    "tuple_a"
   ]
  },
  {
   "cell_type": "code",
   "execution_count": 165,
   "id": "2e8df8ed-a1dd-403b-8fac-6c65c70250c1",
   "metadata": {},
   "outputs": [
    {
     "name": "stdout",
     "output_type": "stream",
     "text": [
      "92\n",
      "19\n"
     ]
    }
   ],
   "source": [
    "#7. 튜플 numbers가 주어졌을 때, 튜플의 최대값과 최소값을 출력하는 코드를 작성하세요.\n",
    "numbers = (92, 89, 72, 31, 71, 33, 19)\n",
    "\n",
    "#답\n",
    "max_numbers = max(numbers)\n",
    "min_numbers = min(numbers)\n",
    "print(max_numbers)\n",
    "print(min_numbers)"
   ]
  },
  {
   "cell_type": "code",
   "execution_count": 172,
   "id": "6ba08698-534c-4601-a733-948196034fb0",
   "metadata": {},
   "outputs": [
    {
     "data": {
      "text/plain": [
       "{'name': 'Alice', 'age': 24, 'major': 'Computer Science'}"
      ]
     },
     "execution_count": 172,
     "metadata": {},
     "output_type": "execute_result"
    }
   ],
   "source": [
    "#8. dict 타입의 student(변수명)를 생성하고, 아래의 키-값 쌍을 추가하는 코드를 작성하세요.\n",
    "name = \"Alice\"\n",
    "age = 24\n",
    "major = \"Computer Science\"\n",
    "\n",
    "#답\n",
    "student = {}\n",
    "student[\"name\"] = \"Alice\"\n",
    "student[\"age\"] = 24\n",
    "student[\"major\"] = \"Computer Science\"\n",
    "student"
   ]
  },
  {
   "cell_type": "code",
   "execution_count": 174,
   "id": "a9b0f99e-8477-4435-a93c-58055a4a0b81",
   "metadata": {},
   "outputs": [
    {
     "name": "stdout",
     "output_type": "stream",
     "text": [
      "name:Alice\n",
      "age:24\n",
      "major:Computer Science\n"
     ]
    }
   ],
   "source": [
    "#9. 위에서 생성한 student에서, 모든 키와 값을 출력하는 코드를 작성하세요\n",
    "\n",
    "#답\n",
    "for k, v in student.items():\n",
    "    print(f'{k}:{v}')"
   ]
  },
  {
   "cell_type": "code",
   "execution_count": 176,
   "id": "eebc1fdb-c064-4ae5-b6d6-2eb06bf8c534",
   "metadata": {},
   "outputs": [
    {
     "data": {
      "text/plain": [
       "{'name': 'Alice', 'age': 26, 'major': 'Computer Science'}"
      ]
     },
     "execution_count": 176,
     "metadata": {},
     "output_type": "execute_result"
    }
   ],
   "source": [
    "#10. 위에서 생성한 student에서, age(나이)를 26으로 변경하세요.\n",
    "\n",
    "#답\n",
    "student['age']=26\n",
    "student"
   ]
  },
  {
   "cell_type": "code",
   "execution_count": 177,
   "id": "e106f7fe-69a4-4a24-933c-b81cc3762a1a",
   "metadata": {},
   "outputs": [
    {
     "data": {
      "text/plain": [
       "(['Alice', 'Bob', 'Charlie'], (24, 22, 23))"
      ]
     },
     "execution_count": 177,
     "metadata": {},
     "output_type": "execute_result"
    }
   ],
   "source": [
    "#11. 다음 딕셔너리 students에서 name의 값을 리스트(name_list)로, age의 값을 튜플(age_tuple) 만드는 코드를 작성하세요\n",
    "students = {\n",
    "    \"student1\": {\"name\": \"Alice\", \"age\": 24},\n",
    "    \"student2\": {\"name\": \"Bob\", \"age\": 22},\n",
    "    \"student3\": {\"name\": \"Charlie\", \"age\": 23}\n",
    "}\n",
    "\n",
    "#답\n",
    "name_list = []\n",
    "age_list = []\n",
    "for key in students.keys():\n",
    "    stu = students[key]\n",
    "    name_list.append(stu['name'])\n",
    "    age_list.append(stu['age'])\n",
    "\n",
    "age_tuple = tuple(age_list)\n",
    "name_list, age_tuple"
   ]
  },
  {
   "cell_type": "code",
   "execution_count": null,
   "id": "e450c25b-9a0f-46d4-a041-7144837f4160",
   "metadata": {},
   "outputs": [],
   "source": []
  },
  {
   "cell_type": "code",
   "execution_count": null,
   "id": "9f9b73b2-5e34-4c3d-bff5-fc22376d88e3",
   "metadata": {},
   "outputs": [],
   "source": []
  }
 ],
 "metadata": {
  "kernelspec": {
   "display_name": "Python 3 (ipykernel)",
   "language": "python",
   "name": "python3"
  },
  "language_info": {
   "codemirror_mode": {
    "name": "ipython",
    "version": 3
   },
   "file_extension": ".py",
   "mimetype": "text/x-python",
   "name": "python",
   "nbconvert_exporter": "python",
   "pygments_lexer": "ipython3",
   "version": "3.12.9"
  }
 },
 "nbformat": 4,
 "nbformat_minor": 5
}
