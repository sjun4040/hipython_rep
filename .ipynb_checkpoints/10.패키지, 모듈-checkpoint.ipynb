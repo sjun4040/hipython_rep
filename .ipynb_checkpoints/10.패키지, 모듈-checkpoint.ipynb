{
 "cells": [
  {
   "cell_type": "markdown",
   "id": "10286a07-be25-40da-ac91-f31d0cdd574e",
   "metadata": {},
   "source": [
    "모듈은 파이썬 파일이다. 확장자가 .py여야 한다"
   ]
  },
  {
   "cell_type": "code",
   "execution_count": 1,
   "id": "a3eeb330-bcd6-48ff-94dd-2873fbb219e7",
   "metadata": {},
   "outputs": [
    {
     "name": "stdout",
     "output_type": "stream",
     "text": [
      "first moduel 입니다\n",
      "the end...\n",
      "2nd hello\n"
     ]
    }
   ],
   "source": [
    "import first\n",
    "\n",
    "first.my_func1()"
   ]
  },
  {
   "cell_type": "code",
   "execution_count": 2,
   "id": "0ab050b2-4dc5-4657-8f22-45520f650c3b",
   "metadata": {},
   "outputs": [
    {
     "name": "stdout",
     "output_type": "stream",
     "text": [
      "hello\n"
     ]
    }
   ],
   "source": [
    "import first as fr\n",
    "fr.my_func()"
   ]
  },
  {
   "cell_type": "code",
   "execution_count": 8,
   "id": "377875d3-6628-4873-b434-4bd9f6ac407a",
   "metadata": {},
   "outputs": [
    {
     "name": "stdout",
     "output_type": "stream",
     "text": [
      "hello\n"
     ]
    }
   ],
   "source": [
    "import first as fr\n",
    "\n",
    "fr.my_func()"
   ]
  },
  {
   "cell_type": "code",
   "execution_count": 12,
   "id": "7a8154b7-b527-4c62-8ece-28390e04f024",
   "metadata": {},
   "outputs": [
    {
     "data": {
      "text/plain": [
       "['__builtins__',\n",
       " '__cached__',\n",
       " '__doc__',\n",
       " '__file__',\n",
       " '__loader__',\n",
       " '__name__',\n",
       " '__package__',\n",
       " '__spec__',\n",
       " 'my_func',\n",
       " 'my_func1',\n",
       " 'my_func2']"
      ]
     },
     "execution_count": 12,
     "metadata": {},
     "output_type": "execute_result"
    }
   ],
   "source": [
    "dir(first)"
   ]
  },
  {
   "cell_type": "code",
   "execution_count": 13,
   "id": "7b3830f1-fbd2-482d-9d67-79450b968bcd",
   "metadata": {},
   "outputs": [
    {
     "data": {
      "text/plain": [
       "['__annotations__',\n",
       " '__builtins__',\n",
       " '__call__',\n",
       " '__class__',\n",
       " '__closure__',\n",
       " '__code__',\n",
       " '__defaults__',\n",
       " '__delattr__',\n",
       " '__dict__',\n",
       " '__dir__',\n",
       " '__doc__',\n",
       " '__eq__',\n",
       " '__format__',\n",
       " '__ge__',\n",
       " '__get__',\n",
       " '__getattribute__',\n",
       " '__getstate__',\n",
       " '__globals__',\n",
       " '__gt__',\n",
       " '__hash__',\n",
       " '__init__',\n",
       " '__init_subclass__',\n",
       " '__kwdefaults__',\n",
       " '__le__',\n",
       " '__lt__',\n",
       " '__module__',\n",
       " '__name__',\n",
       " '__ne__',\n",
       " '__new__',\n",
       " '__qualname__',\n",
       " '__reduce__',\n",
       " '__reduce_ex__',\n",
       " '__repr__',\n",
       " '__setattr__',\n",
       " '__sizeof__',\n",
       " '__str__',\n",
       " '__subclasshook__',\n",
       " '__type_params__']"
      ]
     },
     "execution_count": 13,
     "metadata": {},
     "output_type": "execute_result"
    }
   ],
   "source": [
    "dir(my_func)"
   ]
  },
  {
   "cell_type": "markdown",
   "id": "93350782-caf5-49e5-8d73-472ffddc1d3b",
   "metadata": {},
   "source": [
    "# 모듈의 실행 VS 모듈의 import 구분\n",
    "\n",
    "- 모듈 단독 실행시에만 호출되는 코드<br>\n",
    "'if __name__ == '__main__':'<br>\n",
    "    실행함수<br>\n",
    "'else: '<br>\n",
    "'    변수 설정'<br>\n",
    "\n",
    "- import 할 때는 실행되지 않는다"
   ]
  },
  {
   "cell_type": "markdown",
   "id": "25e4fa54-919c-496b-8bb7-5a7f6d39ef93",
   "metadata": {},
   "source": [
    "# 패키지 : 모듈의 묶음\n",
    "\n",
    "윈도우, 리눅스 : 디렉토리/폴더<br>\n",
    "import 폴더명.모듈명\n"
   ]
  },
  {
   "cell_type": "code",
   "execution_count": 7,
   "id": "f5345194-d926-4062-ab21-7c56b36bfe9d",
   "metadata": {},
   "outputs": [],
   "source": [
    "import my_first_package.second"
   ]
  },
  {
   "cell_type": "code",
   "execution_count": 2,
   "id": "c969a9fb-8863-4ad4-828e-3588bf69173b",
   "metadata": {},
   "outputs": [
    {
     "ename": "ModuleNotFoundError",
     "evalue": "No module named 'magic_calc'",
     "output_type": "error",
     "traceback": [
      "\u001b[31m---------------------------------------------------------------------------\u001b[39m",
      "\u001b[31mModuleNotFoundError\u001b[39m                       Traceback (most recent call last)",
      "\u001b[36mCell\u001b[39m\u001b[36m \u001b[39m\u001b[32mIn[2]\u001b[39m\u001b[32m, line 1\u001b[39m\n\u001b[32m----> \u001b[39m\u001b[32m1\u001b[39m \u001b[38;5;28;01mimport\u001b[39;00m\u001b[38;5;250m \u001b[39m\u001b[34;01mmagic_calc\u001b[39;00m\n\u001b[32m      3\u001b[39m result_add = magic_calc.basic_ops.add(\u001b[32m10\u001b[39m,\u001b[32m5\u001b[39m)\n\u001b[32m      4\u001b[39m \u001b[38;5;28mprint\u001b[39m(result_add)\n",
      "\u001b[31mModuleNotFoundError\u001b[39m: No module named 'magic_calc'"
     ]
    }
   ],
   "source": [
    "import magic_calc\n",
    "\n",
    "result_add = magic_calc.basic_ops.add(10,5)\n",
    "print(result_add)"
   ]
  }
 ],
 "metadata": {
  "kernelspec": {
   "display_name": "Python 3 (ipykernel)",
   "language": "python",
   "name": "python3"
  },
  "language_info": {
   "codemirror_mode": {
    "name": "ipython",
    "version": 3
   },
   "file_extension": ".py",
   "mimetype": "text/x-python",
   "name": "python",
   "nbconvert_exporter": "python",
   "pygments_lexer": "ipython3",
   "version": "3.12.9"
  }
 },
 "nbformat": 4,
 "nbformat_minor": 5
}
