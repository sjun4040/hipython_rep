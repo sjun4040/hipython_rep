{
 "cells": [
  {
   "cell_type": "code",
   "execution_count": 26,
   "id": "e06e97a8-2834-4ed9-a386-609367a15bc5",
   "metadata": {},
   "outputs": [
    {
     "name": "stdout",
     "output_type": "stream",
     "text": [
      "----------------------------------------\n",
      "어서오세요 또와유에 오신것을 환영합니다\n",
      "----------------------------------------\n",
      "1.초코\n",
      "2.바닐라\n",
      "3.딸기\n",
      "4.우유\n",
      "5.민트초코\n",
      "6.말차\n",
      "----------------------------------------\n"
     ]
    }
   ],
   "source": [
    "#환영인사\n",
    "store_name = '또와유'\n",
    "print('-'*40)\n",
    "print(f'어서오세요 {store_name}에 오신것을 환영합니다')\n",
    "print('-'*40)\n",
    "#딕셔너리버전,\n",
    "store_name = '또와유'\n",
    "menu_list =['초코','바닐라','딸기','우유','민트초코','말차']\n",
    "size_price = [{'S':2000},{'M':3000},{'L':4000}]\n",
    "\n",
    "#메뉴목록 출력\n",
    "for i,menu in enumerate(menu_list) :\n",
    "    print(f'{i+1}.{menu}')\n",
    "print('-'*40)"
   ]
  },
  {
   "cell_type": "code",
   "execution_count": 28,
   "id": "64fbcf83-fcb1-4dff-97e2-7a7403d06d29",
   "metadata": {},
   "outputs": [
    {
     "name": "stdout",
     "output_type": "stream",
     "text": [
      "1. 사이즈: S, 가격: 2000원\n",
      "2. 사이즈: M, 가격: 3000원\n",
      "3. 사이즈: L, 가격: 4000원\n",
      "----------------------------------------\n"
     ]
    }
   ],
   "source": [
    "#사이즈,\n",
    "for i, size in enumerate(size_price):\n",
    "    for key, value in size.items():\n",
    "        print(f'{i + 1}. 사이즈: {key}, 가격: {value}원')\n",
    "print('-'*40)"
   ]
  },
  {
   "cell_type": "code",
   "execution_count": 32,
   "id": "4459767e-5968-4b71-b024-90000a707581",
   "metadata": {},
   "outputs": [
    {
     "name": "stdin",
     "output_type": "stream",
     "text": [
      "주문할 사이즈를 선택해주세요 (1~3):  1\n",
      "주문할 개수를 입력해주세요:  2\n"
     ]
    },
    {
     "name": "stdout",
     "output_type": "stream",
     "text": [
      "총 금액은 4000원 입니다.\n"
     ]
    }
   ],
   "source": [
    "\n",
    "#사용자 입력,\n",
    "size = int(input(\"주문할 사이즈를 선택해주세요 (1~3): \")) - 1\n",
    "qty = int(input(\"주문할 개수를 입력해주세요: \"))\n",
    "\n",
    "#선택한 사이즈의 가격 계산,\n",
    "selected_size_dict = size_price[size]\n",
    "selected_price = list(selected_size_dict.values())[0]\n",
    "total_price = qty * selected_price\n",
    "\n",
    "print(f\"총 금액은 {total_price}원 입니다.\")"
   ]
  },
  {
   "cell_type": "code",
   "execution_count": null,
   "id": "5d12f8bd-4a37-471b-ab95-9133f41ec4b6",
   "metadata": {},
   "outputs": [],
   "source": []
  },
  {
   "cell_type": "code",
   "execution_count": 29,
   "id": "c00b65e5-91cb-4a29-ad64-785dade4c019",
   "metadata": {},
   "outputs": [
    {
     "name": "stdout",
     "output_type": "stream",
     "text": [
      "========================================\n",
      "고객님이 선택하신 아이스크림은\n",
      "1. 바닐라 맛 S 사이즈 2개 입니다.\n",
      "2. 초코 맛 L 사이즈 1개 입니다.\n",
      "주문하신 메뉴를 확인해주세요.\n"
     ]
    },
    {
     "name": "stdin",
     "output_type": "stream",
     "text": [
      "결제하시겠습니까? (yes):  yes\n",
      "멤버십을 적립하시겠습니까? (yes/no):  yes\n"
     ]
    },
    {
     "name": "stdout",
     "output_type": "stream",
     "text": [
      "멤버십 적립 페이지로 이동합니다.\n"
     ]
    }
   ],
   "source": [
    "#장바구니\n",
    "print('=' * 40)\n",
    "print(\"고객님이 선택하신 아이스크림은\")\n",
    "print(\"1. 바닐라 맛 S 사이즈 2개 입니다.\")\n",
    "print(\"2. 초코 맛 L 사이즈 1개 입니다.\")\n",
    "\n",
    "print(\"주문하신 메뉴를 확인해주세요.\")\n",
    "answer = input(\"결제하시겠습니까? (yes): \")\n",
    "\n",
    "if answer.lower() == \"yes\":\n",
    "    membership = input(\"멤버십을 적립하시겠습니까? (yes/no): \")\n",
    "    if membership.lower() == \"yes\":\n",
    "        print(\"멤버십 적립 페이지로 이동합니다.\")\n",
    "        # 다음 단계 코드 입력\n",
    "    else:\n",
    "        print(\"멤버십 적립을 건너뜁니다.\")\n",
    "        # 다음 단계 코드 입력\n",
    "else:\n",
    "    print(\"주문이 취소되었습니다.\")"
   ]
  },
  {
   "cell_type": "code",
   "execution_count": 16,
   "id": "69c57a90-97f0-46ed-9be3-4dd19d1eedc4",
   "metadata": {},
   "outputs": [
    {
     "name": "stdin",
     "output_type": "stream",
     "text": [
      "멤버십을 적립하시겠습니까? (yes or no)로 답해주세요:  yess\n"
     ]
    },
    {
     "name": "stdout",
     "output_type": "stream",
     "text": [
      "잘못 입력하셨습니다. 다시 입력해주세요.\n"
     ]
    },
    {
     "name": "stdin",
     "output_type": "stream",
     "text": [
      "멤버십을 적립하시겠습니까? (yes or no)로 답해주세요:  yes\n"
     ]
    },
    {
     "name": "stdout",
     "output_type": "stream",
     "text": [
      "yes를 선택하셨습니다.\n"
     ]
    },
    {
     "name": "stdin",
     "output_type": "stream",
     "text": [
      "전화번호를 입력해주세요( - 없이 입력해주세요):  01056557968\n"
     ]
    },
    {
     "name": "stdout",
     "output_type": "stream",
     "text": [
      "01056557968번호로 멤버십이 만들어졌습니다.\n"
     ]
    }
   ],
   "source": [
    "# 멤버십 \n",
    "while True:\n",
    "    member = input('멤버십을 적립하시겠습니까? (yes or no)로 답해주세요: ').strip().lower()\n",
    "    \n",
    "    if member == 'yes':\n",
    "        print(f'{member}를 선택하셨습니다.')\n",
    "        member_ship = input('전화번호를 입력해주세요( - 없이 입력해주세요): ')\n",
    "        print(f'{member_ship}번호로 멤버십이 만들어졌습니다.')\n",
    "        break\n",
    "    \n",
    "    elif member == 'no':\n",
    "        print(f'{member}를 선택하셨습니다.')\n",
    "        break\n",
    "    \n",
    "    else:\n",
    "        print(\"잘못 입력하셨습니다. 다시 입력해주세요.\")\n"
   ]
  },
  {
   "cell_type": "code",
   "execution_count": 23,
   "id": "058724fd-fbb3-434e-8b36-e73c40086579",
   "metadata": {},
   "outputs": [
    {
     "name": "stdout",
     "output_type": "stream",
     "text": [
      "주문이 완료되었습니다. 감사합니다. 또와유~~~🤗\n"
     ]
    }
   ],
   "source": [
    "#마지막 화면\n",
    "emoji = \"🤗\"\n",
    "print(f\"주문이 완료되었습니다. 감사합니다. 또와유~~~{emoji}\")\n"
   ]
  },
  {
   "cell_type": "code",
   "execution_count": null,
   "id": "850c9fc2-735e-493f-aa20-59503d54f5d5",
   "metadata": {},
   "outputs": [],
   "source": []
  },
  {
   "cell_type": "code",
   "execution_count": 26,
   "id": "b8f9c184-8f7d-4880-81d5-19fa612dd4e5",
   "metadata": {},
   "outputs": [
    {
     "ename": "IndentationError",
     "evalue": "unindent does not match any outer indentation level (<string>, line 65)",
     "output_type": "error",
     "traceback": [
      "  \u001b[36mFile \u001b[39m\u001b[32m<string>:65\u001b[39m\n\u001b[31m    \u001b[39m\u001b[31melse:\u001b[39m\n         ^\n\u001b[31mIndentationError\u001b[39m\u001b[31m:\u001b[39m unindent does not match any outer indentation level\n"
     ]
    }
   ],
   "source": [
    "## 베타 키오스크 ##\n",
    "\n",
    "#환영인사\n",
    "store_name = 'I miss u cream'\n",
    "print('-'*100)\n",
    "print(f'어서오세요 {store_name}에 오신것을 환영합니다')\n",
    "print('-'*100)\n",
    "\n",
    "#딕셔너리버전,\n",
    "store_name = 'I miss you cream'\n",
    "menu_list =['초코','바닐라','딸기','우유','민트초코','말차']\n",
    "size_price = [{'S':2000},{'M':3000},{'L':4000}]\n",
    "\n",
    "#메뉴목록 출력\n",
    "for i,menu in enumerate(menu_list) :\n",
    "    print(f'{i+1}.{menu}')\n",
    "print('-'*100)\n",
    "order_menu = int(input(f\"메뉴 목록에서 원하는 메뉴의 숫자를 입력하세요. (1~{len(menu_list)}): \")) - 1\n",
    "print('-'*100)\n",
    "\n",
    "#사이즈,\n",
    "for i, size in enumerate(size_price):\n",
    "    for key, value in size.items():\n",
    "        print(f'{i + 1}. 사이즈: {key}, 가격: {value}원')\n",
    "print('-'*100)\n",
    "\n",
    "#사용자 입력,\n",
    "size = int(input(\"주문할 사이즈를 선택해주세요 (1~3): \")) - 1\n",
    "qty = int(input(\"주문할 개수를 입력해주세요: \"))\n",
    "\n",
    "#선택한 사이즈의 가격 계산,\n",
    "selected_size_dict = size_price[size]\n",
    "selected_price = list(selected_size_dict.values())[0]\n",
    "total_price = qty * selected_price\n",
    "\n",
    "print(f\"총 금액은 {total_price}원 입니다.\")\n",
    "\n",
    "#장바구니\n",
    "print('=' * 100)\n",
    "print(f'{menu_list[order_menu]} 맛 메뉴를 선택하셨습니다')\n",
    "\n",
    "membership = input(\"결제페이지로 이동하시겠습니까? (y/n): \")\n",
    "if membership.lower() == \"y\":\n",
    "    while True:   # 멤버십 \n",
    "        member = input('멤버십을 적립하시겠습니까? (y/n)로 답해주세요: ').strip().lower()        \n",
    "        if member == 'y':\n",
    "            print(f'{member}를 선택하셨습니다.')\n",
    "            while True:\n",
    "                member_ship = input('전화 번호를 11자리를 입력하세요').strip()\n",
    "                if len(member_ship) == 11 and member_ship.isdigit():\n",
    "                    weights = list(range(1,90)) + list(range(1,90))\n",
    "                    total = 0\n",
    "                    for i in range(11):\n",
    "                        total += int(member_ship[i]) * weights[i]\n",
    "                    print(f'({member_ship[-4:]}{total})번호로 멤버십이 만들어졌습니다.')\n",
    "                    break\n",
    "                else:\n",
    "                    print('전화번호가 올바르지 않습니다. 11자리를 확인해주세요')\n",
    "            break\n",
    "        elif member == 'n':\n",
    "            print(f'{member}를 선택하셨습니다.')\n",
    "            break\n",
    "        \n",
    "        else:\n",
    "            print(\"잘못 입력하셨습니다. 다시 입력해주세요.\")\n",
    "\n",
    "        \n",
    "    # 다음 단계 코드 입력\n",
    "else:\n",
    "    print(\"주문이 취소되었습니다.\")\n",
    "\n",
    "\n",
    "    #마지막 화면\n",
    "emoji = \"🤗\"\n",
    "print(f\"주문이 완료되었습니다. 감사합니다. 또와유~~~{emoji}\")\n"
   ]
  },
  {
   "cell_type": "code",
   "execution_count": 7,
   "id": "983f597a-6b09-4356-a82c-c716f12f5534",
   "metadata": {},
   "outputs": [
    {
     "name": "stdout",
     "output_type": "stream",
     "text": [
      "       _______________________\n",
      "      /                       \\\n",
      "     /   ICE CREAM SHOP        \\\n",
      "    /___________________________\\\n",
      "    |  _  _  _  _  _  _  _  _   |\n",
      "    | | || || || || || || || |  |\n",
      "    | | || || || || || || || |  |\n",
      "    |  -  -  -  -  -  -  -  -   |\n",
      "    |                           |\n",
      "    |   ____        ____        |\n",
      "    |  |    |      |    |       |\n",
      "    |  |____|      |____|       |\n",
      "    |   Door         Window     |\n",
      "    |___________________________|\n"
     ]
    }
   ],
   "source": [
    "print(\"       _______________________\")\n",
    "print(\"      /                       \\\\\")\n",
    "print(\"     /   ICE CREAM SHOP        \\\\\")\n",
    "print(\"    /___________________________\\\\\")\n",
    "print(\"    |  _  _  _  _  _  _  _  _   |\")\n",
    "print(\"    | | || || || || || || || |  |\")\n",
    "print(\"    | | || || || || || || || |  |\")\n",
    "print(\"    |  -  -  -  -  -  -  -  -   |\")\n",
    "print(\"    |                           |\")\n",
    "print(\"    |   ____        ____        |\")\n",
    "print(\"    |  |    |      |    |       |\")\n",
    "print(\"    |  |____|      |____|       |\")\n",
    "print(\"    |   Door         Window     |\")\n",
    "print(\"    |___________________________|\")"
   ]
  },
  {
   "cell_type": "code",
   "execution_count": 15,
   "id": "5e99f14d-789f-482d-b16a-ec0c5c016130",
   "metadata": {},
   "outputs": [
    {
     "name": "stdout",
     "output_type": "stream",
     "text": [
      "           .-\"\"\"\"\"\"\"-.\n",
      "        .-'           '-.\n",
      "      .'                 '.\n",
      "     /                     \\\n",
      "    |        '----'          |\n",
      "    |                       |\n",
      "     \\                     /\n",
      "      '.                 .'\n",
      "        '-._         _.-'\n",
      "            '-------'\n",
      "             |     |\n",
      "         ____|     |____\n",
      "        /               \\\n",
      "        | I miss u cram |\n",
      "        \\_______________/\n",
      "            | |   | |\n",
      "            |_|   |_|\n"
     ]
    }
   ],
   "source": [
    "print(\"           .-\\\"\\\"\\\"\\\"\\\"\\\"\\\"-.\")\n",
    "print(\"        .-'           '-.\")\n",
    "print(\"      .'                 '.\")\n",
    "print(\"     /                     \\\\\")\n",
    "print(\"    |        '----'          |\")\n",
    "print(\"    |                       |\")\n",
    "print(\"     \\\\                     /\")\n",
    "print(\"      '.                 .'\")\n",
    "print(\"        '-._         _.-'\")\n",
    "print(\"            '-------'\")\n",
    "print(\"             |     |\")\n",
    "print(\"         ____|     |____\")\n",
    "print(\"        /               \\\\\")\n",
    "print(\"        | I miss u cram |\")\n",
    "print(\"        \\\\_______________/\")\n",
    "print(\"            | |   | |\")\n",
    "print(\"            |_|   |_|\")"
   ]
  }
 ],
 "metadata": {
  "kernelspec": {
   "display_name": "Python 3 (ipykernel)",
   "language": "python",
   "name": "python3"
  },
  "language_info": {
   "codemirror_mode": {
    "name": "ipython",
    "version": 3
   },
   "file_extension": ".py",
   "mimetype": "text/x-python",
   "name": "python",
   "nbconvert_exporter": "python",
   "pygments_lexer": "ipython3",
   "version": "3.12.9"
  }
 },
 "nbformat": 4,
 "nbformat_minor": 5
}
