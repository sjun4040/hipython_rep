{
 "cells": [
  {
   "cell_type": "code",
   "execution_count": 1,
   "id": "7b1d2302-3612-4e07-9df3-efc51904163c",
   "metadata": {},
   "outputs": [],
   "source": [
    "def member_func() :\n",
    "    # 멤버십 딕셔너리 선언\n",
    "    membership_dict = {}\n",
    "    \n",
    "    # 결제 진행(결제부터 대답해야 이어져서 기존 코드 사용 추후에 결제 진행 부분 코드로 수정 예정)\n",
    "    while True:\n",
    "        answer = input(\"결제하시겠습니까? (yes/no): \").strip().lower()\n",
    "        if answer not in ['yes', 'no']:\n",
    "            print(\"yes 또는 no만 입력해주세요.\")\n",
    "            continue\n",
    "    \n",
    "        if answer == \"no\":\n",
    "            print(\"주문이 취소되었습니다.\\n\")\n",
    "            break  # 프로그램 종료\n",
    "    \n",
    "        # 멤버십 적립\n",
    "        while True:\n",
    "            member = input(\"멤버십을 적립하시겠습니까? (yes/no): \").strip().lower()\n",
    "            if member not in ['yes', 'no']:\n",
    "                print(\"yes 또는 no만 입력해주세요.\")\n",
    "                continue\n",
    "    \n",
    "            if member == 'no':\n",
    "                print(\"멤버십 적립을 건너뜁니다.\\n\")\n",
    "                break\n",
    "    \n",
    "            print(\"멤버십 적립을 선택하셨습니다.\")\n",
    "            while True:\n",
    "                member_ship = input(\"전화 번호를 11자리를 입력하세요: \").strip()\n",
    "                # 유효성 검사(11자리 여부, 숫자 여부)\n",
    "                if len(member_ship) != 11 or not member_ship.isdigit():\n",
    "                    print(\"전화번호가 올바르지 않습니다. 11자리 숫자만 입력해주세요.\")\n",
    "                    continue\n",
    "    \n",
    "                # 포인트 적립 \n",
    "                if member_ship in membership_dict:\n",
    "                    # 기존 회원: 1포인트 추가\n",
    "                    membership_dict[member_ship] += 1\n",
    "                    print(f\"기존 ({member_ship}) 번호로 포인트를 적립했습니다. 총 포인트는 {membership_dict[member_ship]}점입니다.\\n\")\n",
    "                else:\n",
    "                    # 신규 회원: 포인트 1점으로 초기화\n",
    "                    membership_dict[member_ship] = 1\n",
    "                    print(f\"새로운 ({member_ship}) 번호로 멤버십이 생성되었습니다. 현재 포인트는 {membership_dict[member_ship]}점입니다.\\n\")\n",
    "                break  \n",
    "    \n",
    "            break  \n",
    "    \n",
    "        #결제 완료 부분(추가 필요)\n",
    "        print(\"결제가 완료되었습니다. 감사합니다!\\n\")\n",
    "        break # 멤버십이 잘 적립되는지 확인하려고 break 사용 안했습니다(코드 합칠때는 멤버십에서 계속 돌지 않도록 break 사용 에정)\n",
    "    \n"
   ]
  },
  {
   "cell_type": "code",
   "execution_count": 3,
   "id": "729e253b-5412-484d-8725-620eaf343cec",
   "metadata": {},
   "outputs": [
    {
     "name": "stdin",
     "output_type": "stream",
     "text": [
      "결제하시겠습니까? (yes/no):  yes\n",
      "멤버십을 적립하시겠습니까? (yes/no):  yes\n"
     ]
    },
    {
     "name": "stdout",
     "output_type": "stream",
     "text": [
      "멤버십 적립을 선택하셨습니다.\n"
     ]
    },
    {
     "name": "stdin",
     "output_type": "stream",
     "text": [
      "전화 번호를 11자리를 입력하세요:  01056557968\n"
     ]
    },
    {
     "name": "stdout",
     "output_type": "stream",
     "text": [
      "새로운 (01056557968) 번호로 멤버십이 생성되었습니다. 현재 포인트는 1점입니다.\n",
      "\n",
      "결제가 완료되었습니다. 감사합니다!\n",
      "\n"
     ]
    }
   ],
   "source": [
    "member_func()"
   ]
  }
 ],
 "metadata": {
  "kernelspec": {
   "display_name": "Python 3 (ipykernel)",
   "language": "python",
   "name": "python3"
  },
  "language_info": {
   "codemirror_mode": {
    "name": "ipython",
    "version": 3
   },
   "file_extension": ".py",
   "mimetype": "text/x-python",
   "name": "python",
   "nbconvert_exporter": "python",
   "pygments_lexer": "ipython3",
   "version": "3.12.9"
  }
 },
 "nbformat": 4,
 "nbformat_minor": 5
}
