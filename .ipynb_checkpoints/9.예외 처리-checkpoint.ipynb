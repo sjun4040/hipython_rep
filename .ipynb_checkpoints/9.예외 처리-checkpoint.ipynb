{
 "cells": [
  {
   "cell_type": "markdown",
   "id": "c9b10b7e-12ec-4515-814f-0857e894516a",
   "metadata": {},
   "source": [
    "# 예외의 종류\n",
    "1. 문법오류 : SyntaxError , NameError, TypeError\n",
    "2. 논리오류\n",
    "3. 예외상황"
   ]
  },
  {
   "cell_type": "markdown",
   "id": "99062bf8-03a0-491a-a212-2e44c5b821b7",
   "metadata": {},
   "source": [
    "### 문법 오류"
   ]
  },
  {
   "cell_type": "code",
   "execution_count": 2,
   "id": "19c4d589-ddbc-40b5-bb05-d50393bc5373",
   "metadata": {},
   "outputs": [
    {
     "ename": "SyntaxError",
     "evalue": "expected ':' (1034960825.py, line 1)",
     "output_type": "error",
     "traceback": [
      "  \u001b[36mCell\u001b[39m\u001b[36m \u001b[39m\u001b[32mIn[2]\u001b[39m\u001b[32m, line 1\u001b[39m\n\u001b[31m    \u001b[39m\u001b[31mwhile True\u001b[39m\n              ^\n\u001b[31mSyntaxError\u001b[39m\u001b[31m:\u001b[39m expected ':'\n"
     ]
    }
   ],
   "source": [
    "while True             #syntax 오류 \n",
    "    print('hello')"
   ]
  },
  {
   "cell_type": "code",
   "execution_count": 3,
   "id": "4a1f1c3a-7635-4a8e-aa5c-4657201e4fe7",
   "metadata": {},
   "outputs": [
    {
     "ename": "NameError",
     "evalue": "name 'am' is not defined",
     "output_type": "error",
     "traceback": [
      "\u001b[31m---------------------------------------------------------------------------\u001b[39m",
      "\u001b[31mNameError\u001b[39m                                 Traceback (most recent call last)",
      "\u001b[36mCell\u001b[39m\u001b[36m \u001b[39m\u001b[32mIn[3]\u001b[39m\u001b[32m, line 1\u001b[39m\n\u001b[32m----> \u001b[39m\u001b[32m1\u001b[39m \u001b[32m4\u001b[39m + \u001b[32m2\u001b[39m*am\n",
      "\u001b[31mNameError\u001b[39m: name 'am' is not defined"
     ]
    }
   ],
   "source": [
    "4 + 2*am             #name 오류 "
   ]
  },
  {
   "cell_type": "code",
   "execution_count": 4,
   "id": "d1373fd1-cbd1-4dbb-9a58-c79e9d27ad5f",
   "metadata": {},
   "outputs": [
    {
     "ename": "TypeError",
     "evalue": "unsupported operand type(s) for +: 'int' and 'str'",
     "output_type": "error",
     "traceback": [
      "\u001b[31m---------------------------------------------------------------------------\u001b[39m",
      "\u001b[31mTypeError\u001b[39m                                 Traceback (most recent call last)",
      "\u001b[36mCell\u001b[39m\u001b[36m \u001b[39m\u001b[32mIn[4]\u001b[39m\u001b[32m, line 1\u001b[39m\n\u001b[32m----> \u001b[39m\u001b[32m1\u001b[39m \u001b[32m2\u001b[39m + \u001b[33m'\u001b[39m\u001b[33m2\u001b[39m\u001b[33m'\u001b[39m\n",
      "\u001b[31mTypeError\u001b[39m: unsupported operand type(s) for +: 'int' and 'str'"
     ]
    }
   ],
   "source": [
    "2 + '2'              #type 오류 "
   ]
  },
  {
   "cell_type": "markdown",
   "id": "5643e162-2ecb-4543-9d53-59f167385bb0",
   "metadata": {},
   "source": [
    "# try : \n",
    "except"
   ]
  },
  {
   "cell_type": "code",
   "execution_count": 7,
   "id": "ce26f938-11e6-46ee-8070-b0efc852330b",
   "metadata": {},
   "outputs": [
    {
     "ename": "ZeroDivisionError",
     "evalue": "division by zero",
     "output_type": "error",
     "traceback": [
      "\u001b[31m---------------------------------------------------------------------------\u001b[39m",
      "\u001b[31mZeroDivisionError\u001b[39m                         Traceback (most recent call last)",
      "\u001b[36mCell\u001b[39m\u001b[36m \u001b[39m\u001b[32mIn[7]\u001b[39m\u001b[32m, line 1\u001b[39m\n\u001b[32m----> \u001b[39m\u001b[32m1\u001b[39m \u001b[32m10\u001b[39m/\u001b[32m0\u001b[39m\n",
      "\u001b[31mZeroDivisionError\u001b[39m: division by zero"
     ]
    }
   ],
   "source": [
    "10/0 #ZeroDivisionError"
   ]
  },
  {
   "cell_type": "code",
   "execution_count": 9,
   "id": "0dc1a6bb-ec16-43ab-99c5-6d9179d93dc7",
   "metadata": {},
   "outputs": [],
   "source": [
    "def devide(m, n):\n",
    "    return m/n"
   ]
  },
  {
   "cell_type": "code",
   "execution_count": 10,
   "id": "d26d032f-3b44-4e4f-ac24-d4f12cf74960",
   "metadata": {},
   "outputs": [
    {
     "data": {
      "text/plain": [
       "1.5"
      ]
     },
     "execution_count": 10,
     "metadata": {},
     "output_type": "execute_result"
    }
   ],
   "source": [
    "result = devide(3,2)\n",
    "result"
   ]
  },
  {
   "cell_type": "code",
   "execution_count": 11,
   "id": "402d80ea-e84e-46a7-8f9e-a7e2f6c9c961",
   "metadata": {},
   "outputs": [
    {
     "ename": "ZeroDivisionError",
     "evalue": "division by zero",
     "output_type": "error",
     "traceback": [
      "\u001b[31m---------------------------------------------------------------------------\u001b[39m",
      "\u001b[31mZeroDivisionError\u001b[39m                         Traceback (most recent call last)",
      "\u001b[36mCell\u001b[39m\u001b[36m \u001b[39m\u001b[32mIn[11]\u001b[39m\u001b[32m, line 1\u001b[39m\n\u001b[32m----> \u001b[39m\u001b[32m1\u001b[39m result = devide(\u001b[32m3\u001b[39m,\u001b[32m0\u001b[39m)\n\u001b[32m      2\u001b[39m result\n",
      "\u001b[36mCell\u001b[39m\u001b[36m \u001b[39m\u001b[32mIn[9]\u001b[39m\u001b[32m, line 2\u001b[39m, in \u001b[36mdevide\u001b[39m\u001b[34m(m, n)\u001b[39m\n\u001b[32m      1\u001b[39m \u001b[38;5;28;01mdef\u001b[39;00m\u001b[38;5;250m \u001b[39m\u001b[34mdevide\u001b[39m(m, n):\n\u001b[32m----> \u001b[39m\u001b[32m2\u001b[39m     \u001b[38;5;28;01mreturn\u001b[39;00m m/n\n",
      "\u001b[31mZeroDivisionError\u001b[39m: division by zero"
     ]
    }
   ],
   "source": [
    "result = devide(3,0)     #ZeroDivisionError\n",
    "result"
   ]
  },
  {
   "cell_type": "code",
   "execution_count": 34,
   "id": "f034fabf-c2ec-43af-8f4c-f3d9299bcdac",
   "metadata": {},
   "outputs": [],
   "source": [
    "def devide(m, n):\n",
    "    try: \n",
    "        result = m/n\n",
    "        return result\n",
    "    except (ValueError,ZeroDivisionError):\n",
    "        print('0으로 나눌 수 없습니다')\n",
    "        return None\n",
    "    except :                    #나머지 모든 에러 받기\n",
    "        print('다른 에러가 발생했습니다.')\n",
    "        return None\n",
    "    finally:\n",
    "        print('항상 실행되는 코드입니다.')"
   ]
  },
  {
   "cell_type": "code",
   "execution_count": 23,
   "id": "af7567eb-0eff-4721-a45e-5987ba48cc13",
   "metadata": {},
   "outputs": [
    {
     "name": "stdout",
     "output_type": "stream",
     "text": [
      "0으로 나눌 수 없습니다\n"
     ]
    }
   ],
   "source": [
    "result = devide(3,0)     #ZeroDivisionError\n",
    "result"
   ]
  },
  {
   "cell_type": "code",
   "execution_count": 28,
   "id": "a9350e63-32ca-4de1-810d-755a45820bc8",
   "metadata": {},
   "outputs": [
    {
     "name": "stdout",
     "output_type": "stream",
     "text": [
      "다른 에러가 발생했습니다.\n"
     ]
    }
   ],
   "source": [
    "esult = devide(None,0)     #TypeError\n",
    "result"
   ]
  },
  {
   "cell_type": "code",
   "execution_count": 32,
   "id": "85e76bb9-d9d5-4427-b007-317b2ba9ccea",
   "metadata": {},
   "outputs": [
    {
     "name": "stdout",
     "output_type": "stream",
     "text": [
      "정수로 변환할 수 없습니다.\n"
     ]
    }
   ],
   "source": [
    "try:\n",
    "    n = int(\"abc\")\n",
    "except ValueError:\n",
    "    print(\"정수로 변환할 수 없습니다.\")\n"
   ]
  },
  {
   "cell_type": "code",
   "execution_count": 35,
   "id": "c46f6f84-8487-4bcc-bc51-722b6c6ae665",
   "metadata": {},
   "outputs": [
    {
     "ename": "NameError",
     "evalue": "name 'divide' is not defined",
     "output_type": "error",
     "traceback": [
      "\u001b[31m---------------------------------------------------------------------------\u001b[39m",
      "\u001b[31mNameError\u001b[39m                                 Traceback (most recent call last)",
      "\u001b[36mCell\u001b[39m\u001b[36m \u001b[39m\u001b[32mIn[35]\u001b[39m\u001b[32m, line 1\u001b[39m\n\u001b[32m----> \u001b[39m\u001b[32m1\u001b[39m divide(\u001b[32m3\u001b[39m,\u001b[32m2\u001b[39m,\u001b[33m'\u001b[39m\u001b[33ma\u001b[39m\u001b[33m'\u001b[39m)\n",
      "\u001b[31mNameError\u001b[39m: name 'divide' is not defined"
     ]
    }
   ],
   "source": [
    "divide(3,2,'a')"
   ]
  },
  {
   "cell_type": "code",
   "execution_count": 37,
   "id": "427e61fe-d14f-455e-b69f-e234be814c10",
   "metadata": {},
   "outputs": [
    {
     "ename": "TypeError",
     "evalue": "입력값 오류",
     "output_type": "error",
     "traceback": [
      "\u001b[31m---------------------------------------------------------------------------\u001b[39m",
      "\u001b[31mTypeError\u001b[39m                                 Traceback (most recent call last)",
      "\u001b[36mCell\u001b[39m\u001b[36m \u001b[39m\u001b[32mIn[37]\u001b[39m\u001b[32m, line 1\u001b[39m\n\u001b[32m----> \u001b[39m\u001b[32m1\u001b[39m \u001b[38;5;28;01mraise\u001b[39;00m \u001b[38;5;167;01mTypeError\u001b[39;00m(\u001b[33m'\u001b[39m\u001b[33m입력값 오류\u001b[39m\u001b[33m'\u001b[39m)\n",
      "\u001b[31mTypeError\u001b[39m: 입력값 오류"
     ]
    }
   ],
   "source": [
    "raise TypeError('입력값 오류')       #에러 발생시키기"
   ]
  },
  {
   "cell_type": "code",
   "execution_count": 38,
   "id": "d75e33b9-e807-4fd8-bcdd-087bd2ab5f33",
   "metadata": {},
   "outputs": [
    {
     "name": "stdout",
     "output_type": "stream",
     "text": [
      "('입력값 오류',)\n"
     ]
    }
   ],
   "source": [
    "try:\n",
    "    raise TypeError('입력값 오류')\n",
    "except TypeError as e:\n",
    "    print(e.args)"
   ]
  },
  {
   "cell_type": "markdown",
   "id": "49bff78a-cbd9-4d45-9030-b33969e50310",
   "metadata": {},
   "source": [
    "# 내가 정의하는 예외\n",
    "\n",
    "1. 예외 클래스 작성 : 각 예외상황에 맞는 메시지를 작성\n",
    "2. 호출할 때 try: except로 받아줍니다"
   ]
  },
  {
   "cell_type": "code",
   "execution_count": 49,
   "id": "516d083b-e118-4871-9a09-0868580d6d60",
   "metadata": {},
   "outputs": [],
   "source": [
    "class AgeException(Exception):\n",
    "    def __init__(self,msg):\n",
    "        self._message = msg\n",
    "\n",
    "def input_age():\n",
    "    age = int(input('나이를 입력하세요 : '))\n",
    "\n",
    "    if age < 0 :\n",
    "        raise AgeException('나이는 양수입니다')\n",
    "    elif age > 150:\n",
    "        raise AgeException('기네스북에 올라가셨나요???')\n",
    "    else:\n",
    "        return age"
   ]
  },
  {
   "cell_type": "code",
   "execution_count": 50,
   "id": "f2240a9b-7ca0-46ca-9bd9-30ea4a62f78e",
   "metadata": {},
   "outputs": [
    {
     "name": "stdin",
     "output_type": "stream",
     "text": [
      "나이를 입력하세요 :  171\n"
     ]
    },
    {
     "name": "stdout",
     "output_type": "stream",
     "text": [
      "기네스북에 올라가셨나요???\n"
     ]
    }
   ],
   "source": [
    "try:\n",
    "    age = input_age()\n",
    "except AgeException as e:\n",
    "    print(e.args[0])\n",
    "else:\n",
    "    print(f'입력하신 나이는 {age}입니다.')"
   ]
  },
  {
   "cell_type": "code",
   "execution_count": 1,
   "id": "5a6f8c08-1e94-42a9-a9d9-f5a105ba0d2a",
   "metadata": {},
   "outputs": [],
   "source": [
    "menu_list = ['초코', '바닐라', '딸기', '우유', '말차', '민트초코']\n",
    "\n",
    "def menu_choice():\n",
    "    if not menu_list:\n",
    "        print(\"⚠️ 메뉴가 비어 있습니다. 관리자에게 문의해주세요.\")\n",
    "        return\n",
    "\n",
    "    while True:\n",
    "        print(\"\\n📋 메뉴판\\n\")\n",
    "        for index, name in enumerate(menu_list):\n",
    "            print(f'{index + 1}. {name}')\n",
    "\n",
    "        try:\n",
    "            menu_mul = f\"\\n원하시는 메뉴를 선택해주세요. (1~{len(menu_list)}, 0:처음으로): \"\n",
    "            user_input = input(menu_mul)\n",
    "            menu_index = int(user_input)\n",
    "\n",
    "            if not (0 <= menu_index <= len(menu_list)):\n",
    "                print(\"⚠️ 입력한 숫자가 메뉴 범위를 벗어났습니다. 다시 입력해주세요.\")\n",
    "                continue\n",
    "\n",
    "            if menu_index == 0:\n",
    "                print('\\n보고싶을거예요😭\\n')\n",
    "                print('-' * 50)\n",
    "                return\n",
    "\n",
    "            cart['user_menu'] = menu_list[menu_index - 1]\n",
    "            print('-' * 50)\n",
    "            size_count()\n",
    "            return\n",
    "\n",
    "        except ValueError:\n",
    "            print(\"⚠️ 숫자만 입력해주세요.\")\n",
    "            continue\n",
    "        except Exception as e:\n",
    "            print(f\"⚠️ 알 수 없는 오류가 발생했습니다: {e}\")\n",
    "            continue\n",
    "\n"
   ]
  },
  {
   "cell_type": "code",
   "execution_count": null,
   "id": "333e5af4-383d-469e-a975-475b69d69517",
   "metadata": {},
   "outputs": [],
   "source": [
    "menu_choice()"
   ]
  },
  {
   "cell_type": "code",
   "execution_count": 129,
   "id": "e0e0bfb2-6e30-4628-b325-09471fa9789a",
   "metadata": {},
   "outputs": [],
   "source": [
    "def prt_alarm():\n",
    "    print('='*50)\n",
    "    print(f'{\"[알림]❌ 잘못된 입력입니다.\":^35}')\n",
    "    print(f'{\"[알림]✅ 다시 입력해주세요.\":^35}')\n",
    "    print('='*44)\n",
    "    \n",
    "def yesno():\n",
    "    while True:\n",
    "        a=input('더 주문하시겠습니까?(y/n):')\n",
    "        try:\n",
    "            if a.lower() in ['y','n']:\n",
    "                return a\n",
    "            else:   \n",
    "                prt_alarm()\n",
    "               \n",
    "        except ValueError:\n",
    "            prt_alarm()"
   ]
  },
  {
   "cell_type": "code",
   "execution_count": null,
   "id": "db33bfb0-fc79-4246-83bb-dfbe9dffc41e",
   "metadata": {},
   "outputs": [],
   "source": [
    "yesno()"
   ]
  },
  {
   "cell_type": "code",
   "execution_count": null,
   "id": "4e9701c9-6579-4f3b-8f97-e5d569b68174",
   "metadata": {},
   "outputs": [],
   "source": []
  }
 ],
 "metadata": {
  "kernelspec": {
   "display_name": "Python 3 (ipykernel)",
   "language": "python",
   "name": "python3"
  },
  "language_info": {
   "codemirror_mode": {
    "name": "ipython",
    "version": 3
   },
   "file_extension": ".py",
   "mimetype": "text/x-python",
   "name": "python",
   "nbconvert_exporter": "python",
   "pygments_lexer": "ipython3",
   "version": "3.12.9"
  }
 },
 "nbformat": 4,
 "nbformat_minor": 5
}
