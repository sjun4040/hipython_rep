{
 "cells": [
  {
   "cell_type": "markdown",
   "id": "b710c4b7-7cda-40c4-b991-8d43a0de5129",
   "metadata": {},
   "source": [
    "# 람다 함수 문제"
   ]
  },
  {
   "cell_type": "code",
   "execution_count": 2,
   "id": "178750e1-35a0-47d4-b3e9-e5182879a67b",
   "metadata": {},
   "outputs": [
    {
     "name": "stdout",
     "output_type": "stream",
     "text": [
      "15\n"
     ]
    }
   ],
   "source": [
    "## 1.두 수를 입력 받아 그 곱을 반환하는 함수를 작성하세요.\n",
    "#답을 작성하세요.\n",
    "def multiply_numbers(a, b):\n",
    "    return a*b\n",
    "#테스트\n",
    "print(multiply_numbers(3, 5))  #15"
   ]
  },
  {
   "cell_type": "code",
   "execution_count": 23,
   "id": "c901cf6b-c951-47f0-bc57-c432544cf83e",
   "metadata": {},
   "outputs": [
    {
     "name": "stdout",
     "output_type": "stream",
     "text": [
      "30.0\n"
     ]
    }
   ],
   "source": [
    "## 2. 숫자 리스트를 입력 받아 평균을 반환하는 함수를 작성하세요.\n",
    "def calc_average(numbers):\n",
    "    return (lambda nums: sum(nums) / 5 )(numbers)\n",
    "\n",
    "# 테스트\n",
    "print(calc_average([10, 20, 30, 40, 50]))  # 30.0\n"
   ]
  },
  {
   "cell_type": "code",
   "execution_count": 22,
   "id": "00049374-a090-4190-a57e-2f4e561ab09f",
   "metadata": {},
   "outputs": [
    {
     "name": "stdout",
     "output_type": "stream",
     "text": [
      "True\n",
      "False\n"
     ]
    }
   ],
   "source": [
    "## 3. 주어진 숫자가 짝수이면 True, 홀수이면 False를 반환하는 함수를 작성하세요.\n",
    "#답을 작성하세요.\n",
    "def is_even(n):\n",
    "    return(lambda num: num % 2 == 0)(n)\n",
    "#람다버전\n",
    "\n",
    "# 테스트\n",
    "print(is_even(14))  # True\n",
    "print(is_even(21))  # False"
   ]
  },
  {
   "cell_type": "code",
   "execution_count": 61,
   "id": "0ebc21c9-0ac1-466a-bd62-2a5fe95f167a",
   "metadata": {},
   "outputs": [
    {
     "name": "stdout",
     "output_type": "stream",
     "text": [
      "['1', '2', '3', '4', '5']\n"
     ]
    }
   ],
   "source": [
    "## 4. 주어진 리스트의 모든 요소를 문자열로 변환하여 반환하는 함수와, 람다 함수를 작성하세요.\n",
    "#함수\n",
    "def to_string_list(lst):\n",
    "    result = [] #결과 누적\n",
    "    #lst 요소를 하나씩 꺼내서 문자열로 변환 \n",
    "    for item in lst :\n",
    "        result.append( str(item))\n",
    "    return result\n",
    "\n",
    "to_string_list = lambda lst: list(map(str, lst)) #Lambda 이용\n",
    "# 테스트\n",
    "print(to_string_list([1, 2, 3, 4, 5]))  # ['1', '2', '3', '4', '5']"
   ]
  },
  {
   "cell_type": "code",
   "execution_count": 66,
   "id": "7b097fcd-f236-4e07-896e-59e0515a7ba0",
   "metadata": {},
   "outputs": [
    {
     "name": "stdout",
     "output_type": "stream",
     "text": [
      "Hello, World!\n"
     ]
    }
   ],
   "source": [
    "## 5. 두 문자열을 입력받아 합친 문자열을 반환하는 함수와 람다 함수를 작성하세요.\n",
    "def concat_strings(s1, s2):\n",
    "    return s1 + s2\n",
    "\n",
    "concat_strings = lambda s1,s2 : s1 + s2 #lambda 이용\n",
    "# 테스트\n",
    "print(concat_strings(\"Hello, \", \"World!\"))  # \"Hello, World!\""
   ]
  },
  {
   "cell_type": "code",
   "execution_count": 71,
   "id": "9036115f-93d6-4864-9b19-37daf558b77a",
   "metadata": {},
   "outputs": [
    {
     "name": "stdout",
     "output_type": "stream",
     "text": [
      "bcdfghjklmnpqrstvwxyz\n"
     ]
    }
   ],
   "source": [
    "## 6. 주어진 문자열에서 모든 모음(a,e,i,o,u)을 제거한 문자열을 반환하는 함수를 작성하세요.\n",
    "#답을 작성하세요.\n",
    "def remove_vowels(s):\n",
    "    result = ''\n",
    "    for ch in s :\n",
    "        if ch not in 'aeiou':\n",
    "            result += ch\n",
    "    return result\n",
    "\n",
    "remove_vowels2 = lambda s: ''.join([ ch for ch in s if ch not in 'aeiou']) # lambda쓰기\n",
    "# 테스트\n",
    "print(remove_vowels2(\"abcdefghijklmnopqrstuvwxyz\"))  # \"bcdfghjklmnpqrstvwxyz\""
   ]
  },
  {
   "cell_type": "code",
   "execution_count": 74,
   "id": "721d16c8-6136-4d33-bbda-b2af4d3eaca6",
   "metadata": {},
   "outputs": [
    {
     "name": "stdout",
     "output_type": "stream",
     "text": [
      "('generation', 10)\n"
     ]
    }
   ],
   "source": [
    "## 7. 문자열을 입력 받아, 해당 문자열에서 가장 긴 단어와 길이를 반환하는 함수를 작성하세요.\n",
    "#답을 작성하세요.\n",
    "def find_longest_word(s):\n",
    "    words = s.split()\n",
    "    longest= words[0]\n",
    "    max_len= len(longest)\n",
    "    for w in words[1:] :\n",
    "        if len(w) > max_len : \n",
    "            longest = w\n",
    "            max_len = len(w)\n",
    "            \n",
    "    return longest, max_len\n",
    "\n",
    "# 테스트\n",
    "print(find_longest_word(\"Life is for one generation a good name is forever.\"))  # \"generation\", 10"
   ]
  },
  {
   "cell_type": "code",
   "execution_count": 85,
   "id": "08c19b47-364e-450c-a899-a87941b6d493",
   "metadata": {},
   "outputs": [
    {
     "name": "stdout",
     "output_type": "stream",
     "text": [
      "('generation', 10)\n"
     ]
    }
   ],
   "source": [
    "## 7. 줄여쓰고 람다쓰기\n",
    "def find_longest_world1(s):\n",
    "    words = s.split()\n",
    "    longest = max(words, key=len)\n",
    "    return longest, len(longest)\n",
    "find_longest_world2 = lambda s : max([(w, len(w)) for w in s.split() ],key=lambda x:x[1]) \n",
    "print(find_longest_world2(\"Life is for one generation a good name is forever.\")) "
   ]
  },
  {
   "cell_type": "code",
   "execution_count": 91,
   "id": "7de52a2c-0c19-4515-8c14-b0a0170f24e8",
   "metadata": {},
   "outputs": [
    {
     "name": "stdout",
     "output_type": "stream",
     "text": [
      "([1, 2, 3, 4], ['a', 'b', 'c', 'd'])\n"
     ]
    }
   ],
   "source": [
    "## 8. 주어진 문자열에서 숫자와 문자를 분리하는 함수를 작성하세요.\n",
    "#답을 작성하세요.\n",
    "def split_numbers_letters(s):\n",
    "    # 1. 숫자를 담을 리스트, 문자를 담을 리스트를 만든다.\n",
    "    numbers = []\n",
    "    letters = []\n",
    "\n",
    "    for ch in s:\n",
    "        if ch.isdigit():\n",
    "            numbers.append(int(ch))\n",
    "        elif ch.isalpha():\n",
    "            letters.append(str(ch))\n",
    "    return numbers, letters\n",
    "# 테스트\n",
    "print(split_numbers_letters(\"a1b2c3d4\")) # [\"a\", \"b\", \"c\", \"d\"], [1, 2, 3, 4]"
   ]
  },
  {
   "cell_type": "code",
   "execution_count": 97,
   "id": "1ce89662-5ff1-4797-b902-ff5a4cb24be2",
   "metadata": {},
   "outputs": [
    {
     "name": "stdout",
     "output_type": "stream",
     "text": [
      "([1, 2, 3, 4], ['a', 'b', 'c', 'd'])\n"
     ]
    }
   ],
   "source": [
    "# 줄여쓰기 \n",
    "def split_numbers_letters1(s):\n",
    "    numbers = [int(ch) for ch in s if ch.isdigit()]\n",
    "    letters = [ ch for ch in s if ch.isalpha() ]\n",
    "\n",
    "    return numbers, letters\n",
    "\n",
    "\n",
    "#람다쓰기\n",
    "def split_numbers_letters2(s):\n",
    "    numbers = list(map( int, filter(lambda ch : ch.isdigit() ,s)))\n",
    "    letters = list(filter(lambda ch: ch.isalpha(), s))\n",
    "    return numbers, letters\n",
    "# 테스트\n",
    "print(split_numbers_letters2(\"a1b2c3d4\")) # [\"a\", \"b\", \"c\", \"d\"], [1, 2, 3, 4]\n",
    "    "
   ]
  },
  {
   "cell_type": "code",
   "execution_count": 99,
   "id": "346c6b12-5373-445d-b0eb-3ca8bd7603dc",
   "metadata": {},
   "outputs": [
    {
     "name": "stdout",
     "output_type": "stream",
     "text": [
      "{'h': 1, 'e': 1, 'l': 2, 'o': 1}\n"
     ]
    }
   ],
   "source": [
    "## 9. 주어진 문자열(알파벳)을 입력 받아, 각 알파벳의 종류와 개수를 dict형으로 반환하는 함수를 만드세요.\n",
    "def count_alphabets(s):\n",
    "    count_dict={}\n",
    "\n",
    "    for ch in s:\n",
    "        if ch in count_dict:\n",
    "            count_dict[ch] += 1\n",
    "        else:\n",
    "            count_dict[ch] = 1\n",
    "    return count_dict\n",
    "\n",
    "# 테스트\n",
    "print(count_alphabets(\"hello\"))  # {\"h\": 1, \"e\": 1, \"l\": 2, \"o\": \"1\"}"
   ]
  },
  {
   "cell_type": "code",
   "execution_count": null,
   "id": "210de3c1-651a-4af6-af12-134a274e1646",
   "metadata": {},
   "outputs": [],
   "source": []
  },
  {
   "cell_type": "code",
   "execution_count": null,
   "id": "82648b85-5855-4d00-a85a-77367db91077",
   "metadata": {},
   "outputs": [],
   "source": []
  },
  {
   "cell_type": "markdown",
   "id": "1dc93145-21f8-43e6-b64b-4398370a2810",
   "metadata": {},
   "source": [
    "# 함수 공부"
   ]
  },
  {
   "cell_type": "code",
   "execution_count": 40,
   "id": "72469f1d-a90c-4825-a1bc-ddb92fbb00f7",
   "metadata": {},
   "outputs": [
    {
     "data": {
      "text/plain": [
       "[2, 4]"
      ]
     },
     "execution_count": 40,
     "metadata": {},
     "output_type": "execute_result"
    }
   ],
   "source": [
    "# 리스트 컴프리헨션의 필터\n",
    "numbers = [1,2,3,4,5]\n",
    "\n",
    "[ x for x in numbers if x %2 == 0 ]"
   ]
  },
  {
   "cell_type": "code",
   "execution_count": 42,
   "id": "d861b753-3166-4d97-afc0-e9456b4ab512",
   "metadata": {},
   "outputs": [
    {
     "data": {
      "text/plain": [
       "[2, 4]"
      ]
     },
     "execution_count": 42,
     "metadata": {},
     "output_type": "execute_result"
    }
   ],
   "source": [
    "# 필터함수\n",
    "\n",
    "list(filter(lambda x: x%2 == 0 , numbers))"
   ]
  },
  {
   "cell_type": "code",
   "execution_count": 44,
   "id": "f75f89da-548f-4471-adb7-e2ac49a529d3",
   "metadata": {},
   "outputs": [
    {
     "data": {
      "text/plain": [
       "[4, 16]"
      ]
     },
     "execution_count": 44,
     "metadata": {},
     "output_type": "execute_result"
    }
   ],
   "source": [
    "# numbers를 2배하고, 그중에 짝수만 리스트로 리턴\n",
    "list(filter(lambda x: x%2==0, map(lambda x: x*x , numbers)))"
   ]
  },
  {
   "cell_type": "code",
   "execution_count": 49,
   "id": "20b5c3d9-3d4a-42f3-8dae-f27f6e691a47",
   "metadata": {},
   "outputs": [
    {
     "data": {
      "text/plain": [
       "[1, 3, 4, 5, 6, 7, 8, 9]"
      ]
     },
     "execution_count": 49,
     "metadata": {},
     "output_type": "execute_result"
    }
   ],
   "source": [
    "# sorted 함수 \n",
    "\n",
    "number = [3,1,5,4,7,8,6,9]\n",
    "nums = sorted(number)\n",
    "nums"
   ]
  },
  {
   "cell_type": "code",
   "execution_count": 48,
   "id": "40daa9b4-8f3f-4844-a661-51fd5a551f88",
   "metadata": {},
   "outputs": [
    {
     "data": {
      "text/plain": [
       "[3, 1, 5, 4, 7, 8, 6, 9]"
      ]
     },
     "execution_count": 48,
     "metadata": {},
     "output_type": "execute_result"
    }
   ],
   "source": [
    "number"
   ]
  },
  {
   "cell_type": "code",
   "execution_count": 50,
   "id": "88254475-a957-44b1-91bc-f87d8d4529cb",
   "metadata": {},
   "outputs": [
    {
     "data": {
      "text/plain": [
       "[1, -3, 5, -6, -8]"
      ]
     },
     "execution_count": 50,
     "metadata": {},
     "output_type": "execute_result"
    }
   ],
   "source": [
    "numbers1 = [-3,1,5,-6,-8]\n",
    "sorted(numbers1, key=abs) #code"
   ]
  },
  {
   "cell_type": "code",
   "execution_count": 51,
   "id": "9dbc7272-266b-4c6a-ad84-938fad8f03c4",
   "metadata": {},
   "outputs": [
    {
     "data": {
      "text/plain": [
       "['apple', 'banana', 'blueberry', 'cerry']"
      ]
     },
     "execution_count": 51,
     "metadata": {},
     "output_type": "execute_result"
    }
   ],
   "source": [
    "words =['apple','banana','cerry','blueberry']\n",
    "sorted(words)"
   ]
  },
  {
   "cell_type": "code",
   "execution_count": 53,
   "id": "847e4377-e02c-4833-acb4-b44470f9b487",
   "metadata": {},
   "outputs": [
    {
     "data": {
      "text/plain": [
       "['blueberry', 'banana', 'apple', 'cerry']"
      ]
     },
     "execution_count": 53,
     "metadata": {},
     "output_type": "execute_result"
    }
   ],
   "source": [
    "sorted(words, key=len, reverse=True)"
   ]
  },
  {
   "cell_type": "code",
   "execution_count": 54,
   "id": "bf6c6c48-8021-40c1-adc3-d0d76f6016ce",
   "metadata": {},
   "outputs": [
    {
     "data": {
      "text/plain": [
       "['banana', 'apple', 'cerry', 'blueberry']"
      ]
     },
     "execution_count": 54,
     "metadata": {},
     "output_type": "execute_result"
    }
   ],
   "source": [
    "#마지막 글자의 순\n",
    "sorted(words, key=lambda w : w[-1])"
   ]
  },
  {
   "cell_type": "code",
   "execution_count": 56,
   "id": "7601c73e-2656-4c03-9aa3-d7137bf4b275",
   "metadata": {},
   "outputs": [
    {
     "data": {
      "text/plain": [
       "[(3, 2), (2, 3), (1, 4)]"
      ]
     },
     "execution_count": 56,
     "metadata": {},
     "output_type": "execute_result"
    }
   ],
   "source": [
    "#튜플의 요쇠 기준 정렬\n",
    "data = [(1,4), (2,3), (3,2)]\n",
    "sorted(data, key=lambda x:x[1])"
   ]
  },
  {
   "cell_type": "code",
   "execution_count": 59,
   "id": "e0e3856f-5cc1-4930-b790-48793ae42cde",
   "metadata": {},
   "outputs": [
    {
     "name": "stdout",
     "output_type": "stream",
     "text": [
      "[('Bob', 22, 90), ('Charlie', 21, 78), ('Alice', 20, 85)]\n",
      "[('Bob', 22, 90), ('Alice', 20, 85), ('Charlie', 21, 78)]\n"
     ]
    }
   ],
   "source": [
    "students =[(\"Alice\" ,20, 85) , (\"Bob\" ,22 ,90) , (\"Charlie\", 21,78)]\n",
    "print(sorted(students, key=lambda x:x[1], reverse=True)) # 나이 기준 정렬\n",
    "print(sorted(students, key=lambda x:x[2], reverse=True)) # 점수순 정렬"
   ]
  }
 ],
 "metadata": {
  "kernelspec": {
   "display_name": "Python 3 (ipykernel)",
   "language": "python",
   "name": "python3"
  },
  "language_info": {
   "codemirror_mode": {
    "name": "ipython",
    "version": 3
   },
   "file_extension": ".py",
   "mimetype": "text/x-python",
   "name": "python",
   "nbconvert_exporter": "python",
   "pygments_lexer": "ipython3",
   "version": "3.12.9"
  }
 },
 "nbformat": 4,
 "nbformat_minor": 5
}
