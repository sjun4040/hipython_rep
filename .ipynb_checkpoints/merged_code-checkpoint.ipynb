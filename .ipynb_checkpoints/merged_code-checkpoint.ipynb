# ===== Start of code from 장바구니(0 뒤로가기).ipynb =====
# print('=' * 40)
store_name = '또와유'
print(f'어서오세요 {store_name}에 오신 것을 환영합니다!')
print('=' * 40)

# 음료 메뉴 및 가격 설정
menu_list = ['초코', '바닐라', '딸기', '우유', '민트초코', '말차']
size_price = [{'S': 2000}, {'M': 3000}, {'L': 4000}]

# 음료 메뉴 출력
for i, menu in enumerate(menu_list):
    print(f'{i + 1}. {menu}')
print('-' * 40)

# 사이즈 메뉴 출력
for i, size in enumerate(size_price):
    for key, value in size.items():
        print(f'{i + 1}. 사이즈: {key}, 가격: {value}원')
print('-' * 40)
        
while True:        
    # 메뉴 선택, 사이즈 및 수량 입력
    while True:
        # 메뉴 선택
        order_menu_index = int(input(f"메뉴에서 원하는 메뉴 번호를 입력하세요 (1~{len(menu_list)}): ")) - 1
        selected_menu = menu_list[order_menu_index]
    
        #선택한 메뉴 출력
        print(f"선택한 메뉴: {selected_menu}")
        print('-' * 40)
        
        size_index = int(input("사이즈를 선택하세요 (1~3, 0은 취소): ")) - 1
        print('-' * 40)
        if size_index == -1:
            print('메뉴 선택으로 돌아갑니다')
            print('-' * 40)
        else:
            break
    qty = int(input("주문할 개수를 입력하세요(0은 뒤로가기): "))
    
    if qty == 0:
        print('메뉴 선택으로 돌아갑니다')
        print('-' * 40)
    else:
        break

# 여기까지.
selected_size_dict = size_price[size_index]
selected_size = list(selected_size_dict.keys())[0]
selected_price = list(selected_size_dict.values())[0]
total_price = qty * selected_price

print('-' * 40)
print("고객님이 선택하신 아이스크림은")
print(f"1. {selected_menu} 맛 {selected_size} 사이즈 {qty}개 입니다.")
print("주문하신 메뉴를 확인해주세요.")
print('-' * 40)

# 주문 추가
orders = []

# 첫 주문 저장
orders.append({
    'menu': selected_menu,
    'size': selected_size,
    'price': selected_price,
    'qty': qty
})

while True:
    more = input("주문을 추가하시겠습니까? (yes/no): ").strip().lower()
    if more != 'yes':
        break

    # 메뉴 출력
    for i, menu in enumerate(menu_list):
        print(f'{i + 1}. {menu}')
    print('-' * 40)

    # 메뉴 선택
    order_menu_index = int(input(f"메뉴에서 원하는 메뉴 번호를 입력하세요 (1~{len(menu_list)}): ")) - 1
    selected_menu = menu_list[order_menu_index]
    print(f"선택한 메뉴: {selected_menu}")
    print('-' * 40)

    # 사이즈 출력
    for i, size in enumerate(size_price):
        for key, value in size.items():
            print(f'{i + 1}. 사이즈: {key}, 가격: {value}원')
    print('-' * 40)

    # 사이즈 및 수량 입력
    size_index = int(input("사이즈를 선택하세요 (1~3): ")) - 1
    selected_size_dict = size_price[size_index]
    selected_size = list(selected_size_dict.keys())[0]
    selected_price = list(selected_size_dict.values())[0]
    qty = int(input("주문할 개수를 입력하세요: "))

    # 주문 저장
    orders.append({
        'menu': selected_menu,
        'size': selected_size,
        'price': selected_price,
        'qty': qty
    })

# 전체 주문 출력
print('-' * 40)
print("고객님이 선택하신 전체 아이스크림 주문 목록입니다.")
total_price = 0
for i, order in enumerate(orders, start=1):
    line_total = order['price'] * order['qty']
    print(f"{i}. {order['menu']} 맛 {order['size']} 사이즈 {order['qty']}개 = {line_total}원")
    total_price += line_total
print(f"총 결제금액: {total_price}원")
print('-' * 40)


# 주문 삭제
while True:
    delete = input("주문을 삭제하시겠습니까? 삭제할 번호 입력 (삭제 없으면 'no'): ").strip().lower()
    if delete == 'no':
        break
    if delete.isdigit():
        del_index = int(delete) - 1
        if 0 <= del_index < len(orders):
            removed = orders.pop(del_index)
            print(f"{removed['menu']} 맛 {removed['size']} 사이즈 {removed['qty']}개가 삭제되었습니다.")
            # 삭제 후 주문 목록 재출력
            print('-' * 40)
            print("현재 주문 목록입니다.")
            total_price = 0
            for i, order in enumerate(orders, start=1):
                line_total = order['price'] * order['qty']
                print(f"{i}. {order['menu']} 맛 {order['size']} 사이즈 {order['qty']}개 = {line_total}원")
                total_price += line_total
            print(f"총 결제금액: {total_price}원")
            print('-' * 40)
        else:
            print("잘못된 번호입니다.")
    else:
        print("숫자 또는 'no'를 입력해주세요.")


# 주문 결제
answer = input("결제하시겠습니까? (yes): ").strip().lower()

if answer == "yes":
    # 멤버십 여부
    membership = input("멤버십 적립 페이지로 이동하시겠습니까? (yes/no): ").strip().lower()
    
    if membership == "yes":
        print("멤버십 적립 페이지로 이동합니다.")
        phone = input("전화번호를 입력해주세요( - 없이 입력): ")
        print(f"{phone} 번호로 멤버십이 적립되었습니다.")
    else:
        print("멤버십 적립을 건너뜁니다.")

    # 결제 완료
    print('=' * 40)
    print("결제가 완료되었습니다.")
    print("영수증을 출력 중입니다...")
    print(f"총 결제금액:{total_price}원")
    print("이용해주셔서 감사합니다. 또와유~ 🤗")
    print('=' * 40)

else:
    print("주문이 취소되었습니다.")
sd
# ===== End of code from 장바구니(0 뒤로가기).ipynb =====

# ===== Start of code from 또와유-은영+정석+상준.ipynb =====
# order_system.py

print('=' * 50)
store_name = '또와유'
print(f"어서오세요, [{store_name}] 아이스크림 가게입니다!")
print('=' * 50)

menu_list = ['초코', '바닐라', '딸기', '우유', '민트초코', '말차']
size_price = [{'S': 2000}, {'M': 3000}, {'L': 4000}]
orders = []

while True:  # 전체 주문 흐름 반복

    # 주문이 없으면 메뉴 선택 받기
    if len(orders) == 0:
        print('\n[ 메뉴 목록 ]')
        for i in range(len(menu_list)):
            print(f"  {i + 1}. {menu_list[i]:<10}")
        print('-' * 50)

        while True:
            user_input = input(f"메뉴 번호를 선택해주세요 (1~{len(menu_list)}): ")
            if user_input.isdigit():
                order_menu_index = int(user_input) - 1
                if 0 <= order_menu_index < len(menu_list):
                    break
            print("올바른 메뉴 번호를 입력해주세요.")

        selected_menu = menu_list[order_menu_index]

        print('\n[ 사이즈 및 가격 ]')
        for i in range(len(size_price)):
            for key, value in size_price[i].items():
                print(f"  {i + 1}. 사이즈: {key}, 가격: {value}원")
        print('-' * 50)

        while True:
            size_input = input("사이즈를 선택하세요 (1~3): ")
            if size_input.isdigit():
                size_index = int(size_input) - 1
                if 0 <= size_index < len(size_price):
                    break
            print("1~3 사이의 숫자를 입력해주세요.")

        while True:
            qty_input = input("주문할 개수를 입력하세요: ")
            if qty_input.isdigit():
                qty = int(qty_input)
                if qty > 0:
                    break
            print("1개 이상의 수량을 입력해주세요.")

        selected_size_dict = size_price[size_index]
        selected_size = list(selected_size_dict.keys())[0]
        selected_price = list(selected_size_dict.values())[0]

        orders.append({
            'menu': selected_menu,
            'size': selected_size,
            'price': selected_price,
            'qty': qty
        })

        print('-' * 50)
        print("고객님이 선택하신 아이스크림은")
        print(f"    - {selected_menu} 맛  |  {selected_size} 사이즈  |  {qty}개")
        print("주문하신 메뉴를 확인해주세요.")
        print('-' * 50)

    # 주문 추가 여부 물어보기
    while True:
        more = input("주문을 추가하시겠습니까? (yes/no): ").strip().lower()
        if more in ['yes', 'no']:
            break
        print("yes 또는 no만 입력해주세요.")

    if more == 'yes':
        print('\n[ 메뉴 목록 ]')
        for i in range(len(menu_list)):
            print(f"  {i + 1}. {menu_list[i]:<10}")
        print('-' * 50)

        while True:
            user_input = input(f"메뉴 번호를 선택해주세요 (1~{len(menu_list)}): ")
            if user_input.isdigit():
                order_menu_index = int(user_input) - 1
                if 0 <= order_menu_index < len(menu_list):
                    break
            print("올바른 메뉴 번호를 입력해주세요.")

        selected_menu = menu_list[order_menu_index]

        print('\n[ 사이즈 및 가격 ]')
        for i in range(len(size_price)):
            for key, value in size_price[i].items():
                print(f"  {i + 1}. 사이즈: {key}, 가격: {value}원")
        print('-' * 50)

        while True:
            size_input = input("사이즈를 선택하세요 (1~3): ")
            if size_input.isdigit():
                size_index = int(size_input) - 1
                if 0 <= size_index < len(size_price):
                    break
            print("1~3 사이의 숫자를 입력해주세요.")

        while True:
            qty_input = input("주문할 개수를 입력하세요: ")
            if qty_input.isdigit():
                qty = int(qty_input)
                if qty > 0:
                    break
            print("1개 이상의 수량을 입력해주세요.")

        selected_size_dict = size_price[size_index]
        selected_size = list(selected_size_dict.keys())[0]
        selected_price = list(selected_size_dict.values())[0]

        orders.append({
            'menu': selected_menu,
            'size': selected_size,
            'price': selected_price,
            'qty': qty
        })

        print('-' * 50)
        print("고객님이 선택하신 아이스크림은")
        print(f"    - {selected_menu} 맛  |  {selected_size} 사이즈  |  {qty}개")
        print("주문하신 메뉴를 확인해주세요.")
        print('-' * 50)

        continue  # 주문 추가 후 다시 처음 루프

    # 주문 목록 출력
    if len(orders) == 0:
        # 주문이 없다면 다시 메뉴 선택으로 돌아감
        print("현재 주문하신 내역이 없습니다. 메뉴로 돌아갑니다.")
        continue

    print('-' * 50)
    print("고객님이 선택하신 전체 아이스크림 주문 목록입니다.")
    print('-' * 50)
    print(f"{'No.':<5}{'맛':<10}{'사이즈':<8}{'수량':<6}{'합계':>8}")
    total_price = 0
    for i in range(len(orders)):
        order = orders[i]
        line_total = order['price'] * order['qty']
        print(f"{i + 1:<5}{order['menu']:<10}{order['size']:<8}{order['qty']:<6}{line_total:>8}원")
        total_price += line_total
    print('-' * 50)
    print(f"총 결제금액: {total_price}원")
    print('-' * 50)

    # 주문 삭제
    while True:
        delete = input("주문을 삭제하시겠습니까? 삭제할 번호 입력 (삭제 없으면 'no'): ").strip().lower()
        if delete == 'no':
            break
        if delete.isdigit():
            del_index = int(delete) - 1
            if 0 <= del_index < len(orders):
                removed = orders.pop(del_index)
                print(f"{removed['menu']} 맛 {removed['size']} 사이즈 {removed['qty']}개가 삭제되었습니다.")
                if len(orders) == 0:
                    print("주문 목록이 비었습니다. 다시 메뉴 선택으로 돌아갑니다.")
                    break
                else:
                    print('-' * 50)
                    print("현재 주문 목록입니다.")
                    print(f"{'No.':<5}{'맛':<10}{'사이즈':<8}{'수량':<6}{'합계':>8}")
                    total_price = 0
                    for i in range(len(orders)):
                        order = orders[i]
                        line_total = order['price'] * order['qty']
                        print(f"{i + 1:<5}{order['menu']:<10}{order['size']:<8}{order['qty']:<6}{line_total:>8}원")
                        total_price += line_total
                    print('-' * 50)
                    print(f"총 결제금액: {total_price}원")
                    print('-' * 50)
            else:
                print("해당 번호는 주문 목록에 없습니다.")
        else:
            print("숫자 또는 'no'만 입력해주세요.")

    if len(orders) == 0:
        continue  # 주문이 비었으면 다시 메뉴 선택 루프로

    # 결제 진행 질문
    while True:
        answer = input("결제하시겠습니까? (yes/no): ").strip().lower()
        if answer in ['yes', 'no']:
            break
        print("yes 또는 no만 입력해주세요.")

    if answer == "yes":
        # 멤버십 적립 여부
        member = input('멤버십을 적립하시겠습니까? (y/n)로 답해주세요: ').strip().lower()
        if member == 'y':
            print(f'{member}를 선택하셨습니다.')
            while True:
                member_ship = input('전화 번호를 11자리를 입력하세요').strip()
                if len(member_ship) == 11 and member_ship.isdigit():
                    weights = list(range(1, 90)) + list(range(1, 90))
                    total = 0
                    for i in range(11):
                        total += int(member_ship[i]) * weights[i]
                    print(f'({member_ship[-4:]}{total})번호로 멤버십이 만들어졌습니다.')
                    break
                else:
                    print('전화번호가 올바르지 않습니다. 11자리를 확인해주세요')
        elif member == 'n':
            print(f'{member}를 선택하셨습니다.')
        else:
            print("잘못 입력하셨습니다. 다시 입력해주세요.")
            continue

        print('=' * 50)
        print("결제가 완료되었습니다. 감사합니다!")
        print("영수증 출력 중...")
        print(f"총 결제금액: {total_price}원")
        print("또와유~ 좋은 하루 되세요")
        print('=' * 50)

        print('\n[ 서비스 마크 ]')
        print("           .-\"\"\"\"\"\"\"-.")
        print("        .-'           '-.")
        print("      .'                 '.")
        print("     /                     \\")
        print("    |        '----'          |")
        print("    |                       |")
        print("     \\                     /")
        print("      '.                 .'")
        print("        '-._         _.-'")
        print("            '-------'")
        print("             |     |")
        print("         ____|     |____")
        print("        /               \\")
        print("   |    I miss you cream       |")
        print("        \\_______________/")
        print("            | |   | |")
        print("            |_|   |_|")
        break  # 결제 완료하면 프로그램 종료

    else:
        print("주문이 취소되었습니다.")
        break
# ===== End of code from 또와유-은영+정석+상준.ipynb =====

