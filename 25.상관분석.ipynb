{
 "cells": [
  {
   "cell_type": "code",
   "execution_count": null,
   "id": "5aa9b68d",
   "metadata": {},
   "outputs": [
    {
     "name": "stdout",
     "output_type": "stream",
     "text": [
      "Requirement already satisfied: xlrd in c:\\users\\admin\\miniconda3\\envs\\hipython\\lib\\site-packages (2.0.2)\n",
      "Note: you may need to restart the kernel to use updated packages.\n"
     ]
    }
   ],
   "source": [
    "pip install xlrd    #엑셀파일을 pandas로 읽을 수 있는 라이브러리"
   ]
  },
  {
   "cell_type": "code",
   "execution_count": 5,
   "id": "913848b6",
   "metadata": {},
   "outputs": [],
   "source": [
    "import pandas as pd\n",
    "import numpy as np"
   ]
  },
  {
   "cell_type": "code",
   "execution_count": 56,
   "id": "9f0e66f1",
   "metadata": {},
   "outputs": [
    {
     "data": {
      "text/html": [
       "<div>\n",
       "<style scoped>\n",
       "    .dataframe tbody tr th:only-of-type {\n",
       "        vertical-align: middle;\n",
       "    }\n",
       "\n",
       "    .dataframe tbody tr th {\n",
       "        vertical-align: top;\n",
       "    }\n",
       "\n",
       "    .dataframe thead th {\n",
       "        text-align: right;\n",
       "    }\n",
       "</style>\n",
       "<table border=\"1\" class=\"dataframe\">\n",
       "  <thead>\n",
       "    <tr style=\"text-align: right;\">\n",
       "      <th></th>\n",
       "      <th>스트레스</th>\n",
       "      <th>담배</th>\n",
       "    </tr>\n",
       "  </thead>\n",
       "  <tbody>\n",
       "    <tr>\n",
       "      <th>스트레스</th>\n",
       "      <td>1.000000</td>\n",
       "      <td>0.461364</td>\n",
       "    </tr>\n",
       "    <tr>\n",
       "      <th>담배</th>\n",
       "      <td>0.461364</td>\n",
       "      <td>1.000000</td>\n",
       "    </tr>\n",
       "  </tbody>\n",
       "</table>\n",
       "</div>"
      ],
      "text/plain": [
       "          스트레스        담배\n",
       "스트레스  1.000000  0.461364\n",
       "담배    0.461364  1.000000"
      ]
     },
     "execution_count": 56,
     "metadata": {},
     "output_type": "execute_result"
    }
   ],
   "source": [
    "smoke = pd.read_excel('data/datatrend.xls')\n",
    "df = pd.DataFrame(smoke)\n",
    "corr_df = smoke[['스트레스', '담배']]\n",
    "corr_df.corr()"
   ]
  },
  {
   "cell_type": "code",
   "execution_count": 14,
   "id": "49c066b7",
   "metadata": {},
   "outputs": [
    {
     "name": "stdout",
     "output_type": "stream",
     "text": [
      "피어슨 상관계수: 0.46\n",
      "p-값: 0.1311\n",
      "스피어만 상관계수: 0.592\n",
      "p-value: 0.0426\n"
     ]
    }
   ],
   "source": [
    "from scipy.stats import spearmanr\n",
    "from scipy.stats import pearsonr\n",
    "\n",
    "# 피어슨 상관계수 계산\n",
    "corr, p_value = pearsonr(df['스트레스'], df['담배'])\n",
    "\n",
    "print(f\"피어슨 상관계수: {corr:.2f}\")\n",
    "print(f\"p-값: {p_value:.4f}\")\n",
    "\n",
    "# 스피어만 상관계수 계산\n",
    "rho, pval = spearmanr(df['스트레스'], df['담배'])\n",
    "\n",
    "print(f\"스피어만 상관계수: {rho:.3f}\")\n",
    "print(f\"p-value: {pval:.4f}\")"
   ]
  },
  {
   "cell_type": "code",
   "execution_count": 27,
   "id": "e677b0d6",
   "metadata": {},
   "outputs": [
    {
     "data": {
      "text/plain": [
       "<function matplotlib.pyplot.show(close=None, block=None)>"
      ]
     },
     "execution_count": 27,
     "metadata": {},
     "output_type": "execute_result"
    },
    {
     "data": {
      "image/png": "[encoded data removed]",
      "text/plain": [
       "<Figure size 640x480 with 1 Axes>"
      ]
     },
     "metadata": {},
     "output_type": "display_data"
    }
   ],
   "source": [
    "plt.scatter(corr_df['스트레스'],corr_df['담배'])\n",
    "plt.show"
   ]
  },
  {
   "cell_type": "code",
   "execution_count": null,
   "id": "3e1d5083",
   "metadata": {},
   "outputs": [
    {
     "name": "stdout",
     "output_type": "stream",
     "text": [
      "스피어만 상관계수: 0.300\n",
      "p-value: 0.6238\n"
     ]
    }
   ],
   "source": [
    "from scipy.stats import spearmanr\n",
    "\n",
    "# 데이터프레임 구성\n",
    "data = {\n",
    "    'student': ['A', 'B', 'C', 'D', 'E'],\n",
    "    'academic_rank': [1, 2, 3, 4, 5],\n",
    "    'sports_rank': [4, 2, 1, 3, 5]\n",
    "}\n",
    "df = pd.DataFrame(data)\n",
    "\n",
    "# 스피어만 상관계수 계산\n",
    "rho, pval = spearmanr(df['academic_rank'], df['sports_rank'])\n",
    "\n",
    "print(f\"스피어만 상관계수: {rho:.3f}\")\n",
    "print(f\"p-value: {pval:.4f}\")\n"
   ]
  },
  {
   "cell_type": "code",
   "execution_count": 59,
   "id": "46b1c52e",
   "metadata": {},
   "outputs": [
    {
     "name": "stdout",
     "output_type": "stream",
     "text": [
      "상관계수 (Weight_rank_1): 0.20\n",
      "상관계수 (Weight_rank_2): 1.00\n",
      "상관계수 (Weight_rank_3): -1.00\n"
     ]
    }
   ],
   "source": [
    "from scipy.stats import kendalltau\n",
    "# 켄달의 타우\n",
    "# 사람 A~E의 키와 몸무게 순위\n",
    "data = {\n",
    "    'Person': ['A', 'B', 'C', 'D', 'E'],\n",
    "    'Height_rank': [1, 2, 3, 4, 5],     # 키 순위\n",
    "    'Weight_rank_1': [3, 4, 1, 2, 5],   # τ = 0.2\n",
    "    'Weight_rank_2': [1, 2, 3, 4, 5],   # τ = 1\n",
    "    'Weight_rank_3': [5, 4, 3, 2, 1]    # τ = -1\n",
    "}\n",
    "\n",
    "df = pd.DataFrame(data)\n",
    "\n",
    "# 계수 계산\n",
    "tau1, _ = kendalltau(df['Height_rank'], df['Weight_rank_1'])\n",
    "tau2, _ = kendalltau(df['Height_rank'], df['Weight_rank_2'])\n",
    "tau3, _ = kendalltau(df['Height_rank'], df['Weight_rank_3'])\n",
    "\n",
    "print(f\"상관계수 (Weight_rank_1): {tau1:.2f}\")\n",
    "print(f\"상관계수 (Weight_rank_2): {tau2:.2f}\")\n",
    "print(f\"상관계수 (Weight_rank_3): {tau3:.2f}\")\n"
   ]
  },
  {
   "cell_type": "code",
   "execution_count": null,
   "id": "766aa078",
   "metadata": {},
   "outputs": [],
   "source": []
  }
 ],
 "metadata": {
  "kernelspec": {
   "display_name": "hi_ml_env",
   "language": "python",
   "name": "python3"
  },
  "language_info": {
   "codemirror_mode": {
    "name": "ipython",
    "version": 3
   },
   "file_extension": ".py",
   "mimetype": "text/x-python",
   "name": "python",
   "nbconvert_exporter": "python",
   "pygments_lexer": "ipython3",
   "version": "3.10.16"
  }
 },
 "nbformat": 4,
 "nbformat_minor": 5
}
