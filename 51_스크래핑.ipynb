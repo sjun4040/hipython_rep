{
 "cells": [
  {
   "cell_type": "code",
   "execution_count": 17,
   "id": "5cf163cc",
   "metadata": {},
   "outputs": [],
   "source": [
    "import requests"
   ]
  },
  {
   "cell_type": "code",
   "execution_count": 18,
   "id": "664e7f24",
   "metadata": {},
   "outputs": [
    {
     "name": "stdout",
     "output_type": "stream",
     "text": [
      "c:\\githome\\hipython_rep\n",
      "c:\\githome\\hipython_rep\\html\\sample.html\n"
     ]
    }
   ],
   "source": [
    "import os\n",
    "print(os.getcwd())\n",
    "print(os.path.abspath('html/sample.html')) #path"
   ]
  },
  {
   "cell_type": "code",
   "execution_count": 19,
   "id": "d208d590",
   "metadata": {},
   "outputs": [],
   "source": [
    "import urllib.request"
   ]
  },
  {
   "cell_type": "code",
   "execution_count": 20,
   "id": "9b57fe73",
   "metadata": {},
   "outputs": [
    {
     "name": "stdout",
     "output_type": "stream",
     "text": [
      "file:///c:\\githome\\hipython_rep\\html\\sample.html\n",
      "<!DOCTYPE html>\n",
      "<html lang=\"en\">\n",
      "<head>\n",
      "    <meta charset=\"UTF-8\">\n",
      "    <meta name=\"viewport\" con\n"
     ]
    }
   ],
   "source": [
    "# 파일의 절대경로 \n",
    "abs_path= os.path.abspath('html/sample.html')\n",
    "\n",
    "url_path = \"file:///\"+abs_path\n",
    "print(url_path)\n",
    "\n",
    "with urllib.request.urlopen(url_path) as f:\n",
    "  html = f.read().decode('utf-8')\n",
    "  \n",
    "print(html[:100])"
   ]
  },
  {
   "cell_type": "code",
   "execution_count": 21,
   "id": "3d536a69",
   "metadata": {},
   "outputs": [
    {
     "name": "stdout",
     "output_type": "stream",
     "text": [
      "200\n",
      "<!DOCTYPE html>\n",
      "<html lang=\"en\">\n",
      "<head>\n",
      "    <meta charset=\"UTF-8\">\n",
      "    <meta name=\"viewport\" con\n"
     ]
    }
   ],
   "source": [
    "res = requests.get('http://localhost:5500/html/sample.html')\n",
    "print(res.status_code)\n",
    "print(res.text[:100])"
   ]
  },
  {
   "cell_type": "code",
   "execution_count": 22,
   "id": "3ad862f6",
   "metadata": {},
   "outputs": [
    {
     "data": {
      "text/plain": [
       "<!DOCTYPE html>\n",
       "\n",
       "<html lang=\"en\">\n",
       "<head>\n",
       "<meta charset=\"utf-8\"/>\n",
       "<meta content=\"width=device-width, initial-scale=1.0\" name=\"viewport\"/>\n",
       "<title>Hello LG U+ SWBootCamp</title>\n",
       "<title>Document</title>\n",
       "</head>\n",
       "<body>\n",
       "<h1>Hello scrapping</h1>\n",
       "<div id=\"subject\">선택자</div>\n",
       "<div class=\"content\">\n",
       "        선택자가 중요합니다. 잘 찾아주세요\n",
       "        <span> 다른 <b>요소가 나올수도</b>있습니다</span>\n",
       "</div>\n",
       "<div>CSS 선택자에는 요소 선택자, 사석훈이 있습니다 </div>\n",
       "<!-- Code injected by live-server -->\n",
       "<script>\n",
       "\t// <![CDATA[  <-- For SVG support\n",
       "\tif ('WebSocket' in window) {\n",
       "\t\t(function () {\n",
       "\t\t\tfunction refreshCSS() {\n",
       "\t\t\t\tvar sheets = [].slice.call(document.getElementsByTagName(\"link\"));\n",
       "\t\t\t\tvar head = document.getElementsByTagName(\"head\")[0];\n",
       "\t\t\t\tfor (var i = 0; i < sheets.length; ++i) {\n",
       "\t\t\t\t\tvar elem = sheets[i];\n",
       "\t\t\t\t\tvar parent = elem.parentElement || head;\n",
       "\t\t\t\t\tparent.removeChild(elem);\n",
       "\t\t\t\t\tvar rel = elem.rel;\n",
       "\t\t\t\t\tif (elem.href && typeof rel != \"string\" || rel.length == 0 || rel.toLowerCase() == \"stylesheet\") {\n",
       "\t\t\t\t\t\tvar url = elem.href.replace(/(&|\\?)_cacheOverride=\\d+/, '');\n",
       "\t\t\t\t\t\telem.href = url + (url.indexOf('?') >= 0 ? '&' : '?') + '_cacheOverride=' + (new Date().valueOf());\n",
       "\t\t\t\t\t}\n",
       "\t\t\t\t\tparent.appendChild(elem);\n",
       "\t\t\t\t}\n",
       "\t\t\t}\n",
       "\t\t\tvar protocol = window.location.protocol === 'http:' ? 'ws://' : 'wss://';\n",
       "\t\t\tvar address = protocol + window.location.host + window.location.pathname + '/ws';\n",
       "\t\t\tvar socket = new WebSocket(address);\n",
       "\t\t\tsocket.onmessage = function (msg) {\n",
       "\t\t\t\tif (msg.data == 'reload') window.location.reload();\n",
       "\t\t\t\telse if (msg.data == 'refreshcss') refreshCSS();\n",
       "\t\t\t};\n",
       "\t\t\tif (sessionStorage && !sessionStorage.getItem('IsThisFirstTime_Log_From_LiveServer')) {\n",
       "\t\t\t\tconsole.log('Live reload enabled.');\n",
       "\t\t\t\tsessionStorage.setItem('IsThisFirstTime_Log_From_LiveServer', true);\n",
       "\t\t\t}\n",
       "\t\t})();\n",
       "\t}\n",
       "\telse {\n",
       "\t\tconsole.error('Upgrade your browser. This Browser is NOT supported WebSocket for Live-Reloading.');\n",
       "\t}\n",
       "\t// ]]>\n",
       "</script>\n",
       "</body>\n",
       "</html>"
      ]
     },
     "execution_count": 22,
     "metadata": {},
     "output_type": "execute_result"
    }
   ],
   "source": [
    "from bs4 import BeautifulSoup\n",
    "soup = BeautifulSoup(res.text, 'html.parser') #파서\n",
    "soup"
   ]
  },
  {
   "cell_type": "code",
   "execution_count": 23,
   "id": "71fe2fc2",
   "metadata": {},
   "outputs": [
    {
     "data": {
      "text/plain": [
       "[]"
      ]
     },
     "execution_count": 23,
     "metadata": {},
     "output_type": "execute_result"
    }
   ],
   "source": [
    "#soup.select('div', class_='contents')\n",
    "soup.select('div.contents')  # class 선택자 . , id 선택자 #"
   ]
  },
  {
   "cell_type": "code",
   "execution_count": 24,
   "id": "a99f23bc",
   "metadata": {},
   "outputs": [
    {
     "data": {
      "text/plain": [
       "[<div id=\"subject\">선택자</div>]"
      ]
     },
     "execution_count": 24,
     "metadata": {},
     "output_type": "execute_result"
    }
   ],
   "source": [
    "soup.select(\"#subject\")  #지정한 "
   ]
  },
  {
   "cell_type": "code",
   "execution_count": 25,
   "id": "15c674ab",
   "metadata": {},
   "outputs": [
    {
     "data": {
      "text/plain": [
       "[<div id=\"subject\">선택자</div>,\n",
       " <div class=\"content\">\n",
       "         선택자가 중요합니다. 잘 찾아주세요\n",
       "         <span> 다른 <b>요소가 나올수도</b>있습니다</span>\n",
       " </div>,\n",
       " <div>CSS 선택자에는 요소 선택자, 사석훈이 있습니다 </div>]"
      ]
     },
     "execution_count": 25,
     "metadata": {},
     "output_type": "execute_result"
    }
   ],
   "source": [
    "soup.select('div') "
   ]
  },
  {
   "cell_type": "code",
   "execution_count": 26,
   "id": "27713008",
   "metadata": {},
   "outputs": [
    {
     "data": {
      "text/plain": [
       "<div id=\"subject\">선택자</div>"
      ]
     },
     "execution_count": 26,
     "metadata": {},
     "output_type": "execute_result"
    }
   ],
   "source": [
    "\n",
    "soup.select_one('div')"
   ]
  },
  {
   "cell_type": "markdown",
   "id": "6544a883",
   "metadata": {},
   "source": [
    "# 네이버 환율 정보 가져오기\n",
    "https://finance.naver.com/marketindex/"
   ]
  },
  {
   "cell_type": "code",
   "execution_count": 27,
   "id": "155025d4",
   "metadata": {},
   "outputs": [],
   "source": [
    "url = \"https://finance.naver.com/marketindex/\"\n",
    "m_index = requests.get(url)"
   ]
  },
  {
   "cell_type": "code",
   "execution_count": 29,
   "id": "38ae5b34",
   "metadata": {},
   "outputs": [
    {
     "name": "stdout",
     "output_type": "stream",
     "text": [
      "1,379.20\n"
     ]
    }
   ],
   "source": [
    "if m_index.status_code == 200:\n",
    "  soup = BeautifulSoup(m_index.content, 'html.parser') #페이지전체\n",
    "  #price = soup.select_one('span.value') #span 태그 목록 중에서 1번째\n",
    "  us_price = soup.select_one('a.head.usd > div > span.value')\n",
    "  print(us_price.text)"
   ]
  },
  {
   "cell_type": "code",
   "execution_count": 30,
   "id": "f24ca56d",
   "metadata": {},
   "outputs": [
    {
     "name": "stdout",
     "output_type": "stream",
     "text": [
      "미국 USD : 1,379.50\n",
      "일본 JPY(100엔) : 933.64\n",
      "유럽연합 EUR : 1,623.05\n",
      "중국 CNY : 192.52\n",
      "달러/일본 엔 : 147.6500\n",
      "유로/달러 : 1.1747\n",
      "영국 파운드/달러 : 1.3436\n",
      "달러인덱스 : 97.3900\n",
      "WTI : 65.16\n",
      "휘발유 : 1667.12\n",
      "국제 금 : 3335.6\n",
      "국내 금 : 147803.26\n"
     ]
    }
   ],
   "source": [
    "import requests\n",
    "from bs4 import BeautifulSoup\n",
    "\n",
    "# 네이버 환율 페이지 URL\n",
    "url = 'https://finance.naver.com/marketindex/'\n",
    "\n",
    "# 웹 페이지 가져오기\n",
    "response = requests.get(url)\n",
    "response.encoding = 'euc-kr'    # 인코딩을 명시적으로 설정\n",
    "\n",
    "soup = BeautifulSoup(response.text, \"html.parser\")\n",
    "\n",
    "# 환율 항목들 모두 선택\n",
    "currency_items = soup.select(\"ul.data_lst li\")\n",
    "\n",
    "\n",
    "result = {}                     # 결과 저장용 딕셔너리\n",
    "\n",
    "\n",
    "for item in currency_items:     # 각 환율 항목 순회\n",
    "    name_tag = item.select_one(\"h3.h_lst\")\n",
    "    country_tag = name_tag.get_text(strip=True)\n",
    "    value_tag = item.select_one(\"span.value\")\n",
    "    if country_tag and value_tag:\n",
    "        result[country_tag] = value_tag.get_text(strip=True)\n",
    "\n",
    "# 출력\n",
    "for code, rate in result.items():\n",
    "    print(f\"{code} : {rate}\")"
   ]
  }
 ],
 "metadata": {
  "kernelspec": {
   "display_name": "webcrawl_env",
   "language": "python",
   "name": "python3"
  },
  "language_info": {
   "codemirror_mode": {
    "name": "ipython",
    "version": 3
   },
   "file_extension": ".py",
   "mimetype": "text/x-python",
   "name": "python",
   "nbconvert_exporter": "python",
   "pygments_lexer": "ipython3",
   "version": "3.10.18"
  }
 },
 "nbformat": 4,
 "nbformat_minor": 5
}
