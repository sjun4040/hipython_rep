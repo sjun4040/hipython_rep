{
 "cells": [
  {
   "cell_type": "code",
   "execution_count": 5,
   "id": "55eda8f9",
   "metadata": {},
   "outputs": [],
   "source": [
    "import numpy as np\n",
    "import pandas as pd\n",
    "import matplotlib.pyplot as plt\n",
    "import scipy.stats as stats\n",
    "\n",
    "%matplotlib inline\n",
    "plt.rc('figure', figsize=(10, 6))\n",
    "from matplotlib import rcParams\n",
    "rcParams['font.family'] = 'New Gulim'\n",
    "rcParams['font.size'] = 10\n",
    "rcParams['axes.unicode_minus'] = False"
   ]
  },
  {
   "cell_type": "markdown",
   "id": "54c03adb",
   "metadata": {},
   "source": [
    "베이즈 정리 <BR>\n",
    "P(A|B) = P(B|A) * P(A) /P(B) "
   ]
  },
  {
   "cell_type": "code",
   "execution_count": 2,
   "id": "34e18c94",
   "metadata": {},
   "outputs": [
    {
     "data": {
      "text/plain": [
       "0.6785714285714285"
      ]
     },
     "execution_count": 2,
     "metadata": {},
     "output_type": "execute_result"
    }
   ],
   "source": [
    "P_A = 0.1 # 암의 확률\n",
    "P_NOT_A = 1 - P_A # 암이 아닐 확률\n",
    "P_B_GIVEN_A = 0.95 # 양성 판정의 정확도\n",
    "P_B_GIVEN_NOT_A = 0.05 # 암이 아닌데, 양성 판정이 나올 확률\n",
    "\n",
    "# 베이즈의 정리\n",
    "P_A_GIVEN_B = P_B_GIVEN_A * P_A / ((P_B_GIVEN_A*P_A)+(P_B_GIVEN_NOT_A*P_NOT_A))\n",
    "P_A_GIVEN_B"
   ]
  },
  {
   "cell_type": "markdown",
   "id": "42f2440a",
   "metadata": {},
   "source": [
    "# 확률의 계산"
   ]
  },
  {
   "cell_type": "code",
   "execution_count": 16,
   "id": "dc77bbb3",
   "metadata": {},
   "outputs": [
    {
     "data": {
      "text/plain": [
       "0.5"
      ]
     },
     "execution_count": 16,
     "metadata": {},
     "output_type": "execute_result"
    }
   ],
   "source": [
    "# 동전던지기\n",
    "space = ['앞면','뒷면']\n",
    "event = ['앞면']\n",
    "\n",
    "prob = lambda event, space : len(event)/len(space)\n",
    "prob(event, space)\n"
   ]
  },
  {
   "cell_type": "code",
   "execution_count": 17,
   "id": "995da1a3",
   "metadata": {},
   "outputs": [
    {
     "data": {
      "text/plain": [
       "0.16666666666666666"
      ]
     },
     "execution_count": 17,
     "metadata": {},
     "output_type": "execute_result"
    }
   ],
   "source": [
    "# 주사위 던지기\n",
    "# 1번 던져 3이 나올 확률\n",
    "space = [1,2,3,4,5,6]\n",
    "event = [3]\n",
    "prob(event, space)"
   ]
  },
  {
   "cell_type": "code",
   "execution_count": 18,
   "id": "00b21979",
   "metadata": {},
   "outputs": [],
   "source": [
    "# 확률의 덧셈"
   ]
  },
  {
   "cell_type": "code",
   "execution_count": 21,
   "id": "8aa3a469",
   "metadata": {},
   "outputs": [],
   "source": [
    "## 주사위에서 짝수이거나 4보다 큰 수가 나올 확률 \n",
    "space = {1,2,3,4,5,6}\n",
    "event_A = {2,4,6}\n",
    "event_B = {5,6}"
   ]
  },
  {
   "cell_type": "code",
   "execution_count": 22,
   "id": "048bbc31",
   "metadata": {},
   "outputs": [
    {
     "data": {
      "text/plain": [
       "{2, 4, 5, 6}"
      ]
     },
     "execution_count": 22,
     "metadata": {},
     "output_type": "execute_result"
    }
   ],
   "source": [
    "합집합 = event_A | event_B\n",
    "합집합"
   ]
  },
  {
   "cell_type": "code",
   "execution_count": 23,
   "id": "3d68f5e4",
   "metadata": {},
   "outputs": [
    {
     "data": {
      "text/plain": [
       "0.6666666666666666"
      ]
     },
     "execution_count": 23,
     "metadata": {},
     "output_type": "execute_result"
    }
   ],
   "source": [
    "합집합의갯수 = len(합집합)\n",
    "전체경우의수 = len(space)\n",
    "확률_1 = 합집합의갯수/전체경우의수\n",
    "확률_1 # 짝수 또는 4보다 큰 눈이 나올 확률"
   ]
  },
  {
   "cell_type": "code",
   "execution_count": 24,
   "id": "aeaf561f",
   "metadata": {},
   "outputs": [
    {
     "data": {
      "text/plain": [
       "0.6666666666666666"
      ]
     },
     "execution_count": 24,
     "metadata": {},
     "output_type": "execute_result"
    }
   ],
   "source": [
    "# 2이하이거나 5이상인 눈이 나올 확률\n",
    "event_C = {1,2}\n",
    "event_D = {5,6}\n",
    "합집합_1 = event_C | event_D\n",
    "합집합의갯수_1 = len(합집합_1)\n",
    "확률_2 = 합집합의갯수_1/전체경우의수\n",
    "확률_2\n"
   ]
  },
  {
   "cell_type": "code",
   "execution_count": 31,
   "id": "fea44148",
   "metadata": {},
   "outputs": [
    {
     "data": {
      "text/plain": [
       "0.16666666666666666"
      ]
     },
     "execution_count": 31,
     "metadata": {},
     "output_type": "execute_result"
    }
   ],
   "source": [
    "# 주사위를 던져 짝수 & 2일 확률\n",
    "# 조건부 확률\n",
    "sample_space = [1,2,3,4,5,6]\n",
    "event_A = [2,4,6]\n",
    "event_B = [2]\n",
    "P_A = len(event_A)/len(sample_space)    # A일확률\n",
    "P_B = len(event_B)/len(sample_space)    # B일확률\n",
    "P_B_and_A_ele = set(event_A) & set(event_B) # 교집합의 원소\n",
    "P_B_and_A = len(P_B_and_A_ele)/len(sample_space)    # 교집합이 나올 확률\n",
    "P_B_and_A\n"
   ]
  },
  {
   "cell_type": "code",
   "execution_count": 32,
   "id": "15c80e00",
   "metadata": {},
   "outputs": [
    {
     "data": {
      "text/plain": [
       "0.3333333333333333"
      ]
     },
     "execution_count": 32,
     "metadata": {},
     "output_type": "execute_result"
    }
   ],
   "source": [
    "# 조건부확률 : 짝수이면서 2가 나올 확률\n",
    "# P(B|A) = P(B_and_A)/P_A\n",
    "P_B_GIVEN_A = P_B_and_A/P_A\n",
    "P_B_GIVEN_A"
   ]
  },
  {
   "cell_type": "markdown",
   "id": "d35d7652",
   "metadata": {},
   "source": [
    "# 우도와 확률값"
   ]
  },
  {
   "cell_type": "markdown",
   "id": "c45affd5",
   "metadata": {},
   "source": [
    "동전 10번 던지고, 8번 앞면이 나왔다.<br>\n",
    "우도의 계산"
   ]
  },
  {
   "cell_type": "code",
   "execution_count": 39,
   "id": "f511a9c6",
   "metadata": {},
   "outputs": [
    {
     "data": {
      "text/plain": [
       "(np.float64(0.04394531250000005), np.float64(0.30198988799999993))"
      ]
     },
     "execution_count": 39,
     "metadata": {},
     "output_type": "execute_result"
    }
   ],
   "source": [
    "from scipy.stats import binom\n",
    "n = 10\n",
    "k = 8 # 앞면의 횟수\n",
    "\n",
    "# 가설1 - 공정한 동전일 것이다\n",
    "p1 = 0.5 # 앞면이 나올 확률 - 공정할 경우\n",
    "p1_likelihood = binom.pmf(k, n, p1) #조건, 총사건, 확률\n",
    "p2 = 0.8\n",
    "p2_likelihood = binom.pmf(k, n, p2) #조건, 총사건, 확률\n",
    "p1_likelihood, p2_likelihood"
   ]
  },
  {
   "cell_type": "markdown",
   "id": "6e85d2c9",
   "metadata": {},
   "source": [
    "가설 1의 경우, 앞면이 8번 나올 확률은 4.4%<br>\n",
    "가설 2의 경우, 앞면이 8번 나올 확률은 30.2%\n",
    "\n",
    "앞면이 8번 나오는 관측값은 p=0.8인 모델이 더 잘 설명한다. (우도가 크다)"
   ]
  },
  {
   "cell_type": "markdown",
   "id": "8c826202",
   "metadata": {},
   "source": [
    "# 기대값\n",
    "x의 확률들의 평균"
   ]
  },
  {
   "cell_type": "code",
   "execution_count": 44,
   "id": "5adb35f6",
   "metadata": {},
   "outputs": [
    {
     "name": "stdout",
     "output_type": "stream",
     "text": [
      "기대값 : 2.16667\n"
     ]
    }
   ],
   "source": [
    "x_values = [1,2,3]\n",
    "p_x = [1/6,3/6,2/6]\n",
    "\n",
    "exp_vlaue=0\n",
    "# 기대값\n",
    "for i in range(len(x_values)):  \n",
    "    exp_vlaue += x_values[i] * p_x[i]\n",
    "    \n",
    "print(f'기대값 : {exp_vlaue:.5f}')"
   ]
  },
  {
   "cell_type": "code",
   "execution_count": 48,
   "id": "c62dff81",
   "metadata": {},
   "outputs": [],
   "source": [
    "from scipy.stats import norm\n",
    "import  pandas as pd"
   ]
  },
  {
   "cell_type": "code",
   "execution_count": 53,
   "id": "efcbe101",
   "metadata": {},
   "outputs": [
    {
     "data": {
      "image/png": "[encoded data removed]",
      "text/plain": [
       "<Figure size 1000x600 with 1 Axes>"
      ]
     },
     "metadata": {},
     "output_type": "display_data"
    }
   ],
   "source": [
    "mu = 0\n",
    "sigma = 1\n",
    "\n",
    "x = np.linspace(-4, 4, 1000)\n",
    "y = norm.pdf(x, loc= mu, scale= sigma)\n",
    "plt.plot(x,y)\n",
    "plt.show()"
   ]
  },
  {
   "cell_type": "markdown",
   "id": "1b45968e",
   "metadata": {},
   "source": [
    "# 표집 분포 "
   ]
  },
  {
   "cell_type": "code",
   "execution_count": 60,
   "id": "2353c3b9",
   "metadata": {},
   "outputs": [
    {
     "data": {
      "image/png": "[encoded data removed]",
      "text/plain": [
       "<Figure size 1000x600 with 1 Axes>"
      ]
     },
     "metadata": {},
     "output_type": "display_data"
    }
   ],
   "source": [
    "np.random.seed(0)\n",
    "x_pop = np.random.exponential(scale=10, size=10000)\n",
    "sample_mean = [np.mean(np.random.choice(x_pop, size=30))\n",
    "               for _ in range(10000)]\n",
    "\n",
    "plt.hist(sample_mean, bins=100)\n",
    "plt.show()"
   ]
  },
  {
   "cell_type": "markdown",
   "id": "9f93a925",
   "metadata": {},
   "source": [
    "# Z점수 "
   ]
  },
  {
   "cell_type": "code",
   "execution_count": 62,
   "id": "0315248c",
   "metadata": {},
   "outputs": [
    {
     "data": {
      "text/plain": [
       "(1.0, 2.5)"
      ]
     },
     "execution_count": 62,
     "metadata": {},
     "output_type": "execute_result"
    }
   ],
   "source": [
    "mu = 100\n",
    "sigma = 10\n",
    "\n",
    "x1 = 110    #z점수를 계산하려고 하는 원래 점수\n",
    "x2 = 125   \n",
    "\n",
    "# z점수 = 원점수 - 평균 / 표준편차\n",
    "z_x1 = (x1 - mu)/sigma\n",
    "z_x2 = (x2 - mu)/sigma\n",
    "z_x1, z_x2"
   ]
  },
  {
   "cell_type": "markdown",
   "id": "341efd07",
   "metadata": {},
   "source": [
    "z_x1 = 0.8413 -> 0.5에서 출발 -> 0.3413<br>\n",
    "z_x2 = 0.9938 -> 0.5에서 출발 -> 0.4938<br>\n",
    "0.4938 - 0.3413 = 0.1525 -> 15% "
   ]
  },
  {
   "cell_type": "code",
   "execution_count": 66,
   "id": "ebec78b4",
   "metadata": {},
   "outputs": [
    {
     "data": {
      "text/plain": [
       "np.float64(0.15244558860568092)"
      ]
     },
     "execution_count": 66,
     "metadata": {},
     "output_type": "execute_result"
    }
   ],
   "source": [
    "area_z_x1 = norm.cdf(z_x1) - norm.cdf(0)\n",
    "area_z_x2 = norm.cdf(z_x2) - norm.cdf(0)\n",
    "diff_area = area_z_x2 - area_z_x1\n",
    "diff_area"
   ]
  },
  {
   "cell_type": "code",
   "execution_count": 73,
   "id": "9ff801ec",
   "metadata": {},
   "outputs": [
    {
     "data": {
      "image/png": "[encoded data removed]",
      "text/plain": [
       "<Figure size 1000x600 with 1 Axes>"
      ]
     },
     "metadata": {},
     "output_type": "display_data"
    }
   ],
   "source": [
    "# 시각화\n",
    "x = np.linspace(mu-4*sigma, mu+4*sigma, 1000)\n",
    "y =norm.pdf(x, mu ,sigma)\n",
    "plt.plot(x,y)\n",
    "plt.fill_between(x,y, where=(x>=100)&(x<=110), color='skyblue')\n",
    "plt.fill_between(x,y, where=(x>110)&(x<=125), color='lightgreen')\n",
    "plt.show()"
   ]
  },
  {
   "cell_type": "code",
   "execution_count": null,
   "id": "329fd41b",
   "metadata": {},
   "outputs": [],
   "source": []
  }
 ],
 "metadata": {
  "kernelspec": {
   "display_name": "hipython",
   "language": "python",
   "name": "python3"
  },
  "language_info": {
   "codemirror_mode": {
    "name": "ipython",
    "version": 3
   },
   "file_extension": ".py",
   "mimetype": "text/x-python",
   "name": "python",
   "nbconvert_exporter": "python",
   "pygments_lexer": "ipython3",
   "version": "3.12.9"
  }
 },
 "nbformat": 4,
 "nbformat_minor": 5
}
