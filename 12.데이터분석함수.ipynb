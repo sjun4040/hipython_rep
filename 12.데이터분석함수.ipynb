{
 "cells": [
  {
   "cell_type": "code",
   "execution_count": null,
   "id": "1ede773a-4107-4aac-bf41-c0d7d330b7fa",
   "metadata": {},
   "outputs": [
    {
     "name": "stdout",
     "output_type": "stream",
     "text": [
      "defaultdict(<class 'int'>, {'apple': 2, 'banana': 1, 'cherry': 1})\n"
     ]
    }
   ],
   "source": [
    "from collections import defaultdict\n",
    "\n",
    "# 일반적인 dictionary\n",
    "normal_dict = {}\n",
    "# KeyError 발생\n",
    "# print(normal_dict['key'])\n",
    "\n",
    "# defaultdict 사용\n",
    "word_count = defaultdict(int)\n",
    "words = ['apple', 'banana', 'apple', 'cherry'] \n",
    "for word in words:\n",
    "    word_count[word] += 1  # 키가 없어도 에러 발생하지 않음\n",
    "\n",
    "print(word_count)  # defaultdict(<class 'int'>, {'apple': 2, 'banana': 1, 'cherry': 1})"
   ]
  },
  {
   "cell_type": "code",
   "execution_count": 7,
   "id": "fd9ce426",
   "metadata": {},
   "outputs": [
    {
     "name": "stdout",
     "output_type": "stream",
     "text": [
      "defaultdict(<class 'int'>, {'a': 1, 'b': 0, 'c': 2})\n"
     ]
    }
   ],
   "source": [
    "dd = defaultdict(int)\n",
    "dd['a'] = 1\n",
    "dd['b']\n",
    "dd['c'] = 2\n",
    "print(dd)"
   ]
  },
  {
   "cell_type": "code",
   "execution_count": 9,
   "id": "521a6183",
   "metadata": {},
   "outputs": [
    {
     "data": {
      "text/plain": [
       "[('alice', 90), ('bob', 80), ('charlie', 70), ('alice', 80)]"
      ]
     },
     "execution_count": 9,
     "metadata": {},
     "output_type": "execute_result"
    }
   ],
   "source": [
    "scores = [('alice',90), ('bob',80), ('charlie',70), ('alice',80)]\n",
    "scores"
   ]
  },
  {
   "cell_type": "code",
   "execution_count": 14,
   "id": "8d6f5d7d",
   "metadata": {},
   "outputs": [
    {
     "data": {
      "text/plain": [
       "{'alice': [90, 80], 'bob': [80], 'charlie': [70]}"
      ]
     },
     "execution_count": 14,
     "metadata": {},
     "output_type": "execute_result"
    }
   ],
   "source": [
    "grouped = defaultdict(list)\n",
    "for name, score in scores:\n",
    "    grouped[name].append(score)\n",
    "    \n",
    "dict(grouped)"
   ]
  },
  {
   "cell_type": "code",
   "execution_count": 15,
   "id": "ebf3f268",
   "metadata": {},
   "outputs": [
    {
     "data": {
      "text/plain": [
       "{'b': 1, 'a': 3, 'n': 2}"
      ]
     },
     "execution_count": 15,
     "metadata": {},
     "output_type": "execute_result"
    }
   ],
   "source": [
    "s = 'banana' \n",
    "cnt =defaultdict(int)\n",
    "for char in s:\n",
    "    cnt[char] += 1\n",
    "    \n",
    "dict(cnt)"
   ]
  },
  {
   "cell_type": "markdown",
   "id": "57c8c1e3",
   "metadata": {},
   "source": [
    "# Counter\n",
    "\n",
    "collections 모듈의 클래스. 시퀀스 데이터 - 리스트, 문자열의 원소의 갯수를 카운트"
   ]
  },
  {
   "cell_type": "code",
   "execution_count": 1,
   "id": "bc0eee2f",
   "metadata": {},
   "outputs": [
    {
     "data": {
      "text/plain": [
       "Counter({2: 3, 3: 2, 0: 1, 1: 1, 4: 1})"
      ]
     },
     "execution_count": 1,
     "metadata": {},
     "output_type": "execute_result"
    }
   ],
   "source": [
    "from collections import Counter\n",
    "list1 = [0,1,2,3,4,2,2,3]\n",
    "cnt =Counter(list1)\n",
    "cnt"
   ]
  },
  {
   "cell_type": "code",
   "execution_count": 2,
   "id": "1a86c82a",
   "metadata": {},
   "outputs": [
    {
     "data": {
      "text/plain": [
       "[(2, 3), (3, 2)]"
      ]
     },
     "execution_count": 2,
     "metadata": {},
     "output_type": "execute_result"
    }
   ],
   "source": [
    "cnt.most_common(2)"
   ]
  },
  {
   "cell_type": "markdown",
   "id": "3ed3c42d",
   "metadata": {},
   "source": [
    "# extend()\n",
    "extend() : 리스트에 풀어서 붙인다.\n",
    "append() : 리스트에 1개씩 추가"
   ]
  },
  {
   "cell_type": "code",
   "execution_count": null,
   "id": "a8f44a67",
   "metadata": {},
   "outputs": [
    {
     "data": {
      "text/plain": [
       "[0, 1, 2, 3, 4, 2, 2, 3, [10, 11], 10, 11]"
      ]
     },
     "execution_count": 6,
     "metadata": {},
     "output_type": "execute_result"
    }
   ],
   "source": [
    "list1 = [0,1,2,3,4,2,2,3]\n",
    "list1.append([10,11])  #2차원, 3차원\n",
    "list1.extend([10,11])  #1차원\n",
    "list1"
   ]
  },
  {
   "cell_type": "code",
   "execution_count": null,
   "id": "bf49cdbb",
   "metadata": {},
   "outputs": [],
   "source": []
  },
  {
   "cell_type": "code",
   "execution_count": null,
   "id": "24cc4a15",
   "metadata": {},
   "outputs": [],
   "source": []
  },
  {
   "cell_type": "code",
   "execution_count": null,
   "id": "580a13d1",
   "metadata": {},
   "outputs": [],
   "source": []
  }
 ],
 "metadata": {
  "kernelspec": {
   "display_name": "hipython",
   "language": "python",
   "name": "python3"
  },
  "language_info": {
   "codemirror_mode": {
    "name": "ipython",
    "version": 3
   },
   "file_extension": ".py",
   "mimetype": "text/x-python",
   "name": "python",
   "nbconvert_exporter": "python",
   "pygments_lexer": "ipython3",
   "version": "3.12.9"
  }
 },
 "nbformat": 4,
 "nbformat_minor": 5
}
