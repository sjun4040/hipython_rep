{
 "cells": [
  {
   "cell_type": "code",
   "execution_count": null,
   "id": "1ede773a-4107-4aac-bf41-c0d7d330b7fa",
   "metadata": {},
   "outputs": [
    {
     "name": "stdout",
     "output_type": "stream",
     "text": [
      "defaultdict(<class 'int'>, {'apple': 2, 'banana': 1, 'cherry': 1})\n"
     ]
    }
   ],
   "source": [
    "from collections import defaultdict\n",
    "\n",
    "# 일반적인 dictionary\n",
    "normal_dict = {}\n",
    "# KeyError 발생\n",
    "# print(normal_dict['key'])\n",
    "\n",
    "# defaultdict 사용\n",
    "word_count = defaultdict(int)\n",
    "words = ['apple', 'banana', 'apple', 'cherry'] \n",
    "dd\n",
    "for word in words:\n",
    "    word_count[word] += 1  # 키가 없어도 에러 발생하지 않음\n",
    "\n",
    "print(word_count)  # defaultdict(<class 'int'>, {'apple': 2, 'banana': 1, 'cherry': 1})"
   ]
  },
  {
   "cell_type": "code",
   "execution_count": 7,
   "id": "fd9ce426",
   "metadata": {},
   "outputs": [
    {
     "name": "stdout",
     "output_type": "stream",
     "text": [
      "defaultdict(<class 'int'>, {'a': 1, 'b': 0, 'c': 2})\n"
     ]
    }
   ],
   "source": [
    "dd = defaultdict(int)\n",
    "dd['a'] = 1\n",
    "dd['b']\n",
    "dd['c'] = 2\n",
    "print(dd)"
   ]
  },
  {
   "cell_type": "code",
   "execution_count": 9,
   "id": "521a6183",
   "metadata": {},
   "outputs": [
    {
     "data": {
      "text/plain": [
       "[('alice', 90), ('bob', 80), ('charlie', 70), ('alice', 80)]"
      ]
     },
     "execution_count": 9,
     "metadata": {},
     "output_type": "execute_result"
    }
   ],
   "source": [
    "scores = [('alice',90), ('bob',80), ('charlie',70), ('alice',80)]\n",
    "scores"
   ]
  },
  {
   "cell_type": "code",
   "execution_count": 14,
   "id": "8d6f5d7d",
   "metadata": {},
   "outputs": [
    {
     "data": {
      "text/plain": [
       "{'alice': [90, 80], 'bob': [80], 'charlie': [70]}"
      ]
     },
     "execution_count": 14,
     "metadata": {},
     "output_type": "execute_result"
    }
   ],
   "source": [
    "grouped = defaultdict(list)\n",
    "for name, score in scores:\n",
    "    grouped[name].append(score)\n",
    "    \n",
    "dict(grouped)"
   ]
  },
  {
   "cell_type": "code",
   "execution_count": 15,
   "id": "ebf3f268",
   "metadata": {},
   "outputs": [
    {
     "data": {
      "text/plain": [
       "{'b': 1, 'a': 3, 'n': 2}"
      ]
     },
     "execution_count": 15,
     "metadata": {},
     "output_type": "execute_result"
    }
   ],
   "source": [
    "s = 'banana' \n",
    "cnt =defaultdict(int)\n",
    "for char in s:\n",
    "    cnt[char] += 1\n",
    "    \n",
    "dict(cnt)"
   ]
  }
 ],
 "metadata": {
  "kernelspec": {
   "display_name": "hipython",
   "language": "python",
   "name": "python3"
  },
  "language_info": {
   "codemirror_mode": {
    "name": "ipython",
    "version": 3
   },
   "file_extension": ".py",
   "mimetype": "text/x-python",
   "name": "python",
   "nbconvert_exporter": "python",
   "pygments_lexer": "ipython3",
   "version": "3.12.9"
  }
 },
 "nbformat": 4,
 "nbformat_minor": 5
}
