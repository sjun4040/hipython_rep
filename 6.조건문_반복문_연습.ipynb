{
 "cells": [
  {
   "cell_type": "code",
   "execution_count": 1,
   "id": "6fb10fbf-ce72-4a10-a254-39ef08b6af55",
   "metadata": {},
   "outputs": [
    {
     "name": "stdout",
     "output_type": "stream",
     "text": [
      "음수\n"
     ]
    }
   ],
   "source": [
    "#변수 number가 주어졌을 때, 숫자가 양수인지 음수인지 또는 0인지 판별하고, 해당 결과를 출력하는 코드를 작성하세요.\n",
    "number = -10\n",
    "if number>0:\n",
    "    print('양수')\n",
    "elif number<0:\n",
    "    print('음수')\n",
    "else :\n",
    "    print('0')\n",
    "    \n",
    "#1줄 작성\n",
    "print('양수' if number > 0 else '음수' if number < 0 else '0')"
   ]
  },
  {
   "cell_type": "code",
   "execution_count": 3,
   "id": "72d625f3-c11e-4dcb-a7e0-e4e465ea3646",
   "metadata": {},
   "outputs": [
    {
     "data": {
      "text/plain": [
       "'짝수'"
      ]
     },
     "execution_count": 3,
     "metadata": {},
     "output_type": "execute_result"
    }
   ],
   "source": [
    "#변수 number가 주어졌을 때, 숫자가 짝수인지 홀수인지 판별하고, 해당 결과를 출력하는 코드를 작성하세요.\n",
    "number = 52 \n",
    "'짝수' if number %2 == 0 else '홀수'"
   ]
  },
  {
   "cell_type": "code",
   "execution_count": 35,
   "id": "3ef27a55-64ed-4c04-9fa2-c1e2e487703b",
   "metadata": {},
   "outputs": [
    {
     "name": "stdin",
     "output_type": "stream",
     "text": [
      "점수를 입력하세요 77\n"
     ]
    },
    {
     "name": "stdout",
     "output_type": "stream",
     "text": [
      "C\n",
      "C\n"
     ]
    }
   ],
   "source": [
    "#변수 score가 주어졌을 때, 다음 기준에 따라 학점을 출력하는 코드를 작성하세요.\n",
    "#90점 이상: A\n",
    "#80점 이상 90점 미만: B\n",
    "#70점 이상 80점 미만: C\n",
    "#70점 미만: F\n",
    "score = int(input('점수를 입력하세요'))\n",
    "if score >= 90 :\n",
    "    print('A')\n",
    "elif score >= 80 :\n",
    "    print('B')\n",
    "elif score >= 70 :\n",
    "    print('C')\n",
    "else :\n",
    "    print('F')\n",
    "\n",
    "#1줄 쓰기\n",
    "result = 'A' if score >=90 else 'B' if score >=80 else 'C'  if score >=70  else 'D'\n",
    "print(result)"
   ]
  },
  {
   "cell_type": "code",
   "execution_count": 15,
   "id": "f4aec6e0-5bce-4f27-8dc0-3d762f538667",
   "metadata": {},
   "outputs": [
    {
     "name": "stdout",
     "output_type": "stream",
     "text": [
      "90.0\n"
     ]
    }
   ],
   "source": [
    "#변수 price와 is_discount가 주어졌을 때, is_discount가 True이면 가격에 10% 할인을 적용하고, 그렇지 않으면 원래 가격을 출력하는 코드를 작성하세요.\n",
    "price = 100\n",
    "is_discount = True\n",
    "if is_discount == True :\n",
    "    print(price-(price/10))\n",
    "else :\n",
    "    print(price)\n"
   ]
  },
  {
   "cell_type": "code",
   "execution_count": 16,
   "id": "e0e3dfe6-b960-4727-82ba-ebe16e93615a",
   "metadata": {},
   "outputs": [
    {
     "name": "stdout",
     "output_type": "stream",
     "text": [
      "2\n",
      "4\n",
      "6\n",
      "8\n",
      "10\n"
     ]
    }
   ],
   "source": [
    " #반복문(1~10) 숫자 중, 짝수의 값만 출력하는 코드를 작성하세요.\n",
    "for i in range(1,11):\n",
    "    if i%2 == 0 :\n",
    "        print(i)\n"
   ]
  },
  {
   "cell_type": "code",
   "execution_count": 17,
   "id": "822988d6-7c91-4c27-b922-8f6149874bc8",
   "metadata": {},
   "outputs": [
    {
     "data": {
      "text/plain": [
       "[2, 4, 6, 8, 10]"
      ]
     },
     "execution_count": 17,
     "metadata": {},
     "output_type": "execute_result"
    }
   ],
   "source": [
    "#1줄쓰기\n",
    "[i for i in range(1,11) if i%2 == 0 ]"
   ]
  },
  {
   "cell_type": "code",
   "execution_count": null,
   "id": "da3ddc4b-b1c4-4611-8557-b639884bac37",
   "metadata": {},
   "outputs": [],
   "source": []
  },
  {
   "cell_type": "code",
   "execution_count": 51,
   "id": "ae1721b7-9090-4f26-a5c5-24f19ea99697",
   "metadata": {},
   "outputs": [
    {
     "name": "stdout",
     "output_type": "stream",
     "text": [
      "founded!!\n"
     ]
    },
    {
     "data": {
      "text/plain": [
       "False"
      ]
     },
     "execution_count": 51,
     "metadata": {},
     "output_type": "execute_result"
    }
   ],
   "source": [
    "#리스트 items와 변수 target이 주어졌을 때, for 반복문을 사용하여 target이 리스트에 있는지 확인하고, 결과를 출력하는 코드를 작성하세요.\n",
    "items = [\"apple\", \"banana\", \"cherry\"]\n",
    "target = \"banana\"\n",
    "for items in items:\n",
    "    if items == target :\n",
    "        found = True\n",
    "        break\n",
    "if found:\n",
    "    print('founded!!')\n",
    "else :\n",
    "    print('not found')\n",
    "\n",
    "#1줄쓰기\n",
    "found = True if [ item for item in items if item == target ] else False \n",
    "found"
   ]
  },
  {
   "cell_type": "code",
   "execution_count": 49,
   "id": "346dca4b-423d-467f-aa3c-7bd95baf2693",
   "metadata": {},
   "outputs": [
    {
     "data": {
      "text/plain": [
       "(False, True)"
      ]
     },
     "execution_count": 49,
     "metadata": {},
     "output_type": "execute_result"
    }
   ],
   "source": [
    "list_1 = []\n",
    "list_2 = [1,2,3]\n",
    "\n",
    "bool(list_1), bool(list_2)"
   ]
  },
  {
   "cell_type": "code",
   "execution_count": 63,
   "id": "4bfe2d53-db8b-407f-b7cd-5925a49a0494",
   "metadata": {},
   "outputs": [
    {
     "name": "stdout",
     "output_type": "stream",
     "text": [
      "2 * 0 = 0\n",
      "2 * 1 = 2\n",
      "2 * 2 = 4\n",
      "2 * 3 = 6\n",
      "2 * 4 = 8\n",
      "2 * 5 = 10\n",
      "2 * 6 = 12\n",
      "2 * 7 = 14\n",
      "2 * 8 = 16\n",
      "2 * 9 = 18\n",
      "2 * 10 = 20\n"
     ]
    }
   ],
   "source": [
    "#for 반복문을 사용하여 구구단 2단의 결과물을 출력하는 코드를 작성하세\n",
    "for t in range(0,11):\n",
    "    print(f'2 * {t} = {2*t}')"
   ]
  },
  {
   "cell_type": "code",
   "execution_count": 87,
   "id": "b08ae95b-5369-43c7-a730-53eed02e510e",
   "metadata": {},
   "outputs": [
    {
     "name": "stdin",
     "output_type": "stream",
     "text": [
      "휴대폰 번호를 입력하세요 0111511\n"
     ]
    },
    {
     "name": "stdout",
     "output_type": "stream",
     "text": [
      "SKT 통신사 입니다\n"
     ]
    }
   ],
   "source": [
    "#휴대폰 번호 앞자리에 따라 통신사는 아래와 같이 구분된다.\n",
    "#사용자로부터 휴대전화 번호를 입력 받고, 통신사를 출력하는 프로그램을 작성하라.\n",
    "#번호 통신사\n",
    "#011 SKT\n",
    "#016 KT\n",
    "#019 LGU\n",
    "#010 알수없음\n",
    "phone_num = input('휴대폰 번호를 입력하세요')\n",
    "num = phone_num[:3]\n",
    "if '-' in phone_num:\n",
    "    num = phone_num.split('-')[0]\n",
    "else :\n",
    "    num = phone_num[:3]\n",
    "#1줄쓰기\n",
    "#num = phone_num.split('-')[0] if '-' phone_numb else phone_num[:3]\n",
    "\n",
    "tel_com = {\n",
    "    '011': 'SKT',\n",
    "    '016': 'KT',\n",
    "    '019': 'LGU',\n",
    "    '010': '알수없음',\n",
    "}\n",
    "com = tel_com.get(num, '못찾았음')\n",
    "print(f'{com} 통신사 입니다')\n"
   ]
  },
  {
   "cell_type": "code",
   "execution_count": null,
   "id": "ef826e0d-ec3f-4c8e-b210-f702e2ba879a",
   "metadata": {},
   "outputs": [],
   "source": [
    "#주민등록번호는 13자리로 구성되는데 마지막 자리수는 주민등록번호의 유효성을 체크하는데 사용된다.\n",
    "#먼저 앞에서부터 12자리의 숫자에 2, 3, 4, 5, 6, 7, 8, 9, 2, 3, 4, 5를 차례로 곱한 뒤 그 값을 전부 더한다.\n",
    "#연산 결과 값을 11로 나누면 나머지가 나오는데 11에서 나머지를 뺀 값이 주민등록번호의 마지막 번호가 된다.\n",
    "  8 2 1 0 1 0 - 1 6 3 5 2 1 0\n",
    "x 2 3 4 5 6 7   8 9 2 3 4 5 \n",
    "-----------------------------\n",
    "1차 계산: (8*2 + 2*3 + 1*4 + 0*5 + 1*6 + 0*7 + 1*8 + 6*9 + 3*2 + 5*3 + 2*4 + 1*5) = (128 % 11) = 7\n",
    "2차 계산: 11 -7 = 4\n",
    "\n",
    ">> 주민등록번호: 821010-1635210\n",
    "유효하지 않은 주민등록번호입니다. \n"
   ]
  },
  {
   "cell_type": "code",
   "execution_count": 116,
   "id": "5512507f-8cff-4afb-9cfc-1e7ff17e03c2",
   "metadata": {},
   "outputs": [
    {
     "name": "stdin",
     "output_type": "stream",
     "text": [
      "주민번호 입력 0111083131313\n"
     ]
    },
    {
     "name": "stdout",
     "output_type": "stream",
     "text": [
      "total :0\n",
      "total :3\n",
      "total :7\n",
      "total :12\n",
      "total :12\n",
      "total :68\n",
      "total :92\n",
      "total :101\n",
      "total :107\n",
      "total :110\n",
      "total :122\n",
      "total :127\n",
      "rejecct\n"
     ]
    }
   ],
   "source": [
    "jumin_no = ''\n",
    "while True:\n",
    "    jumin_no = input('주민번호 입력')\n",
    "    \n",
    "    if len(jumin_no) != 13 or not jumin_no.isdigit():\n",
    "        print('잘못된 입력입니다. 다시입력해주세요')\n",
    "    else:\n",
    "        break\n",
    "\n",
    "weights = list(range(2,10)) + list(range(2,6))\n",
    "#weights=[2,3,4,5,6,7,8,9,2,3,4,5]\n",
    "#유효성 체크\n",
    "total = 0\n",
    "for i in range(12):\n",
    "    total += int(jumin_no[i]) * weights[i]\n",
    "    print(f'total :{total}')\n",
    "    \n",
    "remain = (11 - (total%11)) % 10\n",
    "if int(jumin_no[-1]) == remain :\n",
    "    print('ok')\n",
    "else :\n",
    "    print('rejecct')"
   ]
  },
  {
   "cell_type": "code",
   "execution_count": 131,
   "id": "d8412efc-129c-4bc1-832f-b1d9b11020a9",
   "metadata": {},
   "outputs": [
    {
     "data": {
      "text/plain": [
       "'상승장'"
      ]
     },
     "execution_count": 131,
     "metadata": {},
     "output_type": "execute_result"
    }
   ],
   "source": [
    "#아래 코드는 비트코인의 가격 정보를 딕셔너리로 가져오는 코드이다.\n",
    "#import requests\n",
    "#btc = requests.get(\"https://api.bithumb.com/public/ticker/\").json()['data']\n",
    "#btc 딕셔너리 안에는 시가, 종가, 최고가, 최저가 등이 저장되어 있다.\n",
    "#최고가와 최저가의 차이를 변동폭으로 정의할 때 (시가 + 변동폭)이 최고가 보다 높을 경우 \"상승장\",\n",
    "#그렇지 않은 경우 \"하락장\" 문자열을 출력하라.\n",
    "\n",
    "#Key Name\tDescription\n",
    "#opening_price\t최근 24시간 내 시작 거래금액\n",
    "#closing_price\t최근 24시간 내 마지막 거래금액\n",
    "#min_price\t최근 24시간 내 최저 거래금액\n",
    "#max_price\t최근 24시간 내 최고 거래금액\n",
    "import requests\n",
    "btc = requests.get(\"https://api.bithumb.com/public/ticker/\").json()['data']\n",
    "btc\n",
    "시가 = float(btc['opening_price'])\n",
    "최고가 = float(btc['max_price'])\n",
    "최소가 = float(btc['min_price'])\n",
    "\n",
    "'상승장' if 시가 + 변동폭 > 최고가 else '하락장'"
   ]
  },
  {
   "cell_type": "code",
   "execution_count": 144,
   "id": "25d11c0d-f3b3-4d1e-ac73-7c9f492aa9cf",
   "metadata": {},
   "outputs": [
    {
     "data": {
      "text/plain": [
       "0"
      ]
     },
     "execution_count": 144,
     "metadata": {},
     "output_type": "execute_result"
    }
   ],
   "source": [
    "#리스트에는 3일 간의 ohlc 데이터가 저장돼 있다. 시가에 매수해서 종가에 매도 했을 경우 총 수익금을 계산하라.,\n",
    "\n",
    "ohlc = [[\"open\", \"high\", \"low\", \"close\"],\n",
    "        [100, 110, 70, 100],\n",
    "        [200, 210, 180, 190],\n",
    "        [300, 310, 300, 310]]\n",
    "\n",
    "total_pr = 0\n",
    "\n",
    "#1일차 수익 0원 (100 - 100), 2일차 수익 -10원 (190 - 200), 3일차 수익 10원 (310 - 300) 이다.\n",
    "for day in ohlc[1:]:\n",
    "    total_pr += day[3]-day[0]\n",
    "total_pr\n"
   ]
  },
  {
   "cell_type": "code",
   "execution_count": null,
   "id": "9b06da0d-11c1-40cd-ad0c-a4a850d40bd6",
   "metadata": {},
   "outputs": [],
   "source": []
  },
  {
   "cell_type": "markdown",
   "id": "05b11220-3501-48a3-9f2c-e7b0d51d7721",
   "metadata": {},
   "source": [
    "# 연습문제"
   ]
  },
  {
   "cell_type": "code",
   "execution_count": 2,
   "id": "4333a2c6-4189-4699-bb12-f378a93c1f1e",
   "metadata": {},
   "outputs": [
    {
     "name": "stdout",
     "output_type": "stream",
     "text": [
      "[3, 6, 9, 12, 15, 18]\n"
     ]
    }
   ],
   "source": [
    "# 1부터 20까지의 숫자 중 3의 배수만 포함하는 리스트 만들기\n",
    "multiples = [x for x in range(1, 21) if x % 3 == 0]\n",
    "print(multiples)  # [3, 6, 9, 12, 15, 18]"
   ]
  },
  {
   "cell_type": "code",
   "execution_count": null,
   "id": "6ad72586-7afa-484e-900a-5b590833a31d",
   "metadata": {},
   "outputs": [],
   "source": [
    "# 문자열 리스트에서 길이가 3 이상인 단어만 대문자로 변환하기\n",
    "words = ['cat', 'dog', 'elephant', 'rat', 'giraffe']\n",
    "long_words = [word.upper() for word in words if len(word) >= 3]\n",
    "print(long_words)  # ['CAT', 'DOG', 'ELEPHANT', 'RAT', 'GIRAFFE']"
   ]
  },
  {
   "cell_type": "code",
   "execution_count": null,
   "id": "4194894c-923c-4415-a2a2-cb7e8e1239fe",
   "metadata": {},
   "outputs": [],
   "source": []
  },
  {
   "cell_type": "code",
   "execution_count": null,
   "id": "893179de-7393-40b0-b72a-d1ea38960b6e",
   "metadata": {},
   "outputs": [],
   "source": []
  },
  {
   "cell_type": "code",
   "execution_count": null,
   "id": "a85e6916-43cf-4a60-b809-c919a183c064",
   "metadata": {},
   "outputs": [],
   "source": []
  },
  {
   "cell_type": "code",
   "execution_count": null,
   "id": "69fa696d-caed-4419-a0f5-6121b1c13263",
   "metadata": {},
   "outputs": [],
   "source": []
  },
  {
   "cell_type": "code",
   "execution_count": null,
   "id": "f8da96c8-a4a1-4cdd-bae3-b5ff524a3223",
   "metadata": {},
   "outputs": [],
   "source": []
  },
  {
   "cell_type": "code",
   "execution_count": null,
   "id": "c44a9343-694a-4a28-8008-7b6f68dcef78",
   "metadata": {},
   "outputs": [],
   "source": []
  },
  {
   "cell_type": "code",
   "execution_count": null,
   "id": "5c43a1e5-d321-4083-b1eb-8d083823190c",
   "metadata": {},
   "outputs": [],
   "source": []
  },
  {
   "cell_type": "code",
   "execution_count": null,
   "id": "ac65c38a-d04f-46fb-8843-f53674ff9804",
   "metadata": {},
   "outputs": [],
   "source": []
  },
  {
   "cell_type": "code",
   "execution_count": null,
   "id": "5afe717a-110a-40f7-b564-ade2a1d62bbf",
   "metadata": {},
   "outputs": [],
   "source": []
  },
  {
   "cell_type": "code",
   "execution_count": null,
   "id": "b3e61da0-646d-4d6f-8ae0-a750b18ac984",
   "metadata": {},
   "outputs": [],
   "source": []
  }
 ],
 "metadata": {
  "kernelspec": {
   "display_name": "Python 3 (ipykernel)",
   "language": "python",
   "name": "python3"
  },
  "language_info": {
   "codemirror_mode": {
    "name": "ipython",
    "version": 3
   },
   "file_extension": ".py",
   "mimetype": "text/x-python",
   "name": "python",
   "nbconvert_exporter": "python",
   "pygments_lexer": "ipython3",
   "version": "3.12.9"
  }
 },
 "nbformat": 4,
 "nbformat_minor": 5
}
