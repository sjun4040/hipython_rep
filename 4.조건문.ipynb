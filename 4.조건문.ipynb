{
 "cells": [
  {
   "cell_type": "code",
   "execution_count": 1,
   "id": "a09dba81-e104-4b31-ab5f-c153be1600aa",
   "metadata": {},
   "outputs": [
    {
     "data": {
      "text/plain": [
       "False"
      ]
     },
     "execution_count": 1,
     "metadata": {},
     "output_type": "execute_result"
    }
   ],
   "source": [
    "# 연산자\n",
    "2+3 #산술연산자\n",
    "a=2 #대입연산자\n",
    "a>2 #비교연산자"
   ]
  },
  {
   "cell_type": "code",
   "execution_count": 4,
   "id": "8edca1de-87a1-452e-b631-ace51ce17a1b",
   "metadata": {},
   "outputs": [
    {
     "data": {
      "text/plain": [
       "(2, 2, 2, 2)"
      ]
     },
     "execution_count": 4,
     "metadata": {},
     "output_type": "execute_result"
    }
   ],
   "source": [
    "b=c=d=a #대입연산자\n",
    "b,c,d,a"
   ]
  },
  {
   "cell_type": "code",
   "execution_count": 6,
   "id": "67f618ec-ac1a-4603-af8f-4570bc2b27f8",
   "metadata": {},
   "outputs": [
    {
     "data": {
      "text/plain": [
       "True"
      ]
     },
     "execution_count": 6,
     "metadata": {},
     "output_type": "execute_result"
    }
   ],
   "source": [
    "id(b) == id(c) #비교연산자"
   ]
  },
  {
   "cell_type": "markdown",
   "id": "97f27816-37f9-4e3d-8eaa-675b01aa7af2",
   "metadata": {},
   "source": [
    "# 조건문 : \n",
    "- 비교연산자를 이용한 부울값이 출력되어야 한다.\n",
    "- : 이후 영역표시는 들여쓰기로 맞추어야 한다"
   ]
  },
  {
   "cell_type": "code",
   "execution_count": 14,
   "id": "05be116f-d614-4e3f-a785-fde4be844e05",
   "metadata": {},
   "outputs": [
    {
     "name": "stdout",
     "output_type": "stream",
     "text": [
      "fail\n"
     ]
    }
   ],
   "source": [
    "kor_score = 75\n",
    "if kor_score>90 : #True 일때만 실행\n",
    "    print('pass')\n",
    "else:\n",
    "    print('fail')"
   ]
  },
  {
   "cell_type": "code",
   "execution_count": 21,
   "id": "e0e5efdc-fc28-4a43-85e6-ca3edecd103c",
   "metadata": {},
   "outputs": [
    {
     "name": "stdout",
     "output_type": "stream",
     "text": [
      "fail\n"
     ]
    }
   ],
   "source": [
    "#한줄로 작성\n",
    "# True 일때 실행문 if 조건식 else False 일때 실행문\n",
    "#비교연산자, 논리연산자 . 조건식\n",
    "print('pass') if kor_score > 90 else print('fail')"
   ]
  },
  {
   "cell_type": "code",
   "execution_count": 24,
   "id": "fdd7fae4-0ab6-40bc-b875-7d4081ee6f2b",
   "metadata": {},
   "outputs": [
    {
     "name": "stdin",
     "output_type": "stream",
     "text": [
      "점수를 숫자로 입력하새요. 99\n"
     ]
    },
    {
     "name": "stdout",
     "output_type": "stream",
     "text": [
      "수\n"
     ]
    }
   ],
   "source": [
    "#수우미양가\n",
    "score = int(input('점수를 숫자로 입력하새요.'))\n",
    "#중첩 if문 (nested if)\n",
    "\n",
    "if score >= 90:\n",
    "    print('수')\n",
    "else :\n",
    "    if score >= 80:\n",
    "        print('우')\n",
    "    else : \n",
    "        if score >=70:\n",
    "            print('미')\n",
    "        else :\n",
    "            if score >=60:\n",
    "                print('양')\n",
    "            else :\n",
    "                if score >=50:\n",
    "                    print('가')"
   ]
  },
  {
   "cell_type": "code",
   "execution_count": 27,
   "id": "ad450d7c-243e-402c-b380-c9b2e4a11837",
   "metadata": {},
   "outputs": [
    {
     "name": "stdin",
     "output_type": "stream",
     "text": [
      "점수를 숫자로 입력하새요. 75\n"
     ]
    },
    {
     "name": "stdout",
     "output_type": "stream",
     "text": [
      "미\n",
      "양\n",
      "가\n"
     ]
    }
   ],
   "source": [
    "#수우미양가\n",
    "score = int(input('점수를 숫자로 입력하새요.'))\n",
    "\n",
    "\n",
    "if score >= 90:\n",
    "    print('수')\n",
    "\n",
    "if score >= 80:\n",
    "    print('우')\n",
    "\n",
    "if score >=70:\n",
    "    print('미')\n",
    "\n",
    "if score >=60:\n",
    "    print('양')\n",
    "\n",
    "if score >=50:\n",
    "    print('가')"
   ]
  },
  {
   "cell_type": "code",
   "execution_count": 29,
   "id": "2f355b42-cd93-4e34-951e-fc635061bf44",
   "metadata": {},
   "outputs": [
    {
     "name": "stdin",
     "output_type": "stream",
     "text": [
      "점수를 숫자로 입력하새요. 77\n"
     ]
    },
    {
     "name": "stdout",
     "output_type": "stream",
     "text": [
      "미\n"
     ]
    }
   ],
   "source": [
    "score = int(input('점수를 숫자로 입력하새요.'))\n",
    "\n",
    "if score >=90:\n",
    "    print('수')\n",
    "elif score >=80:\n",
    "    print('우')\n",
    "elif score >=70:\n",
    "    print('미')\n",
    "elif score >=60:\n",
    "    print('양')\n",
    "else :\n",
    "    print('가')"
   ]
  },
  {
   "cell_type": "code",
   "execution_count": 41,
   "id": "3397a1c7-f7c6-42ea-bac0-d8cf8df772e8",
   "metadata": {},
   "outputs": [
    {
     "name": "stdin",
     "output_type": "stream",
     "text": [
      "수식을 입력하새요. (예. 20 * 40)  20 * 40\n"
     ]
    },
    {
     "data": {
      "text/plain": [
       "('20', '*', '40')"
      ]
     },
     "execution_count": 41,
     "metadata": {},
     "output_type": "execute_result"
    }
   ],
   "source": [
    "formula = input('수식을 입력하새요. (예. 20 * 40) ')\n",
    "num1, opr, num2 = formula.split()\n",
    "num1, opr, num2"
   ]
  },
  {
   "cell_type": "code",
   "execution_count": 54,
   "id": "5be69dcb-220f-425d-a5d7-8aa0bcd04b2b",
   "metadata": {},
   "outputs": [
    {
     "name": "stdin",
     "output_type": "stream",
     "text": [
      "수식을 입력하새요. (예. 20 * 40)  0 t 0\n"
     ]
    },
    {
     "name": "stdout",
     "output_type": "stream",
     "text": [
      "지원하지 않는 연산자입니다.\n"
     ]
    }
   ],
   "source": [
    "formula = input('수식을 입력하새요. (예. 20 * 40) ')\n",
    "num1, opr, num2 = formula.split()\n",
    "#num1, opr, num2\n",
    "\n",
    "num1 = float(num1)\n",
    "num2 = float(num2)\n",
    "\n",
    "opr_list = ['+','-','*','/']\n",
    "\n",
    "if opr == '+' :\n",
    "    result = num1 + num2\n",
    "elif opr == '/' :\n",
    "    result = num1 / num2\n",
    "elif opr == '*' :\n",
    "    result = num1 * num2\n",
    "elif opr == '-' :\n",
    "    result = num1 - num2\n",
    "else:\n",
    "    result = None\n",
    "\n",
    "if result == None :\n",
    "     print('지원하지 않는 연산자입니다.')\n",
    "else :\n",
    "    print(f'{num1} {opr} {num2} ={result}')"
   ]
  },
  {
   "cell_type": "code",
   "execution_count": 55,
   "id": "6182ecfb-13bd-491f-9c81-4c2607059d4d",
   "metadata": {},
   "outputs": [
    {
     "name": "stdin",
     "output_type": "stream",
     "text": [
      "수식을 입력하새요. (예. 20 * 40)   20 t 20\n"
     ]
    },
    {
     "name": "stdout",
     "output_type": "stream",
     "text": [
      "지원하지 않는 연산자입니다.\n"
     ]
    }
   ],
   "source": [
    "formula = input('수식을 입력하새요. (예. 20 * 40) ')\n",
    "num1, opr, num2 = formula.split()\n",
    "#num1, opr, num2\n",
    "\n",
    "if opr not in opr_list :\n",
    "     print('지원하지 않는 연산자입니다.')\n",
    "else :\n",
    "    if opr == '+' :\n",
    "        result = num1 + num2\n",
    "    elif opr == '/' :\n",
    "        result = num1 / num2\n",
    "    elif opr == '*' :\n",
    "        result = num1 * num2\n",
    "    elif opr == '-' :\n",
    "        result = num1 - num2\n",
    "    else:\n",
    "        result = None"
   ]
  },
  {
   "cell_type": "markdown",
   "id": "92b2ff44-6018-41dc-982d-c808fd6e5653",
   "metadata": {},
   "source": [
    "# 1줄로 쓰기"
   ]
  },
  {
   "cell_type": "code",
   "execution_count": 57,
   "id": "391398e0-776a-4090-b25b-2e9cbaa9d089",
   "metadata": {},
   "outputs": [
    {
     "name": "stdout",
     "output_type": "stream",
     "text": [
      "홀수\n"
     ]
    }
   ],
   "source": [
    "num = 7\n",
    "#if num % 2 : print('짝수') else print('홀수')\n",
    "print('짝수' if num % 2 == 0 else '홀수')"
   ]
  },
  {
   "cell_type": "code",
   "execution_count": 62,
   "id": "50e8810e-b2f0-414d-9216-eb393666d208",
   "metadata": {},
   "outputs": [
    {
     "name": "stdout",
     "output_type": "stream",
     "text": [
      "쉽시다\n"
     ]
    }
   ],
   "source": [
    "#졸려 = True, 아니면 = 파이팅\n",
    "졸려 = True\n",
    "action = '쉽시다' if 졸려  else '화이팅'\n",
    "print(action)"
   ]
  },
  {
   "cell_type": "code",
   "execution_count": 63,
   "id": "a5553967-8cce-4c88-be8d-9e0c63edf143",
   "metadata": {},
   "outputs": [
    {
     "data": {
      "text/plain": [
       "'패'"
      ]
     },
     "execution_count": 63,
     "metadata": {},
     "output_type": "execute_result"
    }
   ],
   "source": [
    "player = '가위'\n",
    "computer = '바위'\n",
    "#result = '승' '패' '무승부'\n",
    "result = '승' if (player == '가위' and computer == '보') else '무승부' if player == computer else '패'\n",
    "result"
   ]
  },
  {
   "cell_type": "code",
   "execution_count": 67,
   "id": "0f392265-43e2-405d-b8de-fb425f491818",
   "metadata": {},
   "outputs": [
    {
     "name": "stdin",
     "output_type": "stream",
     "text": [
      "자신의 점수를 숫자로 입력하세요 88\n"
     ]
    },
    {
     "name": "stdout",
     "output_type": "stream",
     "text": [
      "B\n"
     ]
    }
   ],
   "source": [
    "# 학점 A,B,C,D 출력하는 1줄 조건식\n",
    "uni = int(input('자신의 점수를 숫자로 입력하세요'))\n",
    "result = 'A' if uni >= 90 else 'B' if uni >= 80 else 'C' if uni >=70 else 'D' \n",
    "print(result)"
   ]
  },
  {
   "cell_type": "markdown",
   "id": "58658559-9b85-4d35-9cd2-d9bba76d1462",
   "metadata": {},
   "source": [
    "# Break/Continue/Pass 문"
   ]
  },
  {
   "cell_type": "code",
   "execution_count": 72,
   "id": "ca9135c3-58de-4696-8116-574d8b49d331",
   "metadata": {},
   "outputs": [
    {
     "name": "stdout",
     "output_type": "stream",
     "text": [
      "현재 검사 중인 숫자: 1\n",
      "현재 검사 중인 숫자: 3\n",
      "현재 검사 중인 숫자: 5\n",
      "현재 검사 중인 숫자: 7\n",
      "9를 찾았습니다!\n"
     ]
    }
   ],
   "source": [
    "#break\n",
    "numbers = [1, 3, 5, 7, 9, 11, 13, 15]\n",
    "search_number = 9\n",
    "\n",
    "for num in numbers:\n",
    "    if num == search_number:\n",
    "        print(f\"{search_number}를 찾았습니다!\")\n",
    "        break\n",
    "    print(f\"현재 검사 중인 숫자: {num}\")\n"
   ]
  },
  {
   "cell_type": "code",
   "execution_count": 73,
   "id": "63ac1887-0759-42eb-b297-580025c1fbcf",
   "metadata": {},
   "outputs": [
    {
     "name": "stdout",
     "output_type": "stream",
     "text": [
      "2\n",
      "4\n",
      "6\n",
      "8\n",
      "10\n"
     ]
    }
   ],
   "source": [
    "#continue\n",
    "for i in range(1, 11):\n",
    "    if i % 2 != 0:  # 홀수인 경우\n",
    "        continue\n",
    "    print(i)  # 짝수만 출력"
   ]
  },
  {
   "cell_type": "code",
   "execution_count": 76,
   "id": "a7326748-0738-4e88-82ae-93a22808ef6c",
   "metadata": {},
   "outputs": [],
   "source": [
    "#pass\n",
    "condition = True #False\n",
    "\n",
    "if condition:\n",
    "    pass  # 나중에 구현할 예정\n",
    "else:\n",
    "    print(\"else 구문 실행\")"
   ]
  },
  {
   "cell_type": "code",
   "execution_count": null,
   "id": "4632f6d9-1712-41db-b626-7b3f26872f51",
   "metadata": {},
   "outputs": [],
   "source": []
  }
 ],
 "metadata": {
  "kernelspec": {
   "display_name": "Python 3 (ipykernel)",
   "language": "python",
   "name": "python3"
  },
  "language_info": {
   "codemirror_mode": {
    "name": "ipython",
    "version": 3
   },
   "file_extension": ".py",
   "mimetype": "text/x-python",
   "name": "python",
   "nbconvert_exporter": "python",
   "pygments_lexer": "ipython3",
   "version": "3.12.9"
  }
 },
 "nbformat": 4,
 "nbformat_minor": 5
}
