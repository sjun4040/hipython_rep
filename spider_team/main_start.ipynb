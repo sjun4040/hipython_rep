{
 "cells": [
  {
   "cell_type": "code",
   "execution_count": 1,
   "id": "c5150011-8147-4739-8349-417e18bcee32",
   "metadata": {},
   "outputs": [
    {
     "name": "stdout",
     "output_type": "stream",
     "text": [
      "==================================================\n",
      "        보고싶었어요! I Miss You Cram!🍦\n",
      "==================================================\n",
      "\n",
      "📋 메뉴판\n",
      "\n",
      "1. 초코\n",
      "2. 바닐라\n",
      "3. 딸기\n",
      "4. 우유\n",
      "5. 말차\n",
      "6. 민트초코\n"
     ]
    },
    {
     "name": "stdin",
     "output_type": "stream",
     "text": [
      ">>>\n",
      "원하시는 메뉴를 선택해주세요. (1~6, 0:처음으로):  1\n"
     ]
    },
    {
     "name": "stdout",
     "output_type": "stream",
     "text": [
      "--------------------------------------------------\n",
      "\n",
      "🍨 사이즈 및 가격\n",
      "\n",
      "1. 사이즈: S, 가격: 2,000원\n",
      "2. 사이즈: M, 가격: 3,000원\n",
      "3. 사이즈: L, 가격: 4,000원\n"
     ]
    },
    {
     "name": "stdin",
     "output_type": "stream",
     "text": [
      ">>>\n",
      "원하시는 사이즈를 선택해주세요. (1~3, 0:뒤로가기):  1\n",
      ">>>🤟 원하시는 개수를 적어주세요. (0:뒤로가기) \n",
      " 10개 이하만 가능!:  1\n"
     ]
    },
    {
     "name": "stdout",
     "output_type": "stream",
     "text": [
      "--------------------------------------------------\n"
     ]
    },
    {
     "ename": "KeyError",
     "evalue": "''",
     "output_type": "error",
     "traceback": [
      "\u001b[31m---------------------------------------------------------------------------\u001b[39m",
      "\u001b[31mKeyError\u001b[39m                                  Traceback (most recent call last)",
      "\u001b[36mCell\u001b[39m\u001b[36m \u001b[39m\u001b[32mIn[1]\u001b[39m\u001b[32m, line 82\u001b[39m\n\u001b[32m     79\u001b[39m \u001b[38;5;28;01mfrom\u001b[39;00m\u001b[38;5;250m \u001b[39m\u001b[34;01mreceipt_print\u001b[39;00m\u001b[38;5;250m \u001b[39m\u001b[38;5;28;01mimport\u001b[39;00m print_receipt\n\u001b[32m     81\u001b[39m \u001b[38;5;66;03m# main()\u001b[39;00m\n\u001b[32m---> \u001b[39m\u001b[32m82\u001b[39m start()\n",
      "\u001b[36mCell\u001b[39m\u001b[36m \u001b[39m\u001b[32mIn[1]\u001b[39m\u001b[32m, line 29\u001b[39m, in \u001b[36mstart\u001b[39m\u001b[34m()\u001b[39m\n\u001b[32m     27\u001b[39m \u001b[38;5;28mprint\u001b[39m(\u001b[33m'\u001b[39m\u001b[33m=\u001b[39m\u001b[33m'\u001b[39m * \u001b[32m50\u001b[39m)\n\u001b[32m     28\u001b[39m cart_list.clear()\n\u001b[32m---> \u001b[39m\u001b[32m29\u001b[39m menu_choice()\n",
      "\u001b[36mCell\u001b[39m\u001b[36m \u001b[39m\u001b[32mIn[1]\u001b[39m\u001b[32m, line 54\u001b[39m, in \u001b[36mmenu_choice\u001b[39m\u001b[34m()\u001b[39m\n\u001b[32m     52\u001b[39m cart[\u001b[33m'\u001b[39m\u001b[33muser_menu\u001b[39m\u001b[33m'\u001b[39m] = menu_list[menu_index - \u001b[32m1\u001b[39m]\n\u001b[32m     53\u001b[39m \u001b[38;5;28mprint\u001b[39m(\u001b[33m'\u001b[39m\u001b[33m-\u001b[39m\u001b[33m'\u001b[39m * \u001b[32m50\u001b[39m)\n\u001b[32m---> \u001b[39m\u001b[32m54\u001b[39m size_count()\n\u001b[32m     55\u001b[39m \u001b[38;5;28;01mreturn\u001b[39;00m\n",
      "\u001b[36mFile \u001b[39m\u001b[32mC:\\mysrc\\start\\spider_team\\select_quantity.py:78\u001b[39m, in \u001b[36msize_count\u001b[39m\u001b[34m()\u001b[39m\n\u001b[32m     76\u001b[39m         \u001b[38;5;28;01mbreak\u001b[39;00m\n\u001b[32m     77\u001b[39m \u001b[38;5;28mprint\u001b[39m(\u001b[33m'\u001b[39m\u001b[33m-\u001b[39m\u001b[33m'\u001b[39m * \u001b[32m50\u001b[39m)\n\u001b[32m---> \u001b[39m\u001b[32m78\u001b[39m cart_function()\n",
      "\u001b[36mFile \u001b[39m\u001b[32mC:\\mysrc\\start\\spider_team\\select_shopping_cart.py:22\u001b[39m, in \u001b[36mcart_function\u001b[39m\u001b[34m()\u001b[39m\n\u001b[32m     17\u001b[39m \u001b[38;5;28;01mdef\u001b[39;00m\u001b[38;5;250m \u001b[39m\u001b[34mcart_function\u001b[39m():\n\u001b[32m     18\u001b[39m     item = {\n\u001b[32m     19\u001b[39m         \u001b[33m'\u001b[39m\u001b[33muser_menu\u001b[39m\u001b[33m'\u001b[39m: cart[\u001b[33m'\u001b[39m\u001b[33muser_menu\u001b[39m\u001b[33m'\u001b[39m],\n\u001b[32m     20\u001b[39m         \u001b[33m'\u001b[39m\u001b[33muser_size\u001b[39m\u001b[33m'\u001b[39m: cart[\u001b[33m'\u001b[39m\u001b[33muser_size\u001b[39m\u001b[33m'\u001b[39m],\n\u001b[32m     21\u001b[39m         \u001b[33m'\u001b[39m\u001b[33mqty\u001b[39m\u001b[33m'\u001b[39m: cart[\u001b[33m'\u001b[39m\u001b[33mqty\u001b[39m\u001b[33m'\u001b[39m],\n\u001b[32m---> \u001b[39m\u001b[32m22\u001b[39m         \u001b[33m'\u001b[39m\u001b[33mprice_per_item\u001b[39m\u001b[33m'\u001b[39m: size_price[cart[\u001b[33m'\u001b[39m\u001b[33muser_size\u001b[39m\u001b[33m'\u001b[39m]],\n\u001b[32m     23\u001b[39m         \u001b[33m'\u001b[39m\u001b[33mtotal_price\u001b[39m\u001b[33m'\u001b[39m: size_price[cart[\u001b[33m'\u001b[39m\u001b[33muser_size\u001b[39m\u001b[33m'\u001b[39m]] * cart[\u001b[33m'\u001b[39m\u001b[33mqty\u001b[39m\u001b[33m'\u001b[39m]\n\u001b[32m     24\u001b[39m     }\n\u001b[32m     25\u001b[39m     cart_list.append(item)\n\u001b[32m     27\u001b[39m     \u001b[38;5;28mprint\u001b[39m(\u001b[33m\"\u001b[39m\u001b[38;5;130;01m\\n\u001b[39;00m\u001b[33m🍦 장바구니에 추가되었습니다! 🍦\u001b[39m\u001b[33m\"\u001b[39m)\n",
      "\u001b[31mKeyError\u001b[39m: ''"
     ]
    }
   ],
   "source": [
    "# 필요한 라이브러리 import\n",
    "from datetime import datetime\n",
    "from wcwidth import wcswidth\n",
    "import time\n",
    "\n",
    "# 메뉴 및 데이터 초기화\n",
    "menu_list = ['초코', '바닐라', '딸기', '우유', '말차', '민트초코']\n",
    "size_price = {'S': 2000, 'M': 3000, 'L': 4000}\n",
    "size_list = list(size_price.keys())\n",
    "\n",
    "cart_list = []\n",
    "membership_dict = {}\n",
    "cart = {'user_menu': '', 'user_size': '', 'qty': ''}\n",
    "\n",
    "# 유틸리티 함수(utility)\n",
    "\n",
    "from utility import get_yes_or_no_input\n",
    "\n",
    "#숫자검증(numeric_verification)\n",
    "from numeric_verification import get_valid_number_input\n",
    "\n",
    "# 시작 화면\n",
    "def start():\n",
    "    print('=' * 50)\n",
    "    store_name = 'I Miss You Cram!🍦'\n",
    "    print(f'        보고싶었어요! {store_name}')\n",
    "    print('=' * 50)\n",
    "    cart_list.clear()\n",
    "    menu_choice()\n",
    "\n",
    "\n",
    "# 메뉴 선택\n",
    "def menu_choice():\n",
    "    while True:\n",
    "        print(\"\\n📋 메뉴판\\n\")\n",
    "        for index, name in enumerate(menu_list):\n",
    "            print(f'{index + 1}. {name}')\n",
    "\n",
    "        menu_mul = f\"\\n원하시는 메뉴를 선택해주세요. (1~{len(menu_list)}, 0:처음으로): \"\n",
    "        menu_index = get_valid_number_input(menu_mul, 0, len(menu_list))  # 예외처리\n",
    "\n",
    "        if menu_index is None:\n",
    "            continue  # None일 경우 아무 처리 없이 다시 메뉴 선택\n",
    "\n",
    "        if menu_index == 0:\n",
    "            print('\\n보고싶을거예요😭\\n')\n",
    "            print('-' * 50)\n",
    "            start()\n",
    "            return\n",
    "\n",
    "        if 1 <= menu_index <= len(menu_list):\n",
    "            cart['user_menu'] = menu_list[menu_index - 1]\n",
    "            print('-' * 50)\n",
    "            size_count()\n",
    "            return\n",
    "\n",
    "# 수량 선택(select_quantity)\n",
    "from select_quantity import size_count\n",
    "\n",
    "# 장바구니에 추가 및 장바구니 기능 선택(select_shopping_cart)\n",
    "from select_shopping_cart import cart_function\n",
    "\n",
    "# 장바구니 상품 삭제(delete_shopping_cart)\n",
    "from delete_shopping_cart import del_cart\n",
    "\n",
    "# 장바구니 보기 및 결제(payment)\n",
    "from payment import show_cart\n",
    "\n",
    "# 장바구니 출력(print_shopping_cart)\n",
    "from print_shopping_cart import print_cart\n",
    "\n",
    "# 멤버십 적립 함수(membership_accumulation)\n",
    "from membership_accumulation import handle_membership\n",
    "\n",
    "# 영수증 정렬 함수(receipt_sorting)\n",
    "from receipt_sorting import align_text\n",
    "\n",
    "# 영수증 프린트 함수(receipt_print)\n",
    "from receipt_print import print_receipt\n",
    "\n",
    "# main()\n",
    "start()"
   ]
  }
 ],
 "metadata": {
  "kernelspec": {
   "display_name": "Python 3 (ipykernel)",
   "language": "python",
   "name": "python3"
  },
  "language_info": {
   "codemirror_mode": {
    "name": "ipython",
    "version": 3
   },
   "file_extension": ".py",
   "mimetype": "text/x-python",
   "name": "python",
   "nbconvert_exporter": "python",
   "pygments_lexer": "ipython3",
   "version": "3.12.9"
  }
 },
 "nbformat": 4,
 "nbformat_minor": 5
}
